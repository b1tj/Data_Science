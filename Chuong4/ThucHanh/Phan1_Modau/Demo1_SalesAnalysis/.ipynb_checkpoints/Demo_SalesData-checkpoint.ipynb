{
 "cells": [
  {
   "cell_type": "markdown",
   "metadata": {
    "colab_type": "text",
    "deletable": false,
    "editable": false,
    "id": "Y2OUp3hR29W9"
   },
   "source": [
    "<img src ='Pic\\logo_CNTT.png' width='400px'>\n",
    "\n",
    "<div align=\"center\">\n",
    "\n",
    "<h2> MÔN HỌC: KHOA HỌC DỮ LIỆU (7080509) </h2>\n",
    "\n",
    "</div>\n",
    "\n",
    "\n",
    "---\n",
    "<div align=\"center\">\n",
    "    <h1> CÁC BƯỚC THỰC HIỆN MỘT DỰ ÁN PHÂN TÍCH DỮ LIỆU</h1>\n",
    "</div>\n",
    " \n",
    "\n",
    "<img src='Pic/process.png' width='300px'>\n",
    "\n",
    "---\n",
    "*Copyright: Đặng Văn Nam - FIT.HUMG - AIACADEMY VN - BKACAD@2022*"
   ]
  },
  {
   "cell_type": "markdown",
   "metadata": {},
   "source": [
    "## Bước 1: Xác định mục tiêu của dự án\n",
    "---\n",
    "<img src='pic/chainstores.jpg' width=500px>\n",
    "\n",
    "Công ty bao gồm một chuỗi 10 cửa hàng kinh doanh đồ điện tử, được đặt tại 10 thành phố của 8 bang nước Mỹ. \n",
    "\n",
    "1. Austin (TX - Texas)\n",
    "2. Dallas (TX - Texas)\n",
    "3. San Francisco (CA - California)\n",
    "4. Los Angeles (CA - California)\n",
    "5. New York City (NY - New York)\n",
    "6. Portland (ME - Maine)\n",
    "7. Portland (OR - Oregon)\n",
    "8. Atlanta (GA - Georgia)\n",
    "9. Seattle (WA - Washington)\n",
    "10. Boston (MA - Massachusetts)"
   ]
  },
  {
   "cell_type": "markdown",
   "metadata": {},
   "source": [
    "**Mục tiêu của dự án:**\n",
    "* Đánh giá hoạt động kinh doanh của chuỗi cửa hàng trong năm 2019\n",
    "* Thực hiện phân tích tìm ra các thông tin có ích (insights) từ dữ liệu để cải thiện, nâng cao hoạt động kinh doanh tại các cửa hàng.\n",
    "---\n",
    "1. **Câu hỏi 1:** *Cửa hàng ở thành phố nào hoạt động hiệu quả nhất?*\n",
    "2. **Câu hỏi 2:** *Tháng nào trong năm có doanh số bán hàng cao nhất - thấp nhất?*\n",
    "3. **Câu hỏi 3:** *Khách hàng mua sản phẩm thường tập trung vào khung giờ nào trong ngày?*\n",
    "4. **Câu hỏi 4:** *Khách hàng thường mua các Sản phẩm nào cùng với nhau?*\n",
    "5. **Câu hỏi 5:** *Sản phẩm nào bán được số lượng nhiều nhất? Tại sao?*"
   ]
  },
  {
   "cell_type": "code",
   "execution_count": null,
   "metadata": {},
   "outputs": [],
   "source": []
  },
  {
   "cell_type": "markdown",
   "metadata": {},
   "source": [
    "## Bước 2: Thu thập và mô tả dữ liệu:\n",
    "---\n",
    "Thu thập được tất cả dữ liệu liên quan đến bán hàng trong năm 2019:\n",
    "\n",
    "<img src='pic/data-colection.jpeg' width=500px height=200px>\n",
    "\n",
    "Dữ liệu bao gồm 12 file của chuỗi cửa hàng kinh doanh này; Mỗi file dữ liệu lưu lại toàn bộ các đơn hàng đã bán được theo từng tháng tương ứng của năm 2019. \n",
    "* Dữ liệu tháng 1: Sales_January_2019.csv\n",
    "* Dữ liệu tháng 2: Sales_February_2019.csv\n",
    "* Dữ liệu tháng 3: Sales_March_2019.csv\n",
    "* Dữ liệu tháng 4: Sales_April_2019.csv\n",
    "* Dữ liệu tháng 5: Sales_May_2019.csv\n",
    "* Dữ liệu tháng 6: Sales_June_2019.csv\n",
    "* Dữ liệu tháng 7: Sales_July_2019.csv\n",
    "* Dữ liệu tháng 8: Sales_August_2019.csv\n",
    "* Dữ liệu tháng 9: Sales_September_2019.csv\n",
    "* Dữ liệu tháng 10: Sales_October_2019.csv\n",
    "* Dữ liệu tháng 11: Sales_November_2019.csv\n",
    "* Dữ liệu tháng 12: Sales_December_2019.csv\n",
    "\n",
    "Mỗi file dữ liệu bao gồm 6 thông tin:\n",
    "1. Order ID: Mã đơn hàng\n",
    "2. Product: Tên sản phẩm đã bán theo từng đơn hàng\n",
    "3. Quantity Ordered: Số lượng sản phẩm bán\n",
    "4. Price Each: Giá của mỗi sản phẩm\n",
    "5. Order Date: Thời gian bán hàng\n",
    "6. Purchase Address: Địa chỉ mua hàng"
   ]
  },
  {
   "cell_type": "markdown",
   "metadata": {},
   "source": [
    "### Đọc và tổng hợp các file dữ liệu bán hàng\n",
    "---"
   ]
  },
  {
   "cell_type": "code",
   "execution_count": null,
   "metadata": {},
   "outputs": [],
   "source": []
  },
  {
   "cell_type": "code",
   "execution_count": null,
   "metadata": {},
   "outputs": [],
   "source": [
    "#Khai báo sử dụng các thư viện\n",
    "import os\n",
    "import numpy as np\n",
    "import pandas as pd\n",
    "import matplotlib.pyplot as plt\n",
    "#--------------------------------\n",
    "import warnings\n",
    "warnings.filterwarnings('ignore')"
   ]
  },
  {
   "cell_type": "code",
   "execution_count": null,
   "metadata": {},
   "outputs": [],
   "source": [
    "#Hiển thị dữ liệu trong 1 file:\n",
    "df1 = pd.read_csv('Data/01_Sales_January_2019.csv')\n",
    "df1.info()"
   ]
  },
  {
   "cell_type": "code",
   "execution_count": null,
   "metadata": {},
   "outputs": [],
   "source": [
    "#Hiển thị 5 dòng dữ liệu đầu tiên\n",
    "df1.head()"
   ]
  },
  {
   "cell_type": "code",
   "execution_count": null,
   "metadata": {},
   "outputs": [],
   "source": [
    "#Hiển thị 5 dòng dữ liệu cuối cùng\n",
    "df1.tail()"
   ]
  },
  {
   "cell_type": "markdown",
   "metadata": {},
   "source": [
    "#### Tổng hợp dữ liệu bán hàng\n",
    "---\n",
    "Đọc dữ liệu trong từng file riêng biệt, nối thành một tập dữ liệu chung để xử lý:"
   ]
  },
  {
   "cell_type": "code",
   "execution_count": null,
   "metadata": {},
   "outputs": [],
   "source": [
    "#os.remove('Data/.DS_Store')"
   ]
  },
  {
   "cell_type": "code",
   "execution_count": null,
   "metadata": {},
   "outputs": [],
   "source": [
    "path ='./Data'\n",
    "\n",
    "#Tạo một DataFrame rỗng\n",
    "all_data_2019 = pd.DataFrame()\n",
    "\n",
    "#Đọc dữ liệu trong từng file dữ liệu và tổng hợp thành một DataFrame chung\n",
    "for file in os.listdir(path):\n",
    "    path_file = path+'/'+file\n",
    "    #print(path_file)\n",
    "    current_data = pd.read_csv(path_file)\n",
    "    print(file, '---',current_data.shape[0])\n",
    "    \n",
    "    all_data_2019 = all_data_2019.append(current_data)"
   ]
  },
  {
   "cell_type": "code",
   "execution_count": null,
   "metadata": {},
   "outputs": [],
   "source": [
    "#Hiển thông tin biến all_data_2019\n",
    "all_data_2019.info()"
   ]
  },
  {
   "cell_type": "code",
   "execution_count": null,
   "metadata": {},
   "outputs": [],
   "source": [
    "#Hiển thị 5 dòng dữ liệu đầu tiên:\n",
    "all_data_2019.head()"
   ]
  },
  {
   "cell_type": "code",
   "execution_count": null,
   "metadata": {},
   "outputs": [],
   "source": [
    "#Hiển thị 5 dòng dữ liệu cuối cùng:\n",
    "all_data_2019.tail()"
   ]
  },
  {
   "cell_type": "code",
   "execution_count": null,
   "metadata": {},
   "outputs": [],
   "source": [
    "#Lưu Dữ liệu ra file CSV:\n",
    "all_data_2019.to_csv(\"Data/all_Data_2019.csv\", index=False)"
   ]
  },
  {
   "cell_type": "code",
   "execution_count": null,
   "metadata": {},
   "outputs": [],
   "source": []
  },
  {
   "cell_type": "markdown",
   "metadata": {},
   "source": [
    "# Bước 3. Chuẩn bị dữ liệu\n",
    "---\n",
    "<img src='Pic/datapreparation.png'  width=500px>\n",
    "\n",
    "Dữ liệu thu thập được đều là dữ liệu thô, chứa rất nhiều nhiễu (noise), dữ liệu thiếu, dữ liệu sai định dạng, không nhất quán….Dữ liệu này không thể phân tích được ---> Cần phải được tiền xử lý và làm sạch.\n"
   ]
  },
  {
   "cell_type": "markdown",
   "metadata": {},
   "source": [
    "### 3.1 Xử lý các dòng rỗng không có giá trị trong tập dữ liệu\n",
    "---\n",
    "Trong Data thu thập có rất nhiều dòng không có giá trị, chúng ta sẽ lọc và loại bỏ những dòng này khỏi Data"
   ]
  },
  {
   "cell_type": "code",
   "execution_count": null,
   "metadata": {},
   "outputs": [],
   "source": [
    "#Đọc file dữ liệu tổng hợp để chuẩn bị\n",
    "all_data = pd.read_csv('Data/all_Data_2019.csv')\n",
    "all_data.info()"
   ]
  },
  {
   "cell_type": "code",
   "execution_count": null,
   "metadata": {},
   "outputs": [],
   "source": [
    "#Quan sát dữ liệu:\n",
    "all_data.head()"
   ]
  },
  {
   "cell_type": "code",
   "execution_count": null,
   "metadata": {},
   "outputs": [],
   "source": [
    "#Kiểm tra số lượng bản ghi null trong Dữ liệu:\n",
    "all_data.isnull().sum()"
   ]
  },
  {
   "cell_type": "code",
   "execution_count": null,
   "metadata": {},
   "outputs": [],
   "source": [
    "# Liệt kê một số bản ghi NAN\n",
    "nan_df = all_data[all_data.isna().any(axis=1)]\n",
    "display(nan_df.head())\n",
    "print('Tổng số dòng không có dữ liệu:', nan_df.shape[0])"
   ]
  },
  {
   "cell_type": "code",
   "execution_count": null,
   "metadata": {},
   "outputs": [],
   "source": [
    "#Xóa tất cả các dòng dữ liệu rỗng\n",
    "all_data.dropna(how='all',inplace=True)\n",
    "\n",
    "#Reset lại chỉ số cột\n",
    "all_data.reset_index(drop=True,inplace=True)\n",
    "\n",
    "all_data.info()"
   ]
  },
  {
   "cell_type": "markdown",
   "metadata": {},
   "source": [
    "### 3.2) Xử lý các dòng tiêu đề trong Dữ liệu:\n",
    "----\n",
    "Dữ liệu trong các file lưu trữ thông tin bán sản phẩm của mỗi tháng được tổng hợp từ nhiều sheet nên chứa các tiêu đề cột bị lặp lại:\n",
    "\n",
    "**Order ID -- Product -- Quantity Ordered -- Price Each -- Order Date -- Purchase Address**"
   ]
  },
  {
   "cell_type": "code",
   "execution_count": null,
   "metadata": {},
   "outputs": [],
   "source": [
    "all_data.iloc[1065:1075,:]"
   ]
  },
  {
   "cell_type": "code",
   "execution_count": null,
   "metadata": {},
   "outputs": [],
   "source": [
    "#Liệt kê các dòng tiêu đề trong Data:\n",
    "all_data[all_data['Order ID']=='Order ID']"
   ]
  },
  {
   "cell_type": "code",
   "execution_count": null,
   "metadata": {},
   "outputs": [],
   "source": [
    "#Lọc và loại bỏ tất cả các dòng tiêu đề trong Data\n",
    "all_data = all_data[all_data['Order ID']!='Order ID']\n",
    "\n",
    "#Reset lại index của DataFrame:\n",
    "all_data.reset_index(drop=True,inplace=True)\n",
    "\n",
    "all_data.info()"
   ]
  },
  {
   "cell_type": "code",
   "execution_count": null,
   "metadata": {},
   "outputs": [],
   "source": [
    "all_data.head()"
   ]
  },
  {
   "cell_type": "markdown",
   "metadata": {},
   "source": [
    "## 3.3) Chuyển đổi kiểu dữ liệu các cột số\n",
    "---\n",
    "* Dữ liệu của 2 cột 'Quantity Ordered', Price Each đang ở dạng object --> Chuyển sang kiểu dữ liệu số\n",
    "* Dữ liệu của cột Order Date đang ở dạng object --> Chuyển sang dạng date time"
   ]
  },
  {
   "cell_type": "code",
   "execution_count": null,
   "metadata": {},
   "outputs": [],
   "source": [
    "#Chuyển đổi kiểu dữ liệu sang dạng số:\n",
    "all_data['Quantity Ordered'] = pd.to_numeric(all_data['Quantity Ordered'])\n",
    "all_data['Price Each'] = pd.to_numeric(all_data['Price Each'])\n",
    "\n",
    "#Chuyển đổi kiểu dữ liệu sang dạng time:\n",
    "all_data['Order Date'] = pd.to_datetime(all_data['Order Date'])\n",
    "\n",
    "all_data.info()"
   ]
  },
  {
   "cell_type": "code",
   "execution_count": null,
   "metadata": {},
   "outputs": [],
   "source": [
    "all_data.head()"
   ]
  },
  {
   "cell_type": "code",
   "execution_count": null,
   "metadata": {},
   "outputs": [],
   "source": [
    "#Quan sát đặc trưng thống kê của trường Số lượng - Giá\n",
    "all_data.describe()"
   ]
  },
  {
   "cell_type": "markdown",
   "metadata": {},
   "source": [
    "### 3.4) Thêm các cột dữ liệu mới phục vụ phân tích\n",
    "---"
   ]
  },
  {
   "cell_type": "markdown",
   "metadata": {},
   "source": [
    "#### 1. Cột Month, Hour: Month và Hour được tách ra từ cột Order Date lấy tháng, giờ mua hàng"
   ]
  },
  {
   "cell_type": "code",
   "execution_count": null,
   "metadata": {},
   "outputs": [],
   "source": [
    "all_data.head()"
   ]
  },
  {
   "cell_type": "code",
   "execution_count": null,
   "metadata": {},
   "outputs": [],
   "source": [
    "#\n",
    "all_data['Month'] = all_data['Order Date'].dt.month\n",
    "all_data['Hour'] = all_data['Order Date'].dt.hour\n",
    "all_data.head()"
   ]
  },
  {
   "cell_type": "code",
   "execution_count": null,
   "metadata": {},
   "outputs": [],
   "source": [
    "all_data.tail()"
   ]
  },
  {
   "cell_type": "markdown",
   "metadata": {},
   "source": [
    "#### 2.Cột City: Tách tên thành phố trong địa chỉ mua hàng vào một cột mới"
   ]
  },
  {
   "cell_type": "code",
   "execution_count": null,
   "metadata": {},
   "outputs": [],
   "source": [
    "def get_city(address):\n",
    "    return address.split(\",\")[1].strip(\" \")\n",
    "\n",
    "def get_state(address):\n",
    "    return address.split(\",\")[2].split(\" \")[1]\n",
    "\n",
    "all_data['City'] = all_data['Purchase Address'].apply(lambda x: f\"{get_city(x)}  ({get_state(x)})\")\n",
    "all_data.head()"
   ]
  },
  {
   "cell_type": "markdown",
   "metadata": {},
   "source": [
    "#### 3. cột Sales: Được tính bằng số lượng sản phẩm (Quantity Ordered) * Giá bán mỗi sản phẩm (Price Each)"
   ]
  },
  {
   "cell_type": "code",
   "execution_count": null,
   "metadata": {},
   "outputs": [],
   "source": [
    "all_data['Sales'] = all_data['Quantity Ordered'].astype('int') * all_data['Price Each'].astype('float')\n",
    "all_data.head()"
   ]
  },
  {
   "cell_type": "markdown",
   "metadata": {},
   "source": [
    "## 3.5) Lưu trữ dữ liệu sau khi làm sạch:\n",
    "---"
   ]
  },
  {
   "cell_type": "code",
   "execution_count": null,
   "metadata": {},
   "outputs": [],
   "source": [
    "#Lưu dữ liệu sau xử lý ra file .CSV\n",
    "all_data.to_csv('Data_OK.csv',index=None)"
   ]
  },
  {
   "cell_type": "markdown",
   "metadata": {},
   "source": [
    "<img src='Pic/80.jpg' width='200px' align='left'>\n",
    "<h4 color='red'>\n",
    "LƯU Ý:\n",
    "Thu thập và chuẩn bị dữ liệu là bước quan trọng, chiếm nhiều thời gian và nguồn lực nhất trong bất kỳ một dự án khoa học dữ liệu nào (80%)\n",
    "</h4>\n"
   ]
  },
  {
   "cell_type": "code",
   "execution_count": null,
   "metadata": {},
   "outputs": [],
   "source": []
  },
  {
   "cell_type": "markdown",
   "metadata": {},
   "source": [
    "## Bước 4. Phân tích, Khám phá tập dữ liệu\n",
    "---\n",
    "<img src='Pic/analytics.jpg' width='400px'>"
   ]
  },
  {
   "cell_type": "markdown",
   "metadata": {},
   "source": [
    "### Câu hỏi 1: Cửa hàng ở thành phố nào (Khách hàng ở khu vực nào) bán được hàng nhiều nhất?\n",
    "---\n",
    "Chuỗi bán hàng điện tử bao gồm 10 cửa hàng, đặt tại 10 thành phố của 8 bang ở Mỹ\n",
    "1. Austin (TX - Texas)\n",
    "2. Dallas (TX - Texas)\n",
    "3. San Francisco (CA - California)\n",
    "4. Los Angeles (CA - California)\n",
    "5. New York City (NY - New York)\n",
    "6. Portland (ME - Maine)\n",
    "7. Portland (OR - Oregon)\n",
    "8. Atlanta (GA - Georgia)\n",
    "9. Seattle (WA - Washington)\n",
    "10. Boston (MA - Massachusetts)"
   ]
  },
  {
   "cell_type": "code",
   "execution_count": null,
   "metadata": {},
   "outputs": [],
   "source": [
    "all_data.head()"
   ]
  },
  {
   "cell_type": "code",
   "execution_count": null,
   "metadata": {},
   "outputs": [],
   "source": [
    "#Group theo city, thực hiện tính tổng cột doanh số bán hàng\n",
    "sale_city = all_data[['City','Sales']].groupby(['City']).sum()\n",
    "\n",
    "#Sắp xếp dữ liệu theo doanh số bán hàng tăng dần\n",
    "sale_city.sort_values('Sales',inplace=True)\n",
    "sale_city"
   ]
  },
  {
   "cell_type": "code",
   "execution_count": null,
   "metadata": {},
   "outputs": [],
   "source": [
    "#TRỰC QUAN HÓA DỮ LIỆU TRÊN BIỂU ĐỒ\n",
    "#Tách dữ liệu để hiển thị\n",
    "city_names = sale_city.index\n",
    "city_sales = sale_city.values.ravel()\n",
    "\n",
    "plt.figure(figsize=(10,4))\n",
    "plt.bar(city_names,city_sales,color='brown')\n",
    "plt.ylabel('Doanh số bán hàng (triệu USD)')\n",
    "plt.xlabel('Thành phố')\n",
    "plt.title('THỐNG KÊ DOANH SỐ BÁN HÀNG THEO TỪNG THÀNH PHỐ')\n",
    "plt.xticks(city_names, rotation=75, size=12)\n",
    "plt.grid(True)\n",
    "plt.show()"
   ]
  },
  {
   "cell_type": "markdown",
   "metadata": {},
   "source": [
    "<img src='Pic/insight.png' width='200px' align='left'>\n",
    "\n",
    "\n",
    " **NHẬN XÉT 1:**\n",
    "---\n",
    "* Thành phố San Francisco bang California có doanh số bán hàng tốt nhất khoảng 8.3 triệu USD, sau đó đến Los Angeles (CA) với doanh số khoảng 5.5 triệu USD --> Các cửa hàng ở CA hoạt động rất hiệu quả.\n",
    "* Thành phố có doanh số bán hàng thấp nhất là Portland (Maine) khoảng 0.5 triệu USD, sau đó là Austin (TX) và Portland (OR)"
   ]
  },
  {
   "cell_type": "markdown",
   "metadata": {},
   "source": [
    "### Câu hỏi 2: Tháng nào trong năm có doanh số bán hàng cao nhất - thấp nhất? "
   ]
  },
  {
   "cell_type": "code",
   "execution_count": null,
   "metadata": {},
   "outputs": [],
   "source": [
    "#Group theo tháng, thực hiện tính tổng cột doanh số bán hàng\n",
    "sale_months = all_data[['Month','Sales']].groupby(['Month']).sum()\n",
    "sale_months"
   ]
  },
  {
   "cell_type": "code",
   "execution_count": null,
   "metadata": {},
   "outputs": [],
   "source": [
    "import matplotlib.pyplot as plt\n",
    "\n",
    "months = np.arange(1,13) #Dữ liệu tháng hiển thị trục X\n",
    "sales = sale_months['Sales'].values #Dữ liệu Sales hiển thị trục Y\n",
    "\n",
    "plt.figure(figsize=(10,5))\n",
    "plt.bar(months,sales)\n",
    "plt.xticks(months)\n",
    "plt.ticklabel_format(useOffset=False,style='plain')\n",
    "plt.grid(True)\n",
    "plt.ylabel('Doanh số ($)')\n",
    "plt.xlabel('Tháng')\n",
    "plt.title('THỐNG KÊ DOANH SỐ BÁN HÀNG THEO TỪNG THÁNG')\n",
    "plt.show()\n"
   ]
  },
  {
   "cell_type": "markdown",
   "metadata": {},
   "source": [
    "<img src='Pic/insight.png' width='200px' align='left'>\n",
    "\n",
    "\n",
    " **NHẬN XÉT 2:**\n",
    "---\n",
    "* Tháng 12 có doanh số bán hàng cao nhất với khoảng 4.7 triệu USD. Sau đoa là tháng 10 khoảng 3.7 triệu USD\n",
    "* Tháng có doanh số bán hàng thấp nhất là tháng 1 khoảng 1.8 triệu USD, tiếp sau là tháng 9 với khoảng 2.1 triệu USD"
   ]
  },
  {
   "cell_type": "markdown",
   "metadata": {},
   "source": [
    "### Câu hỏi 3: Khách hàng mua sản phẩm thường tập trung vào khung giờ nào trong ngày?\n",
    "---"
   ]
  },
  {
   "cell_type": "code",
   "execution_count": null,
   "metadata": {},
   "outputs": [],
   "source": [
    "#Thống kê số lượng sản phẩm bán theo từng giờ (tổng số tất cả các sản phẩm)\n",
    "product_hours = all_data[['Hour','Quantity Ordered']].groupby(['Hour']).sum()\n",
    "product_hours"
   ]
  },
  {
   "cell_type": "code",
   "execution_count": null,
   "metadata": {},
   "outputs": [],
   "source": [
    "hours = np.arange(0,24)\n",
    "products = product_hours.values\n",
    "\n",
    "plt.figure(figsize=(15,4))\n",
    "plt.plot(hours,products, 'r--o')\n",
    "plt.title('THỐNG KÊ SỐ LƯỢNG SẢN PHẨM BÁN ĐƯỢC THEO TỪNG GIỜ')\n",
    "plt.xticks(hours)\n",
    "plt.ylabel('Số đơn hàng')\n",
    "plt.xlabel('Giờ trong ngày')\n",
    "\n",
    "plt.grid()\n",
    "plt.show()"
   ]
  },
  {
   "cell_type": "markdown",
   "metadata": {},
   "source": [
    "<img src='Pic/insight.png' width='200px' align='left'>\n",
    "\n",
    "\n",
    " **NHẬN XÉT 3:**\n",
    "---\n",
    "* Khoảng thời gian mua hàng nhiều nhất 10 am --> 21 pm; cao điểm nhất là lúc 12 am và 19 pm"
   ]
  },
  {
   "cell_type": "markdown",
   "metadata": {},
   "source": [
    "### Câu hỏi 4: Trong các hóa đơn của Khách hàng, Sản phẩm nào thường được mua cùng với nhau?"
   ]
  },
  {
   "cell_type": "code",
   "execution_count": null,
   "metadata": {},
   "outputs": [],
   "source": [
    "#Lọc danh sách lấy các hóa đơn mua nhiều sản phẩm\n",
    "df = all_data[all_data['Order ID'].duplicated(keep=False)]\n",
    "df"
   ]
  },
  {
   "cell_type": "code",
   "execution_count": null,
   "metadata": {},
   "outputs": [],
   "source": [
    "#Ghép các sản phẩm lại với nhau theo từng mã Order ID, để xem sản phẩm nào hay mua cùng với nhau\n",
    "df['Grouped'] = df.groupby('Order ID')['Product'].transform(lambda x: ','.join(x))\n",
    "\n",
    "df[['Order ID','Product','Grouped']]"
   ]
  },
  {
   "cell_type": "code",
   "execution_count": null,
   "metadata": {},
   "outputs": [],
   "source": [
    "#Lấy cột Order ID, Grouped, xóa các hóa đơn lặp lại\n",
    "df2 = df[['Order ID', 'Grouped']].drop_duplicates()\n",
    "df2"
   ]
  },
  {
   "cell_type": "code",
   "execution_count": null,
   "metadata": {},
   "outputs": [],
   "source": [
    "from itertools import combinations\n",
    "from collections import Counter\n",
    "\n",
    "count = Counter()\n",
    "\n",
    "for row in df2['Grouped']:\n",
    "    row_list = row.split(',')\n",
    "    count.update(Counter(combinations(row_list, 2)))\n",
    "\n",
    "for key,value in count.most_common(15):\n",
    "    print(key, value)"
   ]
  },
  {
   "cell_type": "markdown",
   "metadata": {},
   "source": [
    "<img src='Pic/insight.png' width='200px' align='left'>\n",
    "\n",
    "\n",
    " **NHẬN XÉT 4:**\n",
    "---\n",
    "\n",
    "Thống kê trong toàn bộ các hóa đơn bán hàng, ta thấy những cặp sản phẩm thường được mua cùng nhau bao gồm\n",
    "* Phổ biến nhất là người dùng mua iPhone sẽ mua theo -> Lightning Charging Cable, -> Wire Headphone --> Apple Airpods Headphones.\n",
    "* Người dùng mua Google Phone thường sẽ mua theo --> USB-C Charging Cable --> Wired Headphones --> Bose SoundSport Headphones.\n",
    "* Người dùng mua Vareebadd Phone thường sẽ mua theo --> USB-C Charging Cable --> Wired Headphones"
   ]
  },
  {
   "cell_type": "markdown",
   "metadata": {},
   "source": [
    "### Câu hỏi 5: Sản phẩm nào của chuỗi cửa hàng bán chạy nhất? Tại sao nó lại bán được nhiều?\n",
    "---\n",
    "Chuỗi cửa hàng điện tử này bán 19 mặt hàng bao gồm:\n",
    "1. '20in Monitor',\n",
    "2. '27in 4K Gaming Monitor',\n",
    "3. '27in FHD Monitor',\n",
    "4. '34in Ultrawide Monitor',\n",
    "5. 'AA Batteries (4-pack)',\n",
    "6. 'AAA Batteries (4-pack)',\n",
    "7. 'Apple Airpods Headphones',\n",
    "8. 'Bose SoundSport Headphones',\n",
    "9. 'Flatscreen TV',\n",
    "10. 'Google Phone',\n",
    "11. 'LG Dryer',\n",
    "12. 'LG Washing Machine',\n",
    "13. 'Lightning Charging Cable',\n",
    "14. 'Macbook Pro Laptop',\n",
    "15. 'ThinkPad Laptop',\n",
    "16. 'USB-C Charging Cable',\n",
    "17. 'Vareebadd Phone',\n",
    "18. 'Wired Headphones',\n",
    "19. 'iPhone'"
   ]
  },
  {
   "cell_type": "code",
   "execution_count": null,
   "metadata": {},
   "outputs": [],
   "source": [
    "#Thống kê số lượng sản phẩm bán được theo mặt hàng\n",
    "products_count = all_data[['Product','Quantity Ordered']].groupby('Product').sum()\n",
    "products_count"
   ]
  },
  {
   "cell_type": "code",
   "execution_count": null,
   "metadata": {},
   "outputs": [],
   "source": [
    "#Trực quan hóa dữ liệu\n",
    "#Tách dữ liệu để hiển thị\n",
    "product_names = products_count.index\n",
    "product_num = products_count.values.ravel()\n",
    "\n",
    "\n",
    "plt.figure(figsize=(15,5))\n",
    "plt.bar(product_names, product_num)\n",
    "plt.ylabel('Số sản phẩm bán được')\n",
    "plt.xticks(product_names, rotation=90, size=12)\n",
    "plt.title('THỐNG KÊ SỐ LƯỢNG SẢN PHẨM BÁN ĐƯỢC TRONG NĂM 2019')\n",
    "plt.grid(True)\n",
    "plt.show()\n"
   ]
  },
  {
   "cell_type": "code",
   "execution_count": null,
   "metadata": {},
   "outputs": [],
   "source": [
    "#Trực quan hóa thêm giá tương ứng của mỗi sản phẩm vào đồ thị\n",
    "prices = all_data.groupby('Product').mean()['Price Each']\n",
    "\n",
    "fig, ax1 = plt.subplots(figsize=(15,5))\n",
    "\n",
    "ax2 = ax1.twinx()\n",
    "ax1.bar(product_names, product_num, color='g')\n",
    "ax2.plot(product_names, prices, 'b-o')\n",
    "\n",
    "ax1.set_title('BIỂU ĐỒ THỂ HIỆN SỐ LƯỢNG SẢN PHẨM BÁN ĐƯỢC VÀ GIÁ CỦA MẶT HÀNG ĐÓ')\n",
    "ax1.set_ylabel('Số sản phẩm bán được', color='g')\n",
    "ax2.set_ylabel('Giá sản phẩm ($)', color='b')\n",
    "ax1.set_xticklabels(product_names, rotation='vertical', size=8)\n",
    "ax1.grid(True)\n",
    "fig.show()"
   ]
  },
  {
   "cell_type": "markdown",
   "metadata": {},
   "source": [
    "<img src='Pic/insight.png' width='200px' align='left'>\n",
    "\n",
    "\n",
    " **NHẬN XÉT 5:**\n",
    "---\n",
    "\n",
    "* Trong số các sản phẩm được bán, các mặt hàng bán được số lượng nhiều nhất bao gồm: AA Batteries (4-pack), AA Batteries (4-pack); USB-C Charging Cable; Lightning Charging Cable; Wired Headphones; --> Lý do: Giá bán các mặt hàng này trên  mỗi sản phẩm thấp.\n",
    "* Các sản phẩm bán được số lượng ít nhất bao gồm: LG Dryer; LG Washing Machine; Vareebadd Phone; 20in Monitor;ThinkPad Laptop --> Một trong số các lý do: Giá bán cao\n",
    "\n",
    "\n"
   ]
  },
  {
   "cell_type": "markdown",
   "metadata": {},
   "source": [
    "<img src='Pic/action.jpg' width='700px'>"
   ]
  },
  {
   "cell_type": "code",
   "execution_count": null,
   "metadata": {},
   "outputs": [],
   "source": []
  }
 ],
 "metadata": {
  "kernelspec": {
   "display_name": "Python 3 (ipykernel)",
   "language": "python",
   "name": "python3"
  },
  "language_info": {
   "codemirror_mode": {
    "name": "ipython",
    "version": 3
   },
   "file_extension": ".py",
   "mimetype": "text/x-python",
   "name": "python",
   "nbconvert_exporter": "python",
   "pygments_lexer": "ipython3",
   "version": "3.9.12"
  }
 },
 "nbformat": 4,
 "nbformat_minor": 2
}
