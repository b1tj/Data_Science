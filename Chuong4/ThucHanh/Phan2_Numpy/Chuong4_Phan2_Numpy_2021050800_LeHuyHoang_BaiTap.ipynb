{
 "cells": [
  {
   "cell_type": "code",
   "execution_count": null,
   "metadata": {
    "colab_type": "text",
    "deletable": false,
    "id": "Y2OUp3hR29W9"
   },
   "outputs": [],
   "source": []
  },
  {
   "cell_type": "markdown",
   "metadata": {},
   "source": [
    "# Thực hành số 1:\n",
    "---\n",
    "**YÊU CẦU 1: Học viên tạo một ma trận vuông cấp n, bao gồm các phần tử, là những số nguyên ngẫu nhiên trong khoảng [0-100]**"
   ]
  },
  {
   "cell_type": "code",
   "execution_count": 24,
   "metadata": {},
   "outputs": [
    {
     "name": "stdout",
     "output_type": "stream",
     "text": [
      "Nhâp n: 10\n",
      "Ma trận vừa tạo: \n",
      " [[ 91  84  70  58  94   6  78  45  28  66]\n",
      " [ 94  65  84   2  85  11  50  43  52  72]\n",
      " [ 62   5  71  98  85  86  59  59   9  81]\n",
      " [  5  64  88  26   9  33  37   2  27  94]\n",
      " [ 54  20  59  67  27  56  14  36  93  13]\n",
      " [ 62  45  51  46  56  94  74  53  30  64]\n",
      " [ 92  24  37  15   0  58  38  24   9 100]\n",
      " [ 20   1  74  66  62  78   6  23  56  57]\n",
      " [ 45  78  41  56  60  43  74   7  28  74]\n",
      " [ 13  42  79  14  43  95  37  75  77  22]]\n"
     ]
    }
   ],
   "source": [
    "#{HỌC VIÊN VIẾT CODE VÀO ĐÂY}\n",
    "\n",
    "import numpy as np\n",
    "n = int(input(\"Nhâp n: \"))\n",
    "matrix_square = np.random.randint(0,101,(n,n))\n",
    "\n",
    "print(\"Ma trận vừa tạo: \\n\", matrix_square)\n",
    "\n",
    "\n",
    "\n"
   ]
  },
  {
   "cell_type": "markdown",
   "metadata": {},
   "source": [
    "**YÊU CẦU 2: Sử dụng ma trận tạo được trong yêu cầu 1, Học viên tạo 2 vector như sau:**\n",
    "\n",
    "**v_chinh:** bao gồm các phần tử nằm trên đường chéo chính của ma trận.\n",
    "\n",
    "**V_phu:** bao gồm các phần tử nằm trên đường chéo phụ của ma trận"
   ]
  },
  {
   "cell_type": "code",
   "execution_count": 25,
   "metadata": {},
   "outputs": [
    {
     "name": "stdout",
     "output_type": "stream",
     "text": [
      "v_chinh: \n",
      " [91 65 71 26 27 94 38 23 28 22]\n",
      "V_phu: \n",
      " [13 78 74 15 56 56 37 59 52 66]\n"
     ]
    }
   ],
   "source": [
    "#{HỌC VIÊN VIẾT CODE VÀO ĐÂY}\n",
    "\n",
    "import numpy as np\n",
    "\n",
    "v_chinh = np.array([],dtype = np.int8)\n",
    "V_phu = np.array([],dtype = np.int8)\n",
    "\n",
    "for i in range(0,n):\n",
    "    v_chinh = np.append(v_chinh,[matrix_square[i,i]])\n",
    "    V_phu = np.append(V_phu,[matrix_square[n-i-1,i]])\n",
    "    \n",
    "print(\"v_chinh: \\n\", v_chinh)\n",
    "print(\"V_phu: \\n\", V_phu)\n",
    "\n",
    "\n"
   ]
  },
  {
   "cell_type": "markdown",
   "metadata": {},
   "source": [
    "**YÊU CẦU 3: Nhập vào số nguyên x bất kỳ trong khoảng (0-100), đếm xem có bao nhiêu phần tử trong ma trận sinh ra ở yêu cầu 1 có giá trị bằng x, lớn hơn x, nhỏ hơn x và hiển thị kết quả:**"
   ]
  },
  {
   "cell_type": "code",
   "execution_count": 26,
   "metadata": {},
   "outputs": [
    {
     "name": "stdout",
     "output_type": "stream",
     "text": [
      "Nhập x:60\n",
      "Số phần tử có giá trị bằng  60 : 1\n",
      "Số phần tử có giá trị lớn hơn  60 : 39\n",
      "Số phần tử có giá trị nhỏ hơn  60 : 60\n"
     ]
    }
   ],
   "source": [
    "#{HỌC VIÊN VIẾT CODE VÀO ĐÂY}\n",
    "\n",
    "x = int(input(\"Nhập x:\"))\n",
    "a,b,c = 0, 0, 0;\n",
    "\n",
    "a = len(matrix_square[matrix_square > x])\n",
    "b = len(matrix_square[matrix_square == x])\n",
    "c = len(matrix_square[matrix_square < x])\n",
    "\n",
    "\n",
    "print(\"Số phần tử có giá trị bằng \",x,\":\", b)\n",
    "print(\"Số phần tử có giá trị lớn hơn \",x,\":\", a)\n",
    "print(\"Số phần tử có giá trị nhỏ hơn \",x,\":\", c)\n",
    "\n"
   ]
  },
  {
   "cell_type": "code",
   "execution_count": 31,
   "metadata": {},
   "outputs": [
    {
     "name": "stdout",
     "output_type": "stream",
     "text": [
      "39\n"
     ]
    }
   ],
   "source": [
    "a = np.where(matrix_square > x)\n",
    "b = np.where(matrix_square == x)\n",
    "c = np.where(matrix_square < x)\n",
    "\n",
    "print(a[0].size)"
   ]
  },
  {
   "cell_type": "markdown",
   "metadata": {},
   "source": [
    "# Thực hành số 2:\n",
    "---\n",
    "**YÊU CẦU 1: Sử dụng dữ liệu bảng điểm của lớp 2A. Cho biết:**\n",
    "\n",
    "1. ĐTB của từng học sinh trong lớp.\n",
    "2. Học sinh có điểm TB cao nhất.\n",
    "3. Học sinh có điểm trung bình thấp nhất\n"
   ]
  },
  {
   "cell_type": "code",
   "execution_count": 15,
   "metadata": {},
   "outputs": [
    {
     "name": "stdout",
     "output_type": "stream",
     "text": [
      "------------------------------------------\n",
      "Điểm trung bình của học sinh 0 : 4.8\n",
      "Điểm trung bình của học sinh 1 : 6.0\n",
      "Điểm trung bình của học sinh 2 : 4.7\n",
      "Điểm trung bình của học sinh 3 : 8.6\n",
      "Điểm trung bình của học sinh 4 : 6.2\n",
      "Điểm trung bình của học sinh 5 : 6.8\n",
      "Điểm trung bình của học sinh 6 : 5.6\n",
      "Điểm trung bình của học sinh 7 : 5.4\n",
      "Điểm trung bình của học sinh 8 : 5.9\n",
      "Điểm trung bình của học sinh 9 : 5.1\n",
      "Điểm trung bình của học sinh 10 : 7.2\n",
      "Điểm trung bình của học sinh 11 : 5.4\n",
      "Điểm trung bình của học sinh 12 : 5.9\n",
      "Điểm trung bình của học sinh 13 : 5.9\n",
      "Điểm trung bình của học sinh 14 : 6.0\n",
      "Điểm trung bình của học sinh 15 : 7.9\n",
      "Điểm trung bình của học sinh 16 : 4.2\n",
      "Điểm trung bình của học sinh 17 : 6.1\n",
      "Điểm trung bình của học sinh 18 : 6.3\n",
      "Điểm trung bình của học sinh 19 : 4.4\n",
      "------------------------------------------\n",
      "Học sinh có điểm trung bình cao nhất: 8.6\n",
      "Học sinh có điểm trung bình thấp nhất: 4.2\n"
     ]
    }
   ],
   "source": [
    "#{HỌC VIÊN VIẾT CODE VÀO ĐÂY}\n",
    "import numpy as np\n",
    "\n",
    "path  ='Data/Diem_2A.txt'\n",
    "diem_2a = np.loadtxt(path,delimiter=',',dtype=np.int8)\n",
    "\n",
    "print('------------------------------------------')\n",
    "for i in range(0,diem_2a.shape[1]):\n",
    "  print('Điểm trung bình của học sinh', i,':', diem_2a[:,i].mean())\n",
    "\n",
    "print('------------------------------------------')\n",
    "print('Học sinh có điểm trung bình cao nhất:', diem_2a.mean(axis=0).max())\n",
    "print('Học sinh có điểm trung bình thấp nhất:', diem_2a.mean(axis=0).min())\n",
    "\n",
    "\n",
    "\n",
    "\n"
   ]
  },
  {
   "cell_type": "code",
   "execution_count": null,
   "metadata": {},
   "outputs": [],
   "source": []
  },
  {
   "cell_type": "markdown",
   "metadata": {},
   "source": [
    "**YÊU CẦU 2: Sử dụng dữ liệu bảng điểm của lớp 2A. Cho biết:**\n",
    "\n",
    "1. ĐTB của từng môn học.\n",
    "2. Môn học có điểm TB cao nhất.\n",
    "3. Môn học có điểm trung bình thấp nhất"
   ]
  },
  {
   "cell_type": "code",
   "execution_count": 24,
   "metadata": {},
   "outputs": [
    {
     "name": "stdout",
     "output_type": "stream",
     "text": [
      "------------------------------------------\n",
      "Điểm trung bình của môn học 0 : 5.45\n",
      "Điểm trung bình của môn học 1 : 5.25\n",
      "Điểm trung bình của môn học 2 : 4.9\n",
      "Điểm trung bình của môn học 3 : 4.6\n",
      "Điểm trung bình của môn học 4 : 5.6\n",
      "Điểm trung bình của môn học 5 : 5.7\n",
      "Điểm trung bình của môn học 6 : 6.55\n",
      "Điểm trung bình của môn học 7 : 7.2\n",
      "Điểm trung bình của môn học 8 : 6.05\n",
      "Điểm trung bình của môn học 9 : 7.9\n",
      "------------------------------------------\n",
      "Môn học có điểm trung bình cao nhất: 7.9\n",
      "Môn học có điểm trung bình thấp nhất: 4.6\n"
     ]
    }
   ],
   "source": [
    "#{HỌC VIÊN VIẾT CODE VÀO ĐÂY}\n",
    "\n",
    "print('------------------------------------------')\n",
    "for i in range(0,diem_2a.shape[0]):\n",
    "  print('Điểm trung bình của môn học', i,':', diem_2a[i,:].mean())\n",
    "print('------------------------------------------')\n",
    "print('Môn học có điểm trung bình cao nhất:', diem_2a.mean(axis=1).max())\n",
    "print('Môn học có điểm trung bình thấp nhất:', diem_2a.mean(axis=1).min())\n",
    "\n",
    "\n",
    "\n"
   ]
  },
  {
   "cell_type": "code",
   "execution_count": null,
   "metadata": {},
   "outputs": [],
   "source": []
  },
  {
   "cell_type": "markdown",
   "metadata": {},
   "source": [
    "#### **YÊU CẦU 3: Sử dụng dữ liệu bảng điểm của lớp 2A. Cho biết:**\n",
    "---\n",
    "1. Sinh viên có điểm đồng đều nhất tất cả các môn. Sinh viên có điểm các môn lệch nhất trong lớp.\n",
    "2. Môn học có điểm đồng đều nhất. Môn học có điểm chênh lệch nhất.\n",
    "\n"
   ]
  },
  {
   "cell_type": "code",
   "execution_count": 27,
   "metadata": {},
   "outputs": [
    {
     "name": "stdout",
     "output_type": "stream",
     "text": [
      "[[ 2  4  3  7  5  6  5  6  8  9  3  6  1  9  8  7  3  3  9  5]\n",
      " [ 3  5  3 10  9  1  9  8  3  1  6  0  7 10  8  5  2  7  7  1]\n",
      " [ 1 10  4  9  6  9  0  2  3  1  8  6  8  4  2  9  2  9  5  0]\n",
      " [ 6  3  0  8  3  7  7  2  6  8  7  3  4  1  5  9  1  0  2 10]\n",
      " [ 4  3  6  7  4  5  2  6  9  4  3  9  9  4  5  7  2 10  9  4]\n",
      " [ 2  3  8 10  4  5  9  5  4  7 10  1  8  4  3  9  6  3  6  7]\n",
      " [ 9  9  1 10  9  9  5  9  6  3  9  5  1 10  7 10  2  8  8  1]\n",
      " [ 8  8  7  8  6  7  7  8  6  7  8  6  7  6  8  8  7  6  8  8]\n",
      " [ 6  7  8  9 10  9  2  2  6  1 10  9  6  3  9  5  9  8  1  1]\n",
      " [ 7  8  7  8  6 10 10  6  8 10  8  9  8  8  5 10  8  7  8  7]]\n"
     ]
    }
   ],
   "source": [
    "print(diem_2a)"
   ]
  },
  {
   "cell_type": "code",
   "execution_count": 31,
   "metadata": {},
   "outputs": [
    {
     "name": "stdout",
     "output_type": "stream",
     "text": [
      "Học sinh thứ 3 có điểm đồng đều nhất lớp.\n",
      "Độ lệch chuẩn điểm:  1.1135528725660042\n",
      "Điểm của học sinh này: [ 7 10  9  8  7 10 10  8  9  8]\n",
      "Học sinh thứ 19 có điểm lệch nhất lớp.\n",
      "Độ lệch chuẩn điểm:  3.352610922848042\n",
      "Điểm của học sinh này: [ 5  1  0 10  4  7  1  8  1  7]\n"
     ]
    }
   ],
   "source": [
    "#{HỌC VIÊN VIẾT CODE VÀO ĐÂY}\n",
    "\n",
    "#1. Sinh viên có điểm đồng đều nhất tất cả các môn. Sinh viên có điểm các môn lệch nhất trong lớp.\n",
    "hs_std = np.std(diem_2a,axis=0)\n",
    "\n",
    "for i in range(0,diem_2a.shape[1]):\n",
    "    if(hs_std[i] == hs_std.min()):\n",
    "        print('Học sinh thứ', i, 'có điểm đồng đều nhất lớp.')\n",
    "        print('Độ lệch chuẩn điểm: ', hs_std[i])\n",
    "        print('Điểm của học sinh này:', diem_2a[:,i])\n",
    "    if(hs_std[i] == hs_std.max()):\n",
    "        print('Học sinh thứ', i, 'có điểm lệch nhất lớp.')\n",
    "        print('Độ lệch chuẩn điểm: ', hs_std[i])\n",
    "        print('Điểm của học sinh này:', diem_2a[:,i])\n",
    "    \n"
   ]
  },
  {
   "cell_type": "code",
   "execution_count": 35,
   "metadata": {},
   "outputs": [
    {
     "name": "stdout",
     "output_type": "stream",
     "text": [
      "Môn học thứ 2 có điểm chênh lệch nhất.\n",
      "Độ lệch chuẩn điểm:  3.3451457367355464\n",
      "Điểm của học môn học: [ 1 10  4  9  6  9  0  2  3  1  8  6  8  4  2  9  2  9  5  0]\n",
      "Môn học thứ 7 có điểm đồng đều nhất.\n",
      "Độ lệch chuẩn điểm:  0.8124038404635961\n",
      "Điểm của học môn học: [8 8 7 8 6 7 7 8 6 7 8 6 7 6 8 8 7 6 8 8]\n"
     ]
    }
   ],
   "source": [
    "#2. Môn học có điểm đồng đều nhất. Môn học có điểm chênh lệch nhất.\n",
    "mh_std = np.std(diem_2a,axis=1)\n",
    "\n",
    "for i in range(0,diem_2a.shape[0]):\n",
    "    if(mh_std[i] == mh_std.min()):\n",
    "        print('Môn học thứ', i, 'có điểm đồng đều nhất.')\n",
    "        print('Độ lệch chuẩn điểm: ', mh_std[i])\n",
    "        print('Điểm của học môn học:', diem_2a[i,:])\n",
    "    if(mh_std[i] == mh_std.max()):\n",
    "        print('Môn học thứ', i, 'có điểm chênh lệch nhất.')\n",
    "        print('Độ lệch chuẩn điểm: ', mh_std[i])\n",
    "        print('Điểm của học môn học:', diem_2a[i,:])\n",
    "        \n",
    "        "
   ]
  },
  {
   "cell_type": "markdown",
   "metadata": {},
   "source": [
    "## Thực hành số 4:\n",
    "---\n",
    "Mô tả file dữ liệu: Temp.txt (có trong thư mục Data)\n",
    "* File dữ liệu lưu trữ nhiệt độ (oC) của 6 thành phố lớn dọc theo nước Việt Nam là: Hà Nội, Vinh, Đà Nẵng, Nha trang, Hồ Chính Minh và Cà Mau\n",
    "* Thời gian từ 0h ngày 15/09/2019 tới 23h ngày 22/09/2019\n",
    "\n",
    "*Học viên xem mô tả chi tiết file dữ liệu trong slide Practice4*"
   ]
  },
  {
   "cell_type": "markdown",
   "metadata": {},
   "source": [
    "**Yêu cầu 4.1**: Đọc dữ liệu lưu trữ trong file Temp.txt vào biến mảng data_temp, cho biết kích thước, số chiều, kiểu dữ liệu và số phần tử của biến data_temp.\n"
   ]
  },
  {
   "cell_type": "code",
   "execution_count": 17,
   "metadata": {
    "scrolled": true
   },
   "outputs": [
    {
     "name": "stdout",
     "output_type": "stream",
     "text": [
      "Kích thước:  (192, 6)\n",
      "Số chiều:  2\n",
      "Kiểu dữ liệu:  float64\n",
      "Số phần tử:  1152\n"
     ]
    }
   ],
   "source": [
    "#{HỌC VIÊN VIẾT CODE VÀO ĐÂY}\n",
    "\n",
    "import numpy as np\n",
    "\n",
    "path = 'Data/Temp.txt'\n",
    "data_temp = np.loadtxt(path, delimiter=' ', dtype = np.float64)\n",
    "\n",
    "print('Kích thước: ',data_temp.shape)\n",
    "print('Số chiều: ',data_temp.ndim)\n",
    "print('Kiểu dữ liệu: ',data_temp.dtype)\n",
    "print('Số phần tử: ',data_temp.size)\n",
    "\n",
    "\n",
    "\n"
   ]
  },
  {
   "cell_type": "code",
   "execution_count": null,
   "metadata": {},
   "outputs": [],
   "source": []
  },
  {
   "cell_type": "markdown",
   "metadata": {},
   "source": [
    "**Yêu cầu 4.2**: Tìm nhiệt độ cao nhất (Max) – Thấp nhất (Min) – Nhiệt độ trung bình của cả tập dữ liệu.\n",
    "\n",
    "**Yêu cầu 4.3**: Tìm nhiệt độ cao nhất (Max) – Thấp nhất (Min) – Nhiệt độ trung bình của từng thành phố và hiển thị kết quả.\n"
   ]
  },
  {
   "cell_type": "code",
   "execution_count": 101,
   "metadata": {},
   "outputs": [
    {
     "name": "stdout",
     "output_type": "stream",
     "text": [
      "--------THỐNG KÊ CHO CẢ 6 THÀNH PHỐ--------\n",
      "Nhiệt độ cao nhất: 33.45\n",
      "Nhiệt độ thấp nhất: 20.93\n",
      "Nhiệt độ trung bình: 26.50222222222222\n",
      "--------------------------------------------\n",
      "1 ) Hà Nội \n",
      " Nhiệt độ cao nhất: 33.45 \n",
      " Nhiệt độ thấp nhất: 21.68 \n",
      " Nhiệt độ trung bình: 27.71\n",
      "2 ) Vinh \n",
      " Nhiệt độ cao nhất: 32.57 \n",
      " Nhiệt độ thấp nhất: 22.6 \n",
      " Nhiệt độ trung bình: 26.72\n",
      "3 ) Đà Nẵng \n",
      " Nhiệt độ cao nhất: 29.88 \n",
      " Nhiệt độ thấp nhất: 20.93 \n",
      " Nhiệt độ trung bình: 25.52\n",
      "4 ) Nha trang \n",
      " Nhiệt độ cao nhất: 28.68 \n",
      " Nhiệt độ thấp nhất: 24.5 \n",
      " Nhiệt độ trung bình: 26.17\n",
      "5 ) TP Hồ Chính Minh \n",
      " Nhiệt độ cao nhất: 31.06 \n",
      " Nhiệt độ thấp nhất: 23.22 \n",
      " Nhiệt độ trung bình: 26.16\n",
      "6 ) Cà Mau \n",
      " Nhiệt độ cao nhất: 31.37 \n",
      " Nhiệt độ thấp nhất: 23.99 \n",
      " Nhiệt độ trung bình: 26.73\n"
     ]
    }
   ],
   "source": [
    "#{HỌC VIÊN VIẾT CODE VÀO ĐÂY}\n",
    "\n",
    "print('--------THỐNG KÊ CHO CẢ 6 THÀNH PHỐ--------')\n",
    "print('Nhiệt độ cao nhất:', np.max(data_temp))\n",
    "print('Nhiệt độ thấp nhất:', np.min(data_temp))\n",
    "print('Nhiệt độ trung bình:', np.mean(data_temp))\n",
    "print('--------------------------------------------')\n",
    "\n",
    "list_tp = ['Hà Nội', 'Vinh', 'Đà Nẵng', 'Nha trang', 'TP Hồ Chính Minh', 'Cà Mau']\n",
    "\n",
    "for i in range(0,data_temp.shape[1]):\n",
    "    print(i+1, ')', list_tp[i],'\\n Nhiệt độ cao nhất:', data_temp[:,i].max(),\n",
    "                      '\\n Nhiệt độ thấp nhất:',data_temp[:,i].min(),\n",
    "                    '\\n Nhiệt độ trung bình:',round(data_temp[:,i].mean(),2))\n"
   ]
  },
  {
   "cell_type": "code",
   "execution_count": null,
   "metadata": {},
   "outputs": [],
   "source": []
  },
  {
   "cell_type": "markdown",
   "metadata": {},
   "source": [
    "**Yêu cầu 4:** Tạo một ma trận data_thongke gồm 3 hàng x 7 cột; \n",
    "các hàng lần lượt lưu trữ dữ liệu như sau: \n",
    "- Hàng 0: Nhiệt độ cao nhất (Max)\n",
    "- Hàng 1: Nhiệt độ trung bình (Mean), làm tròn đến 2 số sau dấu phẩy\n",
    "- Hàng 2: Nhiệt độ nhỏ nhất (Min)\n",
    "Các cột lần lượt theo thứ tự của 6 thành phố và cột cuối cùng là cột thống kê chung cho cả 6 thành phố. Lưu ra file thongke.txt"
   ]
  },
  {
   "cell_type": "code",
   "execution_count": 68,
   "metadata": {},
   "outputs": [
    {
     "data": {
      "text/plain": [
       "array([[25.65, 24.79, 24.01, 25.06, 25.48, 24.97],\n",
       "       [25.31, 24.21, 24.02, 24.93, 25.16, 24.83],\n",
       "       [25.05, 23.73, 23.89, 24.79, 24.8 , 24.55],\n",
       "       ...,\n",
       "       [24.81, 24.47, 23.4 , 25.86, 25.05, 25.29],\n",
       "       [23.97, 24.22, 22.95, 25.74, 24.92, 24.87],\n",
       "       [22.84, 23.99, 22.59, 25.5 , 24.77, 24.57]])"
      ]
     },
     "execution_count": 68,
     "metadata": {},
     "output_type": "execute_result"
    }
   ],
   "source": [
    "data_temp"
   ]
  },
  {
   "cell_type": "code",
   "execution_count": 153,
   "metadata": {},
   "outputs": [
    {
     "name": "stdout",
     "output_type": "stream",
     "text": [
      "33.45\n",
      "[[33.45 32.57 29.88 28.68 31.06 31.37 33.45]\n",
      " [27.71 26.72 25.52 26.17 26.16 26.73 26.5 ]\n",
      " [21.68 22.6  20.93 24.5  23.22 23.99 20.93]]\n",
      "<class 'numpy.ndarray'>\n",
      "Kích thước: (3, 7)\n"
     ]
    }
   ],
   "source": [
    "#{HỌC VIÊN VIẾT CODE VÀO ĐÂY}\n",
    "\n",
    "max_temp = data_temp.max(axis=0)\n",
    "min_temp = data_temp.min(axis=0)\n",
    "mean_temp = np.around(data_temp.mean(axis=0),2)\n",
    "general_data = [np.max(data_temp),\n",
    "                np.around(np.mean(data_temp),2),\n",
    "                np.min(data_temp)]\n",
    "\n",
    "print( data_temp.max(axis=0).max())\n",
    "data_thongke = np.array([(max_temp), \n",
    "                         (mean_temp), \n",
    "                         (min_temp)])\n",
    "\n",
    "data_thongke = np.insert(data_thongke, data_thongke.shape[1], [general_data], axis=1)\n",
    "\n",
    "print(data_thongke)\n",
    "print(type(data_thongke))\n",
    "print('Kích thước:', data_thongke.shape)\n"
   ]
  },
  {
   "cell_type": "code",
   "execution_count": 155,
   "metadata": {},
   "outputs": [],
   "source": [
    "#Lưu dữ liệu\n",
    "np.savetxt('thongke.txt', data_thongke, fmt='%1.4e')"
   ]
  },
  {
   "cell_type": "markdown",
   "metadata": {},
   "source": [
    "## Thực hành số 5:\n",
    "---\n",
    "Mô tả file dữ liệu: Diamonds.txt (có trong thư mục Data)\n",
    "\n",
    "* File dữ liệu lưu trữ thông số 50 viên kim cương bao gồm: Trọng lượng (carat) và Giá bán ($) tương ứng theo mỗi hàng\n",
    "\n",
    "*Học viên xem mô tả chi tiết file dữ liệu trong slide Practice4*"
   ]
  },
  {
   "cell_type": "markdown",
   "metadata": {},
   "source": [
    "**Yêu cầu 5.1:** Đọc dữ liệu lưu trữ trong file Diamonds.txt vào biến kiểu mảng data_diamond, cho biết kích thước, số chiều, kiểu dữ liệu và số phần tử của biến data_diamond"
   ]
  },
  {
   "cell_type": "code",
   "execution_count": 2,
   "metadata": {},
   "outputs": [
    {
     "name": "stdout",
     "output_type": "stream",
     "text": [
      "Kích thước: (50, 2)\n",
      "Số chiều: 2\n",
      "Kiểu dữ liệu: float64\n",
      "Số phần tử: 100\n"
     ]
    }
   ],
   "source": [
    "# {HỌC VIÊN VIẾT CODE VÀO ĐÂY}\n",
    "\n",
    "\n",
    "import numpy as np\n",
    "\n",
    "path = 'Data/Diamonds.txt'\n",
    "data_diamond = np.loadtxt(path, delimiter='\\t', dtype = np.float64)\n",
    "\n",
    "print('Kích thước:',data_diamond.shape)\n",
    "print('Số chiều:',data_diamond.ndim)\n",
    "print('Kiểu dữ liệu:',data_diamond.dtype)\n",
    "print('Số phần tử:',data_diamond.size)\n",
    "\n"
   ]
  },
  {
   "cell_type": "code",
   "execution_count": null,
   "metadata": {},
   "outputs": [],
   "source": []
  },
  {
   "cell_type": "markdown",
   "metadata": {},
   "source": [
    "**Yêu cầu 5.2:** Tách mảng data_diamond thành 2 vector:  diamond_size và diamond_price lưu trữ trọng lượng và giá bán.\n"
   ]
  },
  {
   "cell_type": "code",
   "execution_count": 9,
   "metadata": {},
   "outputs": [
    {
     "name": "stdout",
     "output_type": "stream",
     "text": [
      "[0.23 0.31 0.2  1.02 1.63 1.14 2.01 1.28 1.7  1.01 0.64 0.97 1.78 3.4\n",
      " 3.01 1.51 1.37 1.5  0.54 0.72 1.13 2.24 3.01 4.5  0.92 1.05 0.55 0.74\n",
      " 0.91 1.23 1.52 0.91 0.43 1.24 1.77 1.79 2.05 2.03 2.01 1.   0.9  1.01\n",
      " 1.14 1.53 0.34 0.41 0.75 1.07 1.34 1.75]\n",
      "[  484.   942.   345.  4459. 14022.  4212. 11925.  9548. 11605.  4642.\n",
      "  3541.  4504. 13691. 15964. 10453. 11560.  7979.  9533.  1723.  3344.\n",
      "  6133. 13827. 16538. 18531.  3625.  7879.  1319.  2761.  3620.  6165.\n",
      " 10640.  4138.  1094. 11130. 14561. 10108. 12654. 16280. 13498.  4586.\n",
      "  3105.  7745.  5047. 10830.   765.   827.  3120.  5220.  7427.  9890.]\n"
     ]
    }
   ],
   "source": [
    "#{HỌC VIÊN VIẾT CODE VÀO ĐÂY}\n",
    "\n",
    "diamond_size = np.array([])\n",
    "diamond_price = np.array([])\n",
    "\n",
    "for i in range(0,data_diamond.shape[0]):\n",
    "    diamond_size = np.append(diamond_size, [data_diamond[i,0]])\n",
    "    diamond_price = np.append(diamond_price, [data_diamond[i,1]])\n",
    "    \n",
    "print(diamond_size)\n",
    "print(diamond_price)\n",
    "\n"
   ]
  },
  {
   "cell_type": "markdown",
   "metadata": {},
   "source": [
    "**Yêu cầu 5.3:** Vẽ đồ thị thể hiện mối quan hệ giữa kích thước và giá bán kim cương. Xác định hệ số tương quan tương ứng giữa 2 thông số này.\n"
   ]
  },
  {
   "cell_type": "code",
   "execution_count": 10,
   "metadata": {},
   "outputs": [
    {
     "name": "stdout",
     "output_type": "stream",
     "text": [
      "<class 'numpy.ndarray'>\n",
      "Hệ số tương quan: \n",
      " [[1.        0.8814849]\n",
      " [0.8814849 1.       ]]\n"
     ]
    }
   ],
   "source": [
    "#{HỌC VIÊN VIẾT CODE VÀO ĐÂY}\n",
    "\n",
    "co2 = np.corrcoef(diamond_size,diamond_price)\n",
    "print(type(co2))\n",
    "print('Hệ số tương quan: \\n', co2)\n",
    "\n"
   ]
  },
  {
   "cell_type": "code",
   "execution_count": 15,
   "metadata": {},
   "outputs": [
    {
     "data": {
      "image/png": "[encoded data removed]",
      "text/plain": [
       "<Figure size 504x360 with 1 Axes>"
      ]
     },
     "metadata": {
      "needs_background": "light"
     },
     "output_type": "display_data"
    }
   ],
   "source": [
    "#Biểu đồ tương quan giữa kích thước và giá bán kim cương\n",
    "import matplotlib.pyplot as plt\n",
    "plt.figure(figsize=(7,5))\n",
    "plt.scatter(diamond_size, diamond_price, marker='o', color='b')\n",
    "\n",
    "plt.xlabel('', fontsize=10)\n",
    "plt.ylabel('Giá bán', fontsize=10)\n",
    "plt.title('BIỂU ĐỒ THỂ HIỆN MỐI TƯƠNG QUAN GIỮA KÍCH THƯỚC VÀ GIÁ BÁN KIM CƯƠNG')\n",
    "\n",
    "plt.grid(True)\n",
    "plt.show()"
   ]
  },
  {
   "cell_type": "markdown",
   "metadata": {},
   "source": [
    "**Yêu cầu 5.4:** Cho biết kích thước và giá trung bình của 50 viên kim cương. Hiển thị giá bán của viên kim cương có trọng lượng 3.01 carat.\n"
   ]
  },
  {
   "cell_type": "code",
   "execution_count": 18,
   "metadata": {},
   "outputs": [
    {
     "name": "stdout",
     "output_type": "stream",
     "text": [
      "Kích thước trung bình của 50 viên kim cương: 1.34  carat\n",
      "Giá trung bình của 50 viên kim cương: 7550.78  $\n"
     ]
    }
   ],
   "source": [
    "#{HỌC VIÊN VIẾT CODE VÀO ĐÂY}\n",
    "\n",
    "print('Kích thước trung bình của 50 viên kim cương:',round(np.mean(diamond_size),2),' carat')\n",
    "print('Giá trung bình của 50 viên kim cương:',np.mean(diamond_price),' $')\n",
    "\n"
   ]
  },
  {
   "cell_type": "code",
   "execution_count": 33,
   "metadata": {},
   "outputs": [
    {
     "name": "stdout",
     "output_type": "stream",
     "text": [
      "(array([14, 22], dtype=int64),)\n",
      "Giá bán của viên kim cương có trọng lượng 3.01 carat: [10453. 16538.]\n"
     ]
    }
   ],
   "source": [
    "pos = np.where(diamond_size == 3.01)\n",
    "print(pos)\n",
    "print('Giá bán của viên kim cương có trọng lượng 3.01 carat:' ,diamond_price[pos])"
   ]
  },
  {
   "cell_type": "code",
   "execution_count": null,
   "metadata": {},
   "outputs": [],
   "source": []
  },
  {
   "cell_type": "markdown",
   "metadata": {},
   "source": [
    "## THỰC HÀNH SỐ 6:\n",
    "---\n",
    "**Yêu cầu: Tạo một vector gồm 30 phần tử, có giá trị tăng dần từ 1 đến 30**\n",
    "\n",
    "Chỉ sử dụng các phương thức reshape, ravel, split…tách Vector a ở trên thành 3 vector con bao gồm:\n",
    "\n",
    "1. a_lẻ: chứa các phần tử là số lẻ; \n",
    "2. a_chan: chứa các phần tử là số chẵn.\n",
    "3. a_3: chứa các phần tử chia hết cho 3"
   ]
  },
  {
   "cell_type": "code",
   "execution_count": 91,
   "metadata": {},
   "outputs": [
    {
     "name": "stdout",
     "output_type": "stream",
     "text": [
      "[ 1  2  3  4  5  6  7  8  9 10 11 12 13 14 15 16 17 18 19 20 21 22 23 24\n",
      " 25 26 27 28 29 30]\n",
      "[ 1  3  5  7  9 11 13 15 17 19 21 23 25 27 29]\n"
     ]
    }
   ],
   "source": [
    "#{HỌC VIÊN VIẾT CODE VÀO ĐÂY}\n",
    "#Không sử dụng bất kỳ lệnh điều khiển, vòng lặp nào!!!!\n",
    "a = np.arange(1,31)\n",
    "print(a)\n",
    "\n",
    "a_le = np.where(a%2 == 1)\n",
    "\n",
    "a_le = a[a%2 == 1]\n",
    "print(a_le)\n",
    "\n",
    "\n"
   ]
  },
  {
   "cell_type": "code",
   "execution_count": 93,
   "metadata": {},
   "outputs": [
    {
     "name": "stdout",
     "output_type": "stream",
     "text": [
      "[ 2  4  6  8 10 12 14 16 18 20 22 24 26 28 30]\n"
     ]
    }
   ],
   "source": [
    "a_chan = a[a%2 == 0]\n",
    "print(a_chan)"
   ]
  },
  {
   "cell_type": "code",
   "execution_count": 92,
   "metadata": {},
   "outputs": [
    {
     "name": "stdout",
     "output_type": "stream",
     "text": [
      "[ 3  6  9 12 15 18 21 24 27 30]\n"
     ]
    }
   ],
   "source": [
    "a_3 = a[a%3 == 0]\n",
    "print(a_3)"
   ]
  }
 ],
 "metadata": {
  "colab": {
   "collapsed_sections": [],
   "name": "Chuong_4_package_Numpy.ipynb",
   "provenance": []
  },
  "kernelspec": {
   "display_name": "Python 3 (ipykernel)",
   "language": "python",
   "name": "python3"
  },
  "language_info": {
   "codemirror_mode": {
    "name": "ipython",
    "version": 3
   },
   "file_extension": ".py",
   "mimetype": "text/x-python",
   "name": "python",
   "nbconvert_exporter": "python",
   "pygments_lexer": "ipython3",
   "version": "3.9.12"
  }
 },
 "nbformat": 4,
 "nbformat_minor": 1
}
