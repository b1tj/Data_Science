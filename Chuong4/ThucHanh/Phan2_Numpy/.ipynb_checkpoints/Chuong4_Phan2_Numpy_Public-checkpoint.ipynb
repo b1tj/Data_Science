{
 "cells": [
  {
   "cell_type": "markdown",
   "metadata": {
    "colab_type": "text",
    "deletable": false,
    "id": "Y2OUp3hR29W9"
   },
   "source": [
    "\n",
    "<img src ='Pic\\logo_CNTT.png' width='400px'>\n",
    "<div align=\"center\">\n",
    "<h2> MÔN HỌC: KHOA HỌC DỮ LIỆU (7080509) </h2>\n",
    "</div>\n",
    "\n",
    "---\n",
    "<center>\n",
    "<h1> CHƯƠNG 4: MỘT SỐ THƯ VIỆN QUAN TRỌNG CHO KHOA HỌC DỮ LIỆU - PHẦN 2 (NUMPY)</h1>\n",
    "</center>\n",
    "\n",
    "---\n",
    "\n",
    "**NỘI DUNG BÀI HỌC:**\n",
    "1. **Giới thiệu thư viện Numpy**\n",
    "2. **Cách tạo vector, ma trận (matrix)**\n",
    "    * Tạo mảng 1D, 2D, 3D \n",
    "    * Tạo mảng với các hàm có sẵn \n",
    "    * Tạo mảng từ file dữ liệu\n",
    "3. **Thao tác cơ bản với mảng**\n",
    "    * Quan sát thuộc tính mảng\n",
    "    * Chuyển đổi kiểu dữ liệu \n",
    "    * Truy cập phần tử\n",
    "4. **Tính toán các đặc trưng thống kê trong mảng**\n",
    "    * Min, Max, Sum\n",
    "    * Mean, Median, Mode, Range\n",
    "    * Std\n",
    "5. Hệ số tương quan (Corrcoef)\n",
    "6. Chuyển đổi Vector, Ma trận\n",
    "\n",
    "---\n",
    "*Copyright: Đặng Văn Nam - FIT.HUMG - AIAcademy VN - BKACAD@2022*"
   ]
  },
  {
   "cell_type": "markdown",
   "metadata": {
    "colab_type": "text",
    "id": "eHSVABSx6gXT"
   },
   "source": [
    "## 1) Giới thiệu thư viện NumPy\n",
    "---\n",
    "* Numpy (Numeric Python): là một thư viện toán học phổ biến và mạnh mẽ của Python. \n",
    "* Cho phép làm việc hiệu quả với ma trận và mảng, đặc biệt là dữ liệu ma trận và mảng lớn với tốc độ xử lý nhanh hơn nhiều lần khi chỉ sử dụng “core Python” đơn thuần. \n",
    "* Ngoài ra, Python cũng hỗ trợ một thư viện khác để mở rộng thêm các tính năng của Numpy là Scipy với ưu thế về các phép hồi quy hay biến đổi Fourier…\n",
    "* Tham khảo thêm tại: http://www.numpy.org/\n",
    "\n",
    "<img src='Pic/Picture1.png' width='400px'>"
   ]
  },
  {
   "cell_type": "markdown",
   "metadata": {
    "colab_type": "text",
    "id": "Amb6RsJJ4UtD"
   },
   "source": [
    "<img src='Pic/Picture2.png' width=250px align='right'>\n",
    "**Đối tượng chính của NumPy là các mảng đa chiều đồng nhất:**\n",
    "\n",
    "    * Kiểu dữ liệu của các phần tử con trong mảng phải giống nhau\n",
    "    * Mảng có thể có 1 chiều hoặc nhiều chiều   \n",
    "    * Các chiều được đánh số từ 0 trở đi  \n",
    "    * Số chiều được gọi là hạng (rank)  \n",
    "    * Có đến 24 kiểu số khác nhau. \n",
    "    * Kiểu ndarray là lớp chính xử lý dữ liệu mảng nhiều chiều.\n",
    "    * Có rất nhiều hàm và phương thức xử lý mảng"
   ]
  },
  {
   "cell_type": "markdown",
   "metadata": {
    "colab_type": "text",
    "id": "ksVfGFNt6zzJ"
   },
   "source": [
    "### 2) Khởi tạo Vector, Ma trận với NumPy\n",
    "---"
   ]
  },
  {
   "cell_type": "markdown",
   "metadata": {},
   "source": [
    "### 2.1 Khởi tạo mảng 1D, 2D, 3D\n",
    "#### a) Mảng 1 chiều (1D)"
   ]
  },
  {
   "cell_type": "code",
   "execution_count": 4,
   "metadata": {},
   "outputs": [
    {
     "name": "stdout",
     "output_type": "stream",
     "text": [
      "['1' '3' '5.5' '7' '9' '11' '13' '15' '17' '19']\n",
      "Loại dữ liệu của biến a: <class 'numpy.ndarray'>\n",
      "Kiểu dữ liệu của phần tử trong mảng a: <U32\n",
      "Kích thước của mảng a: (10,)\n",
      "Số phần tử của mảng a: 10\n",
      "Số chiều của mảng a: 1\n"
     ]
    }
   ],
   "source": [
    "#Khởi tạo mảng 1 chiều với thư viên Numpy\n",
    "import numpy as np\n",
    "\n",
    "#Tạo mảng 1 chiều (1D) - row\n",
    "a = np.array([1, 3, 5.5, 7, '9', 11, 13, 15, 17, 19])\n",
    "\n",
    "print(a)\n",
    "print(\"Loại dữ liệu của biến a:\", type(a))\n",
    "print(\"Kiểu dữ liệu của phần tử trong mảng a:\", a.dtype)\n",
    "print(\"Kích thước của mảng a:\", a.shape)\n",
    "print(\"Số phần tử của mảng a:\", a.size)\n",
    "print(\"Số chiều của mảng a:\", a.ndim)"
   ]
  },
  {
   "cell_type": "code",
   "execution_count": 5,
   "metadata": {},
   "outputs": [
    {
     "data": {
      "text/plain": [
       "array([45, 51, 49, 55, 67, 45, 60, 55, 55, 78, 70, 63])"
      ]
     },
     "execution_count": 5,
     "metadata": {},
     "output_type": "execute_result"
    }
   ],
   "source": [
    "vector_pig = np.array([45, 51, 49, 55, 67, 45, 60, 55, 55, 78, 70,63])\n",
    "\n",
    "vector_pig"
   ]
  },
  {
   "cell_type": "code",
   "execution_count": 7,
   "metadata": {},
   "outputs": [
    {
     "data": {
      "text/plain": [
       "12"
      ]
     },
     "execution_count": 7,
     "metadata": {},
     "output_type": "execute_result"
    }
   ],
   "source": [
    "vector_pig.size"
   ]
  },
  {
   "cell_type": "code",
   "execution_count": 10,
   "metadata": {},
   "outputs": [
    {
     "data": {
      "text/plain": [
       "51975000"
      ]
     },
     "execution_count": 10,
     "metadata": {},
     "output_type": "execute_result"
    }
   ],
   "source": [
    "vector_pig.sum()*75000"
   ]
  },
  {
   "cell_type": "code",
   "execution_count": null,
   "metadata": {},
   "outputs": [],
   "source": []
  },
  {
   "cell_type": "code",
   "execution_count": null,
   "metadata": {},
   "outputs": [],
   "source": []
  },
  {
   "cell_type": "code",
   "execution_count": null,
   "metadata": {},
   "outputs": [],
   "source": []
  },
  {
   "cell_type": "code",
   "execution_count": 11,
   "metadata": {},
   "outputs": [
    {
     "name": "stdout",
     "output_type": "stream",
     "text": [
      "[1, 5, 5, 7, 0, 8.0, 12, 'NAM', -1]\n"
     ]
    }
   ],
   "source": [
    "#Danh sách\n",
    "ds = [1, 5, 5, 7, 0, 8.0, 12, 'NAM', -1]\n",
    "print(ds)"
   ]
  },
  {
   "cell_type": "code",
   "execution_count": null,
   "metadata": {},
   "outputs": [],
   "source": []
  },
  {
   "cell_type": "code",
   "execution_count": 12,
   "metadata": {},
   "outputs": [
    {
     "name": "stdout",
     "output_type": "stream",
     "text": [
      "Danh sách list_a: [7, 6, 5, 7, 12, 1]\n",
      "<class 'list'>\n",
      "------------------------------------\n",
      "Mảng array_a: [ 7  6  5  7 12  1]\n",
      "Loại dữ liệu của biến array_a: <class 'numpy.ndarray'>\n",
      "Kiểu dữ liệu của phần tử trong mảng array_a: int32\n",
      "Kích thước của mảng array_a: (6,)\n",
      "Số phần tử của mảng array_a: 6\n",
      "Số chiều của mảng array_a: 1\n"
     ]
    }
   ],
   "source": [
    "import numpy as np\n",
    "#Chuyển đổi từ biến kiểu list sang biến mảng\n",
    "list_a = [7, 6, 5, 7, 12, 1]\n",
    "print(\"Danh sách list_a:\", list_a)\n",
    "print(type(list_a))\n",
    "\n",
    "print('------------------------------------')\n",
    "#chuyển sang kiểu array\n",
    "array_a = np.array(list_a)\n",
    "\n",
    "print(\"Mảng array_a:\", array_a)\n",
    "print(\"Loại dữ liệu của biến array_a:\", type(array_a))\n",
    "print(\"Kiểu dữ liệu của phần tử trong mảng array_a:\", array_a.dtype)\n",
    "print(\"Kích thước của mảng array_a:\", array_a.shape)\n",
    "print(\"Số phần tử của mảng array_a:\", array_a.size)\n",
    "print(\"Số chiều của mảng array_a:\", array_a.ndim)"
   ]
  },
  {
   "cell_type": "code",
   "execution_count": null,
   "metadata": {},
   "outputs": [],
   "source": [
    "#Học viên tạo một vector theo yêu cầu:\n",
    "\n",
    "\n"
   ]
  },
  {
   "cell_type": "code",
   "execution_count": null,
   "metadata": {},
   "outputs": [],
   "source": []
  },
  {
   "cell_type": "code",
   "execution_count": null,
   "metadata": {},
   "outputs": [],
   "source": []
  },
  {
   "cell_type": "markdown",
   "metadata": {},
   "source": [
    "#### b) Mảng 2 chiều (2D - Ma trận)"
   ]
  },
  {
   "cell_type": "code",
   "execution_count": 15,
   "metadata": {},
   "outputs": [
    {
     "name": "stdout",
     "output_type": "stream",
     "text": [
      "[[ 4  5  6]\n",
      " [ 1  2  3]\n",
      " [ 7  8 10]\n",
      " [11  0  8]]\n",
      "Loại dữ liệu của biến b: <class 'numpy.ndarray'>\n",
      "Kiểu dữ liệu của phần tử trong mảng b: int32\n",
      "Kích thước của mảng b: (4, 3)\n",
      "Số phần tử của mảng b: 12\n",
      "Số chiều của mảng b: 2\n"
     ]
    }
   ],
   "source": [
    "#Gọi thư viện numpy\n",
    "import numpy as np\n",
    "\n",
    "#Tạo mảng 2 chiều (2D - Ma trận)\n",
    "b = np.array([(4, 5, 6),\n",
    "              (1, 2, 3),\n",
    "              (7, 8, 10),\n",
    "              (11, 0, 8)])\n",
    "\n",
    "print(b)\n",
    "print(\"Loại dữ liệu của biến b:\", type(b))\n",
    "print(\"Kiểu dữ liệu của phần tử trong mảng b:\", b.dtype)\n",
    "print(\"Kích thước của mảng b:\", b.shape)\n",
    "print(\"Số phần tử của mảng b:\", b.size)\n",
    "print(\"Số chiều của mảng b:\", b.ndim)"
   ]
  },
  {
   "cell_type": "code",
   "execution_count": 16,
   "metadata": {},
   "outputs": [
    {
     "data": {
      "text/plain": [
       "array([[2022, 2022, 2022, 2022, 2022, 2022, 2022],\n",
       "       [2022, 2022, 2022, 2022, 2022, 2022, 2022],\n",
       "       [2022, 2022, 2022, 2022, 2022, 2022, 2022],\n",
       "       [2022, 2022, 2022, 2022, 2022, 2022, 2022],\n",
       "       [2022, 2022, 2022, 2022, 2022, 2022, 2022],\n",
       "       [2022, 2022, 2022, 2022, 2022, 2022, 2022],\n",
       "       [2022, 2022, 2022, 2022, 2022, 2022, 2022]])"
      ]
     },
     "execution_count": 16,
     "metadata": {},
     "output_type": "execute_result"
    }
   ],
   "source": [
    "#Học viên Tạo 1 ma trận (7x7): các phần tử đều = 2022\n",
    "\n",
    "a_2022 = np.array([(2022, 2022, 2022, 2022, 2022, 2022, 2022),\n",
    "                  (2022, 2022, 2022, 2022, 2022, 2022, 2022),\n",
    "                  (2022, 2022, 2022, 2022, 2022, 2022, 2022),\n",
    "                  (2022, 2022, 2022, 2022, 2022, 2022, 2022),\n",
    "                  (2022, 2022, 2022, 2022, 2022, 2022, 2022),\n",
    "                  (2022, 2022, 2022, 2022, 2022, 2022, 2022),\n",
    "                  (2022, 2022, 2022, 2022, 2022, 2022, 2022)])\n",
    "a_2022\n"
   ]
  },
  {
   "cell_type": "code",
   "execution_count": 17,
   "metadata": {},
   "outputs": [
    {
     "data": {
      "text/plain": [
       "(7, 7)"
      ]
     },
     "execution_count": 17,
     "metadata": {},
     "output_type": "execute_result"
    }
   ],
   "source": [
    "a_2022.shape"
   ]
  },
  {
   "cell_type": "code",
   "execution_count": 18,
   "metadata": {},
   "outputs": [
    {
     "data": {
      "text/plain": [
       "49"
      ]
     },
     "execution_count": 18,
     "metadata": {},
     "output_type": "execute_result"
    }
   ],
   "source": [
    "a_2022.size"
   ]
  },
  {
   "cell_type": "code",
   "execution_count": 19,
   "metadata": {},
   "outputs": [
    {
     "data": {
      "text/plain": [
       "2"
      ]
     },
     "execution_count": 19,
     "metadata": {},
     "output_type": "execute_result"
    }
   ],
   "source": [
    "a_2022.ndim"
   ]
  },
  {
   "cell_type": "markdown",
   "metadata": {},
   "source": [
    "### 2.2) Khởi tạo mảng với các hàm sẵn có của Numpy\n",
    "---\n",
    "<img src='Pic/array.png' width='600x'>"
   ]
  },
  {
   "cell_type": "code",
   "execution_count": 5,
   "metadata": {},
   "outputs": [
    {
     "name": "stdout",
     "output_type": "stream",
     "text": [
      "[[1. 1. 1. 1. 1.]\n",
      " [1. 1. 1. 1. 1.]\n",
      " [1. 1. 1. 1. 1.]\n",
      " [1. 1. 1. 1. 1.]\n",
      " [1. 1. 1. 1. 1.]]\n",
      "Kiểu dữ liệu trong mảng array_zeros: float64\n",
      "Kích thước của mảng array_zeros: (5, 5)\n",
      "Số phần tử của mảng array_zeros: 25\n",
      "Số chiều của mảng array_zeros: 2\n"
     ]
    }
   ],
   "source": [
    "# 1) Phương thức zeros: Tạo ma trận 0 kích thước 5 hàng x 5 cột\n",
    "import numpy as np\n",
    "\n",
    "array_zeros = np.ones((5,5))\n",
    "print(array_zeros)\n",
    "print(\"Kiểu dữ liệu trong mảng array_zeros:\", array_zeros.dtype)\n",
    "print(\"Kích thước của mảng array_zeros:\", array_zeros.shape)\n",
    "print(\"Số phần tử của mảng array_zeros:\", array_zeros.size)\n",
    "print(\"Số chiều của mảng array_zeros:\", array_zeros.ndim)"
   ]
  },
  {
   "cell_type": "code",
   "execution_count": null,
   "metadata": {},
   "outputs": [],
   "source": []
  },
  {
   "cell_type": "code",
   "execution_count": 8,
   "metadata": {},
   "outputs": [
    {
     "data": {
      "text/plain": [
       "array([[0, 0, 0, 0, 0, 0, 0, 0, 0, 0, 0, 0, 0, 0, 0],\n",
       "       [0, 0, 0, 0, 0, 0, 0, 0, 0, 0, 0, 0, 0, 0, 0],\n",
       "       [0, 0, 0, 0, 0, 0, 0, 0, 0, 0, 0, 0, 0, 0, 0],\n",
       "       [0, 0, 0, 0, 0, 0, 0, 0, 0, 0, 0, 0, 0, 0, 0],\n",
       "       [0, 0, 0, 0, 0, 0, 0, 0, 0, 0, 0, 0, 0, 0, 0],\n",
       "       [0, 0, 0, 0, 0, 0, 0, 0, 0, 0, 0, 0, 0, 0, 0],\n",
       "       [0, 0, 0, 0, 0, 0, 0, 0, 0, 0, 0, 0, 0, 0, 0],\n",
       "       [0, 0, 0, 0, 0, 0, 0, 0, 0, 0, 0, 0, 0, 0, 0],\n",
       "       [0, 0, 0, 0, 0, 0, 0, 0, 0, 0, 0, 0, 0, 0, 0],\n",
       "       [0, 0, 0, 0, 0, 0, 0, 0, 0, 0, 0, 0, 0, 0, 0],\n",
       "       [0, 0, 0, 0, 0, 0, 0, 0, 0, 0, 0, 0, 0, 0, 0],\n",
       "       [0, 0, 0, 0, 0, 0, 0, 0, 0, 0, 0, 0, 0, 0, 0],\n",
       "       [0, 0, 0, 0, 0, 0, 0, 0, 0, 0, 0, 0, 0, 0, 0]])"
      ]
     },
     "execution_count": 8,
     "metadata": {},
     "output_type": "execute_result"
    }
   ],
   "source": [
    "#Thuộc tính dtype xác định kiểu dữ liệu của phần tử muốn tạo\n",
    "#Mặc định kiểu dữ liệu các phần tử là float\n",
    "\n",
    "vector_zeros = np.zeros((13,15),dtype=np.int32)\n",
    "vector_zeros"
   ]
  },
  {
   "cell_type": "code",
   "execution_count": null,
   "metadata": {},
   "outputs": [],
   "source": []
  },
  {
   "cell_type": "code",
   "execution_count": 22,
   "metadata": {},
   "outputs": [
    {
     "name": "stdout",
     "output_type": "stream",
     "text": [
      "[[1 1 1 1 1]\n",
      " [1 1 1 1 1]\n",
      " [1 1 1 1 1]]\n",
      "Kiểu dữ liệu trong mảng array_one: int8\n",
      "Kích thước của mảng array_one: (3, 5)\n",
      "Số phần tử của mảng array_one: 15\n",
      "Số chiều của mảng array_one: 2\n"
     ]
    }
   ],
   "source": [
    "# 2) Phương thức ones: Tạo ma trận 1 kích thước 3 hàng x 5 cột\n",
    "import numpy as np\n",
    "\n",
    "array_one = np.ones((3,5),dtype=np.int8)\n",
    "\n",
    "print(array_one)\n",
    "print(\"Kiểu dữ liệu trong mảng array_one:\", array_one.dtype)\n",
    "print(\"Kích thước của mảng array_one:\", array_one.shape)\n",
    "print(\"Số phần tử của mảng array_one:\", array_one.size)\n",
    "print(\"Số chiều của mảng array_one:\", array_one.ndim)"
   ]
  },
  {
   "cell_type": "code",
   "execution_count": null,
   "metadata": {},
   "outputs": [],
   "source": []
  },
  {
   "cell_type": "code",
   "execution_count": 23,
   "metadata": {},
   "outputs": [
    {
     "name": "stdout",
     "output_type": "stream",
     "text": [
      "[[1. 0. 0. 0. 0. 0. 0. 0. 0. 0.]\n",
      " [0. 1. 0. 0. 0. 0. 0. 0. 0. 0.]\n",
      " [0. 0. 1. 0. 0. 0. 0. 0. 0. 0.]\n",
      " [0. 0. 0. 1. 0. 0. 0. 0. 0. 0.]\n",
      " [0. 0. 0. 0. 1. 0. 0. 0. 0. 0.]\n",
      " [0. 0. 0. 0. 0. 1. 0. 0. 0. 0.]\n",
      " [0. 0. 0. 0. 0. 0. 1. 0. 0. 0.]\n",
      " [0. 0. 0. 0. 0. 0. 0. 1. 0. 0.]\n",
      " [0. 0. 0. 0. 0. 0. 0. 0. 1. 0.]\n",
      " [0. 0. 0. 0. 0. 0. 0. 0. 0. 1.]]\n",
      "Kiểu dữ liệu của phần tử trong mảng array_eye: float64\n",
      "Kích thước của mảng array_eye: (10, 10)\n",
      "Số phần tử của mảng array_eye: 100\n",
      "Số chiều của mảng array_eye: 2\n"
     ]
    }
   ],
   "source": [
    "# 3) Phương thức eye: Tạo ma trận đơn vị cấp 10\n",
    "import numpy as np\n",
    "array_eye = np.eye(10)\n",
    "\n",
    "print(array_eye)\n",
    "print(\"Kiểu dữ liệu của phần tử trong mảng array_eye:\", array_eye.dtype)\n",
    "print(\"Kích thước của mảng array_eye:\", array_eye.shape)\n",
    "print(\"Số phần tử của mảng array_eye:\", array_eye.size)\n",
    "print(\"Số chiều của mảng array_eye:\", array_eye.ndim)"
   ]
  },
  {
   "cell_type": "code",
   "execution_count": null,
   "metadata": {},
   "outputs": [],
   "source": []
  },
  {
   "cell_type": "code",
   "execution_count": 29,
   "metadata": {},
   "outputs": [
    {
     "name": "stdout",
     "output_type": "stream",
     "text": [
      "[[0.3361555  0.06214456 0.13987655 0.16748731]\n",
      " [0.1055826  0.31361866 0.23712557 0.40428234]\n",
      " [0.41854607 0.73065552 0.16026786 0.36709181]\n",
      " [0.62673384 0.17910261 0.97181216 0.97626713]\n",
      " [0.4567497  0.18781842 0.53351605 0.69863553]\n",
      " [0.96014582 0.30032357 0.93409827 0.50947836]\n",
      " [0.46174987 0.90399335 0.06908318 0.37227352]]\n",
      "Kiểu dữ liệu của phần tử trong mảng array_random: float64\n",
      "Kích thước của mảng array_random: (7, 4)\n",
      "Số phần tử của mảng array_random: 28\n",
      "Số chiều của mảng array_random: 2\n"
     ]
    }
   ],
   "source": [
    "#4) Phương thức random: Tạo một ma trận (7x5) các phần tử ngẫu nhiên [0,1]\n",
    "import numpy as np\n",
    "array_random = np.random.random((7,4))\n",
    "\n",
    "print(array_random)\n",
    "print(\"Kiểu dữ liệu của phần tử trong mảng array_random:\", array_random.dtype)\n",
    "print(\"Kích thước của mảng array_random:\", array_random.shape)\n",
    "print(\"Số phần tử của mảng array_random:\", array_random.size)\n",
    "print(\"Số chiều của mảng array_random:\", array_random.ndim)"
   ]
  },
  {
   "cell_type": "code",
   "execution_count": null,
   "metadata": {},
   "outputs": [],
   "source": []
  },
  {
   "cell_type": "code",
   "execution_count": 30,
   "metadata": {},
   "outputs": [
    {
     "name": "stdout",
     "output_type": "stream",
     "text": [
      "[86 65 44 64 43 22 67 75 76 93 55 29 42 10 61]\n"
     ]
    }
   ],
   "source": [
    "#5) Phương thức randint:\n",
    "#Tạo một vector các phần tử là số nguyên ngẫu nhiên trong khoảng [low,hight)\n",
    "import numpy as np\n",
    "vector_a = np.random.randint(0, 100, 15)\n",
    "print(vector_a)"
   ]
  },
  {
   "cell_type": "code",
   "execution_count": 31,
   "metadata": {},
   "outputs": [
    {
     "name": "stdout",
     "output_type": "stream",
     "text": [
      "[[26 23 21 10 10 10 15 27 16 19]\n",
      " [15 20 15 12 28 20 15 17 29 12]\n",
      " [19 17 22 25 16 11 20 16 11 10]\n",
      " [21 23 20 17 20 29 21 15 29 19]\n",
      " [24 15 24 22 27 16 11 27 29 29]\n",
      " [23 26 24 23 13 11 26 28 16 27]\n",
      " [11 26 13 24 23 10 15 22 16 19]\n",
      " [25 20 29 25 23 16 27 20 27 16]\n",
      " [11 11 23 17 11 14 26 10 22 27]\n",
      " [28 16 16 11 19 12 10 14 10 22]]\n"
     ]
    }
   ],
   "source": [
    "#Tạo một ma trận (10,10) các phần tử là số nguyên ngẫu nhiên trong khoảng 10-<30\n",
    "import numpy as np\n",
    "array_a = np.random.randint(10, 30,(10,10))\n",
    "print(array_a)"
   ]
  },
  {
   "cell_type": "code",
   "execution_count": null,
   "metadata": {},
   "outputs": [],
   "source": []
  },
  {
   "cell_type": "code",
   "execution_count": 40,
   "metadata": {},
   "outputs": [
    {
     "name": "stdout",
     "output_type": "stream",
     "text": [
      "Vector d: [  1   2   3   4   5   6   7   8   9  10  11  12  13  14  15  16  17  18\n",
      "  19  20  21  22  23  24  25  26  27  28  29  30  31  32  33  34  35  36\n",
      "  37  38  39  40  41  42  43  44  45  46  47  48  49  50  51  52  53  54\n",
      "  55  56  57  58  59  60  61  62  63  64  65  66  67  68  69  70  71  72\n",
      "  73  74  75  76  77  78  79  80  81  82  83  84  85  86  87  88  89  90\n",
      "  91  92  93  94  95  96  97  98  99 100]\n",
      "Số phần tử của vector d: 100\n"
     ]
    }
   ],
   "source": [
    "#6) Phương thức arange(a, b, steps): \n",
    "#Tạo vector:\n",
    "# Phần tử đầu tiên = a (=0), \n",
    "# kết thúc <b, \n",
    "# mỗi phần tử cách nhau một khoảng = steps (=1)\n",
    "d = np.arange(1,101)\n",
    "print('Vector d:', d)\n",
    "print(\"Số phần tử của vector d:\", d.size)"
   ]
  },
  {
   "cell_type": "code",
   "execution_count": 34,
   "metadata": {},
   "outputs": [
    {
     "data": {
      "text/plain": [
       "array([ 1,  3,  5,  7,  9, 11, 13, 15, 17, 19, 21, 23, 25, 27, 29, 31, 33,\n",
       "       35, 37, 39, 41, 43, 45, 47, 49])"
      ]
     },
     "execution_count": 34,
     "metadata": {},
     "output_type": "execute_result"
    }
   ],
   "source": [
    "#Yêu cầu:\n",
    "#Học viên: Tạo vector d1 là các số lẻ nhỏ hơn 50\n",
    "\n",
    "d1 = np.arange(1,50,2)\n",
    "d1\n"
   ]
  },
  {
   "cell_type": "code",
   "execution_count": 37,
   "metadata": {},
   "outputs": [
    {
     "data": {
      "text/plain": [
       "array([30, 35, 40, 45, 50, 55])"
      ]
     },
     "execution_count": 37,
     "metadata": {},
     "output_type": "execute_result"
    }
   ],
   "source": [
    "#Học viên: Tạo vector d2 là các số chia hết cho 5 trong khoảng từ [30-60]\n",
    "\n",
    "d2 = np.arange(30,60,5)\n",
    "d2\n"
   ]
  },
  {
   "cell_type": "code",
   "execution_count": 42,
   "metadata": {},
   "outputs": [
    {
     "data": {
      "text/plain": [
       "array([[  1,   2,   3,   4,   5,   6,   7,   8,   9,  10],\n",
       "       [ 11,  12,  13,  14,  15,  16,  17,  18,  19,  20],\n",
       "       [ 21,  22,  23,  24,  25,  26,  27,  28,  29,  30],\n",
       "       [ 31,  32,  33,  34,  35,  36,  37,  38,  39,  40],\n",
       "       [ 41,  42,  43,  44,  45,  46,  47,  48,  49,  50],\n",
       "       [ 51,  52,  53,  54,  55,  56,  57,  58,  59,  60],\n",
       "       [ 61,  62,  63,  64,  65,  66,  67,  68,  69,  70],\n",
       "       [ 71,  72,  73,  74,  75,  76,  77,  78,  79,  80],\n",
       "       [ 81,  82,  83,  84,  85,  86,  87,  88,  89,  90],\n",
       "       [ 91,  92,  93,  94,  95,  96,  97,  98,  99, 100]])"
      ]
     },
     "execution_count": 42,
     "metadata": {},
     "output_type": "execute_result"
    }
   ],
   "source": [
    "a_100 = d.reshape(10,10)\n",
    "a_100"
   ]
  },
  {
   "cell_type": "code",
   "execution_count": null,
   "metadata": {},
   "outputs": [],
   "source": []
  },
  {
   "cell_type": "code",
   "execution_count": 39,
   "metadata": {},
   "outputs": [
    {
     "name": "stdout",
     "output_type": "stream",
     "text": [
      "Vector f: [ 1.    3.25  5.5   7.75 10.  ]\n",
      "Số phần tử của vector f: 5\n"
     ]
    }
   ],
   "source": [
    "#7) Phương thức linspace(a, b, num)\n",
    "#Tạo vector:\n",
    "#Phần tử đầu tiên  = a, \n",
    "#Phần tử kết thúc  = b, \n",
    "#Số phần tử của ma trận = num\n",
    "f = np.linspace(1,10,5)\n",
    "print('Vector f:', f)\n",
    "print(\"Số phần tử của vector f:\", f.size)"
   ]
  },
  {
   "cell_type": "code",
   "execution_count": null,
   "metadata": {},
   "outputs": [],
   "source": []
  },
  {
   "cell_type": "code",
   "execution_count": 43,
   "metadata": {},
   "outputs": [
    {
     "data": {
      "text/plain": [
       "array([[3.14159265, 3.14159265, 3.14159265, 3.14159265, 3.14159265],\n",
       "       [3.14159265, 3.14159265, 3.14159265, 3.14159265, 3.14159265],\n",
       "       [3.14159265, 3.14159265, 3.14159265, 3.14159265, 3.14159265]])"
      ]
     },
     "execution_count": 43,
     "metadata": {},
     "output_type": "execute_result"
    }
   ],
   "source": [
    "# 8) Create a 3x5 array filled with 3.14\n",
    "import math \n",
    "np.full((3, 5),math.pi)"
   ]
  },
  {
   "cell_type": "code",
   "execution_count": 44,
   "metadata": {},
   "outputs": [
    {
     "data": {
      "text/plain": [
       "array([[2022, 2022, 2022, 2022, 2022, 2022, 2022],\n",
       "       [2022, 2022, 2022, 2022, 2022, 2022, 2022],\n",
       "       [2022, 2022, 2022, 2022, 2022, 2022, 2022],\n",
       "       [2022, 2022, 2022, 2022, 2022, 2022, 2022],\n",
       "       [2022, 2022, 2022, 2022, 2022, 2022, 2022],\n",
       "       [2022, 2022, 2022, 2022, 2022, 2022, 2022],\n",
       "       [2022, 2022, 2022, 2022, 2022, 2022, 2022]])"
      ]
     },
     "execution_count": 44,
     "metadata": {},
     "output_type": "execute_result"
    }
   ],
   "source": [
    "np.full((7,7),2022)"
   ]
  },
  {
   "cell_type": "code",
   "execution_count": null,
   "metadata": {},
   "outputs": [],
   "source": []
  },
  {
   "cell_type": "code",
   "execution_count": null,
   "metadata": {},
   "outputs": [],
   "source": []
  },
  {
   "cell_type": "markdown",
   "metadata": {},
   "source": [
    "### 2.3) Đọc dữ liệu lưu trữ từ file .txt vào mảng\n",
    "---\n",
    "<img src='Pic/diem2a.png' width='800px'>\n",
    "\n",
    "**Lưu ý:** Các file dữ liệu được để trong thư mục Data cùng cấp với file code"
   ]
  },
  {
   "cell_type": "code",
   "execution_count": 13,
   "metadata": {
    "colab": {},
    "colab_type": "code",
    "id": "tu9CMzc767_Q"
   },
   "outputs": [
    {
     "name": "stdout",
     "output_type": "stream",
     "text": [
      "[[ 2  4  3  7  5  6  5  6  8  9  3  6  1  9  8  7  3  3  9  5]\n",
      " [ 3  5  3 10  9  1  9  8  3  1  6  0  7 10  8  5  2  7  7  1]\n",
      " [ 1 10  4  9  6  9  0  2  3  1  8  6  8  4  2  9  2  9  5  0]\n",
      " [ 6  3  0  8  3  7  7  2  6  8  7  3  4  1  5  9  1  0  2 10]\n",
      " [ 4  3  6  7  4  5  2  6  9  4  3  9  9  4  5  7  2 10  9  4]\n",
      " [ 2  3  8 10  4  5  9  5  4  7 10  1  8  4  3  9  6  3  6  7]\n",
      " [ 9  9  1 10  9  9  5  9  6  3  9  5  1 10  7 10  2  8  8  1]\n",
      " [ 8  8  7  8  6  7  7  8  6  7  8  6  7  6  8  8  7  6  8  8]\n",
      " [ 6  7  8  9 10  9  2  2  6  1 10  9  6  3  9  5  9  8  1  1]\n",
      " [ 7  8  7  8  6 10 10  6  8 10  8  9  8  8  5 10  8  7  8  7]]\n",
      "Kiểu dữ liệu của phần tử trong mảng diem_2a: int8\n",
      "Kích thước của mảng diem_2a: (10, 20)\n",
      "Số phần tử của mảng diem_2a: 200\n",
      "Số chiều của mảng diem_2a: 2\n"
     ]
    }
   ],
   "source": [
    "import numpy as np\n",
    "\n",
    "#Đọc dữ liệu từ file Diem_2A.txt\n",
    "path  ='Data/Diem_2A.txt'\n",
    "diem_2a = np.loadtxt(path,\n",
    "                     delimiter=',',\n",
    "                     dtype=np.int8)\n",
    "\n",
    "print(diem_2a)\n",
    "print(\"Kiểu dữ liệu của phần tử trong mảng diem_2a:\", diem_2a.dtype)\n",
    "print(\"Kích thước của mảng diem_2a:\", diem_2a.shape)\n",
    "print(\"Số phần tử của mảng diem_2a:\", diem_2a.size)\n",
    "print(\"Số chiều của mảng diem_2a:\", diem_2a.ndim)"
   ]
  },
  {
   "cell_type": "code",
   "execution_count": 14,
   "metadata": {},
   "outputs": [
    {
     "data": {
      "text/plain": [
       "array([[2.3000e-01, 4.8400e+02],\n",
       "       [3.1000e-01, 9.4200e+02],\n",
       "       [2.0000e-01, 3.4500e+02],\n",
       "       [1.0200e+00, 4.4590e+03],\n",
       "       [1.6300e+00, 1.4022e+04],\n",
       "       [1.1400e+00, 4.2120e+03],\n",
       "       [2.0100e+00, 1.1925e+04],\n",
       "       [1.2800e+00, 9.5480e+03],\n",
       "       [1.7000e+00, 1.1605e+04],\n",
       "       [1.0100e+00, 4.6420e+03],\n",
       "       [6.4000e-01, 3.5410e+03],\n",
       "       [9.7000e-01, 4.5040e+03],\n",
       "       [1.7800e+00, 1.3691e+04],\n",
       "       [3.4000e+00, 1.5964e+04],\n",
       "       [3.0100e+00, 1.0453e+04],\n",
       "       [1.5100e+00, 1.1560e+04],\n",
       "       [1.3700e+00, 7.9790e+03],\n",
       "       [1.5000e+00, 9.5330e+03],\n",
       "       [5.4000e-01, 1.7230e+03],\n",
       "       [7.2000e-01, 3.3440e+03],\n",
       "       [1.1300e+00, 6.1330e+03],\n",
       "       [2.2400e+00, 1.3827e+04],\n",
       "       [3.0100e+00, 1.6538e+04],\n",
       "       [4.5000e+00, 1.8531e+04],\n",
       "       [9.2000e-01, 3.6250e+03],\n",
       "       [1.0500e+00, 7.8790e+03],\n",
       "       [5.5000e-01, 1.3190e+03],\n",
       "       [7.4000e-01, 2.7610e+03],\n",
       "       [9.1000e-01, 3.6200e+03],\n",
       "       [1.2300e+00, 6.1650e+03],\n",
       "       [1.5200e+00, 1.0640e+04],\n",
       "       [9.1000e-01, 4.1380e+03],\n",
       "       [4.3000e-01, 1.0940e+03],\n",
       "       [1.2400e+00, 1.1130e+04],\n",
       "       [1.7700e+00, 1.4561e+04],\n",
       "       [1.7900e+00, 1.0108e+04],\n",
       "       [2.0500e+00, 1.2654e+04],\n",
       "       [2.0300e+00, 1.6280e+04],\n",
       "       [2.0100e+00, 1.3498e+04],\n",
       "       [1.0000e+00, 4.5860e+03],\n",
       "       [9.0000e-01, 3.1050e+03],\n",
       "       [1.0100e+00, 7.7450e+03],\n",
       "       [1.1400e+00, 5.0470e+03],\n",
       "       [1.5300e+00, 1.0830e+04],\n",
       "       [3.4000e-01, 7.6500e+02],\n",
       "       [4.1000e-01, 8.2700e+02],\n",
       "       [7.5000e-01, 3.1200e+03],\n",
       "       [1.0700e+00, 5.2200e+03],\n",
       "       [1.3400e+00, 7.4270e+03],\n",
       "       [1.7500e+00, 9.8900e+03]])"
      ]
     },
     "execution_count": 14,
     "metadata": {},
     "output_type": "execute_result"
    }
   ],
   "source": [
    "import numpy as np\n",
    "\n",
    "#Đọc dữ liệu từ file Diamonds.txt vào biến a_diamond\n",
    "path  ='Data/Diamonds.txt'\n",
    "a_diamond = np.loadtxt(path,delimiter='\\t')\n",
    "\n",
    "a_diamond"
   ]
  },
  {
   "cell_type": "code",
   "execution_count": null,
   "metadata": {},
   "outputs": [],
   "source": []
  },
  {
   "cell_type": "code",
   "execution_count": null,
   "metadata": {},
   "outputs": [],
   "source": []
  },
  {
   "cell_type": "markdown",
   "metadata": {
    "colab_type": "text",
    "id": "9VQ7U18w_XMr"
   },
   "source": [
    "### 3) CÁC THAO TÁC VỚI MẢNG\n",
    "---\n",
    "### a. Hàm quan sát mảng"
   ]
  },
  {
   "cell_type": "code",
   "execution_count": 15,
   "metadata": {},
   "outputs": [
    {
     "name": "stdout",
     "output_type": "stream",
     "text": [
      "[[ 2  4  3  7  5  6  5  6  8  9  3  6  1  9  8  7  3  3  9  5]\n",
      " [ 3  5  3 10  9  1  9  8  3  1  6  0  7 10  8  5  2  7  7  1]\n",
      " [ 1 10  4  9  6  9  0  2  3  1  8  6  8  4  2  9  2  9  5  0]\n",
      " [ 6  3  0  8  3  7  7  2  6  8  7  3  4  1  5  9  1  0  2 10]\n",
      " [ 4  3  6  7  4  5  2  6  9  4  3  9  9  4  5  7  2 10  9  4]\n",
      " [ 2  3  8 10  4  5  9  5  4  7 10  1  8  4  3  9  6  3  6  7]\n",
      " [ 9  9  1 10  9  9  5  9  6  3  9  5  1 10  7 10  2  8  8  1]\n",
      " [ 8  8  7  8  6  7  7  8  6  7  8  6  7  6  8  8  7  6  8  8]\n",
      " [ 6  7  8  9 10  9  2  2  6  1 10  9  6  3  9  5  9  8  1  1]\n",
      " [ 7  8  7  8  6 10 10  6  8 10  8  9  8  8  5 10  8  7  8  7]]\n"
     ]
    }
   ],
   "source": [
    "print(diem_2a)"
   ]
  },
  {
   "cell_type": "code",
   "execution_count": 43,
   "metadata": {
    "colab": {
     "base_uri": "https://localhost:8080/",
     "height": 35
    },
    "colab_type": "code",
    "id": "MnZc42FA_b43",
    "outputId": "dbee536f-b336-4155-b8fd-e66068cd8b2f"
   },
   "outputs": [
    {
     "name": "stdout",
     "output_type": "stream",
     "text": [
      "kích thước của mảng diem_2a: (10, 20)\n"
     ]
    }
   ],
   "source": [
    "#a.shape: Cho biết kích thước của mảng a:\n",
    "print('kích thước của mảng diem_2a:', diem_2a.shape)"
   ]
  },
  {
   "cell_type": "code",
   "execution_count": 17,
   "metadata": {
    "colab": {},
    "colab_type": "code",
    "id": "s6N42V5lArDz"
   },
   "outputs": [
    {
     "name": "stdout",
     "output_type": "stream",
     "text": [
      "Số chiều của mảng diem_2a: 2\n"
     ]
    }
   ],
   "source": [
    "#a.ndim: Cho biết Số chiều của mảng a:\n",
    "print('Số chiều của mảng diem_2a:', diem_2a.ndim)"
   ]
  },
  {
   "cell_type": "code",
   "execution_count": 18,
   "metadata": {
    "colab": {},
    "colab_type": "code",
    "id": "RagL-6PtA4hU"
   },
   "outputs": [
    {
     "name": "stdout",
     "output_type": "stream",
     "text": [
      "Số phần tử của mảng diem_2a:  200\n"
     ]
    }
   ],
   "source": [
    "#a.size: Cho biết số phần tử của mảng a:\n",
    "print('Số phần tử của mảng diem_2a: ', diem_2a.size)"
   ]
  },
  {
   "cell_type": "code",
   "execution_count": 19,
   "metadata": {
    "colab": {},
    "colab_type": "code",
    "id": "POcty5tOBriV"
   },
   "outputs": [
    {
     "name": "stdout",
     "output_type": "stream",
     "text": [
      "Kiểu dữ liệu của các phần tử trong mảng diem_2a: int8\n"
     ]
    }
   ],
   "source": [
    "#a.dtype: Cho biết kiểu dữ liệu của các phần tử trong mảng a\n",
    "print('Kiểu dữ liệu của các phần tử trong mảng diem_2a:', diem_2a.dtype)"
   ]
  },
  {
   "cell_type": "markdown",
   "metadata": {},
   "source": [
    "### b. Chuyển đổi kiểu dữ liệu các phần tử trong mảng\n",
    "---"
   ]
  },
  {
   "cell_type": "code",
   "execution_count": 20,
   "metadata": {
    "colab": {},
    "colab_type": "code",
    "id": "Yop1EpdECAiy"
   },
   "outputs": [
    {
     "name": "stdout",
     "output_type": "stream",
     "text": [
      "[ 0.   1.5  3.   4.5  6.   7.5  9.  10.5 12.  13.5 15. ]\n",
      "Kiểu Dữ liệu:  float64\n",
      "-----------------------------------------\n"
     ]
    }
   ],
   "source": [
    "#a.astype(kiểu mới): Chuyển đổi kiểu dữ liệu của các phần tử\n",
    "a_float = np.linspace(0,15,11)\n",
    "print(a_float)\n",
    "print('Kiểu Dữ liệu: ', a_float.dtype)\n",
    "print('-----------------------------------------')\n"
   ]
  },
  {
   "cell_type": "code",
   "execution_count": 21,
   "metadata": {},
   "outputs": [
    {
     "name": "stdout",
     "output_type": "stream",
     "text": [
      "[ 0  1  3  4  6  7  9 10 12 13 15]\n",
      "Dữ liệu sau khi chuyển:  int16\n"
     ]
    }
   ],
   "source": [
    "#Chuyển từ kiểu float --> int\n",
    "a_int = a_float.astype(np.int16)\n",
    "print(a_int)\n",
    "print('Dữ liệu sau khi chuyển: ', a_int.dtype)"
   ]
  },
  {
   "cell_type": "code",
   "execution_count": 22,
   "metadata": {
    "colab": {},
    "colab_type": "code",
    "id": "GiVRDC-ZN8c_"
   },
   "outputs": [
    {
     "name": "stdout",
     "output_type": "stream",
     "text": [
      "['0' '1' '3' '4' '6' '7' '9' '10' '12' '13' '15']\n",
      "Dữ liệu sau khi chuyển:  <U6\n"
     ]
    }
   ],
   "source": [
    "#Chuyển từ kiểu float --> string\n",
    "a_str = a_int.astype(np.str_)\n",
    "print(a_str)\n",
    "print('Dữ liệu sau khi chuyển: ', a_str.dtype)"
   ]
  },
  {
   "cell_type": "code",
   "execution_count": 23,
   "metadata": {},
   "outputs": [
    {
     "name": "stdout",
     "output_type": "stream",
     "text": [
      "[False  True  True  True  True  True  True  True  True  True  True]\n",
      "Dữ liệu sau khi chuyển:  bool\n"
     ]
    }
   ],
   "source": [
    "#Chuyển từ kiểu float --> boolean\n",
    "a_bol = a_int.astype(np.bool_)\n",
    "print(a_bol)\n",
    "print('Dữ liệu sau khi chuyển: ', a_bol.dtype)"
   ]
  },
  {
   "cell_type": "markdown",
   "metadata": {
    "colab_type": "text",
    "id": "VgmurRtbSWm1"
   },
   "source": [
    "### c. Truy cập tới các phần tử của mảng\n",
    "---"
   ]
  },
  {
   "cell_type": "markdown",
   "metadata": {
    "colab_type": "text",
    "id": "Ahun79u0aXz5"
   },
   "source": [
    "#### a) Truy cập tới các phần tử của Vector (1D)\n",
    "---\n",
    "<img src='Pic/array1.png' width='400px'>"
   ]
  },
  {
   "cell_type": "code",
   "execution_count": 66,
   "metadata": {
    "colab": {
     "base_uri": "https://localhost:8080/",
     "height": 34
    },
    "colab_type": "code",
    "id": "K45TlS72Sc1y",
    "outputId": "00ac1b04-04aa-4523-8b30-fde4d35e9f99",
    "scrolled": true
   },
   "outputs": [
    {
     "name": "stdout",
     "output_type": "stream",
     "text": [
      "các phần tử của Vector a:\n",
      " [ 3  5  3 10  9  1  9  8  3  1]\n",
      "------------------------------------------------\n",
      "phần tử đầu tiên: 3\n",
      "phần tử thứ 3: 10\n",
      "phần tử cuối cùng: 1\n"
     ]
    }
   ],
   "source": [
    "#Truy cập tới một phần tử của Vector: a[index]\n",
    "#Note: index phần tử đầu tiên 0\n",
    "#    : index phần tử cuối cùng -1\n",
    "a = np.array([3,  5,  3, 10,  9,  1,  9,  8,  3,  1])\n",
    "\n",
    "print('các phần tử của Vector a:\\n', a)\n",
    "print('------------------------------------------------')\n",
    "print('phần tử đầu tiên:', a[0])\n",
    "print('phần tử thứ 3:', a[3])\n",
    "print('phần tử cuối cùng:', a[-1])"
   ]
  },
  {
   "cell_type": "markdown",
   "metadata": {},
   "source": [
    "**Truy cập tới nhiều phần tử của Vector: a[index1:index2]**\n",
    "\n",
    "<img src='Pic/array2.png' width='400px'>"
   ]
  },
  {
   "cell_type": "code",
   "execution_count": 67,
   "metadata": {
    "colab": {
     "base_uri": "https://localhost:8080/",
     "height": 69
    },
    "colab_type": "code",
    "id": "zBqDxsoeUfa3",
    "outputId": "6921b752-2bb1-496d-e5b5-67918ba38fa4"
   },
   "outputs": [
    {
     "name": "stdout",
     "output_type": "stream",
     "text": [
      "các phần tử của Vector a:\n",
      " [ 3  5  3 10  9  1  9  8  3  1]\n",
      "------------------------------------------------\n",
      "3 Phần tử đầu tiên: [3 5 3]\n",
      "Từ phần tử thứ 5 tới hết: [1 9 8 3 1]\n",
      "Từ phần tử 2 đến phần tử <6 của vector: [ 3 10  9  1]\n"
     ]
    }
   ],
   "source": [
    "#Truy cập tới nhiều phần tử của Vector: a[index1:index2]\n",
    "print('các phần tử của Vector a:\\n', a)\n",
    "print('------------------------------------------------')\n",
    "print('3 Phần tử đầu tiên:', a[:3])\n",
    "print('Từ phần tử thứ 5 tới hết:', a[5:])\n",
    "print('Từ phần tử 2 đến phần tử <6 của vector:',a[2:6])"
   ]
  },
  {
   "cell_type": "markdown",
   "metadata": {},
   "source": [
    "## Lưu ý: Thay đổi giá trị của một phần tử trong mảng\n",
    "---\n",
    "(Tương tự với dữ liệu kiểu List, Dataframe)"
   ]
  },
  {
   "cell_type": "code",
   "execution_count": 68,
   "metadata": {},
   "outputs": [
    {
     "name": "stdout",
     "output_type": "stream",
     "text": [
      "[ 3  5  3 10  9  1  9  8  3  1]\n"
     ]
    }
   ],
   "source": [
    "#Mảng a ban đầu\n",
    "print(a)"
   ]
  },
  {
   "cell_type": "code",
   "execution_count": 69,
   "metadata": {},
   "outputs": [
    {
     "data": {
      "text/plain": [
       "array([3, 5, 3, 5, 9, 1, 9, 8, 3, 1])"
      ]
     },
     "execution_count": 69,
     "metadata": {},
     "output_type": "execute_result"
    }
   ],
   "source": [
    "#Cập nhật lại giá trị của phần tử thứ 3 trong mảng\n",
    "a[3]=5\n",
    "a"
   ]
  },
  {
   "cell_type": "code",
   "execution_count": 70,
   "metadata": {},
   "outputs": [
    {
     "data": {
      "text/plain": [
       "array([3, 5, 3, 5, 9, 1, 9, 8, 3, 1])"
      ]
     },
     "execution_count": 70,
     "metadata": {},
     "output_type": "execute_result"
    }
   ],
   "source": [
    "#Tạo một mảng a1 có các phần tử như của mảng a\n",
    "a1 = a\n",
    "a1"
   ]
  },
  {
   "cell_type": "code",
   "execution_count": 75,
   "metadata": {},
   "outputs": [
    {
     "data": {
      "text/plain": [
       "array([100,   5,   3,   5,   9,   1,   9,   8,   3, 100])"
      ]
     },
     "execution_count": 75,
     "metadata": {},
     "output_type": "execute_result"
    }
   ],
   "source": [
    "#Cập nhật lại giá trị đầu tiên trong mảng a1\n",
    "a1[-1]=100\n",
    "a1"
   ]
  },
  {
   "cell_type": "code",
   "execution_count": 76,
   "metadata": {},
   "outputs": [
    {
     "data": {
      "text/plain": [
       "array([100,   5,   3,   5,   9,   1,   9,   8,   3, 100])"
      ]
     },
     "execution_count": 76,
     "metadata": {},
     "output_type": "execute_result"
    }
   ],
   "source": [
    "#Các phần tử trong mảng a cũng sẽ cập nhật theo\n",
    "a"
   ]
  },
  {
   "cell_type": "code",
   "execution_count": 77,
   "metadata": {},
   "outputs": [
    {
     "data": {
      "text/plain": [
       "array([100,   5,   3,   5,   9,   1,   9,   8,   3, 100])"
      ]
     },
     "execution_count": 77,
     "metadata": {},
     "output_type": "execute_result"
    }
   ],
   "source": [
    "#Để giải quyết vấn đề này, sử dụng phương thức copy()\n",
    "a2=a.copy()\n",
    "a2"
   ]
  },
  {
   "cell_type": "code",
   "execution_count": 78,
   "metadata": {},
   "outputs": [
    {
     "data": {
      "text/plain": [
       "array([  5,   5,   3,   5,   9,   1,   9,   8,   3, 100])"
      ]
     },
     "execution_count": 78,
     "metadata": {},
     "output_type": "execute_result"
    }
   ],
   "source": [
    "a2[0]=5\n",
    "a2"
   ]
  },
  {
   "cell_type": "code",
   "execution_count": 79,
   "metadata": {},
   "outputs": [
    {
     "data": {
      "text/plain": [
       "array([100,   5,   3,   5,   9,   1,   9,   8,   3, 100])"
      ]
     },
     "execution_count": 79,
     "metadata": {},
     "output_type": "execute_result"
    }
   ],
   "source": [
    "a"
   ]
  },
  {
   "cell_type": "code",
   "execution_count": 24,
   "metadata": {},
   "outputs": [
    {
     "name": "stdout",
     "output_type": "stream",
     "text": [
      "[2, 4, 6, 7]\n",
      "[2, 4, 6, 7]\n"
     ]
    }
   ],
   "source": [
    "#Tương tự với biến kiểu list\n",
    "list_a=[2,4,6,7]\n",
    "list_a1=list_a.copy()\n",
    "print(list_a)\n",
    "print(list_a1)"
   ]
  },
  {
   "cell_type": "code",
   "execution_count": 25,
   "metadata": {},
   "outputs": [
    {
     "name": "stdout",
     "output_type": "stream",
     "text": [
      "[2, 4, 6, 7]\n",
      "[100, 4, 6, 7]\n"
     ]
    }
   ],
   "source": [
    "list_a1[0]=100\n",
    "print(list_a)\n",
    "print(list_a1)"
   ]
  },
  {
   "cell_type": "code",
   "execution_count": null,
   "metadata": {},
   "outputs": [],
   "source": []
  },
  {
   "cell_type": "code",
   "execution_count": null,
   "metadata": {},
   "outputs": [],
   "source": []
  },
  {
   "cell_type": "markdown",
   "metadata": {
    "colab_type": "text",
    "id": "yMJSnBYdaijH"
   },
   "source": [
    "#### b)Truy cập tới các phần tử của ma trận\n",
    "---\n",
    "\n",
    "<img src='Pic/array3.png' width='400px'>"
   ]
  },
  {
   "cell_type": "code",
   "execution_count": 26,
   "metadata": {},
   "outputs": [
    {
     "name": "stdout",
     "output_type": "stream",
     "text": [
      "[[ 2  4  3  7  5  6  5  6  8  9  3  6  1  9  8  7  3  3  9  5]\n",
      " [ 3  5  3 10  9  1  9  8  3  1  6  0  7 10  8  5  2  7  7  1]\n",
      " [ 1 10  4  9  6  9  0  2  3  1  8  6  8  4  2  9  2  9  5  0]\n",
      " [ 6  3  0  8  3  7  7  2  6  8  7  3  4  1  5  9  1  0  2 10]\n",
      " [ 4  3  6  7  4  5  2  6  9  4  3  9  9  4  5  7  2 10  9  4]\n",
      " [ 2  3  8 10  4  5  9  5  4  7 10  1  8  4  3  9  6  3  6  7]\n",
      " [ 9  9  1 10  9  9  5  9  6  3  9  5  1 10  7 10  2  8  8  1]\n",
      " [ 8  8  7  8  6  7  7  8  6  7  8  6  7  6  8  8  7  6  8  8]\n",
      " [ 6  7  8  9 10  9  2  2  6  1 10  9  6  3  9  5  9  8  1  1]\n",
      " [ 7  8  7  8  6 10 10  6  8 10  8  9  8  8  5 10  8  7  8  7]]\n"
     ]
    }
   ],
   "source": [
    "print(diem_2a)"
   ]
  },
  {
   "cell_type": "code",
   "execution_count": 27,
   "metadata": {
    "colab": {},
    "colab_type": "code",
    "id": "O-9LAg8aVJwq"
   },
   "outputs": [
    {
     "name": "stdout",
     "output_type": "stream",
     "text": [
      "Điểm môn học đầu tiên, của học sinh đầu tiên: 2\n",
      "Điểm môn học thứ 1, của học sinh thứ 3: 10\n",
      "Điểm môn cuối cùng, của học sinh cuối cùng: 7\n",
      "--------------------------------------------------------\n",
      "Bảng điểm lớp 2A:\n",
      " [[ 2  4  3  7  5  6  5  6  8  9  3  6  1  9  8  7  3  3  9  5]\n",
      " [ 3  5  3 10  9  1  9  8  3  1  6  0  7 10  8  5  2  7  7  1]\n",
      " [ 1 10  4  9  6  9  0  2  3  1  8  6  8  4  2  9  2  9  5  0]\n",
      " [ 6  3  0  8  3  7  7  2  6  8  7  3  4  1  5  9  1  0  2 10]\n",
      " [ 4  3  6  7  4  5  2  6  9  4  3  9  9  4  5  7  2 10  9  4]\n",
      " [ 2  3  8 10  4  5  9  5  4  7 10  1  8  4  3  9  6  3  6  7]\n",
      " [ 9  9  1 10  9  9  5  9  6  3  9  5  1 10  7 10  2  8  8  1]\n",
      " [ 8  8  7  8  6  7  7  8  6  7  8  6  7  6  8  8  7  6  8  8]\n",
      " [ 6  7  8  9 10  9  2  2  6  1 10  9  6  3  9  5  9  8  1  1]\n",
      " [ 7  8  7  8  6 10 10  6  8 10  8  9  8  8  5 10  8  7  8  7]]\n"
     ]
    }
   ],
   "source": [
    "#Truy cập tới 1 phần tử của ma trận (2D): a[index_row, index_col]\n",
    "print('Điểm môn học đầu tiên, của học sinh đầu tiên:',diem_2a[0,0])\n",
    "print('Điểm môn học thứ 1, của học sinh thứ 3:',diem_2a[1,3])\n",
    "print('Điểm môn cuối cùng, của học sinh cuối cùng:',diem_2a[-1,-1])\n",
    "print('--------------------------------------------------------')\n",
    "print('Bảng điểm lớp 2A:\\n',diem_2a)"
   ]
  },
  {
   "cell_type": "code",
   "execution_count": 82,
   "metadata": {
    "colab": {
     "base_uri": "https://localhost:8080/",
     "height": 35
    },
    "colab_type": "code",
    "id": "mjICTCVBaxHP",
    "outputId": "1537a972-d2d3-4611-d845-7f32249fe55c"
   },
   "outputs": [
    {
     "name": "stdout",
     "output_type": "stream",
     "text": [
      "Điểm các môn của học sinh 5: [ 6  1  9  7  5  5  9  7  9 10]\n",
      "Điểm môn học cuối cùng của tất cả học sinh: \n",
      " [ 7  8  7  8  6 10 10  6  8 10  8  9  8  8  5 10  8  7  8  7]\n",
      "Bảng điểm 5 môn học đầu tiên của 10 học sinh đầu của lớp:\n",
      " [[ 2  4  3  7  5  6  5  6  8  9]\n",
      " [ 3  5  3 10  9  1  9  8  3  1]\n",
      " [ 1 10  4  9  6  9  0  2  3  1]\n",
      " [ 6  3  0  8  3  7  7  2  6  8]\n",
      " [ 4  3  6  7  4  5  2  6  9  4]]\n"
     ]
    }
   ],
   "source": [
    "#Truy cập tới nhiều phần tử trong ma trận: a[index_row1:index_row2,index_col1:index_col2]\n",
    "#Lấy điểm tất cả các môn (tất cả các hàng) của học sinh 5:\n",
    "diem_hs5 = diem_2a[:,5]\n",
    "print(\"Điểm các môn của học sinh 5:\",diem_hs5)\n",
    "\n",
    "#Lấy điểm môn học cuối cùng của tất cả học sinh (tất cả các cột) \n",
    "diem_mon = diem_2a[-1,:]\n",
    "print(\"Điểm môn học cuối cùng của tất cả học sinh: \\n\",diem_mon)\n",
    "\n",
    "#Lấy điểm 5 môn học đầu tiên của 10 học sinh đầu tiên\n",
    "diem5_hs10 = diem_2a[:5,:10]\n",
    "print(\"Bảng điểm 5 môn học đầu tiên của 10 học sinh đầu của lớp:\\n\",diem5_hs10)"
   ]
  },
  {
   "cell_type": "code",
   "execution_count": 83,
   "metadata": {},
   "outputs": [
    {
     "name": "stdout",
     "output_type": "stream",
     "text": [
      "[10  1  8  4  3  9  6  3  6  7]\n"
     ]
    }
   ],
   "source": [
    "#môn TA: hàng index = 5\n",
    "#tất cả điểm môn TA từ học sinh 10-->20\n",
    "diem_TA = diem_2a[5,10:21]\n",
    "print(diem_TA)"
   ]
  },
  {
   "cell_type": "markdown",
   "metadata": {},
   "source": [
    "# Thực hành số 1:\n",
    "---\n",
    "**YÊU CẦU 1: Học viên tạo một ma trận vuông cấp n, bao gồm các phần tử, là những số nguyên ngẫu nhiên trong khoảng [0-100]**"
   ]
  },
  {
   "cell_type": "code",
   "execution_count": 24,
   "metadata": {},
   "outputs": [
    {
     "name": "stdout",
     "output_type": "stream",
     "text": [
      "Nhâp n: 10\n",
      "Ma trận vừa tạo: \n",
      " [[ 91  84  70  58  94   6  78  45  28  66]\n",
      " [ 94  65  84   2  85  11  50  43  52  72]\n",
      " [ 62   5  71  98  85  86  59  59   9  81]\n",
      " [  5  64  88  26   9  33  37   2  27  94]\n",
      " [ 54  20  59  67  27  56  14  36  93  13]\n",
      " [ 62  45  51  46  56  94  74  53  30  64]\n",
      " [ 92  24  37  15   0  58  38  24   9 100]\n",
      " [ 20   1  74  66  62  78   6  23  56  57]\n",
      " [ 45  78  41  56  60  43  74   7  28  74]\n",
      " [ 13  42  79  14  43  95  37  75  77  22]]\n"
     ]
    }
   ],
   "source": [
    "#{HỌC VIÊN VIẾT CODE VÀO ĐÂY}\n",
    "\n",
    "import numpy as np\n",
    "n = int(input(\"Nhâp n: \"))\n",
    "matrix_square = np.random.randint(0,101,(n,n))\n",
    "\n",
    "print(\"Ma trận vừa tạo: \\n\", matrix_square)\n",
    "\n",
    "\n",
    "\n"
   ]
  },
  {
   "cell_type": "code",
   "execution_count": null,
   "metadata": {},
   "outputs": [],
   "source": []
  },
  {
   "cell_type": "markdown",
   "metadata": {},
   "source": [
    "**YÊU CẦU 2: Sử dụng ma trận tạo được trong yêu cầu 1, Học viên tạo 2 vector như sau:**\n",
    "\n",
    "**v_chinh:** bao gồm các phần tử nằm trên đường chéo chính của ma trận.\n",
    "\n",
    "**V_phu:** bao gồm các phần tử nằm trên đường chéo phụ của ma trận"
   ]
  },
  {
   "cell_type": "code",
   "execution_count": 25,
   "metadata": {},
   "outputs": [
    {
     "name": "stdout",
     "output_type": "stream",
     "text": [
      "v_chinh: \n",
      " [91 65 71 26 27 94 38 23 28 22]\n",
      "V_phu: \n",
      " [13 78 74 15 56 56 37 59 52 66]\n"
     ]
    }
   ],
   "source": [
    "#{HỌC VIÊN VIẾT CODE VÀO ĐÂY}\n",
    "\n",
    "import numpy as np\n",
    "\n",
    "v_chinh = np.array([],dtype = np.int8)\n",
    "V_phu = np.array([],dtype = np.int8)\n",
    "\n",
    "for i in range(0,n):\n",
    "    v_chinh = np.append(v_chinh,[matrix_square[i,i]])\n",
    "    V_phu = np.append(V_phu,[matrix_square[n-i-1,i]])\n",
    "    \n",
    "print(\"v_chinh: \\n\", v_chinh)\n",
    "print(\"V_phu: \\n\", V_phu)\n",
    "\n",
    "\n"
   ]
  },
  {
   "cell_type": "code",
   "execution_count": null,
   "metadata": {},
   "outputs": [],
   "source": []
  },
  {
   "cell_type": "markdown",
   "metadata": {},
   "source": [
    "**YÊU CẦU 3: Nhập vào số nguyên x bất kỳ trong khoảng (0-100), đếm xem có bao nhiêu phần tử trong ma trận sinh ra ở yêu cầu 1 có giá trị bằng x, lớn hơn x, nhỏ hơn x và hiển thị kết quả:**"
   ]
  },
  {
   "cell_type": "code",
   "execution_count": 26,
   "metadata": {},
   "outputs": [
    {
     "name": "stdout",
     "output_type": "stream",
     "text": [
      "Nhập x:60\n",
      "Số phần tử có giá trị bằng  60 : 1\n",
      "Số phần tử có giá trị lớn hơn  60 : 39\n",
      "Số phần tử có giá trị nhỏ hơn  60 : 60\n"
     ]
    }
   ],
   "source": [
    "#{HỌC VIÊN VIẾT CODE VÀO ĐÂY}\n",
    "\n",
    "x = int(input(\"Nhập x:\"))\n",
    "a,b,c = 0, 0, 0;\n",
    "\n",
    "a = len(matrix_square[matrix_square > x])\n",
    "b = len(matrix_square[matrix_square == x])\n",
    "c = len(matrix_square[matrix_square < x])\n",
    "\n",
    "\n",
    "print(\"Số phần tử có giá trị bằng \",x,\":\", b)\n",
    "print(\"Số phần tử có giá trị lớn hơn \",x,\":\", a)\n",
    "print(\"Số phần tử có giá trị nhỏ hơn \",x,\":\", c)\n",
    "\n"
   ]
  },
  {
   "cell_type": "code",
   "execution_count": 31,
   "metadata": {},
   "outputs": [
    {
     "name": "stdout",
     "output_type": "stream",
     "text": [
      "39\n"
     ]
    }
   ],
   "source": [
    "a = np.where(matrix_square > x)\n",
    "b = np.where(matrix_square == x)\n",
    "c = np.where(matrix_square < x)\n",
    "\n",
    "print(a[0].size)"
   ]
  },
  {
   "cell_type": "markdown",
   "metadata": {
    "colab_type": "text",
    "id": "yXwnkCYJk2FE"
   },
   "source": [
    "## 4) Tính toán các đặc trưng thống kê trong mảng\n",
    "---\n",
    "https://numpy.org/devdocs/reference/routines.statistics.html\n",
    "\n",
    "<img src='Pic\\math.png' width='300px'>\n",
    "\n",
    "Toán học và thống kê có một vai trò rất quan trọng trong khoa học dữ liệu!\n"
   ]
  },
  {
   "cell_type": "markdown",
   "metadata": {},
   "source": [
    "### 4.1) Min - Max\n",
    "---"
   ]
  },
  {
   "cell_type": "code",
   "execution_count": 14,
   "metadata": {},
   "outputs": [
    {
     "name": "stdout",
     "output_type": "stream",
     "text": [
      "[45 56 55 60 48 55 78 61 55 67 59 65 58]\n",
      "Đàn lợn có tổng số: 13  con lợn\n"
     ]
    }
   ],
   "source": [
    "#Khởi tạo 1 vector ví dụ:\n",
    "vector_pig = np.array([45,56,55,60,48,55,78,61,55,67,59,65,58])\n",
    "print(vector_pig)\n",
    "print(\"Đàn lợn có tổng số:\", vector_pig.size, \" con lợn\")"
   ]
  },
  {
   "cell_type": "code",
   "execution_count": 15,
   "metadata": {},
   "outputs": [
    {
     "data": {
      "text/plain": [
       "78"
      ]
     },
     "execution_count": 15,
     "metadata": {},
     "output_type": "execute_result"
    }
   ],
   "source": [
    "#Tìm con lợn có cân nặng Max\n",
    "vector_pig.max()"
   ]
  },
  {
   "cell_type": "code",
   "execution_count": 16,
   "metadata": {},
   "outputs": [
    {
     "data": {
      "text/plain": [
       "45"
      ]
     },
     "execution_count": 16,
     "metadata": {},
     "output_type": "execute_result"
    }
   ],
   "source": [
    "#Tìm con lợn có cần nặng Min\n",
    "vector_pig.min()"
   ]
  },
  {
   "cell_type": "code",
   "execution_count": 17,
   "metadata": {},
   "outputs": [
    {
     "data": {
      "text/plain": [
       "762"
      ]
     },
     "execution_count": 17,
     "metadata": {},
     "output_type": "execute_result"
    }
   ],
   "source": [
    "#Tính tổng số kg của cả đàn:\n",
    "vector_pig.sum()"
   ]
  },
  {
   "cell_type": "code",
   "execution_count": 18,
   "metadata": {},
   "outputs": [
    {
     "data": {
      "text/plain": [
       "58.6"
      ]
     },
     "execution_count": 18,
     "metadata": {},
     "output_type": "execute_result"
    }
   ],
   "source": [
    "#Tính số cân nặng trung bình của từng con lợn:\n",
    "round(vector_pig.mean(),1)"
   ]
  },
  {
   "cell_type": "code",
   "execution_count": 19,
   "metadata": {},
   "outputs": [
    {
     "data": {
      "text/plain": [
       "58.0"
      ]
     },
     "execution_count": 19,
     "metadata": {},
     "output_type": "execute_result"
    }
   ],
   "source": [
    "#Median: Trung vị\n",
    "np.median(vector_pig)"
   ]
  },
  {
   "cell_type": "code",
   "execution_count": 20,
   "metadata": {},
   "outputs": [
    {
     "name": "stdout",
     "output_type": "stream",
     "text": [
      "Ban đầu: [45 56 55 60 48 55 78 61 55 67 59 65 58]\n",
      "Sắp xếp: [45 48 55 55 55 56 58 59 60 61 65 67 78]\n"
     ]
    }
   ],
   "source": [
    "print('Ban đầu:', vector_pig)\n",
    "print('Sắp xếp:',np.sort(vector_pig))"
   ]
  },
  {
   "cell_type": "code",
   "execution_count": 22,
   "metadata": {},
   "outputs": [
    {
     "name": "stdout",
     "output_type": "stream",
     "text": [
      "[45 56 55 60 48 55 78 61 55 67 59 65 58 60]\n",
      "Tổng số:  [45 56 55 60 48 55 78 61 55 67 59 65 58]\n"
     ]
    }
   ],
   "source": [
    "#Tạo 1 vectỏ có số phần tử chẵn\n",
    "vector_pig2 = np.array([45,56,55,60,48,55,78,61,55,67,59,65,58,60])\n",
    "print(vector_pig2)\n",
    "print('Tổng số: ', vector_pig)\n"
   ]
  },
  {
   "cell_type": "code",
   "execution_count": 23,
   "metadata": {},
   "outputs": [
    {
     "name": "stdout",
     "output_type": "stream",
     "text": [
      "Ban đầu: [45 56 55 60 48 55 78 61 55 67 59 65 58 60]\n",
      "Sắp xếp: [45 48 55 55 55 56 58 59 60 60 61 65 67 78]\n",
      "Trung vị: 58.5\n"
     ]
    }
   ],
   "source": [
    "print('Ban đầu:',vector_pig2)\n",
    "print('Sắp xếp:',np.sort(vector_pig2))\n",
    "print('Trung vị:',np.median(vector_pig2))"
   ]
  },
  {
   "cell_type": "code",
   "execution_count": 24,
   "metadata": {},
   "outputs": [
    {
     "data": {
      "text/plain": [
       "ModeResult(mode=array([55]), count=array([3]))"
      ]
     },
     "execution_count": 24,
     "metadata": {},
     "output_type": "execute_result"
    }
   ],
   "source": [
    "#Phần tử xuất hiện nhều nhất: Mode\n",
    "from scipy import stats as sp\n",
    "sp.mode(vector_pig2)"
   ]
  },
  {
   "cell_type": "code",
   "execution_count": 25,
   "metadata": {},
   "outputs": [
    {
     "name": "stdout",
     "output_type": "stream",
     "text": [
      "33\n"
     ]
    }
   ],
   "source": [
    "#Phạm vi - Khoảng cách giữa Max - Min: Range = Max - Min\n",
    "rag1 = vector_pig.max() - vector_pig.min()\n",
    "print(rag1)"
   ]
  },
  {
   "cell_type": "code",
   "execution_count": null,
   "metadata": {},
   "outputs": [],
   "source": []
  },
  {
   "cell_type": "code",
   "execution_count": null,
   "metadata": {},
   "outputs": [],
   "source": []
  },
  {
   "cell_type": "code",
   "execution_count": null,
   "metadata": {},
   "outputs": [],
   "source": []
  },
  {
   "cell_type": "code",
   "execution_count": null,
   "metadata": {},
   "outputs": [],
   "source": []
  },
  {
   "cell_type": "code",
   "execution_count": null,
   "metadata": {},
   "outputs": [],
   "source": []
  },
  {
   "cell_type": "code",
   "execution_count": 110,
   "metadata": {},
   "outputs": [
    {
     "name": "stdout",
     "output_type": "stream",
     "text": [
      "BẢNG ĐIỂM CỦA LỚP 2A:\n",
      "[[ 2  4  3  7  5  6  5  6  8  9  3  6  1  9  8  7  3  3  9  5]\n",
      " [ 3  5  3 10  9  1  9  8  3  1  6  0  7 10  8  5  2  7  7  1]\n",
      " [ 1 10  4  9  6  9  0  2  3  1  8  6  8  4  2  9  2  9  5  0]\n",
      " [ 6  3  0  8  3  7  7  2  6  8  7  3  4  1  5  9  1  0  2 10]\n",
      " [ 4  3  6  7  4  5  2  6  9  4  3  9  9  4  5  7  2 10  9  4]\n",
      " [ 2  3  8 10  4  5  9  5  4  7 10  1  8  4  3  9  6  3  6  7]\n",
      " [ 9  9  1 10  9  9  5  9  6  3  9  5  1 10  7 10  2  8  8  1]\n",
      " [ 8  8  7  8  6  7  7  8  6  7  8  6  7  6  8  8  7  6  8  8]\n",
      " [ 6  7  8  9 10  9  2  2  6  1 10  9  6  3  9  5  9  8  1  1]\n",
      " [ 7  8  7  8  6 10 10  6  8 10  8  9  8  8  5 10  8  7  8  7]]\n"
     ]
    }
   ],
   "source": [
    "print('BẢNG ĐIỂM CỦA LỚP 2A:')\n",
    "print(diem_2a)"
   ]
  },
  {
   "cell_type": "code",
   "execution_count": 111,
   "metadata": {},
   "outputs": [
    {
     "name": "stdout",
     "output_type": "stream",
     "text": [
      "Điểm cao nhất của lớp: 10\n",
      "Điểm thấp nhất của lớp: 0\n"
     ]
    }
   ],
   "source": [
    "#Max - Min: Xác định giá trị lớn nhất, nhỏ nhất:\n",
    "#1) Hiển thị điểm cao nhất, thấp nhất của lớp 2A\n",
    "print('Điểm cao nhất của lớp:',diem_2a.max())\n",
    "print('Điểm thấp nhất của lớp:',diem_2a.min())"
   ]
  },
  {
   "cell_type": "code",
   "execution_count": 112,
   "metadata": {},
   "outputs": [
    {
     "data": {
      "text/plain": [
       "(10, 20)"
      ]
     },
     "execution_count": 112,
     "metadata": {},
     "output_type": "execute_result"
    }
   ],
   "source": [
    "diem_2a.shape"
   ]
  },
  {
   "cell_type": "code",
   "execution_count": 113,
   "metadata": {
    "colab": {},
    "colab_type": "code",
    "id": "idOxcfxek6Nl"
   },
   "outputs": [
    {
     "name": "stdout",
     "output_type": "stream",
     "text": [
      "Môn  0 : Điểm Max:  9 -- Điểm Min: 1\n",
      "Môn  1 : Điểm Max:  10 -- Điểm Min: 0\n",
      "Môn  2 : Điểm Max:  10 -- Điểm Min: 0\n",
      "Môn  3 : Điểm Max:  10 -- Điểm Min: 0\n",
      "Môn  4 : Điểm Max:  10 -- Điểm Min: 2\n",
      "Môn  5 : Điểm Max:  10 -- Điểm Min: 1\n",
      "Môn  6 : Điểm Max:  10 -- Điểm Min: 1\n",
      "Môn  7 : Điểm Max:  8 -- Điểm Min: 6\n",
      "Môn  8 : Điểm Max:  10 -- Điểm Min: 1\n",
      "Môn  9 : Điểm Max:  10 -- Điểm Min: 5\n"
     ]
    }
   ],
   "source": [
    "#2) Liệt kê điểm cao nhất và thấp nhất theo môn học\n",
    "for i in range(0,diem_2a.shape[0]):\n",
    "  print('Môn ', i,': Điểm Max: ', diem_2a[i,:].max(),\n",
    "                 '-- Điểm Min:',diem_2a[i,:].min())"
   ]
  },
  {
   "cell_type": "code",
   "execution_count": 114,
   "metadata": {},
   "outputs": [
    {
     "name": "stdout",
     "output_type": "stream",
     "text": [
      "Điểm max:  [ 9 10  8 10 10 10 10  9  9 10 10  9  9 10  9 10  9 10  9 10]\n",
      "Điểm Min:  [1 3 0 7 3 1 0 2 3 1 3 0 1 1 2 5 1 0 1 0]\n"
     ]
    }
   ],
   "source": [
    "#CÁCH 2:\n",
    "#phần tử max theo cột\n",
    "max_mh = diem_2a.max(axis=0)\n",
    "print('Điểm max: ', max_mh)\n",
    "\n",
    "#phần tử min theo cột\n",
    "min_mh = diem_2a.min(axis=0)\n",
    "print('Điểm Min: ', min_mh)"
   ]
  },
  {
   "cell_type": "markdown",
   "metadata": {},
   "source": [
    "* axis=0: Xử lý các phần tử theo hàng\n",
    "* axis=1: Xử lý các phần tử theo cột\n",
    "<img src='Pic\\pic.jpg' width='400px'>"
   ]
  },
  {
   "cell_type": "code",
   "execution_count": 115,
   "metadata": {},
   "outputs": [
    {
     "data": {
      "text/plain": [
       "(10, 20)"
      ]
     },
     "execution_count": 115,
     "metadata": {},
     "output_type": "execute_result"
    }
   ],
   "source": [
    "diem_2a.shape"
   ]
  },
  {
   "cell_type": "code",
   "execution_count": 116,
   "metadata": {},
   "outputs": [
    {
     "name": "stdout",
     "output_type": "stream",
     "text": [
      "Học sinh  0 : Điểm Max:  9 -- Điểm Min: 1\n",
      "Học sinh  1 : Điểm Max:  10 -- Điểm Min: 3\n",
      "Học sinh  2 : Điểm Max:  8 -- Điểm Min: 0\n",
      "Học sinh  3 : Điểm Max:  10 -- Điểm Min: 7\n",
      "Học sinh  4 : Điểm Max:  10 -- Điểm Min: 3\n",
      "Học sinh  5 : Điểm Max:  10 -- Điểm Min: 1\n",
      "Học sinh  6 : Điểm Max:  10 -- Điểm Min: 0\n",
      "Học sinh  7 : Điểm Max:  9 -- Điểm Min: 2\n",
      "Học sinh  8 : Điểm Max:  9 -- Điểm Min: 3\n",
      "Học sinh  9 : Điểm Max:  10 -- Điểm Min: 1\n",
      "Học sinh  10 : Điểm Max:  10 -- Điểm Min: 3\n",
      "Học sinh  11 : Điểm Max:  9 -- Điểm Min: 0\n",
      "Học sinh  12 : Điểm Max:  9 -- Điểm Min: 1\n",
      "Học sinh  13 : Điểm Max:  10 -- Điểm Min: 1\n",
      "Học sinh  14 : Điểm Max:  9 -- Điểm Min: 2\n",
      "Học sinh  15 : Điểm Max:  10 -- Điểm Min: 5\n",
      "Học sinh  16 : Điểm Max:  9 -- Điểm Min: 1\n",
      "Học sinh  17 : Điểm Max:  10 -- Điểm Min: 0\n",
      "Học sinh  18 : Điểm Max:  9 -- Điểm Min: 1\n",
      "Học sinh  19 : Điểm Max:  10 -- Điểm Min: 0\n"
     ]
    }
   ],
   "source": [
    "#3) Liệt kê điểm cao nhất và thấp nhất của mỗi học sinh\n",
    "for i in range(0,diem_2a.shape[1]):\n",
    "    print('Học sinh ', i,': Điểm Max: ', diem_2a[:,i].max(),\n",
    "                      '-- Điểm Min:',diem_2a[:,i].min())"
   ]
  },
  {
   "cell_type": "code",
   "execution_count": 117,
   "metadata": {},
   "outputs": [
    {
     "name": "stdout",
     "output_type": "stream",
     "text": [
      "Điểm max:  [ 9 10  8 10 10 10 10  9  9 10 10  9  9 10  9 10  9 10  9 10]\n",
      "Điểm Min:  [1 3 0 7 3 1 0 2 3 1 3 0 1 1 2 5 1 0 1 0]\n"
     ]
    }
   ],
   "source": [
    "#phần tử max theo cột\n",
    "max_mh = diem_2a.max(axis=0)\n",
    "print('Điểm max: ', max_mh)\n",
    "\n",
    "#phần tử min theo cột\n",
    "min_mh = diem_2a.min(axis=0)\n",
    "print('Điểm Min: ', min_mh)"
   ]
  },
  {
   "cell_type": "code",
   "execution_count": 118,
   "metadata": {
    "colab": {},
    "colab_type": "code",
    "id": "cWrmdj56mIJS"
   },
   "outputs": [
    {
     "name": "stdout",
     "output_type": "stream",
     "text": [
      "10\n",
      "7\n"
     ]
    }
   ],
   "source": [
    "#YÊU CẦU: HIỂN THỊ ĐIỂM CAO NHẤT VÀ THẤP NHẤT CỦA HỌC SINH Ở VỊ TRÍ THỨ 4 \n",
    "#Kết quả hiển thị như sau:\n",
    "#\"Điểm Max và Min của học sinh thứ 4: 10.0  điểm -  7.0  điểm\"\n",
    "#{Sinh viên viết code ở đây:}\n",
    "print(diem_2a[:,3].max())\n",
    "print(diem_2a[:,3].min())"
   ]
  },
  {
   "cell_type": "markdown",
   "metadata": {},
   "source": [
    "### 4.2) Sum\n",
    "---"
   ]
  },
  {
   "cell_type": "code",
   "execution_count": null,
   "metadata": {},
   "outputs": [],
   "source": [
    "diem_2a"
   ]
  },
  {
   "cell_type": "code",
   "execution_count": 119,
   "metadata": {
    "colab": {
     "base_uri": "https://localhost:8080/",
     "height": 538
    },
    "colab_type": "code",
    "id": "Go7CfJ4fNJ04",
    "outputId": "7b0cd976-0a95-4ed0-aa29-1f7f5e44eff6"
   },
   "outputs": [
    {
     "name": "stdout",
     "output_type": "stream",
     "text": [
      "Tổng tất các điểm trong của lớp 2A: 1184\n",
      "---------------------------------------------------\n",
      "Tổng điểm các môn của học sinh  0  :  48\n",
      "Tổng điểm các môn của học sinh  1  :  60\n",
      "Tổng điểm các môn của học sinh  2  :  47\n",
      "Tổng điểm các môn của học sinh  3  :  86\n",
      "Tổng điểm các môn của học sinh  4  :  62\n",
      "Tổng điểm các môn của học sinh  5  :  68\n",
      "Tổng điểm các môn của học sinh  6  :  56\n",
      "Tổng điểm các môn của học sinh  7  :  54\n",
      "Tổng điểm các môn của học sinh  8  :  59\n",
      "Tổng điểm các môn của học sinh  9  :  51\n",
      "Tổng điểm các môn của học sinh  10  :  72\n",
      "Tổng điểm các môn của học sinh  11  :  54\n",
      "Tổng điểm các môn của học sinh  12  :  59\n",
      "Tổng điểm các môn của học sinh  13  :  59\n",
      "Tổng điểm các môn của học sinh  14  :  60\n",
      "Tổng điểm các môn của học sinh  15  :  79\n",
      "Tổng điểm các môn của học sinh  16  :  42\n",
      "Tổng điểm các môn của học sinh  17  :  61\n",
      "Tổng điểm các môn của học sinh  18  :  63\n",
      "Tổng điểm các môn của học sinh  19  :  44\n"
     ]
    }
   ],
   "source": [
    "#Sum:Tính tổng các phần tử trong mảng\n",
    "print('Tổng tất các điểm trong của lớp 2A:', diem_2a.sum())\n",
    "print('---------------------------------------------------')\n",
    "\n",
    "#Tính tổng điểm của từng học sinh:\n",
    "for i in range(0,diem_2a.shape[1]):\n",
    "    print('Tổng điểm các môn của học sinh ', i,' : ', diem_2a[:,i].sum())"
   ]
  },
  {
   "cell_type": "code",
   "execution_count": 120,
   "metadata": {},
   "outputs": [
    {
     "data": {
      "text/plain": [
       "array([48, 60, 47, 86, 62, 68, 56, 54, 59, 51, 72, 54, 59, 59, 60, 79, 42,\n",
       "       61, 63, 44])"
      ]
     },
     "execution_count": 120,
     "metadata": {},
     "output_type": "execute_result"
    }
   ],
   "source": [
    "np.sum(diem_2a,axis=0)"
   ]
  },
  {
   "cell_type": "code",
   "execution_count": 121,
   "metadata": {},
   "outputs": [
    {
     "data": {
      "text/plain": [
       "array([109, 105,  98,  92, 112, 114, 131, 144, 121, 158])"
      ]
     },
     "execution_count": 121,
     "metadata": {},
     "output_type": "execute_result"
    }
   ],
   "source": [
    "np.sum(diem_2a,axis=1)"
   ]
  },
  {
   "cell_type": "markdown",
   "metadata": {},
   "source": [
    "### 4.3) Mean, Median, Mode, Range\n",
    "---\n",
    "<img src='Pic/Math1.png' width='500px'>"
   ]
  },
  {
   "cell_type": "code",
   "execution_count": 122,
   "metadata": {
    "colab": {},
    "colab_type": "code",
    "id": "GhKA_wR4rF_P"
   },
   "outputs": [
    {
     "name": "stdout",
     "output_type": "stream",
     "text": [
      "Điểm trung bình của cả lớp 2A: 5.92\n",
      "---------------------------------------------\n",
      "Điểm trung bình của học sinh  0  :  4.8\n",
      "Điểm trung bình của học sinh  1  :  6.0\n",
      "Điểm trung bình của học sinh  2  :  4.7\n",
      "Điểm trung bình của học sinh  3  :  8.6\n",
      "Điểm trung bình của học sinh  4  :  6.2\n",
      "Điểm trung bình của học sinh  5  :  6.8\n",
      "Điểm trung bình của học sinh  6  :  5.6\n",
      "Điểm trung bình của học sinh  7  :  5.4\n",
      "Điểm trung bình của học sinh  8  :  5.9\n",
      "Điểm trung bình của học sinh  9  :  5.1\n",
      "Điểm trung bình của học sinh  10  :  7.2\n",
      "Điểm trung bình của học sinh  11  :  5.4\n",
      "Điểm trung bình của học sinh  12  :  5.9\n",
      "Điểm trung bình của học sinh  13  :  5.9\n",
      "Điểm trung bình của học sinh  14  :  6.0\n",
      "Điểm trung bình của học sinh  15  :  7.9\n",
      "Điểm trung bình của học sinh  16  :  4.2\n",
      "Điểm trung bình của học sinh  17  :  6.1\n",
      "Điểm trung bình của học sinh  18  :  6.3\n",
      "Điểm trung bình của học sinh  19  :  4.4\n"
     ]
    }
   ],
   "source": [
    "# A) mean: Giá trị trung bình của mảng a\n",
    "print('Điểm trung bình của cả lớp 2A:', diem_2a.mean())\n",
    "print('---------------------------------------------')\n",
    "#Tính điểm trung bình của các học sinh trong lớp:\n",
    "#CÁCH 1: \n",
    "for i in range(0,diem_2a.shape[1]):\n",
    "  print('Điểm trung bình của học sinh ', i,' : ', diem_2a[:,i].mean())"
   ]
  },
  {
   "cell_type": "code",
   "execution_count": 123,
   "metadata": {
    "colab": {},
    "colab_type": "code",
    "id": "CDNc1EmxsOCY"
   },
   "outputs": [
    {
     "name": "stdout",
     "output_type": "stream",
     "text": [
      "[4.8 6.  4.7 8.6 6.2 6.8 5.6 5.4 5.9 5.1 7.2 5.4 5.9 5.9 6.  7.9 4.2 6.1\n",
      " 6.3 4.4]\n",
      "Điểm trung bình của học sinh  0  :  4.8\n",
      "Điểm trung bình của học sinh  1  :  6.0\n",
      "Điểm trung bình của học sinh  2  :  4.7\n",
      "Điểm trung bình của học sinh  3  :  8.6\n",
      "Điểm trung bình của học sinh  4  :  6.2\n",
      "Điểm trung bình của học sinh  5  :  6.8\n",
      "Điểm trung bình của học sinh  6  :  5.6\n",
      "Điểm trung bình của học sinh  7  :  5.4\n",
      "Điểm trung bình của học sinh  8  :  5.9\n",
      "Điểm trung bình của học sinh  9  :  5.1\n",
      "Điểm trung bình của học sinh  10  :  7.2\n",
      "Điểm trung bình của học sinh  11  :  5.4\n",
      "Điểm trung bình của học sinh  12  :  5.9\n",
      "Điểm trung bình của học sinh  13  :  5.9\n",
      "Điểm trung bình của học sinh  14  :  6.0\n",
      "Điểm trung bình của học sinh  15  :  7.9\n",
      "Điểm trung bình của học sinh  16  :  4.2\n",
      "Điểm trung bình của học sinh  17  :  6.1\n",
      "Điểm trung bình của học sinh  18  :  6.3\n",
      "Điểm trung bình của học sinh  19  :  4.4\n"
     ]
    }
   ],
   "source": [
    "#Tính điểm trung bình của các học sinh trong lớp:\n",
    "#CÁCH 2: \n",
    "mean_2a = diem_2a.mean(axis=0)\n",
    "print(mean_2a)\n",
    "#axis = 0: theo hàng\n",
    "#axis = 1: theo cột\n",
    "for i in range(0,mean_2a.size):\n",
    "  print('Điểm trung bình của học sinh ', i,' : ', mean_2a[i])"
   ]
  },
  {
   "cell_type": "code",
   "execution_count": 124,
   "metadata": {
    "colab": {
     "base_uri": "https://localhost:8080/",
     "height": 134
    },
    "colab_type": "code",
    "id": "cq-jzNk71NOT",
    "outputId": "da72d089-8cdf-4567-dffc-582541562d0c"
   },
   "outputs": [
    {
     "name": "stdout",
     "output_type": "stream",
     "text": [
      "Mảng a ban đầu: \n",
      " [ 3  5  3 10  9  1  9  8  3  1  6  0  7 10  8]\n",
      "Số phần tử trong mảng a:  15\n",
      "Mảng a đã sắp xếp: \n",
      " [ 0  1  1  3  3  3  5  6  7  8  8  9  9 10 10]\n",
      "Giá trị trung bình mean: 5.533333333333333\n",
      "Giá trị trung vị median: 6.0\n"
     ]
    }
   ],
   "source": [
    "#B) median(): Giá trị trung vị trong một tập hợp các phần tử.\n",
    "#Trường hợp số phần tử trong mảng là lẻ\n",
    "a=diem_2a[1,:15]\n",
    "\n",
    "print('Mảng a ban đầu: \\n', a)\n",
    "print('Số phần tử trong mảng a: ', a.size)\n",
    "print('Mảng a đã sắp xếp: \\n',np.sort(a,))\n",
    "print('Giá trị trung bình mean:', np.mean(a))  \n",
    "print('Giá trị trung vị median:', np.median(a))"
   ]
  },
  {
   "cell_type": "code",
   "execution_count": 125,
   "metadata": {
    "colab": {
     "base_uri": "https://localhost:8080/",
     "height": 134
    },
    "colab_type": "code",
    "id": "igZocFli-ddl",
    "outputId": "7200a038-da85-4206-8f67-ab7c0b906289"
   },
   "outputs": [
    {
     "name": "stdout",
     "output_type": "stream",
     "text": [
      "Mảng a ban đầu: \n",
      " [ 9  1  1  8  4  7  3  7  1 10]\n",
      "Số phần tử trong mảng a:  10\n",
      "Mảng a đã sắp xếp: \n",
      " [ 1  1  1  3  4  7  7  8  9 10]\n",
      "Giá trị trung bình mean: 5.1\n",
      "Giá trị trung vị median: 5.5\n"
     ]
    }
   ],
   "source": [
    "#median(): Giá trị trung vị trong một tập hợp các phần tử.\n",
    "a=diem_2a[:,9]\n",
    "\n",
    "print('Mảng a ban đầu: \\n', a)\n",
    "print('Số phần tử trong mảng a: ', a.size)\n",
    "print('Mảng a đã sắp xếp: \\n',np.sort(a,))\n",
    "print('Giá trị trung bình mean:', np.mean(a))  \n",
    "print('Giá trị trung vị median:', np.median(a))"
   ]
  },
  {
   "cell_type": "code",
   "execution_count": null,
   "metadata": {},
   "outputs": [],
   "source": []
  },
  {
   "cell_type": "code",
   "execution_count": 126,
   "metadata": {
    "colab": {
     "base_uri": "https://localhost:8080/",
     "height": 202
    },
    "colab_type": "code",
    "id": "aZviHD9fBFOz",
    "outputId": "b7076f3b-60a8-4709-be12-de6ce393b078"
   },
   "outputs": [
    {
     "name": "stdout",
     "output_type": "stream",
     "text": [
      "Môn  0 : Điểm xuất hiện nhiều nhất:  [3]  số lần:  [4]\n",
      "Môn  1 : Điểm xuất hiện nhiều nhất:  [1]  số lần:  [3]\n",
      "Môn  2 : Điểm xuất hiện nhiều nhất:  [9]  số lần:  [4]\n",
      "Môn  3 : Điểm xuất hiện nhiều nhất:  [3]  số lần:  [3]\n",
      "Môn  4 : Điểm xuất hiện nhiều nhất:  [4]  số lần:  [5]\n",
      "Môn  5 : Điểm xuất hiện nhiều nhất:  [3]  số lần:  [3]\n",
      "Môn  6 : Điểm xuất hiện nhiều nhất:  [9]  số lần:  [6]\n",
      "Môn  7 : Điểm xuất hiện nhiều nhất:  [8]  số lần:  [9]\n",
      "Môn  8 : Điểm xuất hiện nhiều nhất:  [9]  số lần:  [5]\n",
      "Môn  9 : Điểm xuất hiện nhiều nhất:  [8]  số lần:  [8]\n",
      "<class 'scipy.stats.stats.ModeResult'>\n"
     ]
    }
   ],
   "source": [
    "#C) Mode: là giá trị xuất hiện nhiều nhất trong tập hợp. \n",
    "#Trong trường hợp không có giá trị nào được lặp lại thì không có Mode.\n",
    "#Liệt kê điểm xuất hiện nhiều nhất theo từng môn học\n",
    "from scipy import stats as sp #sử dụng thư viện scipy để dùng hàm mode\n",
    "\n",
    "for i in range(0,diem_2a.shape[0]):\n",
    "    a = sp.mode(diem_2a[i,:])\n",
    "    print('Môn ', i,': Điểm xuất hiện nhiều nhất: ', a[0],\n",
    "        ' số lần: ', a[1])\n",
    "print(type(a))"
   ]
  },
  {
   "cell_type": "code",
   "execution_count": 127,
   "metadata": {
    "colab": {},
    "colab_type": "code",
    "id": "YbE-5b0zIQGt"
   },
   "outputs": [
    {
     "name": "stdout",
     "output_type": "stream",
     "text": [
      "Độ chênh điểm của học sinh  0  :  8\n",
      "Độ chênh điểm của học sinh  1  :  7\n",
      "Độ chênh điểm của học sinh  2  :  8\n",
      "Độ chênh điểm của học sinh  3  :  3\n",
      "Độ chênh điểm của học sinh  4  :  7\n",
      "Độ chênh điểm của học sinh  5  :  9\n",
      "Độ chênh điểm của học sinh  6  :  10\n",
      "Độ chênh điểm của học sinh  7  :  7\n",
      "Độ chênh điểm của học sinh  8  :  6\n",
      "Độ chênh điểm của học sinh  9  :  9\n",
      "Độ chênh điểm của học sinh  10  :  7\n",
      "Độ chênh điểm của học sinh  11  :  9\n",
      "Độ chênh điểm của học sinh  12  :  8\n",
      "Độ chênh điểm của học sinh  13  :  9\n",
      "Độ chênh điểm của học sinh  14  :  7\n",
      "Độ chênh điểm của học sinh  15  :  5\n",
      "Độ chênh điểm của học sinh  16  :  8\n",
      "Độ chênh điểm của học sinh  17  :  10\n",
      "Độ chênh điểm của học sinh  18  :  8\n",
      "Độ chênh điểm của học sinh  19  :  10\n"
     ]
    }
   ],
   "source": [
    "#D) Range: là sự khác biệt, khoảng cách giữa phần tử dưới và phần tử trên, \n",
    "#giữa giá trị nhỏ nhất (Min) với giá trị lớn nhất (Max) trong tập hợp.\n",
    "#Xác định độ chênh điểm max - min của từng học sinh\n",
    "\n",
    "for i in range(0,diem_2a.shape[1]):\n",
    "    print('Độ chênh điểm của học sinh ', i,' : ',\n",
    "        diem_2a[:,i].max()-diem_2a[:,i].min())"
   ]
  },
  {
   "cell_type": "markdown",
   "metadata": {},
   "source": [
    "**Độ lệch chuẩn (standard deviation): Độ lệch tiêu chuẩn (standard deviation) là đại lượng thường được sử dụng để phản ánh mức độ phân tán của một biến số xung quanh số bình quân.**\n",
    "* Nếu độ lệch chuẩn bằng 0, suy ra các giá trị quan sát cũng chính là giá trị trung bình. Nói cách khác là không có sự biến thiên.\n",
    "* Nếu độ lệch chuẩn càng lớn, suy ra  sự biến thiên xung quanh giá trị trung bình càng lớn.\n",
    "\n",
    "<img src='pic\\std.png'>\n",
    "\n",
    "<img src='pic\\std1.png' width='400px'>"
   ]
  },
  {
   "cell_type": "code",
   "execution_count": 26,
   "metadata": {},
   "outputs": [
    {
     "name": "stdout",
     "output_type": "stream",
     "text": [
      "Phần tử của mảng a: [10  1  1  9 12  1  9 12 10]\n",
      "Giá trị trung bình: 7.222222222222222\n",
      "Độ lệch chuẩn: 4.516089207311461\n",
      "--------------------------------------------\n",
      "Phần tử của mảng b: [7 7 8 7 8 7 7 7 7]\n",
      "Giá trị trung bình: 7.222222222222222\n",
      "Độ lệch chuẩn: 0.41573970964154905\n"
     ]
    }
   ],
   "source": [
    "#E) Std: Tính độ lệch chuẩn\n",
    "a = np.array([10,1,1,9,12,1,9,12,10])\n",
    "print('Phần tử của mảng a:',a)\n",
    "print('Giá trị trung bình:',a.mean())\n",
    "print('Độ lệch chuẩn:',a.std())\n",
    "\n",
    "print('--------------------------------------------')\n",
    "b = np.array([7,7,8,7,8,7,7,7,7])\n",
    "print('Phần tử của mảng b:',b)\n",
    "print('Giá trị trung bình:',b.mean())\n",
    "print('Độ lệch chuẩn:',b.std())"
   ]
  },
  {
   "cell_type": "code",
   "execution_count": 129,
   "metadata": {
    "colab": {
     "base_uri": "https://localhost:8080/",
     "height": 521
    },
    "colab_type": "code",
    "id": "nuAUyO_ZVJSH",
    "outputId": "fc98ead3-315f-4cac-a034-09182727574d"
   },
   "outputs": [
    {
     "name": "stdout",
     "output_type": "stream",
     "text": [
      "Độ lệch chuẩn điểm của từng học sinh  0  :  2.638181191654584\n",
      "Độ lệch chuẩn điểm của từng học sinh  1  :  2.569046515733026\n",
      "Độ lệch chuẩn điểm của từng học sinh  2  :  2.758622844826744\n",
      "Độ lệch chuẩn điểm của từng học sinh  3  :  1.1135528725660042\n",
      "Độ lệch chuẩn điểm của từng học sinh  4  :  2.2715633383201093\n",
      "Độ lệch chuẩn điểm của từng học sinh  5  :  2.56124969497314\n",
      "Độ lệch chuẩn điểm của từng học sinh  6  :  3.2310988842807027\n",
      "Độ lệch chuẩn điểm của từng học sinh  7  :  2.4979991993593593\n",
      "Độ lệch chuẩn điểm của từng học sinh  8  :  1.9723082923316018\n",
      "Độ lệch chuẩn điểm của từng học sinh  9  :  3.3301651610693423\n",
      "Độ lệch chuẩn điểm của từng học sinh  10  :  2.4\n",
      "Độ lệch chuẩn điểm của từng học sinh  11  :  3.072458299147443\n",
      "Độ lệch chuẩn điểm của từng học sinh  12  :  2.7730849247724096\n",
      "Độ lệch chuẩn điểm của từng học sinh  13  :  3.014962686336267\n",
      "Độ lệch chuẩn điểm của từng học sinh  14  :  2.23606797749979\n",
      "Độ lệch chuẩn điểm của từng học sinh  15  :  1.7578395831246945\n",
      "Độ lệch chuẩn điểm của từng học sinh  16  :  2.8213471959331766\n",
      "Độ lệch chuẩn điểm của từng học sinh  17  :  2.981610303175115\n",
      "Độ lệch chuẩn điểm của từng học sinh  18  :  2.685144316419511\n",
      "Độ lệch chuẩn điểm của từng học sinh  19  :  3.352610922848042\n"
     ]
    }
   ],
   "source": [
    "#E) Std: độ lệch chuẩn\n",
    "#Tính độ lệch chuẩn điểm thi của từng học sinh\n",
    "hs_std = np.std(diem_2a,axis=0)\n",
    "for i in range(0,diem_2a.shape[1]):\n",
    "  print('Độ lệch chuẩn điểm của từng học sinh ', i,' : ', hs_std[i])"
   ]
  },
  {
   "cell_type": "code",
   "execution_count": null,
   "metadata": {},
   "outputs": [],
   "source": [
    "# Độ lệch chuẩn của điểm theo từng Học sinh\n",
    "# 1) Độ lệch chuẩn lớn nhất của điểm thi theo học sinh\n",
    "diem_2a.std(axis=0).max()"
   ]
  },
  {
   "cell_type": "code",
   "execution_count": null,
   "metadata": {},
   "outputs": [],
   "source": [
    "# Điểm của học sinh này\n",
    "diem_2a[:,19]"
   ]
  },
  {
   "cell_type": "code",
   "execution_count": null,
   "metadata": {},
   "outputs": [],
   "source": [
    "# 2) Độ lệch chuẩn nhỏ nhất của điểm thi theo học sinh\n",
    "diem_2a.std(axis=0).min()"
   ]
  },
  {
   "cell_type": "code",
   "execution_count": null,
   "metadata": {},
   "outputs": [],
   "source": [
    "# Điểm của học sinh này\n",
    "diem_2a[:,3]"
   ]
  },
  {
   "cell_type": "markdown",
   "metadata": {},
   "source": [
    "# Thực hành số 2:\n",
    "---\n",
    "**YÊU CẦU 1: Sử dụng dữ liệu bảng điểm của lớp 2A. Cho biết:**\n",
    "\n",
    "1. ĐTB của từng học sinh trong lớp.\n",
    "2. Học sinh có điểm TB cao nhất.\n",
    "3. Học sinh có điểm trung bình thấp nhất\n"
   ]
  },
  {
   "cell_type": "code",
   "execution_count": 15,
   "metadata": {},
   "outputs": [
    {
     "name": "stdout",
     "output_type": "stream",
     "text": [
      "------------------------------------------\n",
      "Điểm trung bình của học sinh 0 : 4.8\n",
      "Điểm trung bình của học sinh 1 : 6.0\n",
      "Điểm trung bình của học sinh 2 : 4.7\n",
      "Điểm trung bình của học sinh 3 : 8.6\n",
      "Điểm trung bình của học sinh 4 : 6.2\n",
      "Điểm trung bình của học sinh 5 : 6.8\n",
      "Điểm trung bình của học sinh 6 : 5.6\n",
      "Điểm trung bình của học sinh 7 : 5.4\n",
      "Điểm trung bình của học sinh 8 : 5.9\n",
      "Điểm trung bình của học sinh 9 : 5.1\n",
      "Điểm trung bình của học sinh 10 : 7.2\n",
      "Điểm trung bình của học sinh 11 : 5.4\n",
      "Điểm trung bình của học sinh 12 : 5.9\n",
      "Điểm trung bình của học sinh 13 : 5.9\n",
      "Điểm trung bình của học sinh 14 : 6.0\n",
      "Điểm trung bình của học sinh 15 : 7.9\n",
      "Điểm trung bình của học sinh 16 : 4.2\n",
      "Điểm trung bình của học sinh 17 : 6.1\n",
      "Điểm trung bình của học sinh 18 : 6.3\n",
      "Điểm trung bình của học sinh 19 : 4.4\n",
      "------------------------------------------\n",
      "Học sinh có điểm trung bình cao nhất: 8.6\n",
      "Học sinh có điểm trung bình thấp nhất: 4.2\n"
     ]
    }
   ],
   "source": [
    "#{HỌC VIÊN VIẾT CODE VÀO ĐÂY}\n",
    "import numpy as np\n",
    "\n",
    "path  ='Data/Diem_2A.txt'\n",
    "diem_2a = np.loadtxt(path,delimiter=',',dtype=np.int8)\n",
    "\n",
    "print('------------------------------------------')\n",
    "for i in range(0,diem_2a.shape[1]):\n",
    "  print('Điểm trung bình của học sinh', i,':', diem_2a[:,i].mean())\n",
    "\n",
    "print('------------------------------------------')\n",
    "print('Học sinh có điểm trung bình cao nhất:', diem_2a.mean(axis=0).max())\n",
    "print('Học sinh có điểm trung bình thấp nhất:', diem_2a.mean(axis=0).min())\n",
    "\n",
    "\n",
    "\n",
    "\n"
   ]
  },
  {
   "cell_type": "code",
   "execution_count": null,
   "metadata": {},
   "outputs": [],
   "source": []
  },
  {
   "cell_type": "markdown",
   "metadata": {},
   "source": [
    "**YÊU CẦU 2: Sử dụng dữ liệu bảng điểm của lớp 2A. Cho biết:**\n",
    "\n",
    "1. ĐTB của từng môn học.\n",
    "2. Môn học có điểm TB cao nhất.\n",
    "3. Môn học có điểm trung bình thấp nhất"
   ]
  },
  {
   "cell_type": "code",
   "execution_count": 16,
   "metadata": {},
   "outputs": [
    {
     "name": "stdout",
     "output_type": "stream",
     "text": [
      "------------------------------------------\n",
      "Điểm trung bình của môn học 0 : 5.45\n",
      "Điểm trung bình của môn học 1 : 5.25\n",
      "Điểm trung bình của môn học 2 : 4.9\n",
      "Điểm trung bình của môn học 3 : 4.6\n",
      "Điểm trung bình của môn học 4 : 5.6\n",
      "Điểm trung bình của môn học 5 : 5.7\n",
      "Điểm trung bình của môn học 6 : 6.55\n",
      "Điểm trung bình của môn học 7 : 7.2\n",
      "Điểm trung bình của môn học 8 : 6.05\n",
      "Điểm trung bình của môn học 9 : 7.9\n",
      "------------------------------------------\n",
      "Môn học có điểm trung bình cao nhất: 7.9\n",
      "Môn học có điểm trung bình thấp nhất: 4.6\n"
     ]
    }
   ],
   "source": [
    "#{HỌC VIÊN VIẾT CODE VÀO ĐÂY}\n",
    "\n",
    "print('------------------------------------------')\n",
    "for i in range(0,diem_2a.shape[0]):\n",
    "  print('Điểm trung bình của môn học', i,':', diem_2a[i,:].mean())\n",
    "print('------------------------------------------')\n",
    "print('Môn học có điểm trung bình cao nhất:', diem_2a.mean(axis=1).max())\n",
    "print('Môn học có điểm trung bình thấp nhất:', diem_2a.mean(axis=1).min())\n",
    "\n",
    "\n",
    "\n"
   ]
  },
  {
   "cell_type": "code",
   "execution_count": null,
   "metadata": {},
   "outputs": [],
   "source": []
  },
  {
   "cell_type": "markdown",
   "metadata": {},
   "source": [
    "#### **YÊU CẦU 3: Sử dụng dữ liệu bảng điểm của lớp 2A. Cho biết:**\n",
    "---\n",
    "1. Sinh viên có điểm đồng đều nhất tất cả các môn. Sinh viên có điểm các môn lệch nhất trong lớp.\n",
    "2. Môn học có điểm đồng đều nhất. Môn học có điểm chênh lệch nhất.\n",
    "\n"
   ]
  },
  {
   "cell_type": "code",
   "execution_count": 18,
   "metadata": {},
   "outputs": [
    {
     "name": "stdout",
     "output_type": "stream",
     "text": [
      "Sinh viên thứ 0 có điểm: 2.8659378918601845 đồng đều nhất lớp\n",
      "Sinh viên thứ 0 có điểm lệch nhất lớp\n",
      "Sinh viên thứ 1 có điểm: 2.8659378918601845 đồng đều nhất lớp\n",
      "Sinh viên thứ 1 có điểm lệch nhất lớp\n",
      "Sinh viên thứ 2 có điểm: 2.8659378918601845 đồng đều nhất lớp\n",
      "Sinh viên thứ 2 có điểm lệch nhất lớp\n",
      "Sinh viên thứ 3 có điểm: 2.8659378918601845 đồng đều nhất lớp\n",
      "Sinh viên thứ 3 có điểm lệch nhất lớp\n",
      "Sinh viên thứ 4 có điểm: 2.8659378918601845 đồng đều nhất lớp\n",
      "Sinh viên thứ 4 có điểm lệch nhất lớp\n",
      "Sinh viên thứ 5 có điểm: 2.8659378918601845 đồng đều nhất lớp\n",
      "Sinh viên thứ 5 có điểm lệch nhất lớp\n",
      "Sinh viên thứ 6 có điểm: 2.8659378918601845 đồng đều nhất lớp\n",
      "Sinh viên thứ 6 có điểm lệch nhất lớp\n",
      "Sinh viên thứ 7 có điểm: 2.8659378918601845 đồng đều nhất lớp\n",
      "Sinh viên thứ 7 có điểm lệch nhất lớp\n",
      "Sinh viên thứ 8 có điểm: 2.8659378918601845 đồng đều nhất lớp\n",
      "Sinh viên thứ 8 có điểm lệch nhất lớp\n",
      "Sinh viên thứ 9 có điểm: 2.8659378918601845 đồng đều nhất lớp\n",
      "Sinh viên thứ 9 có điểm lệch nhất lớp\n",
      "Sinh viên thứ 10 có điểm: 2.8659378918601845 đồng đều nhất lớp\n",
      "Sinh viên thứ 10 có điểm lệch nhất lớp\n",
      "Sinh viên thứ 11 có điểm: 2.8659378918601845 đồng đều nhất lớp\n",
      "Sinh viên thứ 11 có điểm lệch nhất lớp\n",
      "Sinh viên thứ 12 có điểm: 2.8659378918601845 đồng đều nhất lớp\n",
      "Sinh viên thứ 12 có điểm lệch nhất lớp\n",
      "Sinh viên thứ 13 có điểm: 2.8659378918601845 đồng đều nhất lớp\n",
      "Sinh viên thứ 13 có điểm lệch nhất lớp\n",
      "Sinh viên thứ 14 có điểm: 2.8659378918601845 đồng đều nhất lớp\n",
      "Sinh viên thứ 14 có điểm lệch nhất lớp\n",
      "Sinh viên thứ 15 có điểm: 2.8659378918601845 đồng đều nhất lớp\n",
      "Sinh viên thứ 15 có điểm lệch nhất lớp\n",
      "Sinh viên thứ 16 có điểm: 2.8659378918601845 đồng đều nhất lớp\n",
      "Sinh viên thứ 16 có điểm lệch nhất lớp\n",
      "Sinh viên thứ 17 có điểm: 2.8659378918601845 đồng đều nhất lớp\n",
      "Sinh viên thứ 17 có điểm lệch nhất lớp\n",
      "Sinh viên thứ 18 có điểm: 2.8659378918601845 đồng đều nhất lớp\n",
      "Sinh viên thứ 18 có điểm lệch nhất lớp\n",
      "Sinh viên thứ 19 có điểm: 2.8659378918601845 đồng đều nhất lớp\n",
      "Sinh viên thứ 19 có điểm lệch nhất lớp\n"
     ]
    }
   ],
   "source": [
    "#{HỌC VIÊN VIẾT CODE VÀO ĐÂY}\n",
    "\n",
    "for i in range(0,diem_2a.shape[1]):\n",
    "    if(diem_2a.std().min()):\n",
    "        print('Sinh viên thứ', i ,'có điểm:', diem_2a.std().min(),'đồng đều nhất lớp')\n",
    "        \n",
    "    if(diem_2a.std().max()):\n",
    "        print('Sinh viên thứ', i ,'có điểm:', diem_2a.std().max(),' lệch nhất lớp')\n",
    "\n",
    "\n"
   ]
  },
  {
   "cell_type": "code",
   "execution_count": null,
   "metadata": {},
   "outputs": [],
   "source": []
  },
  {
   "cell_type": "markdown",
   "metadata": {
    "colab": {},
    "colab_type": "code",
    "id": "mZjltyhGt0-l"
   },
   "source": [
    "## 5) Hệ số tương quan | corrcoef\n",
    "---\n",
    "\n",
    "Hệ số tương quan đo lường mức độ quan hệ tuyến tính giữa hai biến.\n",
    "* Hệ số tương quan không có đơn vị\n",
    "* Hệ số tương quan nằm trong khoảng [-1,1]\n",
    "<img src='Pic\\corr.png' width='400px'>\n",
    "<img src='Pic\\corr1.png' width='400px'>"
   ]
  },
  {
   "cell_type": "code",
   "execution_count": 27,
   "metadata": {
    "colab": {
     "base_uri": "https://localhost:8080/",
     "height": 84
    },
    "colab_type": "code",
    "id": "AzbLh8h1dDn7",
    "outputId": "e8263aac-7bd0-4114-d2a8-ab9386f6a67c"
   },
   "outputs": [
    {
     "name": "stdout",
     "output_type": "stream",
     "text": [
      "[[ 4  7  1  2  8  0  3  8  6]\n",
      " [ 7  9  3  4  9  0  5 10  8]]\n",
      "<class 'numpy.ndarray'>\n",
      "Hệ số tương quan: \n",
      " [[1.         0.96995403]\n",
      " [0.96995403 1.        ]]\n"
     ]
    }
   ],
   "source": [
    "import numpy as np\n",
    "#corrcoef: Hệ số tương quan\n",
    "\n",
    "#Thời gian dành cho học bài\n",
    "a_giohoc = np.array([4,7,1,2,8,0,3,8,6])\n",
    "\n",
    "#Điểm thi nhận được:\n",
    "b_diem   = np.array([7,9,3,4,9,0,5,10,8])\n",
    "\n",
    "print(np.asarray((a_giohoc,b_diem)))\n",
    "\n",
    "#Tính hệ số tương quan\n",
    "co = np.corrcoef(a_giohoc,b_diem)\n",
    "print(type(co))\n",
    "print('Hệ số tương quan: \\n', co)"
   ]
  },
  {
   "cell_type": "code",
   "execution_count": 29,
   "metadata": {
    "colab": {
     "base_uri": "https://localhost:8080/",
     "height": 297
    },
    "colab_type": "code",
    "id": "2M0_uFNSg7wa",
    "outputId": "3ce8e3f7-c30a-40d4-d5b7-2b92c26a89a8"
   },
   "outputs": [
    {
     "data": {
      "image/png": "[encoded data removed]",
      "text/plain": [
       "<Figure size 504x288 with 1 Axes>"
      ]
     },
     "metadata": {
      "needs_background": "light"
     },
     "output_type": "display_data"
    }
   ],
   "source": [
    "#Vẽ đồ thị mối quan hệ giữa thời gian học và điểm nhận được\n",
    "\n",
    "import matplotlib.pyplot as plt\n",
    "plt.figure(figsize=(7,4))\n",
    "plt.scatter(a_giohoc, b_diem, marker='o', color='b')\n",
    "\n",
    "plt.xlabel('Giờ học bài (tuần)', fontsize=10)\n",
    "plt.ylabel('Điểm môn học', fontsize=10)\n",
    "plt.title('BIỂU ĐỒ THỂ HIỆN MỐI TƯƠNG QUAN GIỮA GIỜ HỌC BÀI VÀ ĐIỂM THI')\n",
    "\n",
    "plt.grid(True)\n",
    "plt.show()"
   ]
  },
  {
   "cell_type": "code",
   "execution_count": null,
   "metadata": {
    "colab": {
     "base_uri": "https://localhost:8080/",
     "height": 67
    },
    "colab_type": "code",
    "id": "rQxsOLWSeJfn",
    "outputId": "f7d12246-8a86-4a58-9c54-4ed4d9719fc4"
   },
   "outputs": [],
   "source": [
    "#### Hệ số tương quan của Matrix\n",
    "a_hoc = np.array([[4,7,1,2,8,0,3,8,6],\n",
    "                 [7,9,3,4,9,0,5,10,8],\n",
    "                 [4,2,8,7,3,9,5,4,2]])\n",
    "\n",
    "#Tính hệ số tương quan theo từng hàng(rowvar=True| default)\n",
    "co = np.corrcoef(a_hoc,rowvar=True)\n",
    "print(a_hoc)\n",
    "print(type(co))\n",
    "print(co)"
   ]
  },
  {
   "cell_type": "code",
   "execution_count": null,
   "metadata": {},
   "outputs": [],
   "source": [
    "plt.figure(figsize=(7,4))\n",
    "plt.scatter(a_hoc[0,:], a_hoc[1,:], marker='o', color='b')\n",
    "plt.scatter(a_hoc[0,:], a_hoc[2,:], marker='s', color='r')\n",
    "plt.xlabel('Giờ học bài (tuần)', fontsize=10)\n",
    "plt.ylabel('Điểm môn học', fontsize=10)\n",
    "plt.title('BIỂU ĐỒ THỂ HIỆN MỐI TƯƠNG QUAN GIỮA GIỜ HỌC BÀI VÀ ĐIỂM THI')\n",
    "\n",
    "plt.grid(True)\n",
    "plt.show()"
   ]
  },
  {
   "cell_type": "markdown",
   "metadata": {},
   "source": [
    "# Ví dụ:\n",
    "---\n",
    "**Yêu cầu 1: Xác định hệ số tương quan giữa diện tích (1)  và giá bán nhà theo bảng số liệu:**\n",
    "<img src = 'Pic\\sl1.png' width='350px'>\n"
   ]
  },
  {
   "cell_type": "code",
   "execution_count": 28,
   "metadata": {},
   "outputs": [
    {
     "name": "stdout",
     "output_type": "stream",
     "text": [
      "<class 'numpy.ndarray'>\n",
      "Hệ số tương quan: \n",
      " [[1.         0.97846012]\n",
      " [0.97846012 1.        ]]\n"
     ]
    }
   ],
   "source": [
    "#{HỌC VIÊN VIẾT CODE VÀO ĐÂY}\n",
    "\n",
    "vector_dt = np.array([1460,2108,1743,1499,1864,2391,1977,1610,1530,1759,1821,2216])\n",
    "vector_gia = np.array([288.7,309.3,301.4,291.1,302.4,314.9,305.4,297.,292.4,298.2,304.3,311.7])\n",
    "\n",
    "co1 = np.corrcoef(vector_dt,vector_gia)\n",
    "print(type(co1))\n",
    "print('Hệ số tương quan: \\n', co1)\n",
    "\n",
    "\n"
   ]
  },
  {
   "cell_type": "code",
   "execution_count": 37,
   "metadata": {},
   "outputs": [
    {
     "data": {
      "image/png": "[encoded data removed]",
      "text/plain": [
       "<Figure size 504x360 with 1 Axes>"
      ]
     },
     "metadata": {
      "needs_background": "light"
     },
     "output_type": "display_data"
    }
   ],
   "source": [
    "import matplotlib.pyplot as plt\n",
    "plt.figure(figsize=(7,5))\n",
    "plt.scatter(vector_dt, vector_gia, marker='o', color='b')\n",
    "\n",
    "plt.xlabel('Diện tích', fontsize=10)\n",
    "plt.ylabel('Giá bán', fontsize=10)\n",
    "plt.title('BIỂU ĐỒ THỂ HIỆN MỐI TƯƠNG QUAN GIỮA DIỆN TÍCH VÀ GIÁ BÁN NHÀ')\n",
    "\n",
    "plt.grid(True)\n",
    "plt.show()"
   ]
  },
  {
   "cell_type": "markdown",
   "metadata": {},
   "source": [
    "**Yêu cầu 2: Xác định hệ số tương quan giữa Khoảng cách từ trung tâm thành phố (2) và giá bán nhà theo bảng số liệu:**\n",
    "<img src = 'Pic\\sl2.png' width='350px'>"
   ]
  },
  {
   "cell_type": "code",
   "execution_count": 12,
   "metadata": {},
   "outputs": [
    {
     "name": "stdout",
     "output_type": "stream",
     "text": [
      "<class 'numpy.ndarray'>\n",
      "Hệ số tương quan: \n",
      " [[ 1.        -0.7038066]\n",
      " [-0.7038066  1.       ]]\n"
     ]
    }
   ],
   "source": [
    "#{HỌC VIÊN VIẾT CODE VÀO ĐÂY}\n",
    "\n",
    "dis = np.array([2.6,.8,1.,.6,1.5,2.,3.4,1.2,3.6,1.7])\n",
    "pri = np.array([214,376,280,362,200,190,236,244,128,165])\n",
    "\n",
    "co2 = np.corrcoef(dis,pri)\n",
    "print(type(co2))\n",
    "print('Hệ số tương quan: \\n', co2)\n"
   ]
  },
  {
   "cell_type": "code",
   "execution_count": 13,
   "metadata": {},
   "outputs": [
    {
     "data": {
      "image/png": "[encoded data removed]",
      "text/plain": [
       "<Figure size 504x360 with 1 Axes>"
      ]
     },
     "metadata": {
      "needs_background": "light"
     },
     "output_type": "display_data"
    }
   ],
   "source": [
    "import matplotlib.pyplot as plt\n",
    "plt.figure(figsize=(7,5))\n",
    "plt.scatter(dis, pri, marker='o', color='b')\n",
    "\n",
    "plt.xlabel('', fontsize=10)\n",
    "plt.ylabel('Giá bán', fontsize=10)\n",
    "plt.title('BIỂU ĐỒ THỂ HIỆN MỐI TƯƠNG QUAN GIỮA DIỆN TÍCH VÀ GIÁ BÁN NHÀ')\n",
    "\n",
    "plt.grid(True)\n",
    "plt.show()"
   ]
  },
  {
   "cell_type": "markdown",
   "metadata": {},
   "source": [
    "## Thực hành số 4:\n",
    "---\n",
    "Mô tả file dữ liệu: Temp.txt (có trong thư mục Data)\n",
    "* File dữ liệu lưu trữ nhiệt độ (oC) của 6 thành phố lớn dọc theo nước Việt Nam là: Hà Nội, Vinh, Đà Nẵng, Nha trang, Hồ Chính Minh và Cà Mau\n",
    "* Thời gian từ 0h ngày 15/09/2019 tới 23h ngày 22/09/2019\n",
    "\n",
    "*Học viên xem mô tả chi tiết file dữ liệu trong slide Practice4*"
   ]
  },
  {
   "cell_type": "markdown",
   "metadata": {},
   "source": [
    "**Yêu cầu 4.1**: Đọc dữ liệu lưu trữ trong file Temp.txt vào biến mảng data_temp, cho biết kích thước, số chiều, kiểu dữ liệu và số phần tử của biến data_temp.\n"
   ]
  },
  {
   "cell_type": "code",
   "execution_count": 17,
   "metadata": {
    "scrolled": true
   },
   "outputs": [
    {
     "name": "stdout",
     "output_type": "stream",
     "text": [
      "Kích thước:  (192, 6)\n",
      "Số chiều:  2\n",
      "Kiểu dữ liệu:  float64\n",
      "Số phần tử:  1152\n"
     ]
    }
   ],
   "source": [
    "#{HỌC VIÊN VIẾT CODE VÀO ĐÂY}\n",
    "\n",
    "import numpy as np\n",
    "\n",
    "path = 'Data/Temp.txt'\n",
    "data_temp = np.loadtxt(path, delimiter=' ', dtype = np.float64)\n",
    "\n",
    "print('Kích thước: ',data_temp.shape)\n",
    "print('Số chiều: ',data_temp.ndim)\n",
    "print('Kiểu dữ liệu: ',data_temp.dtype)\n",
    "print('Số phần tử: ',data_temp.size)\n",
    "\n",
    "\n",
    "\n"
   ]
  },
  {
   "cell_type": "code",
   "execution_count": null,
   "metadata": {},
   "outputs": [],
   "source": []
  },
  {
   "cell_type": "markdown",
   "metadata": {},
   "source": [
    "**Yêu cầu 4.2**: Tìm nhiệt độ cao nhất (Max) – Thấp nhất (Min) – Nhiệt độ trung bình của cả tập dữ liệu.\n",
    "\n",
    "**Yêu cầu 4.3**: Tìm nhiệt độ cao nhất (Max) – Thấp nhất (Min) – Nhiệt độ trung bình của từng thành phố và hiển thị kết quả.\n"
   ]
  },
  {
   "cell_type": "code",
   "execution_count": 101,
   "metadata": {},
   "outputs": [
    {
     "name": "stdout",
     "output_type": "stream",
     "text": [
      "--------THỐNG KÊ CHO CẢ 6 THÀNH PHỐ--------\n",
      "Nhiệt độ cao nhất: 33.45\n",
      "Nhiệt độ thấp nhất: 20.93\n",
      "Nhiệt độ trung bình: 26.50222222222222\n",
      "--------------------------------------------\n",
      "1 ) Hà Nội \n",
      " Nhiệt độ cao nhất: 33.45 \n",
      " Nhiệt độ thấp nhất: 21.68 \n",
      " Nhiệt độ trung bình: 27.71\n",
      "2 ) Vinh \n",
      " Nhiệt độ cao nhất: 32.57 \n",
      " Nhiệt độ thấp nhất: 22.6 \n",
      " Nhiệt độ trung bình: 26.72\n",
      "3 ) Đà Nẵng \n",
      " Nhiệt độ cao nhất: 29.88 \n",
      " Nhiệt độ thấp nhất: 20.93 \n",
      " Nhiệt độ trung bình: 25.52\n",
      "4 ) Nha trang \n",
      " Nhiệt độ cao nhất: 28.68 \n",
      " Nhiệt độ thấp nhất: 24.5 \n",
      " Nhiệt độ trung bình: 26.17\n",
      "5 ) TP Hồ Chính Minh \n",
      " Nhiệt độ cao nhất: 31.06 \n",
      " Nhiệt độ thấp nhất: 23.22 \n",
      " Nhiệt độ trung bình: 26.16\n",
      "6 ) Cà Mau \n",
      " Nhiệt độ cao nhất: 31.37 \n",
      " Nhiệt độ thấp nhất: 23.99 \n",
      " Nhiệt độ trung bình: 26.73\n"
     ]
    }
   ],
   "source": [
    "#{HỌC VIÊN VIẾT CODE VÀO ĐÂY}\n",
    "\n",
    "print('--------THỐNG KÊ CHO CẢ 6 THÀNH PHỐ--------')\n",
    "print('Nhiệt độ cao nhất:', np.max(data_temp))\n",
    "print('Nhiệt độ thấp nhất:', np.min(data_temp))\n",
    "print('Nhiệt độ trung bình:', np.mean(data_temp))\n",
    "print('--------------------------------------------')\n",
    "\n",
    "list_tp = ['Hà Nội', 'Vinh', 'Đà Nẵng', 'Nha trang', 'TP Hồ Chính Minh', 'Cà Mau']\n",
    "\n",
    "for i in range(0,data_temp.shape[1]):\n",
    "    print(i+1, ')', list_tp[i],'\\n Nhiệt độ cao nhất:', data_temp[:,i].max(),\n",
    "                      '\\n Nhiệt độ thấp nhất:',data_temp[:,i].min(),\n",
    "                    '\\n Nhiệt độ trung bình:',round(data_temp[:,i].mean(),2))\n"
   ]
  },
  {
   "cell_type": "code",
   "execution_count": null,
   "metadata": {},
   "outputs": [],
   "source": []
  },
  {
   "cell_type": "markdown",
   "metadata": {},
   "source": [
    "**Yêu cầu 4:** Tạo một ma trận data_thongke gồm 3 hàng x 7 cột; \n",
    "các hàng lần lượt lưu trữ dữ liệu như sau: \n",
    "- Hàng 0: Nhiệt độ cao nhất (Max)\n",
    "- Hàng 1: Nhiệt độ trung bình (Mean), làm tròn đến 2 số sau dấu phẩy\n",
    "- Hàng 2: Nhiệt độ nhỏ nhất (Min)\n",
    "Các cột lần lượt theo thứ tự của 6 thành phố và cột cuối cùng là cột thống kê chung cho cả 6 thành phố. Lưu ra file thongke.txt"
   ]
  },
  {
   "cell_type": "code",
   "execution_count": 68,
   "metadata": {},
   "outputs": [
    {
     "data": {
      "text/plain": [
       "array([[25.65, 24.79, 24.01, 25.06, 25.48, 24.97],\n",
       "       [25.31, 24.21, 24.02, 24.93, 25.16, 24.83],\n",
       "       [25.05, 23.73, 23.89, 24.79, 24.8 , 24.55],\n",
       "       ...,\n",
       "       [24.81, 24.47, 23.4 , 25.86, 25.05, 25.29],\n",
       "       [23.97, 24.22, 22.95, 25.74, 24.92, 24.87],\n",
       "       [22.84, 23.99, 22.59, 25.5 , 24.77, 24.57]])"
      ]
     },
     "execution_count": 68,
     "metadata": {},
     "output_type": "execute_result"
    }
   ],
   "source": [
    "data_temp"
   ]
  },
  {
   "cell_type": "code",
   "execution_count": 153,
   "metadata": {},
   "outputs": [
    {
     "name": "stdout",
     "output_type": "stream",
     "text": [
      "33.45\n",
      "[[33.45 32.57 29.88 28.68 31.06 31.37 33.45]\n",
      " [27.71 26.72 25.52 26.17 26.16 26.73 26.5 ]\n",
      " [21.68 22.6  20.93 24.5  23.22 23.99 20.93]]\n",
      "<class 'numpy.ndarray'>\n",
      "Kích thước: (3, 7)\n"
     ]
    }
   ],
   "source": [
    "#{HỌC VIÊN VIẾT CODE VÀO ĐÂY}\n",
    "\n",
    "max_temp = data_temp.max(axis=0)\n",
    "min_temp = data_temp.min(axis=0)\n",
    "mean_temp = np.around(data_temp.mean(axis=0),2)\n",
    "general_data = [np.max(data_temp),\n",
    "                np.around(np.mean(data_temp),2),\n",
    "                np.min(data_temp)]\n",
    "\n",
    "print( data_temp.max(axis=0).max())\n",
    "data_thongke = np.array([(max_temp), \n",
    "                         (mean_temp), \n",
    "                         (min_temp)])\n",
    "\n",
    "data_thongke = np.insert(data_thongke, data_thongke.shape[1], [general_data], axis=1)\n",
    "\n",
    "print(data_thongke)\n",
    "print(type(data_thongke))\n",
    "print('Kích thước:', data_thongke.shape)\n"
   ]
  },
  {
   "cell_type": "code",
   "execution_count": 155,
   "metadata": {},
   "outputs": [],
   "source": [
    "#Lưu dữ liệu\n",
    "np.savetxt('thongke.txt', data_thongke, fmt='%1.4e')"
   ]
  },
  {
   "cell_type": "markdown",
   "metadata": {},
   "source": [
    "## Thực hành số 5:\n",
    "---\n",
    "Mô tả file dữ liệu: Diamonds.txt (có trong thư mục Data)\n",
    "\n",
    "* File dữ liệu lưu trữ thông số 50 viên kim cương bao gồm: Trọng lượng (carat) và Giá bán ($) tương ứng theo mỗi hàng\n",
    "\n",
    "*Học viên xem mô tả chi tiết file dữ liệu trong slide Practice4*"
   ]
  },
  {
   "cell_type": "markdown",
   "metadata": {},
   "source": [
    "**Yêu cầu 5.1:** Đọc dữ liệu lưu trữ trong file Diamonds.txt vào biến kiểu mảng data_diamond, cho biết kích thước, số chiều, kiểu dữ liệu và số phần tử của biến data_diamond"
   ]
  },
  {
   "cell_type": "code",
   "execution_count": 2,
   "metadata": {},
   "outputs": [
    {
     "name": "stdout",
     "output_type": "stream",
     "text": [
      "Kích thước: (50, 2)\n",
      "Số chiều: 2\n",
      "Kiểu dữ liệu: float64\n",
      "Số phần tử: 100\n"
     ]
    }
   ],
   "source": [
    "# {HỌC VIÊN VIẾT CODE VÀO ĐÂY}\n",
    "\n",
    "\n",
    "import numpy as np\n",
    "\n",
    "path = 'Data/Diamonds.txt'\n",
    "data_diamond = np.loadtxt(path, delimiter='\\t', dtype = np.float64)\n",
    "\n",
    "print('Kích thước:',data_diamond.shape)\n",
    "print('Số chiều:',data_diamond.ndim)\n",
    "print('Kiểu dữ liệu:',data_diamond.dtype)\n",
    "print('Số phần tử:',data_diamond.size)\n",
    "\n"
   ]
  },
  {
   "cell_type": "code",
   "execution_count": null,
   "metadata": {},
   "outputs": [],
   "source": []
  },
  {
   "cell_type": "markdown",
   "metadata": {},
   "source": [
    "**Yêu cầu 5.2:** Tách mảng data_diamond thành 2 vector:  diamond_size và diamond_price lưu trữ trọng lượng và giá bán.\n"
   ]
  },
  {
   "cell_type": "code",
   "execution_count": 9,
   "metadata": {},
   "outputs": [
    {
     "name": "stdout",
     "output_type": "stream",
     "text": [
      "[0.23 0.31 0.2  1.02 1.63 1.14 2.01 1.28 1.7  1.01 0.64 0.97 1.78 3.4\n",
      " 3.01 1.51 1.37 1.5  0.54 0.72 1.13 2.24 3.01 4.5  0.92 1.05 0.55 0.74\n",
      " 0.91 1.23 1.52 0.91 0.43 1.24 1.77 1.79 2.05 2.03 2.01 1.   0.9  1.01\n",
      " 1.14 1.53 0.34 0.41 0.75 1.07 1.34 1.75]\n",
      "[  484.   942.   345.  4459. 14022.  4212. 11925.  9548. 11605.  4642.\n",
      "  3541.  4504. 13691. 15964. 10453. 11560.  7979.  9533.  1723.  3344.\n",
      "  6133. 13827. 16538. 18531.  3625.  7879.  1319.  2761.  3620.  6165.\n",
      " 10640.  4138.  1094. 11130. 14561. 10108. 12654. 16280. 13498.  4586.\n",
      "  3105.  7745.  5047. 10830.   765.   827.  3120.  5220.  7427.  9890.]\n"
     ]
    }
   ],
   "source": [
    "#{HỌC VIÊN VIẾT CODE VÀO ĐÂY}\n",
    "\n",
    "diamond_size = np.array([])\n",
    "diamond_price = np.array([])\n",
    "\n",
    "for i in range(0,data_diamond.shape[0]):\n",
    "    diamond_size = np.append(diamond_size, [data_diamond[i,0]])\n",
    "    diamond_price = np.append(diamond_price, [data_diamond[i,1]])\n",
    "    \n",
    "print(diamond_size)\n",
    "print(diamond_price)\n",
    "\n"
   ]
  },
  {
   "cell_type": "markdown",
   "metadata": {},
   "source": [
    "**Yêu cầu 5.3:** Vẽ đồ thị thể hiện mối quan hệ giữa kích thước và giá bán kim cương. Xác định hệ số tương quan tương ứng giữa 2 thông số này.\n"
   ]
  },
  {
   "cell_type": "code",
   "execution_count": 10,
   "metadata": {},
   "outputs": [
    {
     "name": "stdout",
     "output_type": "stream",
     "text": [
      "<class 'numpy.ndarray'>\n",
      "Hệ số tương quan: \n",
      " [[1.        0.8814849]\n",
      " [0.8814849 1.       ]]\n"
     ]
    }
   ],
   "source": [
    "#{HỌC VIÊN VIẾT CODE VÀO ĐÂY}\n",
    "\n",
    "co2 = np.corrcoef(diamond_size,diamond_price)\n",
    "print(type(co2))\n",
    "print('Hệ số tương quan: \\n', co2)\n",
    "\n"
   ]
  },
  {
   "cell_type": "code",
   "execution_count": 15,
   "metadata": {},
   "outputs": [
    {
     "data": {
      "image/png": "[encoded data removed]",
      "text/plain": [
       "<Figure size 504x360 with 1 Axes>"
      ]
     },
     "metadata": {
      "needs_background": "light"
     },
     "output_type": "display_data"
    }
   ],
   "source": [
    "#Biểu đồ tương quan giữa kích thước và giá bán kim cương\n",
    "import matplotlib.pyplot as plt\n",
    "plt.figure(figsize=(7,5))\n",
    "plt.scatter(diamond_size, diamond_price, marker='o', color='b')\n",
    "\n",
    "plt.xlabel('', fontsize=10)\n",
    "plt.ylabel('Giá bán', fontsize=10)\n",
    "plt.title('BIỂU ĐỒ THỂ HIỆN MỐI TƯƠNG QUAN GIỮA KÍCH THƯỚC VÀ GIÁ BÁN KIM CƯƠNG')\n",
    "\n",
    "plt.grid(True)\n",
    "plt.show()"
   ]
  },
  {
   "cell_type": "markdown",
   "metadata": {},
   "source": [
    "**Yêu cầu 5.4:** Cho biết kích thước và giá trung bình của 50 viên kim cương. Hiển thị giá bán của viên kim cương có trọng lượng 3.01 carat.\n"
   ]
  },
  {
   "cell_type": "code",
   "execution_count": 18,
   "metadata": {},
   "outputs": [
    {
     "name": "stdout",
     "output_type": "stream",
     "text": [
      "Kích thước trung bình của 50 viên kim cương: 1.34  carat\n",
      "Giá trung bình của 50 viên kim cương: 7550.78  $\n"
     ]
    }
   ],
   "source": [
    "#{HỌC VIÊN VIẾT CODE VÀO ĐÂY}\n",
    "\n",
    "print('Kích thước trung bình của 50 viên kim cương:',round(np.mean(diamond_size),2),' carat')\n",
    "print('Giá trung bình của 50 viên kim cương:',np.mean(diamond_price),' $')\n",
    "\n"
   ]
  },
  {
   "cell_type": "code",
   "execution_count": 33,
   "metadata": {},
   "outputs": [
    {
     "name": "stdout",
     "output_type": "stream",
     "text": [
      "(array([14, 22], dtype=int64),)\n",
      "Giá bán của viên kim cương có trọng lượng 3.01 carat: [10453. 16538.]\n"
     ]
    }
   ],
   "source": [
    "pos = np.where(diamond_size == 3.01)\n",
    "print(pos)\n",
    "print('Giá bán của viên kim cương có trọng lượng 3.01 carat:' ,diamond_price[pos])"
   ]
  },
  {
   "cell_type": "code",
   "execution_count": null,
   "metadata": {},
   "outputs": [],
   "source": []
  },
  {
   "cell_type": "code",
   "execution_count": null,
   "metadata": {},
   "outputs": [],
   "source": []
  },
  {
   "cell_type": "markdown",
   "metadata": {},
   "source": [
    "## 6) Kết hợp, chuyển đổi Vector, Ma trận\n",
    "---\n",
    "### 6.1) reshape\n",
    "<img src='Pic\\reshape.png' width = '500px'>"
   ]
  },
  {
   "cell_type": "code",
   "execution_count": null,
   "metadata": {},
   "outputs": [],
   "source": [
    "# Phương thức a.reshape(m,n)\n",
    "vector_a = np.array([5,7,2,9,10,15,2,9,2,17,28,16],dtype=np.int16)\n",
    "print(vector_a)\n",
    "print('Số phần tử của vector:', vector_a.size)"
   ]
  },
  {
   "cell_type": "code",
   "execution_count": null,
   "metadata": {},
   "outputs": [],
   "source": [
    "#Chuyển đổi vector về matrix (n x m)\n",
    "#Lưu ý: matrix.size =vector.size\n",
    "matrix_a = vector_a.reshape((3,4))\n",
    "print('Reshape về matrix: 3 x 4')\n",
    "print(matrix_a)\n",
    "print('Số phần tử của matrix_a:',matrix_a.size)"
   ]
  },
  {
   "cell_type": "code",
   "execution_count": null,
   "metadata": {},
   "outputs": [],
   "source": [
    "print('Reshape về matrix: 2 x 6')\n",
    "matrix_b = vector_a.reshape((2,6))\n",
    "print(matrix_b)\n",
    "print('Số phần tử của matrix_b:',matrix_b.size)"
   ]
  },
  {
   "cell_type": "code",
   "execution_count": null,
   "metadata": {},
   "outputs": [],
   "source": [
    "#sắp xếp thứ tự các phần tử khi reshape array\n",
    "a1 = np.arange(1,13)\n",
    "print(a1)"
   ]
  },
  {
   "cell_type": "code",
   "execution_count": null,
   "metadata": {},
   "outputs": [],
   "source": [
    "#order ='C': default - reshape phần tử theo hàng\n",
    "matrix_a1 = a1.reshape((3,4),order='C')\n",
    "print(matrix_a1)"
   ]
  },
  {
   "cell_type": "code",
   "execution_count": null,
   "metadata": {},
   "outputs": [],
   "source": [
    "#order ='F': reshape phần tử theo cột\n",
    "matrix_a2 = a1.reshape((3,4),order='F')\n",
    "print(matrix_a2)"
   ]
  },
  {
   "cell_type": "code",
   "execution_count": null,
   "metadata": {},
   "outputs": [],
   "source": [
    "#Sử dụng tham số -1 để tự động tính toán số hàng (hoặc số cột)\n",
    "A = np.random.randint(0,100,80)\n",
    "A"
   ]
  },
  {
   "cell_type": "code",
   "execution_count": null,
   "metadata": {},
   "outputs": [],
   "source": [
    "#Tự động tính toán số cột\n",
    "A1 = A.reshape(8,-1)\n",
    "print(A1)\n",
    "print(A1.shape)"
   ]
  },
  {
   "cell_type": "code",
   "execution_count": null,
   "metadata": {},
   "outputs": [],
   "source": [
    "#Tự động tính toán số hàng\n",
    "A2 = A.reshape(-1,20)\n",
    "print(A2)\n",
    "print(A2.shape)"
   ]
  },
  {
   "cell_type": "code",
   "execution_count": null,
   "metadata": {},
   "outputs": [],
   "source": [
    "#Thay đổi kích thước ma trận\n",
    "A3=A2.reshape(-1,16)\n",
    "print(A3)\n",
    "A3.shape"
   ]
  },
  {
   "cell_type": "markdown",
   "metadata": {},
   "source": [
    "### 6.2) Ravel array\n",
    "---\n",
    "**Phương thức: ravel sử dụng để chuyển Matrix thành Vector**\n",
    "<img src='Pic\\ravel.png' width = '200px'>\n"
   ]
  },
  {
   "cell_type": "code",
   "execution_count": null,
   "metadata": {},
   "outputs": [],
   "source": [
    "#Chuyển đổi từ Matrix --> Vector\n",
    "\n",
    "a1_2d = np.array([(1,2,3,4),(5,6,7,8),(9,10,11,12)])\n",
    "print('Matrix: \\n', a1_2d)"
   ]
  },
  {
   "cell_type": "code",
   "execution_count": null,
   "metadata": {},
   "outputs": [],
   "source": [
    "print('a) ravel by row (default order=\\'C\\')')\n",
    "print(a1_2d.ravel()) "
   ]
  },
  {
   "cell_type": "code",
   "execution_count": null,
   "metadata": {},
   "outputs": [],
   "source": [
    "print('b) ravel by column (order=\\'F\\')')\n",
    "print(a1_2d.ravel(order='F'))"
   ]
  },
  {
   "cell_type": "markdown",
   "metadata": {},
   "source": [
    "### 6.3) Concatenate array\n",
    "---\n",
    "**Phương thức: Concatenate sử dụng để kết hợp các vector, array lại với nhau**\n",
    "<img src='Pic\\concat1.png' width = '400px'>"
   ]
  },
  {
   "cell_type": "code",
   "execution_count": null,
   "metadata": {},
   "outputs": [],
   "source": [
    "#1) Phương thức: Concatenate sử dụng để kết hợp các vectorlại với nhau\n",
    "#Khởi Tạo vector\n",
    "x = np.full((5),1)\n",
    "y = np.full((5),9)\n",
    "\n",
    "print('Vector x:', x)\n",
    "print('Vector y:', y)"
   ]
  },
  {
   "cell_type": "code",
   "execution_count": null,
   "metadata": {},
   "outputs": [],
   "source": [
    "#Ghép 2 vector \n",
    "xy = np.concatenate([x, y])\n",
    "print('Vector xy:',xy)"
   ]
  },
  {
   "cell_type": "code",
   "execution_count": null,
   "metadata": {},
   "outputs": [],
   "source": [
    "#2) Phương thức: Concatenate sử dụng để kết hợp các ma trận lại với nhau\n",
    "#Khởi Tạo ma trận\n",
    "x = np.full((3,4),1)\n",
    "y = np.full((3,4),9)\n",
    "\n",
    "print('Ma trận x:\\n', x)\n",
    "print('Ma trận y:\\n', y)"
   ]
  },
  {
   "cell_type": "code",
   "execution_count": null,
   "metadata": {},
   "outputs": [],
   "source": [
    "#Ghép 2 ma trận theo hàng axis=0 (Default)\n",
    "xy_row = np.concatenate([x, y],axis=0)\n",
    "print('Ma trận xy (theo hàng):\\n',xy_row)"
   ]
  },
  {
   "cell_type": "code",
   "execution_count": null,
   "metadata": {},
   "outputs": [],
   "source": [
    "#Ghép 2 ma trận theo cột axis=1\n",
    "xy_col = np.concatenate([x, y],axis=1)\n",
    "print('Ma trận xy (theo cột):\\n',xy_col)"
   ]
  },
  {
   "cell_type": "code",
   "execution_count": null,
   "metadata": {},
   "outputs": [],
   "source": [
    "#Ghép 2 ma trận thành 1 vector\n",
    "xy_none = np.concatenate([x, y],axis=None)\n",
    "print('Ma trận xy:\\n',xy_none)"
   ]
  },
  {
   "cell_type": "markdown",
   "metadata": {},
   "source": [
    "### 6.3) Split array\n",
    "---\n",
    "**Phương thức: Split sử dụng để phân tách các vector, ma trận thành các vector, ma trận con**\n",
    "<img src='Pic\\split.png'>"
   ]
  },
  {
   "cell_type": "code",
   "execution_count": null,
   "metadata": {},
   "outputs": [],
   "source": [
    "#Split với Vector\n",
    "import numpy as np\n",
    "x = np.arange(0,10)\n",
    "print(x)\n",
    "print(x.size)"
   ]
  },
  {
   "cell_type": "code",
   "execution_count": null,
   "metadata": {},
   "outputs": [],
   "source": [
    "#Tách vector x thành 2 vector \n",
    "#có số phần tử bằng nhau\n",
    "x1, x2 = np.split(x, 2)\n",
    "print(x1, x2)"
   ]
  },
  {
   "cell_type": "code",
   "execution_count": null,
   "metadata": {},
   "outputs": [],
   "source": [
    "#Tách vector x thành 2 vector \n",
    "#vector 1 có 4 phần tử\n",
    "x11, x22 = np.split(x, [3])\n",
    "print(x11, x22)"
   ]
  },
  {
   "cell_type": "code",
   "execution_count": null,
   "metadata": {},
   "outputs": [],
   "source": [
    "import numpy as np\n",
    "x = np.arange(1,10)\n",
    "print(x)\n",
    "\n",
    "#Tách vector x thành 3 vector \n",
    "#tại các vị trí 2 và 6\n",
    "x1, x2, x3 = np.split(x, [2,6])\n",
    "print(x1, x2, x3)"
   ]
  },
  {
   "cell_type": "code",
   "execution_count": null,
   "metadata": {},
   "outputs": [],
   "source": [
    "#Split với Ma trận\n",
    "a = np.array([(1,2,3,4,5), \n",
    "              (6,7,8,9,10), \n",
    "              (11,12,13,14,15), \n",
    "              (16,17,18,19,20)])\n",
    "print(a)"
   ]
  },
  {
   "cell_type": "code",
   "execution_count": null,
   "metadata": {},
   "outputs": [],
   "source": [
    "#split theo row\n",
    "upper, lower = np.vsplit(a, 2)\n",
    "print(upper)\n",
    "print('-----------------------------')\n",
    "print(lower)"
   ]
  },
  {
   "cell_type": "code",
   "execution_count": null,
   "metadata": {},
   "outputs": [],
   "source": [
    "print(a)\n",
    "print('-----------------------------')\n",
    "#split theo col, Tách thành 3 ma trận\n",
    "#Ma trận đầu chứ 2 cột dữ liệu\n",
    "a1, a2, a3 = np.hsplit(a, (2,3))\n",
    "print(a1)\n",
    "print('-----------------------------')\n",
    "print(a2)\n",
    "print('-----------------------------')\n",
    "print(a3)"
   ]
  },
  {
   "cell_type": "markdown",
   "metadata": {},
   "source": [
    "### 6.5) Flip array\n",
    "---\n",
    "**Phương thức: Flip sử dụng lật ngược ma trận theo hàng, cột**"
   ]
  },
  {
   "cell_type": "code",
   "execution_count": null,
   "metadata": {},
   "outputs": [],
   "source": [
    "#A) Lật vector\n",
    "V = np.linspace(1,30,30,dtype=np.int8)\n",
    "print(V)\n",
    "print('----------------------------------------------')\n",
    "V1 = np.flip(V)\n",
    "print(V1)"
   ]
  },
  {
   "cell_type": "code",
   "execution_count": null,
   "metadata": {},
   "outputs": [],
   "source": [
    "#B) Lật ma trận\n",
    "#Tạo ma trận A làm ví dụ\n",
    "A = np.linspace(1,25,25,dtype=np.int8).reshape(5,5)\n",
    "print('Ma trận ban đầu: \\n',A)"
   ]
  },
  {
   "cell_type": "code",
   "execution_count": null,
   "metadata": {},
   "outputs": [],
   "source": [
    "#Lật ma trận theo cột\n",
    "A1 = np.flip(A,1) \n",
    "#Tương đương với\n",
    "#A1 = np.fliplr(A)\n",
    "print('Lật ma trận theo cột: \\n',A1)"
   ]
  },
  {
   "cell_type": "code",
   "execution_count": null,
   "metadata": {},
   "outputs": [],
   "source": [
    "#Lật ma trận theo hàng\n",
    "#A2 = np.flip(A,0) \n",
    "#Tương đương với\n",
    "A2 = np.flipud(A)\n",
    "print('Lật ma trận theo hàng: \\n',A2)"
   ]
  },
  {
   "cell_type": "markdown",
   "metadata": {},
   "source": [
    "## THỰC HÀNH SỐ 6:\n",
    "---\n",
    "**Yêu cầu: Tạo một vector gồm 30 phần tử, có giá trị tăng dần từ 1 đến 30**\n",
    "\n",
    "Chỉ sử dụng các phương thức reshape, ravel, split…tách Vector a ở trên thành 3 vector con bao gồm:\n",
    "\n",
    "1. a_lẻ: chứa các phần tử là số lẻ; \n",
    "2. a_chan: chứa các phần tử là số chẵn.\n",
    "3. a_3: chứa các phần tử chia hết cho 3"
   ]
  },
  {
   "cell_type": "code",
   "execution_count": null,
   "metadata": {},
   "outputs": [],
   "source": [
    "#{HỌC VIÊN VIẾT CODE VÀO ĐÂY}\n",
    "#Không sử dụng bất kỳ lệnh điều khiển, vòng lặp nào!!!!\n",
    "\n",
    "\n",
    "\n",
    "\n"
   ]
  },
  {
   "cell_type": "code",
   "execution_count": null,
   "metadata": {},
   "outputs": [],
   "source": []
  },
  {
   "cell_type": "code",
   "execution_count": null,
   "metadata": {},
   "outputs": [],
   "source": []
  }
 ],
 "metadata": {
  "colab": {
   "collapsed_sections": [],
   "name": "Chuong_4_package_Numpy.ipynb",
   "provenance": []
  },
  "kernelspec": {
   "display_name": "Python 3 (ipykernel)",
   "language": "python",
   "name": "python3"
  },
  "language_info": {
   "codemirror_mode": {
    "name": "ipython",
    "version": 3
   },
   "file_extension": ".py",
   "mimetype": "text/x-python",
   "name": "python",
   "nbconvert_exporter": "python",
   "pygments_lexer": "ipython3",
   "version": "3.9.12"
  }
 },
 "nbformat": 4,
 "nbformat_minor": 1
}
