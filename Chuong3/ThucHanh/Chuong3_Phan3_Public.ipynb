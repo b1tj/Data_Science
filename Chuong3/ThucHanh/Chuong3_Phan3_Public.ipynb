{
 "cells": [
  {
   "cell_type": "markdown",
   "metadata": {},
   "source": [
    "<center>\n",
    "    <img src='Pic/logo.png' width='300px'>\n",
    "    <h1>MÔN HỌC: KHOA HỌC DỮ LIỆU (7080509)</h1>\n",
    "    <h2>Chương 3: Lập Trình Python Cơ bản (Phần 3)</h2>\n",
    "</center>\n",
    "\n",
    "---\n",
    "**NỘI DUNG BÀI HỌC:**\n",
    "1. Hàm trong Python\n",
    "    * a. Giới thiệu Hàm | Xây dựng hàm trong Python\n",
    "    * b. Return | Tham số của hàm |Phạm vi của biến\n",
    "    * c. Hàm ẩn danh (Lambda)\n",
    "2. Lớp và đối tượng trong Python\n",
    "\t* a. Tạo lớp – đối tượng | Truy cập phương thức, thuộc tính của đối tượng\n",
    "\t* b. Thừa kế\n",
    "---\n",
    "*Copyright: Đặng Văn Nam-FIT.HUMG*\n"
   ]
  },
  {
   "cell_type": "markdown",
   "metadata": {},
   "source": [
    "# I) Hàm trong Python\n",
    "---\n",
    "* Hàm trong Python là một nhóm các câu lệnh trong chương trình được tổ chức chung với nhau để thực hiện một chức năng hay một nhiệm vụ cụ thể nào đó.\n",
    "* Sử dụng hàm giúp phân rã chương trình từ một chương trình lớn, phức tạp thành các phần cụ thể nhỏ hơn giúp dễ quản lý, tổ chức, nâng cao khả năng tái sử dụng và chia sẻ công việc.\n",
    "<img src='Pic/func.png' width=500px>"
   ]
  },
  {
   "cell_type": "code",
   "execution_count": null,
   "metadata": {},
   "outputs": [],
   "source": [
    "#Ví dụ: Xây dựng 1 Hàm thực hiện chào hỏi\n",
    "def hello_MDC(name):\n",
    "    '''\n",
    "    Hàm thực hiện chào hỏi!\n",
    "    input: Tên\n",
    "    output: lời chào\n",
    "    '''\n",
    "    print('Hello ',name,', How are you?')\n",
    "    print('Have a nice day.....!')\n",
    "    print('*-*')"
   ]
  },
  {
   "cell_type": "code",
   "execution_count": null,
   "metadata": {},
   "outputs": [],
   "source": []
  },
  {
   "cell_type": "code",
   "execution_count": null,
   "metadata": {},
   "outputs": [],
   "source": [
    "#Sử dụng hàm đã xây dựng\n",
    "hello_MDC('HUMG')"
   ]
  },
  {
   "cell_type": "code",
   "execution_count": null,
   "metadata": {},
   "outputs": [],
   "source": [
    "hello_aiv?"
   ]
  },
  {
   "cell_type": "code",
   "execution_count": null,
   "metadata": {},
   "outputs": [],
   "source": [
    "#Sử dụng hàm đã xây dựng\n",
    "hello_MDC('Tùng Dương')"
   ]
  },
  {
   "cell_type": "code",
   "execution_count": null,
   "metadata": {},
   "outputs": [],
   "source": [
    "#Sử dụng hàm đã xây dựng\n",
    "ten = input('Bạn tên là gì?')\n",
    "hello_MDC(ten)"
   ]
  },
  {
   "cell_type": "code",
   "execution_count": null,
   "metadata": {},
   "outputs": [],
   "source": [
    "hello_MDC?\n"
   ]
  },
  {
   "cell_type": "code",
   "execution_count": null,
   "metadata": {},
   "outputs": [],
   "source": [
    "#Xây dựng hàm chào hỏi theo giới tính:\n",
    "def chao_hoi(gioitinh):\n",
    "    '''Hàm thực hiện chào hỏi theo giới tính:\n",
    "    -0: Nam\n",
    "    -1: Nữ\n",
    "    -2: z\n",
    "    '''\n",
    "    if(gioitinh == 0):\n",
    "        print(\"Chào anh đẹp trai\")\n",
    "        print(\"----Good Luck-----\")\n",
    "    elif(gioitinh == 1):\n",
    "        print(\"Chào chị xinh gái\")\n",
    "        print(\"----Good Morning-----\")\n",
    "    elif(gioitinh == 2):\n",
    "        print(\"Em xin phép chào cả anh và chị\")\n",
    "        print(\"------Have a nice day------\")\n",
    "    else:\n",
    "        print(\"Giới tính này không có trong cơ sở dữ liệu\")"
   ]
  },
  {
   "cell_type": "code",
   "execution_count": null,
   "metadata": {},
   "outputs": [],
   "source": [
    "chao_hoi(1)\n",
    "chao_hoi?"
   ]
  },
  {
   "cell_type": "code",
   "execution_count": null,
   "metadata": {},
   "outputs": [],
   "source": []
  },
  {
   "cell_type": "markdown",
   "metadata": {},
   "source": [
    "**Trước khi bắt tay vào xây dựng 1 hàm trong Python, cần phải tự trả lời các câu hỏi:**\n",
    "1. Hàm này sử dụng nhằm mục đích gì? \n",
    "2. Hàm này nhận đầu vào là gì?\n",
    "3. Hàm này trả kết quả ra là gì?\n"
   ]
  },
  {
   "cell_type": "code",
   "execution_count": null,
   "metadata": {},
   "outputs": [],
   "source": [
    "#Xây dựng hàm tính n!\n",
    "#1.Hàm này dùng để làm gì? - Để tính n!\n",
    "#2.Hàm này nhận dữ liệu vào là gì? - Một số nguyên dương N\n",
    "#3. Hàm này trả kết quả ra là gì? - Một số nguyên dương là tích của 1*2*3...(n-1)*n\n",
    "\n",
    "def giai_thua(n):\n",
    "    #nhóm các câu lệnh xử lý bên trong hàm\n",
    "    tich=1\n",
    "    for i in range(1,n+1):\n",
    "        tich=tich*i\n",
    "    #kết quả trả về cho hàm\n",
    "    return tich"
   ]
  },
  {
   "cell_type": "code",
   "execution_count": null,
   "metadata": {},
   "outputs": [],
   "source": [
    "#Gọi hàm trong Python\n",
    "gt = giai_thua(10)\n",
    "print(gt)"
   ]
  },
  {
   "cell_type": "code",
   "execution_count": null,
   "metadata": {},
   "outputs": [],
   "source": [
    "1*2*3*4*5*6*7*8*9*10"
   ]
  },
  {
   "cell_type": "code",
   "execution_count": null,
   "metadata": {},
   "outputs": [],
   "source": [
    "#Gọi hàm trong Python\n",
    "n = int(input('Nhập vào một số nguyên N:'))\n",
    "print(n,'! = ', giai_thua(n))"
   ]
  },
  {
   "cell_type": "markdown",
   "metadata": {},
   "source": [
    "**Lệnh return:**\n",
    "* Lệnh return <kết quả trả về> được sử dụng để trả kết quả xử lý thông qua tên hàm. \n",
    "* Lệnh return có thể có hoặc không.\n",
    "* Trong trường hợp không cung cấp <kết quả trả về>, thì hàm return này sẽ trả về None. Nói cách khác, lệnh return được sử dụng để thoát khỏi định nghĩa hàm.\n",
    "\n",
    "* Lệnh return() có thể trả về 1 hay nhiều kết quả,nếu có nhiều hơn một kết quả thì ngăn cách nhau bởi dấu phẩy."
   ]
  },
  {
   "cell_type": "code",
   "execution_count": null,
   "metadata": {},
   "outputs": [],
   "source": [
    "#Hàm không có lệnh return\n",
    "def hello_MDC(name):\n",
    "    print('Hello ',name,', How are you?')\n",
    "    print('Have a nice day.....!')"
   ]
  },
  {
   "cell_type": "code",
   "execution_count": null,
   "metadata": {},
   "outputs": [],
   "source": [
    "#Hàm trả về 1 giá trị\n",
    "def giai_thua(n):\n",
    "    #nhóm các câu lệnh xử lý bên trong hàm\n",
    "    tich=1\n",
    "    for i in range(1,n+1):\n",
    "        tich=tich*i\n",
    "    #kết quả trả về cho hàm\n",
    "    return tich"
   ]
  },
  {
   "cell_type": "code",
   "execution_count": null,
   "metadata": {},
   "outputs": [],
   "source": [
    "#Hàm trả về nhiều giá trị\n",
    "#Hàm tính tổng, hiệu, tích, thương:\n",
    "def all_ab(a,b):\n",
    "    add = a+b\n",
    "    sub = a-b\n",
    "    multi = a*b\n",
    "    div = a/b\n",
    "    #hàm trả về kết quả là 4 giá trị\n",
    "    return add, sub, multi, div"
   ]
  },
  {
   "cell_type": "code",
   "execution_count": null,
   "metadata": {},
   "outputs": [],
   "source": []
  },
  {
   "cell_type": "code",
   "execution_count": null,
   "metadata": {},
   "outputs": [],
   "source": [
    "a = 79\n",
    "b = 13\n",
    "#lấy kết quả khi thực hiện hàm\n",
    "tong, hieu, tich, thuong = all_ab(a,b)\n",
    "print('Tổng ',a,' + ', b,' = ', tong)\n",
    "print('Hiệu ',a,' - ', b,' = ', hieu)\n",
    "print('Tích ',a,' * ', b,' = ', tich)\n",
    "print('Thương ',a,' / ', b,' = ', thuong)"
   ]
  },
  {
   "cell_type": "code",
   "execution_count": null,
   "metadata": {},
   "outputs": [],
   "source": [
    "all_ab(a,b)"
   ]
  },
  {
   "cell_type": "code",
   "execution_count": null,
   "metadata": {},
   "outputs": [],
   "source": [
    "#Chỉ lấy kết quả trả về của tổng\n",
    "all_ab(a,b)[1]"
   ]
  },
  {
   "cell_type": "code",
   "execution_count": null,
   "metadata": {},
   "outputs": [],
   "source": [
    "#Chỉ lấy kết quả trả về của tích\n",
    "all_ab(a,b)[3]"
   ]
  },
  {
   "cell_type": "code",
   "execution_count": null,
   "metadata": {},
   "outputs": [],
   "source": []
  },
  {
   "cell_type": "markdown",
   "metadata": {},
   "source": [
    "---\n",
    "**Tham số cho hàm:**\n",
    "Hàm có thể có tham số hoặc không,có các loại tham số:\n",
    "* Tham số bắt buộc\n",
    "* Tham số có mặc định (Default parameter)\n",
    "* Tham số có độ dài biến (Variable-Length Parameter)\n"
   ]
  },
  {
   "cell_type": "code",
   "execution_count": null,
   "metadata": {},
   "outputs": [],
   "source": [
    "#Hàm không có tham số truyền vào\n",
    "def hello():\n",
    "    print('Hello, How are you!')\n",
    "    print('Have a nice day!')"
   ]
  },
  {
   "cell_type": "code",
   "execution_count": null,
   "metadata": {},
   "outputs": [],
   "source": [
    "hello()"
   ]
  },
  {
   "cell_type": "code",
   "execution_count": null,
   "metadata": {},
   "outputs": [],
   "source": []
  },
  {
   "cell_type": "code",
   "execution_count": null,
   "metadata": {},
   "outputs": [],
   "source": [
    "#Hàm có thể có hoặc không có tham số, \n",
    "#nếu hàm có tham số khi gọi hàm phải truyền tham số cho hàm, nếu không sẽ báo lỗi\n",
    "a = giai_thua()\n",
    "print(a)"
   ]
  },
  {
   "cell_type": "code",
   "execution_count": null,
   "metadata": {},
   "outputs": [],
   "source": [
    "#Lỗi nếu hàm ko truyền tham số\n",
    "all_ab()"
   ]
  },
  {
   "cell_type": "code",
   "execution_count": null,
   "metadata": {},
   "outputs": [],
   "source": [
    "#Lỗi nếu truyền không đủ tham số:\n",
    "all_ab(5)"
   ]
  },
  {
   "cell_type": "code",
   "execution_count": null,
   "metadata": {},
   "outputs": [],
   "source": [
    "#Hàm sẽ thực hiện nếu cung cấp đủ tham số:\n",
    "all_ab(5, 8)"
   ]
  },
  {
   "cell_type": "code",
   "execution_count": null,
   "metadata": {},
   "outputs": [],
   "source": []
  },
  {
   "cell_type": "code",
   "execution_count": null,
   "metadata": {},
   "outputs": [],
   "source": []
  },
  {
   "cell_type": "markdown",
   "metadata": {},
   "source": [
    "---\n",
    "Để hạn chế trường hợp báo lỗi khi khi gọi hàm không cung cấp tham số thì trong Python cung cấp cho chúng ta thiết lập giá trị mặc định của tham số khi khai báo hàm. Bằng cách sử dụng dấu = với cú pháp như sau:\n"
   ]
  },
  {
   "cell_type": "code",
   "execution_count": null,
   "metadata": {},
   "outputs": [],
   "source": [
    "#Hàm hello sử dụng tham số mặc định\n",
    "def hello_aiv(name='VinBigData'):\n",
    "    print('Hello',name,', How are you?')\n",
    "    print('Have a nice day.....!')"
   ]
  },
  {
   "cell_type": "code",
   "execution_count": null,
   "metadata": {},
   "outputs": [],
   "source": [
    "#Nếu không truyền tham số, hàm sẽ sử dụng tham số mặc định\n",
    "hello_aiv()"
   ]
  },
  {
   "cell_type": "code",
   "execution_count": null,
   "metadata": {},
   "outputs": [],
   "source": [
    "hello_aiv(\"Bạn\")"
   ]
  },
  {
   "cell_type": "code",
   "execution_count": null,
   "metadata": {},
   "outputs": [],
   "source": []
  },
  {
   "cell_type": "code",
   "execution_count": null,
   "metadata": {},
   "outputs": [],
   "source": [
    "#Hàm tính giai thừa sử dụng các tham số mặc định\n",
    "def giai_thua(n=8):\n",
    "    #nhóm các câu lệnh xử lý bên trong hàm\n",
    "    tich=1\n",
    "    for i in range(1,n+1):\n",
    "        tich=tich*i\n",
    "    #kết quả trả về cho hàm\n",
    "    return tich"
   ]
  },
  {
   "cell_type": "code",
   "execution_count": null,
   "metadata": {},
   "outputs": [],
   "source": [
    "#Nếu không truyền tham số, hàm sẽ sử dụng tham số mặc định n = 8\n",
    "giai_thua()"
   ]
  },
  {
   "cell_type": "code",
   "execution_count": null,
   "metadata": {},
   "outputs": [],
   "source": [
    "giai_thua(15)"
   ]
  },
  {
   "cell_type": "code",
   "execution_count": null,
   "metadata": {},
   "outputs": [],
   "source": []
  },
  {
   "cell_type": "code",
   "execution_count": null,
   "metadata": {},
   "outputs": [],
   "source": [
    "#Hàm tính tổng hiệu tich thương với tham số mặc định\n",
    "def all_ab(a=10,b=6):\n",
    "    add = a+b\n",
    "    sub = a-b\n",
    "    multi = a*b\n",
    "    div = a/b\n",
    "    #hàm trả về kết quả là 4 giá trị\n",
    "    return add, sub, multi, div"
   ]
  },
  {
   "cell_type": "code",
   "execution_count": null,
   "metadata": {
    "scrolled": true
   },
   "outputs": [],
   "source": [
    "#Không truyền tham số, sử dụng tham số mặc định\n",
    "all_ab()"
   ]
  },
  {
   "cell_type": "code",
   "execution_count": null,
   "metadata": {},
   "outputs": [],
   "source": [
    "#Truyền vào 1 tham số\n",
    "all_ab(18)"
   ]
  },
  {
   "cell_type": "markdown",
   "metadata": {},
   "source": [
    "\n",
    "**Hàm ẩn danh (lambda):**\n",
    "---\n",
    "* Một hàm ẩn danh là một hàm được định nghĩa mà không có tên \n",
    "* Các hàm bình thường được định nghĩa bằng từ khóa def; hàm ẩn danh được định nghĩa bằng từ khóa lambda\n",
    "\n",
    "**Cú pháp:**\n",
    "lambda arguments : Expression\n"
   ]
  },
  {
   "cell_type": "code",
   "execution_count": null,
   "metadata": {},
   "outputs": [],
   "source": []
  },
  {
   "cell_type": "code",
   "execution_count": null,
   "metadata": {},
   "outputs": [],
   "source": [
    "#Ví dụ hàm ẩn danh: 1 tham số\n",
    "x = lambda a : a + 10\n",
    "#lambda a: a + 10 là hàm lambda\n",
    "#Trong đó: a là tham số truyền vào\n",
    "#          a+10 là biểu thức\n",
    "\n",
    "print(x(5))\n",
    "print(x(7))"
   ]
  },
  {
   "cell_type": "code",
   "execution_count": null,
   "metadata": {},
   "outputs": [],
   "source": [
    "#Hàm ẩn danh 2 tham số \n",
    "x = lambda a, b : a * b\n",
    "\n",
    "print(x(15, 6))"
   ]
  },
  {
   "cell_type": "code",
   "execution_count": null,
   "metadata": {},
   "outputs": [],
   "source": [
    "#Sử dụng lambda tạo một danh sách mới là bình phương của phần tử trong danh sách cũ\n",
    "my_list = [1, 5, 4, 6, 8, 11, 3, 12]\n",
    "new_list = list(map(lambda x: x*2, my_list))\n",
    "print(new_list) \n",
    "print(type(new_list))"
   ]
  },
  {
   "cell_type": "code",
   "execution_count": null,
   "metadata": {},
   "outputs": [],
   "source": [
    "new_tuple = tuple(map(lambda x: x*2, my_list))\n",
    "print(new_tuple) \n",
    "print(type(new_tuple))"
   ]
  },
  {
   "cell_type": "code",
   "execution_count": null,
   "metadata": {},
   "outputs": [],
   "source": [
    "new_set = set(map(lambda x: x*2, my_list))\n",
    "print(new_set) \n",
    "print(type(new_set))"
   ]
  },
  {
   "cell_type": "code",
   "execution_count": null,
   "metadata": {},
   "outputs": [],
   "source": [
    "#so sánh giữa hàm truyền thống và lambda:\n",
    "def square(x):\n",
    "    return x**2\n",
    "\n",
    "#----------------------------------\n",
    "square_lambda = lambda x: x**2"
   ]
  },
  {
   "cell_type": "code",
   "execution_count": null,
   "metadata": {},
   "outputs": [],
   "source": [
    "print(square(10))\n",
    "print(square_lambda(10))"
   ]
  },
  {
   "cell_type": "markdown",
   "metadata": {},
   "source": [
    "Traditional Functions\t--->  Lambda Functions\n",
    "* They can have multiple expressions/ statements in their body.\t--->  \tThey can have just a single expression in their body.\n",
    "\n",
    "* These can have default values for their parameters.\t--->  \tLambda parameters can’t have default values.\n",
    "\n",
    "* Normal function can return an object of any type.\t\t--->  Lambda function always returns a function object.\n",
    "\n",
    "* It takes more time for execution as compared to lambda functions.\t\t--->  These take relatively less time.\n",
    "\n",
    "* Require more lines of code.\t\t--->  It requires a maximum of two lines of code to define and call a lambda function."
   ]
  },
  {
   "cell_type": "code",
   "execution_count": null,
   "metadata": {},
   "outputs": [],
   "source": []
  },
  {
   "cell_type": "markdown",
   "metadata": {},
   "source": [
    "# THỰC HÀNH:\n",
    "---\n",
    "## BÀI 14: Viết hàm cho các bài đã thực hiện\n",
    "1. Viết hàm greeting(): Trả về câu chào với tham số truyền vào là chuỗi họ tên và năm sinh (Xem lại bài tập số 2)\n",
    "2. Viết hàm rabbit_count(): tính số thỏ trong rừng khi truyền vào số tháng (Xem lại bài tập số 3)\n",
    "3. Viết hàm count_mark(): trả về số sinh viên học lại và tổng số sinh viên trong lớp với tham số truyền vào là một danh sách bảng điểm (Xem lại bài tập số 5 ý 1, 2)\n",
    "4. Viết hàm bmi_show(): Trả về nhận xét dựa vào chỉ số BMI đã tính với 2 tham số truyền vào là chiều cao, cân nặng (Xem lại bài tập số 7)\n",
    "5. Viết hàm cal_point(): Trả về điểm trung bình hệ 10 và hệ 4 của một học sinh khi truyền vào danh sách điểm (Xem lại bài tập số 10 ý 2)\n",
    "6. Viết hàm list_prime(): trả danh sách các số nguyên tố trong khoảng tử 1 đến n với tham số truyền vào là n (Xem lại bài tập số 12)"
   ]
  },
  {
   "cell_type": "code",
   "execution_count": null,
   "metadata": {},
   "outputs": [],
   "source": [
    "#{HỌC VIÊN VIẾT CODE Ở ĐÂY}\n",
    "\n",
    "#14.4: Viết hàm bmi_show\n",
    "def bmi_show(h = 1.77, w = 50):\n",
    "    bmi = round(w/(h**2),1)\n",
    "    if(bmi < 18.5):\n",
    "        label = \"Underweight\"\n",
    "    elif(18.5 <= bmi <= 24.9):\n",
    "        label = \"Normal weight\"\n",
    "    elif(25 <= bmi <= 29.9):\n",
    "        label = \"Over weight\"\n",
    "    else:\n",
    "        label = \"Obese\"\n",
    "    \n",
    "    \n",
    "    return bmi, label\n",
    "    \n",
    "\n",
    "\n",
    "\n"
   ]
  },
  {
   "cell_type": "code",
   "execution_count": null,
   "metadata": {},
   "outputs": [],
   "source": [
    "#bmi_show(1.8,60)\n",
    "h = float(input(\"Nhập vào chiều cao (m):\"))\n",
    "w = float(input(\"Nhập vào cân nặng (kg):\"))\n",
    "a,b = bmi_show(h,w)\n",
    "print(\"Chỉ số của bạn \", a, \".Bạn đang ở mức\", b)"
   ]
  },
  {
   "cell_type": "code",
   "execution_count": null,
   "metadata": {},
   "outputs": [],
   "source": [
    "bmi_show()"
   ]
  },
  {
   "cell_type": "code",
   "execution_count": null,
   "metadata": {},
   "outputs": [],
   "source": []
  },
  {
   "cell_type": "markdown",
   "metadata": {},
   "source": [
    "# 2. Lớp, đối tượng trong Python\n",
    "---\n",
    "Một số khái niệm hướng đối tượng:\n",
    "* **Thuộc tính (Attribute):** \n",
    "    * Dùng để chứa các thông tin mô tả các đặc điểm của đối tượng. Sử dụng các biến để lưu giữ những thông tin này. Khi đó các biến được gọi là các thuộc tính.\n",
    "    * Thuộc tính là một thành viên của lớp, Hình chữ nhật có 2 thuộc tính width và height\n",
    "* **Phương thức (Method):**\n",
    "    * dùng để mô tả các hành vi của đối tượng.Sử dụng các hàm để mô tả các hành vi này. Khi đó các hàm được gọi là các phương thức.!\n",
    "    * Phương thức của class tương tự như một hàm thông thường, nhưng nó là một hàm của class. Để sử dụng được cần phải gọi thông qua đối tượng.\n",
    "    * Tham số đầu tiên của phương thức luôn là self (Một từ khóa ám chỉ chính class đó)\n",
    "* **Phương thức khởi tạo (Constructor):**\n",
    "    * Là một phương thức đặc biệt của lớp, luôn có tên là __init__. Tham số đầu tiên luôn là self. Từ khoá self ở đây thể hiện cho chính bản thân class.  \n",
    "    * Chỉ có thể định nghĩa một contructor trong class\n",
    "    * Constructor được sử dụng để tạo ra một đối tượng.\n"
   ]
  },
  {
   "cell_type": "code",
   "execution_count": null,
   "metadata": {},
   "outputs": [],
   "source": [
    "lt =[1,3,4,5]\n",
    "print(type(lt))"
   ]
  },
  {
   "cell_type": "code",
   "execution_count": 21,
   "metadata": {},
   "outputs": [],
   "source": [
    "#Tạo một lớp Rectangle\n",
    "class Rectangle:\n",
    "    #Lớp Rectangle có 2 thuộc tính: width, height\n",
    "\n",
    "    #Phương thức khởi tạo đối tượng (Contructor)\n",
    "    def __init__(self, width, height):\n",
    "        self.width = width\n",
    "        self.height = height\n",
    "    \n",
    "    #Lớp Rectangle có 2 phương thức: \n",
    "    #1. Phương thức tính diện tích\n",
    "    def getArea(self):\n",
    "        area = round(self.width * self.height,1)\n",
    "        return area\n",
    "   \n",
    "    #2. Phương thức tính chu vi\n",
    "    def getPerimeter(self):\n",
    "        perimeter = round((self.width + self.height)*2,1)\n",
    "        return perimeter   "
   ]
  },
  {
   "cell_type": "code",
   "execution_count": 22,
   "metadata": {},
   "outputs": [],
   "source": [
    "#Ví dụ: Tạo 2 đối tượng r1, r2 từ class Rectangle\n",
    "r1 = Rectangle(10,8)\n",
    "r2 = Rectangle(20,11)"
   ]
  },
  {
   "cell_type": "code",
   "execution_count": null,
   "metadata": {},
   "outputs": [],
   "source": []
  },
  {
   "cell_type": "code",
   "execution_count": 23,
   "metadata": {},
   "outputs": [
    {
     "name": "stdout",
     "output_type": "stream",
     "text": [
      "----Thuộc tính----------------\n",
      "1. Thuộc tính Chiều rộng:  10\n",
      "2. Thuộc tính Chiều dài:  8\n"
     ]
    }
   ],
   "source": [
    "#Lấy thuộc tính width, height  của đối tượng rec1\n",
    "x = r1.width\n",
    "y = r1.height\n",
    "print('----Thuộc tính----------------')\n",
    "print('1. Thuộc tính Chiều rộng: ', x)\n",
    "print('2. Thuộc tính Chiều dài: ', y)"
   ]
  },
  {
   "cell_type": "code",
   "execution_count": 24,
   "metadata": {},
   "outputs": [
    {
     "name": "stdout",
     "output_type": "stream",
     "text": [
      "---------Phương thức----------\n",
      "1. Phương thức tính Diện tích: 80\n",
      "2. Phương thức tính Chu vi: 36\n"
     ]
    }
   ],
   "source": [
    "#Gọi phương thức getArea, getPerimeter của đối tượng rec1\n",
    "dt = r1.getArea()\n",
    "cv = r1.getPerimeter()\n",
    "print('---------Phương thức----------')\n",
    "print('1. Phương thức tính Diện tích:', dt)\n",
    "print('2. Phương thức tính Chu vi:',cv)"
   ]
  },
  {
   "cell_type": "code",
   "execution_count": 25,
   "metadata": {},
   "outputs": [],
   "source": [
    "r_vin = Rectangle(15,15)\n"
   ]
  },
  {
   "cell_type": "code",
   "execution_count": 26,
   "metadata": {},
   "outputs": [
    {
     "data": {
      "text/plain": [
       "225"
      ]
     },
     "execution_count": 26,
     "metadata": {},
     "output_type": "execute_result"
    }
   ],
   "source": [
    "r_vin.getArea()"
   ]
  },
  {
   "cell_type": "code",
   "execution_count": 27,
   "metadata": {},
   "outputs": [
    {
     "data": {
      "text/plain": [
       "10"
      ]
     },
     "execution_count": 27,
     "metadata": {},
     "output_type": "execute_result"
    }
   ],
   "source": [
    "r1.width"
   ]
  },
  {
   "cell_type": "code",
   "execution_count": 28,
   "metadata": {},
   "outputs": [],
   "source": [
    "#Thiết lập lại giá trị thuộc tính của đối tượng\n",
    "r1.width = 15"
   ]
  },
  {
   "cell_type": "code",
   "execution_count": null,
   "metadata": {},
   "outputs": [],
   "source": []
  },
  {
   "cell_type": "code",
   "execution_count": 29,
   "metadata": {},
   "outputs": [
    {
     "name": "stdout",
     "output_type": "stream",
     "text": [
      "15  -- :Diện tích:  120\n"
     ]
    }
   ],
   "source": [
    "print (r1.width,' -- :Diện tích: ',r1.getArea())"
   ]
  },
  {
   "cell_type": "code",
   "execution_count": null,
   "metadata": {},
   "outputs": [],
   "source": []
  },
  {
   "cell_type": "code",
   "execution_count": 30,
   "metadata": {},
   "outputs": [],
   "source": [
    "#Setup giá trị mặc định cho thuộc tính của đối tượng và thuộc tính cố định ko thể thay đôi\n",
    "#Tạo một lớp Rectangle\n",
    "class Rectangle1:\n",
    "    version = '1.0.1'\n",
    "    \n",
    "    def __init__(self, width = 8, height = 4):\n",
    "        self.width = width\n",
    "        self.height = height\n",
    "       \n",
    "    #Phương thức tính diện tích\n",
    "    def getArea(self):\n",
    "        area = round(self.width * self.height,1)\n",
    "        return area\n",
    "   \n",
    "    #Phương thức tính chu vi\n",
    "    def getPerimeter(self):\n",
    "        perimeter = round((self.width + self.height)*2,1)\n",
    "        return perimeter   "
   ]
  },
  {
   "cell_type": "code",
   "execution_count": 31,
   "metadata": {},
   "outputs": [],
   "source": [
    "#Khởi tạo đối tượng\n",
    "r3 = Rectangle1()"
   ]
  },
  {
   "cell_type": "code",
   "execution_count": 32,
   "metadata": {},
   "outputs": [
    {
     "data": {
      "text/plain": [
       "'1.0.1'"
      ]
     },
     "execution_count": 32,
     "metadata": {},
     "output_type": "execute_result"
    }
   ],
   "source": [
    "r3.version"
   ]
  },
  {
   "cell_type": "code",
   "execution_count": 33,
   "metadata": {},
   "outputs": [
    {
     "name": "stdout",
     "output_type": "stream",
     "text": [
      "----Thuộc tính----------------\n",
      "1. Thuộc tính Chiều rộng:  8\n",
      "2. Thuộc tính Chiều dài:  4\n"
     ]
    }
   ],
   "source": [
    "#Lấy thuộc tính width, height  của đối tượng rec1\n",
    "x = r3.width\n",
    "y = r3.height\n",
    "print('----Thuộc tính----------------')\n",
    "print('1. Thuộc tính Chiều rộng: ', x)\n",
    "print('2. Thuộc tính Chiều dài: ', y)"
   ]
  },
  {
   "cell_type": "markdown",
   "metadata": {},
   "source": [
    "## Thừa kế (Inheritance)\n",
    "---\n",
    "* Việc thực hiện thao tác thừa kế là đơn giản và hiệu quả, trong đó cho phép tạo ra môt lớp mới từ một lớp có sẵn. \n",
    "* Lớp mới dẫn xuất từ lớp có sẵn có thể tái sử dụng các biến và phương thức của nó mà không cần phải viết lại hoặc sửa lại đoạn mã.\n",
    "* Khi thực hiện thừa kế, lớp được dẫn xuất từ lớp khác được gọi là phân lớp, lớp dẫn xuất, lớp con; Lớp mà từa đó phân lớp được dẫn xuất thì được gọi là siêu lớp, lớp cơ sở, lớp cha\n",
    "\n",
    "<img src='Pic/Picture1.jpg' width='600px'>\n",
    "\n",
    "\n",
    "* **Đơn thừa kế (Single):** Xảy ra khi một lớp con thừa kế chỉ một lớp cha\n",
    "* **Thừa kế nhiều mức (Multilevel):** Khi một lớp con dẫn xuất từ một lớp cha và bản thân lớp cha lại là con của một lớp khác.\n",
    "* **Thừa kế phân cấp (Hierarchical):** Loại thừa kế này xảy ra khi một lớp cha có nhiều hơn một lớp con ở những mức khác nhau.\n",
    "* **Đa thừa kế (Multiple):** Xảy ra khi một lớp con dẫn xuất từ nhiều hơn một lớp cha\n"
   ]
  },
  {
   "cell_type": "code",
   "execution_count": 38,
   "metadata": {},
   "outputs": [],
   "source": [
    "import matplotlib.pyplot as plt\n",
    "import matplotlib.patches as mpatches\n",
    "\n",
    "#Khai báo lớp Square thừa kế từ lớp Rectangle\n",
    "class Square(Rectangle):\n",
    "    #dùng super() để gọi đến hàm tạo của lớp cha\n",
    "    def __init__(self, width = 15, color='red'):\n",
    "        super().__init__(width, width)\n",
    "        self.color=color #Lớp square có thêm thuộc tính color\n",
    "    \n",
    "    #Thêm phương thức draw() để vẽ hình vuông theo width và color\n",
    "    def draw(self):\n",
    "        x = self.width\n",
    "        c = self.color\n",
    "        fig, ax = plt.subplots(figsize=(4,4))\n",
    "        square = plt.Rectangle((0, 0), x, x, color=c)\n",
    "        ax.add_patch(square)\n",
    "        automin, automax = plt.xlim()\n",
    "        plt.xlim(0-10, x+10)\n",
    "        automin, automax = plt.ylim()\n",
    "        plt.ylim(0-10, x+10)\n",
    "        plt.grid(True)\n",
    "        plt.show()\n",
    "        "
   ]
  },
  {
   "cell_type": "code",
   "execution_count": 39,
   "metadata": {},
   "outputs": [],
   "source": [
    "#Khai báo đối tượng a thuộc lớp Square\n",
    "a = Square(50,'violet')"
   ]
  },
  {
   "cell_type": "code",
   "execution_count": 17,
   "metadata": {},
   "outputs": [
    {
     "ename": "NameError",
     "evalue": "name 'a' is not defined",
     "output_type": "error",
     "traceback": [
      "\u001b[1;31m---------------------------------------------------------------------------\u001b[0m",
      "\u001b[1;31mNameError\u001b[0m                                 Traceback (most recent call last)",
      "Input \u001b[1;32mIn [17]\u001b[0m, in \u001b[0;36m<cell line: 2>\u001b[1;34m()\u001b[0m\n\u001b[0;32m      1\u001b[0m \u001b[38;5;66;03m#Tái sử dụng các thuộc tính của lớp Rectangle\u001b[39;00m\n\u001b[1;32m----> 2\u001b[0m \u001b[38;5;28mprint\u001b[39m(\u001b[43ma\u001b[49m\u001b[38;5;241m.\u001b[39mwidth)\n\u001b[0;32m      3\u001b[0m \u001b[38;5;28mprint\u001b[39m(a\u001b[38;5;241m.\u001b[39mheight)\n\u001b[0;32m      5\u001b[0m \u001b[38;5;66;03m#Bổ sung thêm thuộc tính mới cho lớp Square\u001b[39;00m\n",
      "\u001b[1;31mNameError\u001b[0m: name 'a' is not defined"
     ]
    }
   ],
   "source": [
    "#Tái sử dụng các thuộc tính của lớp Rectangle\n",
    "print(a.width)\n",
    "print(a.height)\n",
    "\n",
    "#Bổ sung thêm thuộc tính mới cho lớp Square\n",
    "print(a.color)"
   ]
  },
  {
   "cell_type": "code",
   "execution_count": null,
   "metadata": {},
   "outputs": [],
   "source": [
    "#Tái sử dụng các phương thức của lớp Rectangle\n",
    "print('Diện tích hình vuông:', a.getArea())\n",
    "print('Chu vi hình vuông:', a.getPerimeter())"
   ]
  },
  {
   "cell_type": "code",
   "execution_count": null,
   "metadata": {},
   "outputs": [],
   "source": [
    "#Sử dụng phương thức mới draw của lớp Square\n",
    "a.draw()"
   ]
  },
  {
   "cell_type": "code",
   "execution_count": null,
   "metadata": {},
   "outputs": [],
   "source": []
  },
  {
   "cell_type": "markdown",
   "metadata": {},
   "source": [
    "# THỰC HÀNH:\n",
    "---\n",
    "## BÀI 15: Xây dựng lớp Person:\n",
    "1. Gồm các Thuộc tính: \n",
    "    * họ tên (name), năm sinh (year), chiều cao height), cân nặng (weight)\n",
    "    * Giá trị mặc định của các thuộc tính là thông tin của bạn\n",
    "\n",
    "2. Gồm các Phương thức: \n",
    "    * Geeting(): Hiển thị thông tin của Person\n",
    "    * BMI(): Tính toán theo chỉ số BMI của Person\n"
   ]
  },
  {
   "cell_type": "code",
   "execution_count": 53,
   "metadata": {},
   "outputs": [],
   "source": [
    "class Person:\n",
    "    def __init__ (self, name = 'Lê Huy Hoàng', year = 2002, height=1.77, weight = 55):\n",
    "        self.name = name\n",
    "        self.year = year\n",
    "        self.height = height\n",
    "        self.weight = weight\n",
    "    \n",
    "    def Greeting(self):\n",
    "        print(\"Tên: \", self.name)\n",
    "        print(\"Năm sinh: \", self.year)\n",
    "        print(\"Chiều cao: \", self.height)\n",
    "        print(\"Cân nặng: \", self.weight)\n",
    "    \n",
    "    def BMI(self):\n",
    "        bmi = self.weight/(self.height**2)\n",
    "        print(\"Chỉ số BMI: \", round(bmi,1))\n",
    "        "
   ]
  },
  {
   "cell_type": "code",
   "execution_count": 66,
   "metadata": {},
   "outputs": [
    {
     "name": "stdout",
     "output_type": "stream",
     "text": [
      "Tên:  Lê Huy Hoàng\n",
      "Năm sinh:  2002\n",
      "Chiều cao:  1.77\n",
      "Cân nặng:  55\n",
      "Chỉ số BMI:  17.6\n"
     ]
    }
   ],
   "source": [
    "p1 = Person()\n",
    "p1.Greeting()\n",
    "p1.BMI()"
   ]
  },
  {
   "cell_type": "code",
   "execution_count": null,
   "metadata": {},
   "outputs": [],
   "source": []
  },
  {
   "cell_type": "code",
   "execution_count": null,
   "metadata": {},
   "outputs": [],
   "source": []
  },
  {
   "cell_type": "code",
   "execution_count": null,
   "metadata": {},
   "outputs": [],
   "source": []
  },
  {
   "cell_type": "code",
   "execution_count": null,
   "metadata": {},
   "outputs": [],
   "source": []
  },
  {
   "cell_type": "code",
   "execution_count": null,
   "metadata": {},
   "outputs": [],
   "source": []
  },
  {
   "cell_type": "markdown",
   "metadata": {},
   "source": [
    "**2. Xây dựng lớp Vietnam, kế thừa từ lớp Person:**\n",
    "* Kế thừa tất cả các thuộc tính của lớp Person và Bổ sung thêm Thuộc tính: \n",
    "Dân tộc (nation), giá trịnh mặc định là “Kinh”\n",
    "* Kế thừa phương thức BMI của lớp Person và  cập nhật lại Phương thức Geeting() (Method overriding): \n",
    "\n",
    "Ví dụ Geeting(): \n",
    "\n",
    "Tôi tên là:  Thanh Huyền - Dân tộc: Tày\n",
    "\n",
    "Tôi sinh năm  2000 . Rất vui được làm quyen với bạn!"
   ]
  },
  {
   "cell_type": "code",
   "execution_count": 80,
   "metadata": {},
   "outputs": [],
   "source": [
    "#{HỌC VIÊN VIẾT CODE Ở ĐÂY}\n",
    "\n",
    "class Vietnam(Person):\n",
    "    def __init__(self, name, year, height, weight, nation = 'Kinh'):\n",
    "        super().__init__(name, year, height, weight)\n",
    "        self.nation = nation\n",
    "    def BMI(self):\n",
    "        super().BMI()\n",
    "    def Greeting(self):\n",
    "        print(\"Tôi tên là:\", self.name, \"-Dân tộc:\", self.nation)\n",
    "        print(\"Tôi sinh năm:\", self.year,\". Rất vui được làm quen với bạn\")\n",
    "\n",
    "\n",
    "\n"
   ]
  },
  {
   "cell_type": "code",
   "execution_count": 81,
   "metadata": {},
   "outputs": [
    {
     "name": "stdout",
     "output_type": "stream",
     "text": [
      "Chỉ số BMI:  18.4\n",
      "Tôi tên là: Thanh Huyền -Dân tộc: Tày\n",
      "Tôi sinh năm: 2000 . Rất vui được làm quen với bạn\n"
     ]
    }
   ],
   "source": [
    "vn1 = Vietnam(\"Thanh Huyền\",2000,1.65,50,\"Tày\")\n",
    "vn1.BMI()\n",
    "vn1.Greeting()"
   ]
  },
  {
   "cell_type": "code",
   "execution_count": 11,
   "metadata": {},
   "outputs": [],
   "source": []
  },
  {
   "cell_type": "code",
   "execution_count": null,
   "metadata": {},
   "outputs": [],
   "source": []
  }
 ],
 "metadata": {
  "kernelspec": {
   "display_name": "Python 3 (ipykernel)",
   "language": "python",
   "name": "python3"
  },
  "language_info": {
   "codemirror_mode": {
    "name": "ipython",
    "version": 3
   },
   "file_extension": ".py",
   "mimetype": "text/x-python",
   "name": "python",
   "nbconvert_exporter": "python",
   "pygments_lexer": "ipython3",
   "version": "3.9.12"
  }
 },
 "nbformat": 4,
 "nbformat_minor": 2
}
