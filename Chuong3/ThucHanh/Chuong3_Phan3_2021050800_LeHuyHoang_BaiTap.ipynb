{
 "cells": [
  {
   "cell_type": "markdown",
   "metadata": {},
   "source": [
    "# THỰC HÀNH:\n",
    "---\n",
    "## BÀI 14: Viết hàm cho các bài đã thực hiện\n",
    "1. Viết hàm greeting(): Trả về câu chào với tham số truyền vào là chuỗi họ tên và năm sinh (Xem lại bài tập số 2)\n",
    "2. Viết hàm rabbit_count(): tính số thỏ trong rừng khi truyền vào số tháng (Xem lại bài tập số 3)\n",
    "3. Viết hàm count_mark(): trả về số sinh viên học lại và tổng số sinh viên trong lớp với tham số truyền vào là một danh sách bảng điểm (Xem lại bài tập số 5 ý 1, 2)\n",
    "4. Viết hàm bmi_show(): Trả về nhận xét dựa vào chỉ số BMI đã tính với 2 tham số truyền vào là chiều cao, cân nặng (Xem lại bài tập số 7)\n",
    "5. Viết hàm cal_point(): Trả về điểm trung bình hệ 10 và hệ 4 của một học sinh khi truyền vào danh sách điểm (Xem lại bài tập số 10 ý 2)\n",
    "6. Viết hàm list_prime(): trả danh sách các số nguyên tố trong khoảng tử 1 đến n với tham số truyền vào là n (Xem lại bài tập số 12)"
   ]
  },
  {
   "cell_type": "code",
   "execution_count": 1,
   "metadata": {},
   "outputs": [],
   "source": [
    "#{HỌC VIÊN VIẾT CODE Ở ĐÂY}\n",
    "\n",
    "#14.1: Viết hàm Greeting\n",
    "def Greeting(name, year):\n",
    "    print(\"Chào bạn\", name, \"sinh năm\", year)\n",
    "#--------------------------------------\n",
    "\n",
    "#14.2: Viết hàm rabbit_count\n",
    "def rabbit_count(month):\n",
    "    count = 2**(month+1)\n",
    "    return count\n",
    "#----------------------------\n",
    "    \n",
    "#14.3: Viết hàm count_mark\n",
    "def count_mark(student_list):\n",
    "    tong_sv = len(student_list)\n",
    "    sv_hoclai = student_list.count(\"F\")  \n",
    "    \n",
    "    return tong_sv, sv_hoclai\n",
    "#----------------------------------\n",
    "#14.4: Viết hàm bmi_show\n",
    "def bmi_show(h = 1.77, w = 50):\n",
    "    bmi = round(w/(h**2),1)\n",
    "    if(bmi < 18.5):\n",
    "        label = \"Underweight\"\n",
    "    elif(18.5 <= bmi <= 24.9):\n",
    "        label = \"Normal weight\"\n",
    "    elif(25 <= bmi <= 29.9):\n",
    "        label = \"Over weight\"\n",
    "    else:\n",
    "        label = \"Obese\"\n",
    "    \n",
    "    \n",
    "    return bmi, label\n",
    "#----------------------------\n",
    "\n",
    "#14.5: Viết hàm cal_point\n",
    "def cal_point(ds):\n",
    "    num_point = len(ds)\n",
    "    list_diem_4 = []\n",
    "    \n",
    "    list_DiemHe_4 = [0, 1.0, 1.5, 2.0, 2.5, 3.0, 3.5, 3.7, 4.0]\n",
    "    list_DiemHe_10 = [0, 3.9, 4.0, 4.9, 5.0, 5.4, 5.5, 6.4, 6.5, 6.9, 7.0 ,7.9, 8.0, 8.4, 8.5, 8.9, 9.0, 10.0]\n",
    "    \n",
    "    for i in range(0,num_point):\n",
    "        for j in range(0,len(list_DiemHe_10),2):\n",
    "            if(list_DiemHe_10[j] <= ds[i] <= list_DiemHe_10[j+1]):\n",
    "                list_diem_4.append(list_DiemHe_4[j//2])\n",
    "    \n",
    "    \n",
    "    sum1 = 0\n",
    "\n",
    "    for i in range (0,num_point):\n",
    "        sum1 = sum1 + ds[i]\n",
    "    diem_he_10 = sum1/num_point\n",
    "\n",
    "    sum2 = 0\n",
    "\n",
    "    for i in range (0,num_point):\n",
    "            sum2 = sum2 + list_diem_4[i]\n",
    "    diem_he_4 = sum2/num_point\n",
    "    \n",
    "    return diem_he_10, diem_he_4\n",
    "#------------------------------------\n",
    "#14.6: viết hàm list_prime\n",
    "import math\n",
    "def list_prime(n):\n",
    "    list_prime = []\n",
    "\n",
    "    for i in range(1, n):\n",
    "        mark = 1\n",
    "        for j in range(2, round(math.sqrt(i))+1):\n",
    "            if(i%j == 0):\n",
    "                mark = 0\n",
    "                break\n",
    "        if(mark == 1):\n",
    "            list_prime.append(i)\n",
    "    return list_prime\n",
    "#-----------------------------\n",
    "\n",
    "\n",
    "\n"
   ]
  },
  {
   "cell_type": "code",
   "execution_count": 2,
   "metadata": {},
   "outputs": [
    {
     "name": "stdout",
     "output_type": "stream",
     "text": [
      "Chào bạn Lê Huy Hoàng sinh năm 2002\n"
     ]
    }
   ],
   "source": [
    "Greeting(\"Lê Huy Hoàng\",2002)"
   ]
  },
  {
   "cell_type": "code",
   "execution_count": 3,
   "metadata": {},
   "outputs": [
    {
     "name": "stdout",
     "output_type": "stream",
     "text": [
      "Nhập vào chiều cao (m):1.77\n",
      "Nhập vào cân nặng (kg):55\n",
      "Chỉ số của bạn  17.6 .Bạn đang ở mức Underweight\n"
     ]
    }
   ],
   "source": [
    "#bmi_show(1.8,60)\n",
    "h = float(input(\"Nhập vào chiều cao (m):\"))\n",
    "w = float(input(\"Nhập vào cân nặng (kg):\"))\n",
    "a,b = bmi_show(h,w)\n",
    "print(\"Chỉ số của bạn \", a, \".Bạn đang ở mức\", b)"
   ]
  },
  {
   "cell_type": "code",
   "execution_count": 4,
   "metadata": {},
   "outputs": [
    {
     "name": "stdout",
     "output_type": "stream",
     "text": [
      "Số thỏ là:  8192\n"
     ]
    }
   ],
   "source": [
    "num = rabbit_count(12)\n",
    "print(\"Số thỏ là: \", num)"
   ]
  },
  {
   "cell_type": "code",
   "execution_count": 5,
   "metadata": {},
   "outputs": [
    {
     "name": "stdout",
     "output_type": "stream",
     "text": [
      "Điểm hệ 10: 7.044444444444444\n",
      "Điểm hệ 4: 2.7222222222222223\n"
     ]
    }
   ],
   "source": [
    "point_10, point_4 = cal_point([8.4, 6.5, 7.3, 2.6, 9.0, 5.8, 6.0, 9.7, 8.1])\n",
    "\n",
    "print(\"Điểm hệ 10:\", point_10)\n",
    "print(\"Điểm hệ 4:\", point_4)"
   ]
  },
  {
   "cell_type": "code",
   "execution_count": 6,
   "metadata": {},
   "outputs": [
    {
     "data": {
      "text/plain": [
       "[1, 2, 3, 5, 7, 11, 13, 17, 19]"
      ]
     },
     "execution_count": 6,
     "metadata": {},
     "output_type": "execute_result"
    }
   ],
   "source": [
    "list_prime(22)"
   ]
  },
  {
   "cell_type": "code",
   "execution_count": 7,
   "metadata": {},
   "outputs": [
    {
     "data": {
      "text/plain": [
       "(5, 2)"
      ]
     },
     "execution_count": 7,
     "metadata": {},
     "output_type": "execute_result"
    }
   ],
   "source": [
    "stu_list = ['F', 'A', 'C', 'B', 'F']\n",
    "count_mark(stu_list)"
   ]
  },
  {
   "cell_type": "markdown",
   "metadata": {},
   "source": [
    "# THỰC HÀNH:\n",
    "---\n",
    "## BÀI 15: Xây dựng lớp Person:\n",
    "1. Gồm các Thuộc tính: \n",
    "    * họ tên (name), năm sinh (year), chiều cao height), cân nặng (weight)\n",
    "    * Giá trị mặc định của các thuộc tính là thông tin của bạn\n",
    "\n",
    "2. Gồm các Phương thức: \n",
    "    * Geeting(): Hiển thị thông tin của Person\n",
    "    * BMI(): Tính toán theo chỉ số BMI của Person\n"
   ]
  },
  {
   "cell_type": "code",
   "execution_count": 8,
   "metadata": {},
   "outputs": [],
   "source": [
    "class Person:\n",
    "    def __init__ (self, name = 'Lê Huy Hoàng', year = 2002, height=1.77, weight = 55):\n",
    "        self.name = name\n",
    "        self.year = year\n",
    "        self.height = height\n",
    "        self.weight = weight\n",
    "    \n",
    "    def Greeting(self):\n",
    "        print(\"Tên: \", self.name)\n",
    "        print(\"Năm sinh: \", self.year)\n",
    "        print(\"Chiều cao: \", self.height)\n",
    "        print(\"Cân nặng: \", self.weight)\n",
    "    \n",
    "    def BMI(self):\n",
    "        bmi = self.weight/(self.height**2)\n",
    "        print(\"Chỉ số BMI: \", round(bmi,1))\n",
    "        "
   ]
  },
  {
   "cell_type": "code",
   "execution_count": 9,
   "metadata": {},
   "outputs": [
    {
     "name": "stdout",
     "output_type": "stream",
     "text": [
      "Tên:  Lê Huy Hoàng\n",
      "Năm sinh:  2002\n",
      "Chiều cao:  1.77\n",
      "Cân nặng:  55\n",
      "Chỉ số BMI:  17.6\n"
     ]
    }
   ],
   "source": [
    "p1 = Person()\n",
    "p1.Greeting()\n",
    "p1.BMI()"
   ]
  },
  {
   "cell_type": "markdown",
   "metadata": {},
   "source": [
    "**2. Xây dựng lớp Vietnam, kế thừa từ lớp Person:**\n",
    "* Kế thừa tất cả các thuộc tính của lớp Person và Bổ sung thêm Thuộc tính: \n",
    "Dân tộc (nation), giá trịnh mặc định là “Kinh”\n",
    "* Kế thừa phương thức BMI của lớp Person và  cập nhật lại Phương thức Geeting() (Method overriding): \n",
    "\n",
    "Ví dụ Geeting(): \n",
    "\n",
    "Tôi tên là:  Thanh Huyền - Dân tộc: Tày\n",
    "\n",
    "Tôi sinh năm  2000 . Rất vui được làm quyen với bạn!"
   ]
  },
  {
   "cell_type": "code",
   "execution_count": 10,
   "metadata": {},
   "outputs": [],
   "source": [
    "#{HỌC VIÊN VIẾT CODE Ở ĐÂY}\n",
    "\n",
    "class Vietnam(Person):\n",
    "    def __init__(self, name, year, height, weight, nation = 'Kinh'):\n",
    "        super().__init__(name, year, height, weight)\n",
    "        self.nation = nation\n",
    "    def BMI(self):\n",
    "        super().BMI()\n",
    "    def Greeting(self):\n",
    "        print(\"Tôi tên là:\", self.name, \"-Dân tộc:\", self.nation)\n",
    "        print(\"Tôi sinh năm:\", self.year,\". Rất vui được làm quen với bạn\")\n",
    "\n",
    "\n",
    "\n"
   ]
  },
  {
   "cell_type": "code",
   "execution_count": 13,
   "metadata": {},
   "outputs": [
    {
     "name": "stdout",
     "output_type": "stream",
     "text": [
      "Chỉ số BMI:  18.4\n",
      "Tôi tên là: Thanh Huyền -Dân tộc: Tày\n",
      "Tôi sinh năm: 2000 . Rất vui được làm quen với bạn\n"
     ]
    }
   ],
   "source": [
    "vn1 = Vietnam(\"Thanh Huyền\",2000,1.65,50,\"Tày\")\n",
    "vn1.BMI()\n",
    "vn1.Greeting()"
   ]
  },
  {
   "cell_type": "code",
   "execution_count": null,
   "metadata": {},
   "outputs": [],
   "source": []
  }
 ],
 "metadata": {
  "kernelspec": {
   "display_name": "Python 3 (ipykernel)",
   "language": "python",
   "name": "python3"
  },
  "language_info": {
   "codemirror_mode": {
    "name": "ipython",
    "version": 3
   },
   "file_extension": ".py",
   "mimetype": "text/x-python",
   "name": "python",
   "nbconvert_exporter": "python",
   "pygments_lexer": "ipython3",
   "version": "3.9.12"
  }
 },
 "nbformat": 4,
 "nbformat_minor": 2
}
