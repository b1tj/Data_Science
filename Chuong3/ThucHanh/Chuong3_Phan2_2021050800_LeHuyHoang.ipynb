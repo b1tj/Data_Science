{
 "cells": [
  {
   "cell_type": "markdown",
   "metadata": {},
   "source": [
    "<center>\n",
    "    <img src='Pic/logo.png' width='300px'>\n",
    "    <h1>MÔN HỌC: KHOA HỌC DỮ LIỆU (7080509)</h1>\n",
    "    <h2>Chương 3: Lập Trình Python Cơ bản (Phần 2)</h2>\n",
    "</center>\n",
    "\n",
    "---\n",
    "**NỘI DUNG BÀI HỌC:**\n",
    "1. Các toán tử cơ bản trong Python:\n",
    "    * Toán tử số học\n",
    "    * Toán tử so sánh\n",
    "    * Toán tử gán\n",
    "    * Toán tử logic\n",
    "    * Toán tử membership\n",
    "2. Cấu trúc điều khiển (Dạng 1, dạng 2, dạng 3, dạng 4) \n",
    "3. Cấu trúc vòng lặp \n",
    "    * Vòng lặp không biết trước số lần lặp while\n",
    "    * Vòng lặp biết trước số lần lặp for\n",
    "    * Break\n",
    "    * Continue\n",
    "---\n",
    "*Copyright: Đặng Văn Nam - FIT.HUMG*"
   ]
  },
  {
   "cell_type": "markdown",
   "metadata": {},
   "source": [
    "## 1. Toán tử cơ bản trong Python\n",
    "---\n",
    "### 1.1 Các toán tử số học\n",
    "<img src='pic/Python-Arithmetic-Operators.jpg' width=400px>"
   ]
  },
  {
   "cell_type": "code",
   "execution_count": 1,
   "metadata": {},
   "outputs": [
    {
     "name": "stdout",
     "output_type": "stream",
     "text": [
      "Tổng          a + b  =  18\n",
      "Hiệu          a - b  =  2\n",
      "Tích          a * b  =  80\n",
      "Thương        a / b  =  1.25\n",
      "Thương nguyên a // b =  1\n",
      "Thương dư     a % b  =  2\n",
      "Mũ            a ** b =  100000000\n"
     ]
    }
   ],
   "source": [
    "# A|Các toán tử số học trong python\n",
    "a = 10\n",
    "b = 8\n",
    "#----------------------------------\n",
    "\n",
    "print ('Tổng          a + b  = ', a + b) \n",
    "print ('Hiệu          a - b  = ', a - b) \n",
    "print ('Tích          a * b  = ', a * b) \n",
    "print ('Thương        a / b  = ', a / b) \n",
    "print ('Thương nguyên a // b = ', a // b) \n",
    "print ('Thương dư     a % b  = ', a % b) \n",
    "print ('Mũ            a ** b = ', a ** b) "
   ]
  },
  {
   "cell_type": "markdown",
   "metadata": {},
   "source": [
    "<img src = 'pic/Python-Assignment-Operators.jpg' width=500px>"
   ]
  },
  {
   "cell_type": "code",
   "execution_count": 2,
   "metadata": {},
   "outputs": [
    {
     "name": "stdout",
     "output_type": "stream",
     "text": [
      "c +=a: 18\n"
     ]
    }
   ],
   "source": [
    "#Các toán tử gán\n",
    "a = 10\n",
    "c = 8\n",
    "\n",
    "c += a #(tương đương với c = c + a)\n",
    "print('c +=a:', c)"
   ]
  },
  {
   "cell_type": "code",
   "execution_count": 3,
   "metadata": {},
   "outputs": [
    {
     "name": "stdout",
     "output_type": "stream",
     "text": [
      "c -=a: -2\n"
     ]
    }
   ],
   "source": [
    "#Các toán tử gán\n",
    "a = 10\n",
    "c = 8\n",
    "c -= a #(tương đương với c = c - a)\n",
    "print('c -=a:', c)"
   ]
  },
  {
   "cell_type": "code",
   "execution_count": 4,
   "metadata": {},
   "outputs": [
    {
     "name": "stdout",
     "output_type": "stream",
     "text": [
      "c *=a: 80\n"
     ]
    }
   ],
   "source": [
    "#Các toán tử gán\n",
    "a = 10\n",
    "c = 8\n",
    "c *= a #(tương đương với c = c * a)\n",
    "print('c *=a:', c)"
   ]
  },
  {
   "cell_type": "code",
   "execution_count": null,
   "metadata": {},
   "outputs": [],
   "source": []
  },
  {
   "cell_type": "markdown",
   "metadata": {},
   "source": [
    "### 1.2 Các toán tử so sánh:\n",
    "---\n",
    "<img src='pic/Python-Relational-Operators.jpg' width=300px>"
   ]
  },
  {
   "cell_type": "code",
   "execution_count": 5,
   "metadata": {},
   "outputs": [
    {
     "name": "stdout",
     "output_type": "stream",
     "text": [
      "<class 'bool'>\n",
      "1) SS lớn hơn (a>b): False\n",
      "2) SS nhỏ hơn (a<b): True\n",
      "3) SS bằng    (a=b): False\n",
      "4) SS lớn hơn hoặc bằng (a>=b): False\n",
      "5) SS nhỏ hơn hoặc bằng (a<=b): True\n",
      "6) SS khác   (a!=b): True\n"
     ]
    }
   ],
   "source": [
    "#Kết quả của các phép so sánh có kiểu dữ liệu Boolean\n",
    "a = 8\n",
    "b = 10\n",
    "kt = a>b\n",
    "print(type(kt))\n",
    "#-----------------------------------------------------\n",
    "print('1) SS lớn hơn (a>b):', a>b)\n",
    "print('2) SS nhỏ hơn (a<b):', a<b)\n",
    "print('3) SS bằng    (a=b):', a==b)\n",
    "print('4) SS lớn hơn hoặc bằng (a>=b):', a>=b)\n",
    "print('5) SS nhỏ hơn hoặc bằng (a<=b):', a<=b)\n",
    "print('6) SS khác   (a!=b):', a!=b)"
   ]
  },
  {
   "cell_type": "code",
   "execution_count": null,
   "metadata": {},
   "outputs": [],
   "source": []
  },
  {
   "cell_type": "markdown",
   "metadata": {},
   "source": [
    "### 1.3 Các toán tử Logic\n",
    "---"
   ]
  },
  {
   "cell_type": "code",
   "execution_count": 8,
   "metadata": {},
   "outputs": [
    {
     "name": "stdout",
     "output_type": "stream",
     "text": [
      "1) Phép toán AND: False\n",
      "2) Phép toán OR : True\n",
      "3) Phép toán NOT: False\n"
     ]
    }
   ],
   "source": [
    "#Sử dụng để kết hợp nhiều điều kiện\n",
    "x = 15\n",
    "y = True\n",
    "\n",
    "kt = (x>3) and (x<10) #hoặc kt = (x>3) & (x<10)\n",
    "\n",
    "kt2 = (x>3) or (x<10) #hoặc kt = (x>3) | (x<10)\n",
    "\n",
    "kt3 = not y\n",
    "\n",
    "#---------------------------------\n",
    "print ('1) Phép toán AND:', kt)\n",
    "print ('2) Phép toán OR :', kt2)\n",
    "print ('3) Phép toán NOT:', kt3)"
   ]
  },
  {
   "cell_type": "markdown",
   "metadata": {},
   "source": [
    "### 1.4 Toán tử Xác thực:\n",
    "---"
   ]
  },
  {
   "cell_type": "code",
   "execution_count": 9,
   "metadata": {},
   "outputs": [
    {
     "name": "stdout",
     "output_type": "stream",
     "text": [
      "False\n",
      "True\n"
     ]
    }
   ],
   "source": [
    "a = 4\n",
    "b = 5\n",
    "print(a is b)     #Toán tử này sẽ trả về True nếu a == b và ngược lại\n",
    "print(a is not b) #Toán tử này sẽ trả về True nếu a != b và ngược lại"
   ]
  },
  {
   "cell_type": "markdown",
   "metadata": {},
   "source": [
    "### 1.5 Toán tử membership\n",
    "---"
   ]
  },
  {
   "cell_type": "code",
   "execution_count": 10,
   "metadata": {},
   "outputs": [
    {
     "name": "stdout",
     "output_type": "stream",
     "text": [
      "Kết quả 1:  True\n",
      "Kết quả 2: True\n"
     ]
    }
   ],
   "source": [
    "#D| Các toán tử membership\n",
    "a = [4, 6, 9 , 0]\n",
    "\n",
    "kt1 = 4 in a        #Kiểm tra 1 phần tử có trong danh sách không?\n",
    "\n",
    "kt2 = 1 not in a    #Kiểm tra 1 phần tử không có trong trong danh sách không?\n",
    "\n",
    "print('Kết quả 1: ', kt1)\n",
    "print('Kết quả 2:', kt2)"
   ]
  },
  {
   "cell_type": "code",
   "execution_count": 11,
   "metadata": {},
   "outputs": [
    {
     "name": "stdout",
     "output_type": "stream",
     "text": [
      "True\n"
     ]
    }
   ],
   "source": [
    "a = [4, 6, 9 , 0]\n",
    "b = a\n",
    "kt1 = a is b\n",
    "print(kt1)"
   ]
  },
  {
   "cell_type": "code",
   "execution_count": 12,
   "metadata": {},
   "outputs": [
    {
     "name": "stdout",
     "output_type": "stream",
     "text": [
      "False\n"
     ]
    }
   ],
   "source": [
    "b = a.copy()\n",
    "kt2 = a is b\n",
    "print(kt2)"
   ]
  },
  {
   "cell_type": "markdown",
   "metadata": {},
   "source": [
    "### THỨ TỰ ƯU TIÊN CÁC PHÉP TOÁN\n",
    "---\n",
    "<img src='Pic/Python-Operator-Precedence.jpg' width = 400px>"
   ]
  },
  {
   "cell_type": "markdown",
   "metadata": {},
   "source": [
    "## 2) Cấu trúc điều khiển\n",
    "---"
   ]
  },
  {
   "cell_type": "code",
   "execution_count": 13,
   "metadata": {},
   "outputs": [
    {
     "name": "stdout",
     "output_type": "stream",
     "text": [
      "Nhập vào số tiền bạn có:900000000\n",
      "Bạn còn phải kiếm nhiều tiền hơn nhé!\n",
      "Còn thiếu  100000000.0\n",
      "------AIAcademy--------\n"
     ]
    }
   ],
   "source": [
    "#Example:Câu lệnh điều kiện\n",
    "so_tien = input('Nhập vào số tiền bạn có:')\n",
    "\n",
    "so_tien=int(so_tien)\n",
    "\n",
    "\n",
    "if (so_tien>=1E9):\n",
    "    print('Bạn đã là một tỷ phú!')\n",
    "else:\n",
    "    print('Bạn còn phải kiếm nhiều tiền hơn nhé!')\n",
    "    print('Còn thiếu ', 1E9-so_tien)\n",
    "\n",
    "print('------AIAcademy--------')    "
   ]
  },
  {
   "cell_type": "markdown",
   "metadata": {},
   "source": [
    "### 2.1 cấu trúc điều kiện DẠNG 1\n",
    "<img src='pic/Python-if-statement.jpg' width=300px>"
   ]
  },
  {
   "cell_type": "code",
   "execution_count": 15,
   "metadata": {},
   "outputs": [
    {
     "name": "stdout",
     "output_type": "stream",
     "text": [
      "1 là số dương.\n",
      "Thông điệp này luôn được in.\n"
     ]
    }
   ],
   "source": [
    "#Ví dụ:\n",
    "num = 1\n",
    "if (num>0):\n",
    "    print(num, \"là số dương.\")\n",
    "\n",
    "print(\"Thông điệp này luôn được in.\")"
   ]
  },
  {
   "cell_type": "code",
   "execution_count": null,
   "metadata": {},
   "outputs": [],
   "source": []
  },
  {
   "cell_type": "code",
   "execution_count": 16,
   "metadata": {},
   "outputs": [
    {
     "name": "stdout",
     "output_type": "stream",
     "text": [
      "1 là số dương.\n"
     ]
    }
   ],
   "source": [
    "#Short Hand If\n",
    "if num > 0: print(num, \"là số dương.\")"
   ]
  },
  {
   "cell_type": "markdown",
   "metadata": {},
   "source": [
    "### 2.2 cấu trúc điều kiện DẠNG 2 (if...else):\n",
    "<img src='pic/Python-if-else-statement.jpg' width=300px>"
   ]
  },
  {
   "cell_type": "code",
   "execution_count": 17,
   "metadata": {},
   "outputs": [
    {
     "name": "stdout",
     "output_type": "stream",
     "text": [
      "Số âm\n",
      "----Thông điệp này luôn được in-----\n"
     ]
    }
   ],
   "source": [
    "# Ví dụ:\n",
    "num = -1\n",
    "if (num>=0):\n",
    "    #Khối lệnh 1\n",
    "    print ('Số dương')\n",
    "else:\n",
    "    #Khối lệnh 2\n",
    "    print ('Số âm')\n",
    "      \n",
    "print(\"----Thông điệp này luôn được in-----\")    "
   ]
  },
  {
   "cell_type": "code",
   "execution_count": 20,
   "metadata": {},
   "outputs": [
    {
     "name": "stdout",
     "output_type": "stream",
     "text": [
      "Nhập vào một số nguyên:-3\n",
      "Số âm\n"
     ]
    }
   ],
   "source": [
    "#Short Hand If ... Else\n",
    "N = int(input('Nhập vào một số nguyên:'))\n",
    "print ('Số dương') if (N >= 0) else print ('Số âm')\n"
   ]
  },
  {
   "cell_type": "code",
   "execution_count": null,
   "metadata": {},
   "outputs": [],
   "source": []
  },
  {
   "cell_type": "code",
   "execution_count": 21,
   "metadata": {},
   "outputs": [
    {
     "name": "stdout",
     "output_type": "stream",
     "text": [
      "Nhập vào một số nguyên:11\n",
      "11  là số lẻ\n"
     ]
    }
   ],
   "source": [
    "#Example:\n",
    "N = int(input('Nhập vào một số nguyên:'))\n",
    "if (N%2==0):\n",
    "     print (N, ' là số chẵn')\n",
    "else:\n",
    "     print (N, ' là số lẻ')"
   ]
  },
  {
   "cell_type": "code",
   "execution_count": 22,
   "metadata": {},
   "outputs": [
    {
     "name": "stdout",
     "output_type": "stream",
     "text": [
      "Nhập vào một số nguyên:22\n",
      "22  là số chẵn\n"
     ]
    }
   ],
   "source": [
    "N = int(input('Nhập vào một số nguyên:'))\n",
    "print(N, ' là số chẵn') if (N%2 == 0) else print(N, ' là số lẻ')"
   ]
  },
  {
   "cell_type": "code",
   "execution_count": null,
   "metadata": {},
   "outputs": [],
   "source": []
  },
  {
   "cell_type": "markdown",
   "metadata": {},
   "source": [
    "### 2.3 cấu trúc điều kiện DẠNG 3 (if...elif...else):\n",
    "<img src='pic/Python-if-elif-ladder.jpg' width=300px>"
   ]
  },
  {
   "cell_type": "code",
   "execution_count": 23,
   "metadata": {},
   "outputs": [
    {
     "name": "stdout",
     "output_type": "stream",
     "text": [
      "Nhập giới tính (0:Nam - 1:Nữ - 2:XYZ):k\n",
      "Giới tính nhập vào ko đúng!\n"
     ]
    }
   ],
   "source": [
    "#===============================DẠNG 3:==========================\n",
    "gt = input('Nhập giới tính (0:Nam - 1:Nữ - 2:XYZ):')\n",
    "if (gt=='0'):\n",
    "    print('Chào anh đẹp trai!')\n",
    "elif (gt=='1'):\n",
    "    print('Chào chị xinh gái!')\n",
    "elif (gt=='2'):\n",
    "    print('chào anh/chị!')\n",
    "else:\n",
    "    print('Giới tính nhập vào ko đúng!')"
   ]
  },
  {
   "cell_type": "code",
   "execution_count": null,
   "metadata": {},
   "outputs": [],
   "source": []
  },
  {
   "cell_type": "markdown",
   "metadata": {},
   "source": [
    "### 2.3 cấu trúc điều kiện DẠNG 4 (if lồng nhau – Nested if):\n",
    "<img src='pic/Python-Netsted-if.jpg' width=400px>"
   ]
  },
  {
   "cell_type": "code",
   "execution_count": null,
   "metadata": {},
   "outputs": [],
   "source": [
    "#Ví dụ\n",
    "num = float(input('Nhập một số: '))\n",
    "if (num>=0):\n",
    "    if (num==0):\n",
    "        print('Số không')\n",
    "        \n",
    "    else:\n",
    "        print('Số dương')\n",
    "else:\n",
    "    print('Số âm')"
   ]
  },
  {
   "cell_type": "code",
   "execution_count": null,
   "metadata": {},
   "outputs": [],
   "source": [
    "#Trong Python ko có cấu trúc swich...case như các ngôn ngữ C,C++ hoặc Java\n",
    "\n",
    "def days_of_week(day):\n",
    "    switcher ={\n",
    "        1: 'Monday',\n",
    "        2: 'Tuesday',\n",
    "        3: 'Wednesday',\n",
    "        4: 'Thursday',\n",
    "        5: 'Friday',\n",
    "        6: 'Saturday',\n",
    "        7: 'Sunday'\n",
    "    }\n",
    "    return switcher.get(day,\"Invalid day \")\n",
    "print( days_of_week(5))\n",
    "print( days_of_week(2))\n",
    "print( days_of_week(7))\n",
    "print( days_of_week(10))"
   ]
  },
  {
   "cell_type": "code",
   "execution_count": null,
   "metadata": {},
   "outputs": [],
   "source": []
  },
  {
   "cell_type": "markdown",
   "metadata": {},
   "source": [
    "# THỰC HÀNH\n",
    "----"
   ]
  },
  {
   "cell_type": "markdown",
   "metadata": {},
   "source": [
    "## Bài 6: Xác định nguyên âm|phụ âm\n",
    "---\n",
    "Nhập vào một ký tự chữ cái bất kỳ(không phân biệt chữ hoa-chữ thường), cho biết nó là nguyên âm hay phụ âm trong tiếng anh. \n",
    "* 5 chữ cái nguyên âm: **U, E, O, A, I**\n",
    "* 21 Chữ cái phụ âm: **B, C, D, F, G, H, J K, L, M, N, P, Q, R, S, T, V, W, X, Y, Z**\n"
   ]
  },
  {
   "cell_type": "code",
   "execution_count": 38,
   "metadata": {},
   "outputs": [
    {
     "name": "stdout",
     "output_type": "stream",
     "text": [
      "nhap:b\n",
      "Đây là phụ âm.\n"
     ]
    }
   ],
   "source": [
    "#{HỌC VIÊN VIẾT CODE Ở ĐÂY}\n",
    "\n",
    "#char = input('Nhập vào ký tự chữ cái bất kỳ: ').upper()\n",
    "\n",
    "print(\"Đây là nguyên âm.\") if(input(\"Nhập ký tự: \").upper() in ['U','E','O','A','I']) else print(\"Đây là phụ âm.\")\n",
    "\n"
   ]
  },
  {
   "cell_type": "code",
   "execution_count": null,
   "metadata": {},
   "outputs": [],
   "source": []
  },
  {
   "cell_type": "code",
   "execution_count": null,
   "metadata": {},
   "outputs": [],
   "source": []
  },
  {
   "cell_type": "markdown",
   "metadata": {},
   "source": [
    "## Bài 7: Tính chỉ số BMI\n",
    "---\n",
    "Nhập vào chiều cao (m) và cân nặng (kg) rồi tính chỉ số BMI của người đó theo công thức:\n",
    "\n",
    "* BMI = Weight(Kg) / Height(m) ^2 \n",
    "\n",
    "Dựa vào chỉ số BMI tính được đưa ra nhận xét về cơ thể của người đó theo các mức:\n",
    "* Underweight: BMI<18.5\n",
    "* NormalWeight: 18.5 <= BMI <= 24.9\n",
    "* Overweight: 25 <= BMI <=29.9\n",
    "* Obese: BMI>=30\n"
   ]
  },
  {
   "cell_type": "code",
   "execution_count": 43,
   "metadata": {},
   "outputs": [
    {
     "name": "stdout",
     "output_type": "stream",
     "text": [
      "Your weight: 80\n",
      "Your height: 1.5\n",
      "You are obese\n"
     ]
    }
   ],
   "source": [
    "#{HỌC VIÊN VIẾT CODE Ở ĐÂY}\n",
    "\n",
    "weight = float(input(\"Your weight: \"))\n",
    "height = float(input(\"Your height: \"))\n",
    "\n",
    "bmi = weight/(height**2)\n",
    "\n",
    "if(bmi < 18.5):\n",
    "    print(\"You are underweight\")\n",
    "elif(18.5 <= bmi <= 24.9):\n",
    "    print(\"You are normalweight\")\n",
    "elif(25 <= bmi <= 29.9):\n",
    "    print(\"You are overweight\")\n",
    "else:\n",
    "    print(\"You are obese\")\n",
    "\n",
    "\n"
   ]
  },
  {
   "cell_type": "code",
   "execution_count": null,
   "metadata": {},
   "outputs": [],
   "source": []
  },
  {
   "cell_type": "code",
   "execution_count": null,
   "metadata": {},
   "outputs": [],
   "source": []
  },
  {
   "cell_type": "markdown",
   "metadata": {},
   "source": [
    "## Bài 8: Xác định mùa trong năm!\n",
    "---\n",
    "Nhập vào tháng sinh của bạn và cho biết bạn sinh vào mùa nào?\n",
    "\n",
    "**Yêu cầu:**\n",
    "* Nếu 1, 2, 3: Bạn sinh vào Mùa xuân\n",
    "* Nếu 4, 5, 6: Bạn sinh vào Mùa hạ\n",
    "* Nếu 7, 8, 9: Bạn sinh vào Mùa thu\n",
    "* Nếu 10, 11, 12: Bạn sinh vào Mùa đông\n",
    "* <1 hoặc >12: Tháng sinh nhập vào không đúng\n"
   ]
  },
  {
   "cell_type": "code",
   "execution_count": 6,
   "metadata": {},
   "outputs": [
    {
     "name": "stdout",
     "output_type": "stream",
     "text": [
      "Nhập vào tháng sinh của bạn: 13\n",
      "Tháng sinh nhập vào không đúng.\n"
     ]
    }
   ],
   "source": [
    "#{HỌC VIÊN VIẾT CODE Ở ĐÂY}\n",
    "\n",
    "n = int(input(\"Nhập vào tháng sinh của bạn: \"))\n",
    "\n",
    "if(0 < n < 4):\n",
    "    print(\"Bạn sinh vào mùa xuân.\")\n",
    "elif(3 < n < 7):\n",
    "    print(\"Bạn sinh vào mùa hạ.\")\n",
    "elif(6 < n < 10):\n",
    "    print(\"Bạn sinh vào mùa thu.\")\n",
    "elif(9 < n < 13):\n",
    "    print(\"Bạn sinh vào mùa đông.\")\n",
    "else:\n",
    "    print(\"Tháng sinh nhập vào không đúng.\")\n",
    "\n",
    "\n",
    "\n"
   ]
  },
  {
   "cell_type": "code",
   "execution_count": null,
   "metadata": {},
   "outputs": [],
   "source": []
  },
  {
   "cell_type": "markdown",
   "metadata": {},
   "source": [
    "## 3) Cấu trúc vòng lặp\n",
    "---\n",
    "* Cũng như câu lệnh điều kiện, Câu lệnh vòng lặp là một trong những câu lệnh cơ bản của bất cứ ngôn ngữ lập trình nào.\n",
    "* Để giải quyết bài toán, chúng ta cần thực hiện một công  việc nào đó lặp đi lặp lại rất nhiều lần. Số lần lặp đó có thể biết trước hoặc không biết trước."
   ]
  },
  {
   "cell_type": "markdown",
   "metadata": {},
   "source": [
    "### 3.1 Vòng lặp While\n",
    "---"
   ]
  },
  {
   "cell_type": "code",
   "execution_count": 44,
   "metadata": {},
   "outputs": [
    {
     "name": "stdout",
     "output_type": "stream",
     "text": [
      "Em sinh tháng mấy?10\n",
      "1 ) I Love You!\n",
      "2 ) I Love You!\n",
      "3 ) I Love You!\n",
      "4 ) I Love You!\n",
      "5 ) I Love You!\n",
      "6 ) I Love You!\n",
      "7 ) I Love You!\n",
      "8 ) I Love You!\n",
      "9 ) I Love You!\n",
      "10 ) I Love You!\n",
      "-------------AIACADEMY---------\n"
     ]
    }
   ],
   "source": [
    "n = int(input('Em sinh tháng mấy?'))\n",
    "i=1\n",
    "while(i<=n):\n",
    "    print(i, ') I Love You!')\n",
    "    i=i+1\n",
    "\n",
    "#Câu lệnh lặp ngoài vòng lặp while\n",
    "print('-------------AIACADEMY---------')"
   ]
  },
  {
   "cell_type": "code",
   "execution_count": null,
   "metadata": {},
   "outputs": [],
   "source": []
  },
  {
   "cell_type": "code",
   "execution_count": null,
   "metadata": {},
   "outputs": [],
   "source": []
  },
  {
   "cell_type": "markdown",
   "metadata": {},
   "source": [
    "### Câu lệnh kiểm soát vòng lặp\n",
    "<img src='Pic/loop-control-statement-in-python.jpg' width=400px>\n",
    "\n",
    "1. **Lệnh break** kết thúc vòng lặp chứa nó và truyền điều khiển đến lệnh tiếp theo sau khối lệnh của vòng lặp đó.\n"
   ]
  },
  {
   "cell_type": "code",
   "execution_count": 45,
   "metadata": {},
   "outputs": [
    {
     "name": "stdout",
     "output_type": "stream",
     "text": [
      "Em sinh tháng mấy? 10\n",
      "1 ) I Love You!\n",
      "2 ) I Love You!\n",
      "3 ) I Love You!\n",
      "-------------AIACADEMY-----------\n"
     ]
    }
   ],
   "source": [
    "n = int(input('Em sinh tháng mấy? '))\n",
    "i=1\n",
    "while(i<=n):\n",
    "    print(i, ') I Love You!')\n",
    "    \n",
    "    #Chỉ hiển thị tối đa 3 lần\n",
    "    if (i==3):\n",
    "        break #Thoát ra khỏi vòng lặp while   \n",
    "    \n",
    "    i=i+1\n",
    "\n",
    "#Câu lệnh lặp ngoài vòng lặp while\n",
    "print('-------------AIACADEMY-----------')"
   ]
  },
  {
   "cell_type": "markdown",
   "metadata": {},
   "source": [
    "2. **Lệnh continue:**\n",
    "\n",
    "Lệnh continue bỏ qua phần còn lại của khối lệnh bên trong vòng lặp, áp dụng cho vòng lặp tiếp theo. Nghĩa là vòng lặp không chấm dứt nó sẽ tiếp tục với số lần lặp kế tiếp\n"
   ]
  },
  {
   "cell_type": "code",
   "execution_count": 46,
   "metadata": {},
   "outputs": [
    {
     "name": "stdout",
     "output_type": "stream",
     "text": [
      "3\n",
      "6\n",
      "9\n",
      "12\n",
      "15\n",
      "18\n",
      "21\n",
      "-------------AIACADEMY---------\n"
     ]
    }
   ],
   "source": [
    "n = 20\n",
    "i = 1\n",
    "while (i<=n):\n",
    "    i = i+1\n",
    "    if (i%3!=0):\n",
    "        continue \n",
    "        #Bỏ qua các câu lệnh phía sau nếu ko chia hết cho 3\n",
    "    print(i)\n",
    "    \n",
    "#Câu lệnh lặp ngoài vòng lặp while\n",
    "print('-------------AIACADEMY---------')"
   ]
  },
  {
   "cell_type": "markdown",
   "metadata": {},
   "source": [
    "**while True**\n",
    "\n",
    "Với cấu trúc này các câu lệnh sẽ thực hiện lặp đi lặp lại, cho đến khi biểu thức <điều kiện dừng>  thỏa mãn. Lúc đó câu lệnh if sẽ giúp cho lệnh break được thực thi và dừng vòng lặp.\n"
   ]
  },
  {
   "cell_type": "code",
   "execution_count": 47,
   "metadata": {},
   "outputs": [
    {
     "name": "stdout",
     "output_type": "stream",
     "text": [
      "Em sinh tháng mấy: 10\n",
      "Chào em cô gái tháng  10\n"
     ]
    }
   ],
   "source": [
    "#Chỉ cho phép nhập tháng sinh 1 - 12\n",
    "while True:\n",
    "    n = int(input('Em sinh tháng mấy: '))\n",
    "    if (1<=n<=12):\n",
    "        break #thoát khỏi vòng lặp nếu tháng sinh nhập vào hợp lệ\n",
    "    \n",
    "    print('Tháng sinh nhập vào không đúng, vui lòng nhập lại')\n",
    "    \n",
    "#Câu lệnh ngoài vòng lặp while\n",
    "print('Chào em cô gái tháng ', n)"
   ]
  },
  {
   "cell_type": "code",
   "execution_count": 51,
   "metadata": {},
   "outputs": [
    {
     "name": "stdout",
     "output_type": "stream",
     "text": [
      "Inside loop\n",
      "Inside loop\n",
      "Inside loop\n",
      "Inside else!\n",
      "---Bên ngoài vòng lặp-----\n"
     ]
    }
   ],
   "source": [
    "#while .... else\n",
    "\n",
    "count = 1\n",
    "while (count <= 3):\n",
    "    print(\"Inside loop\")\n",
    "    count = count + 1\n",
    "else:\n",
    "    print(\"Inside else!\")\n",
    "    \n",
    "#-----------------------------\n",
    "print(\"---Bên ngoài vòng lặp-----\")"
   ]
  },
  {
   "cell_type": "code",
   "execution_count": 50,
   "metadata": {},
   "outputs": [
    {
     "name": "stdout",
     "output_type": "stream",
     "text": [
      "0\n",
      "1\n",
      "2\n",
      "3\n",
      "4\n"
     ]
    }
   ],
   "source": [
    "#Gặp break nó thoát luôn khỏi vòng lặp, ko thực thi else\n",
    "num = 0\n",
    "while( num<10 ):\n",
    "    print(num)\n",
    "    num += 1\n",
    "    if( num==5):\n",
    "        break\n",
    "else:\n",
    "    print('Loop ended')"
   ]
  },
  {
   "cell_type": "code",
   "execution_count": null,
   "metadata": {},
   "outputs": [],
   "source": []
  },
  {
   "cell_type": "code",
   "execution_count": null,
   "metadata": {},
   "outputs": [],
   "source": [
    "#Kiểm tra đk--> đúng ---> Thực hiện khối lệnh"
   ]
  },
  {
   "cell_type": "markdown",
   "metadata": {},
   "source": [
    "### 3.2) Vòng lặp for\n",
    "---"
   ]
  },
  {
   "cell_type": "code",
   "execution_count": null,
   "metadata": {},
   "outputs": [],
   "source": [
    "# Vòng lặp for với chuỗi ký tự: Biến chạy sẽ lần lượt nhận các giá trị là các ký tự trong chuỗi ký tự.\n",
    "st = 'PYTHON FOR ANALYTICS'\n",
    "#st = [9, 8, 7, 4, 7, 5]\n",
    "for i in st:\n",
    "    print('ký tự: ', i)"
   ]
  },
  {
   "cell_type": "code",
   "execution_count": null,
   "metadata": {},
   "outputs": [],
   "source": []
  },
  {
   "cell_type": "code",
   "execution_count": 53,
   "metadata": {},
   "outputs": [
    {
     "name": "stdout",
     "output_type": "stream",
     "text": [
      "Số ký tự N có trong chuỗi là:  7\n"
     ]
    }
   ],
   "source": [
    "#Ví dụ: Đếm số ký tự N trong chuỗi\n",
    "st = 'PYTHON FOR ANALYTICSNNNNN'\n",
    "dem=0\n",
    "for i in st:\n",
    "    if i == 'N': dem=dem+1\n",
    "\n",
    "print('Số ký tự N có trong chuỗi là: ',dem)"
   ]
  },
  {
   "cell_type": "code",
   "execution_count": null,
   "metadata": {},
   "outputs": [],
   "source": []
  },
  {
   "cell_type": "code",
   "execution_count": null,
   "metadata": {},
   "outputs": [],
   "source": []
  },
  {
   "cell_type": "code",
   "execution_count": 54,
   "metadata": {},
   "outputs": [
    {
     "name": "stdout",
     "output_type": "stream",
     "text": [
      "Danh sách học sinh bao gồm:\n",
      "1 )  Lê Thùy Dung\n",
      "2 )  Trần Đức Hùng\n",
      "3 )  Nguyễn Lan Anh\n",
      "4 )  Mai Phương Thúy\n",
      "5 )  Trần Thanh Thủy\n",
      "6 )  Kiều Thành Công\n"
     ]
    }
   ],
   "source": [
    "#Vòng lặp for với danh sách\n",
    "hoc_sinh = ['Lê Thùy Dung', 'Trần Đức Hùng', \n",
    "            'Nguyễn Lan Anh','Mai Phương Thúy',\n",
    "           'Trần Thanh Thủy','Kiều Thành Công']\n",
    "\n",
    "print('Danh sách học sinh bao gồm:')\n",
    "tt = 1\n",
    "for i in hoc_sinh:\n",
    "    print( tt, ') ', i)\n",
    "    tt = tt+1"
   ]
  },
  {
   "cell_type": "markdown",
   "metadata": {},
   "source": [
    "**Vòng lặp for với lệnh range():**\n",
    "Lệnh range() trong Python kết hợp với vòng lặp for sẽ trở nên rất hữu hiệu trong việc kiểm soát giá trị bắt đầu, kết thúc và bước nhảy của biến chạy.\n",
    "\n",
    "**Cú pháp:**\n",
    "for <biếnchạy> in range(<bắtđầu>,<kếtthúc>,<bướcnhảy>):\n",
    "\tnhóm lệnh thực hiện\n",
    "\n",
    "* <bắt đầu> là giá trị khởi gán ban đầu cho biến chạy (mặc định = 0)\n",
    "\n",
    "* <kết thúc> là giá trị kết thúc cho biến chạy, nhưng không bao gồm chính nó (< kết thúc)\n",
    "\n",
    "* <bước nhảy> là giá trị mà biến nhảy tăng thêm sau mỗi lần lặp (mặc định = 1)"
   ]
  },
  {
   "cell_type": "code",
   "execution_count": null,
   "metadata": {},
   "outputs": [],
   "source": [
    "print(list(range(10)))    #range chỉ có một tham số (kết thúc)\n",
    "print(list(range(4,10)))  #range chỉ có 2 tham số (bắt đầu, kết thúc)\n",
    "print(list(range(2,10,2)))#range chỉ có 3 tham số (bắt đầu, kết thúc, bước nhảy)"
   ]
  },
  {
   "cell_type": "code",
   "execution_count": 55,
   "metadata": {},
   "outputs": [
    {
     "name": "stdout",
     "output_type": "stream",
     "text": [
      "i =  0\n",
      "i =  1\n",
      "i =  2\n",
      "i =  3\n",
      "i =  4\n",
      "i =  5\n",
      "i =  6\n",
      "i =  7\n"
     ]
    }
   ],
   "source": [
    "#Vòng lặp for với range()\n",
    "\n",
    "for i in range(8):\n",
    "    #giá trị khởi đầu mặc định = 0\n",
    "    #Bước nhảy mặc định = 1\n",
    "    print('i = ',i)"
   ]
  },
  {
   "cell_type": "code",
   "execution_count": null,
   "metadata": {},
   "outputs": [],
   "source": []
  },
  {
   "cell_type": "code",
   "execution_count": null,
   "metadata": {},
   "outputs": [],
   "source": []
  },
  {
   "cell_type": "code",
   "execution_count": 56,
   "metadata": {},
   "outputs": [
    {
     "name": "stdout",
     "output_type": "stream",
     "text": [
      "i =  5\n",
      "i =  6\n",
      "i =  7\n",
      "i =  8\n",
      "i =  9\n",
      "i =  10\n",
      "i =  11\n",
      "i =  12\n",
      "i =  13\n",
      "i =  14\n"
     ]
    }
   ],
   "source": [
    "#Vòng lặp for với range(m,n)\n",
    "\n",
    "for i in range(5,15):\n",
    "    #giá trị khởi đầu m = 5\n",
    "    #giá trị kết thúc n = 10\n",
    "    #Bước nhảy mặc định = 1\n",
    "    print('i = ',i)"
   ]
  },
  {
   "cell_type": "code",
   "execution_count": null,
   "metadata": {},
   "outputs": [],
   "source": []
  },
  {
   "cell_type": "code",
   "execution_count": null,
   "metadata": {},
   "outputs": [],
   "source": [
    "#Vòng lặp for với range(m,n,d)\n",
    "\n",
    "for i in range(2,11,5):\n",
    "    #giá trị khởi đầu m = 2\n",
    "    #giá trị kết thúc n = 11\n",
    "    #Bước nhảy d = 5\n",
    "    print('i = ',i)"
   ]
  },
  {
   "cell_type": "code",
   "execution_count": null,
   "metadata": {},
   "outputs": [],
   "source": [
    "#Thực hiện tính N! = 1*2*3*....(N-1)*N"
   ]
  },
  {
   "cell_type": "code",
   "execution_count": 57,
   "metadata": {},
   "outputs": [
    {
     "name": "stdout",
     "output_type": "stream",
     "text": [
      "Nhập vào số nguyên dương N:1985\n",
      "1985 ! =  10667345853878016899334665050620353804467298893019878604122700726670582198783225229576369562789464995988334576619504878470906237969212764530754536260756790676008487757245489506569971073064003829998149205067125200676264650976571095088682168272815320766024941739564503519545720426851852114831315740940050132903100314948719573604109517112008707585269954060633064290796517515713900241622677110146082757558564283888354523321147657331230002982359587786985512686440612276973047694182774644725753908966403451148937362686307963922668954727324308018204606850175962589030660125508259305946060260761514697843040982369783437960929875490808177385850403581139019074002192448142151872387761804125867350215773509172933356349624787547317763391509740522421709313577165737285821485692585937785799104660153678587556886470976326422733181509981615163352710140947414829419514334763856975621260734485958488894782894327613657872764407414130541297690500820338291958143823257313419172727738359958254645900500406438293960880609343713357315620773921681429767491956119426503823605687898408408735744589252188380677199001417085158293022402543338721911789837207942533405309336237967645884527929088937468854846473926564177507323114767143241623559726287515730416902162506303757769156927560136469961254188976544375281035830005264900832497982599317052482462907755821529211159775572756587233677224828418188512323804286660422612317400439404534358944390721533320498174101621058403703427589856932014752188918090912045059500015196572546300205687259420084823965338719831369811210976388038294206370954059491119376289922564995061172893181828050375042465792337002300924801579053867205129581400024987099553092080898454512061439472977883398968040398185824762969074469201558533824576591098055056545527772162585705329967142697971786009612749064162461423151376253843243939346655507358086299447865691548139647465123011811529239752427220180518048124794663307315388440661649570746386893357227983280595057185435939287300780292905193702294454475840818428982001571029147966790228571742886286761299778753867674175570337622594655623112400985337237299065255011176763950643253465107119667717590608312672819406170336569391465732330895544693763213391192396317664609567073208761965224995618012750763000545399546798793392495498116841107314193940993450086538184462396456427530310542672862161363012669337536419569665314230317037120803040925431645387795632772400074384868561061554649859449837626089347744616997668752223500464945561260511024616047336976544055135309403122548792372407045345863437162564221754784213045509136759187401355336551022551259977764107028122217091253218177817191327019057364191763003067554029868782357407193000198720106718372392213682433063962153733500087921755941914774720419614268694092587521879597310668228590948890971328780106642075733261801242472180604510024798958518645754263819711841234725862244052609785379474498224361655280805457038176588027730194918526501042849805647848477876980444171422729613885444074227150852674315394705884513070521610601288555606474258896350806075311817637663955459353416213161656270376116991192780618312180206972500005369740253399942690440445254573807049305773946893331623934014747243932101594173862616366773488011414391749779246090370668308913629003463148464783229665220493445437968797286205325513265711831010733175817381887846197144082483713613815925129170280358172708406733356932869558997375152074263819477863515599949284895635063305962922183092332838397172230936813689145836924240806637058040022350407666188947697895691708728196958602409608107477005795472736095278494691864297055029965213374315865328945845804797252109528286382057750786037929096837764465471211762030127098327912036267251594432226273454980284061564993712591723429941262502743405033759692993582651967701778554372880467755760369603114473655369242010791872817071964541638010131887797154951760006191088068362144681335666236582782010826514453488980166642848592019871524523259045031132045559573449496840367773981231901251199617258331781607762827902602507292912960924608491690967972108124902349330319642104857785942748809737517222162779795286858724169639677575100918256332997551832231747768222198965509972604921194434053257921440506392247743126798273872804049623239315230015257893341138900741693509927849618733540867599860714871020419804854585294979404885800211918908263095199229742767440180288069776270144308621075311108110903759021658498082243707685528547219512027937127716957361001958572042269159929997316772599544085938382565385862998525137630488409880756909685237800139273184982756367493797516350266102630288074035925544415245677316611778125803307261145981122582418083834921217317752656685148815313405416663380590301570487530644859170716272337391335235256891257066451287047540437585721507927375912705323513635235580788701000963160009409268765558254259828571261400411681800745312554288613021949648107662082708785332425703745496563369674902600788307429863744049084677508941546405968431409924599339067995532985848326216512071645370372645293640380034446927822238095622681429527794502682617422107634881320453778473914896723282259771988837758714708407507720012622731689986196326619860890611792044103712133324662856185303992315849799610735473459200000000000000000000000000000000000000000000000000000000000000000000000000000000000000000000000000000000000000000000000000000000000000000000000000000000000000000000000000000000000000000000000000000000000000000000000000000000000000000000000000000000000000000000000000000000000000000000000000000000000000000000000000000000000000000000000000000000000000000000000000000000000000000000000000000000000000000000000000000000000000000000000000000000000000000000000000000000000000000000000000000000000000\n"
     ]
    }
   ],
   "source": [
    "n = int(input('Nhập vào số nguyên dương N:'))\n",
    "\n",
    "giaithua = 1\n",
    "\n",
    "for i in range(1,n+1):\n",
    "    giaithua = giaithua * i\n",
    "    \n",
    "print(n, '! = ', giaithua)\n",
    "    "
   ]
  },
  {
   "cell_type": "code",
   "execution_count": null,
   "metadata": {},
   "outputs": [],
   "source": [
    "1*2*3*4*5*6*7*8*9*10"
   ]
  },
  {
   "cell_type": "code",
   "execution_count": 61,
   "metadata": {},
   "outputs": [
    {
     "name": "stdout",
     "output_type": "stream",
     "text": [
      "10\n",
      "9\n",
      "8\n",
      "7\n",
      "6\n",
      "5\n",
      "4\n",
      "3\n",
      "2\n",
      "1\n"
     ]
    }
   ],
   "source": [
    "#Bước nhảy là số âm:\n",
    "for i in range(10, 0, -1):\n",
    "    print(i)"
   ]
  },
  {
   "cell_type": "markdown",
   "metadata": {},
   "source": [
    "**Vòng lặp for lồng nhau**\n",
    "\n",
    "Trong một số bài toán chúng ta cần kết hợp và sử dụng nhiều câu lệnh lặp đặt lồng nhau để giải quyết. \n"
   ]
  },
  {
   "cell_type": "code",
   "execution_count": 62,
   "metadata": {},
   "outputs": [
    {
     "name": "stdout",
     "output_type": "stream",
     "text": [
      "Bảng cửu chương  1\n",
      "1  x  1  =  1\n",
      "1  x  2  =  2\n",
      "1  x  3  =  3\n",
      "1  x  4  =  4\n",
      "1  x  5  =  5\n",
      "1  x  6  =  6\n",
      "1  x  7  =  7\n",
      "1  x  8  =  8\n",
      "1  x  9  =  9\n",
      "1  x  10  =  10\n",
      "----------------------------------\n",
      "Bảng cửu chương  2\n",
      "2  x  1  =  2\n",
      "2  x  2  =  4\n",
      "2  x  3  =  6\n",
      "2  x  4  =  8\n",
      "2  x  5  =  10\n",
      "2  x  6  =  12\n",
      "2  x  7  =  14\n",
      "2  x  8  =  16\n",
      "2  x  9  =  18\n",
      "2  x  10  =  20\n",
      "----------------------------------\n",
      "Bảng cửu chương  3\n",
      "3  x  1  =  3\n",
      "3  x  2  =  6\n",
      "3  x  3  =  9\n",
      "3  x  4  =  12\n",
      "3  x  5  =  15\n",
      "3  x  6  =  18\n",
      "3  x  7  =  21\n",
      "3  x  8  =  24\n",
      "3  x  9  =  27\n",
      "3  x  10  =  30\n",
      "----------------------------------\n",
      "Bảng cửu chương  4\n",
      "4  x  1  =  4\n",
      "4  x  2  =  8\n",
      "4  x  3  =  12\n",
      "4  x  4  =  16\n",
      "4  x  5  =  20\n",
      "4  x  6  =  24\n",
      "4  x  7  =  28\n",
      "4  x  8  =  32\n",
      "4  x  9  =  36\n",
      "4  x  10  =  40\n",
      "----------------------------------\n",
      "Bảng cửu chương  5\n",
      "5  x  1  =  5\n",
      "5  x  2  =  10\n",
      "5  x  3  =  15\n",
      "5  x  4  =  20\n",
      "5  x  5  =  25\n",
      "5  x  6  =  30\n",
      "5  x  7  =  35\n",
      "5  x  8  =  40\n",
      "5  x  9  =  45\n",
      "5  x  10  =  50\n",
      "----------------------------------\n",
      "Bảng cửu chương  6\n",
      "6  x  1  =  6\n",
      "6  x  2  =  12\n",
      "6  x  3  =  18\n",
      "6  x  4  =  24\n",
      "6  x  5  =  30\n",
      "6  x  6  =  36\n",
      "6  x  7  =  42\n",
      "6  x  8  =  48\n",
      "6  x  9  =  54\n",
      "6  x  10  =  60\n",
      "----------------------------------\n",
      "Bảng cửu chương  7\n",
      "7  x  1  =  7\n",
      "7  x  2  =  14\n",
      "7  x  3  =  21\n",
      "7  x  4  =  28\n",
      "7  x  5  =  35\n",
      "7  x  6  =  42\n",
      "7  x  7  =  49\n",
      "7  x  8  =  56\n",
      "7  x  9  =  63\n",
      "7  x  10  =  70\n",
      "----------------------------------\n",
      "Bảng cửu chương  8\n",
      "8  x  1  =  8\n",
      "8  x  2  =  16\n",
      "8  x  3  =  24\n",
      "8  x  4  =  32\n",
      "8  x  5  =  40\n",
      "8  x  6  =  48\n",
      "8  x  7  =  56\n",
      "8  x  8  =  64\n",
      "8  x  9  =  72\n",
      "8  x  10  =  80\n",
      "----------------------------------\n",
      "Bảng cửu chương  9\n",
      "9  x  1  =  9\n",
      "9  x  2  =  18\n",
      "9  x  3  =  27\n",
      "9  x  4  =  36\n",
      "9  x  5  =  45\n",
      "9  x  6  =  54\n",
      "9  x  7  =  63\n",
      "9  x  8  =  72\n",
      "9  x  9  =  81\n",
      "9  x  10  =  90\n",
      "----------------------------------\n",
      "Bảng cửu chương  10\n",
      "10  x  1  =  10\n",
      "10  x  2  =  20\n",
      "10  x  3  =  30\n",
      "10  x  4  =  40\n",
      "10  x  5  =  50\n",
      "10  x  6  =  60\n",
      "10  x  7  =  70\n",
      "10  x  8  =  80\n",
      "10  x  9  =  90\n",
      "10  x  10  =  100\n",
      "----------------------------------\n"
     ]
    }
   ],
   "source": [
    "#Hiển thị bảng cửu chương từ 2 -> 9\n",
    "for e in range(1,11):\n",
    "    print('Bảng cửu chương ', e)\n",
    "    for k in range(1,11):\n",
    "        print (e , ' x ', k, ' = ', e*k)\n",
    "    print('----------------------------------')"
   ]
  },
  {
   "cell_type": "markdown",
   "metadata": {},
   "source": [
    "# THỰC HÀNH\n",
    "---"
   ]
  },
  {
   "cell_type": "markdown",
   "metadata": {},
   "source": [
    "## Bài 9: Hiển thị bảng cửu chương!\n",
    "---\n",
    "Nhập vào bảng cửu chương muốn in (1 – 10), hiển thị bảng cửu chương tương ứng với số vừa nhập. (Lưu ý: Thực hiện kiểm tra giá trị nhập, chỉ thỏa mãn khi giá trị nhập vào trong khoảng [1,10] \n",
    "\n",
    "*Xem minh họa bài tập trong file bài giảng!*"
   ]
  },
  {
   "cell_type": "code",
   "execution_count": 64,
   "metadata": {},
   "outputs": [
    {
     "name": "stdout",
     "output_type": "stream",
     "text": [
      "Nhập bảng cửu chương muốn hiển thị: 6\n",
      "BẢNG CỬU CHƯƠNG  6\n",
      "6 x 1  =  6\n",
      "6 x 2  =  12\n",
      "6 x 3  =  18\n",
      "6 x 4  =  24\n",
      "6 x 5  =  30\n",
      "6 x 6  =  36\n",
      "6 x 7  =  42\n",
      "6 x 8  =  48\n",
      "6 x 9  =  54\n",
      "6 x 10  =  60\n"
     ]
    }
   ],
   "source": [
    "#{HỌC VIÊN VIẾT CODE Ở ĐÂY!}\n",
    "n = int(input(\"Nhập bảng cửu chương muốn hiển thị: \"))\n",
    "\n",
    "while True:\n",
    "    if(1<=n<=10):\n",
    "        break\n",
    "    n = int(input(\"Nhập sai vui lòng nhập số từ 1 đến 10: \"))\n",
    "    \n",
    "print(\"BẢNG CỬU CHƯƠNG \", n)\n",
    "for i in range(1,11):\n",
    "    print(n, \"x\", i, \" = \", n*i)\n",
    "\n",
    "\n",
    "\n"
   ]
  },
  {
   "cell_type": "code",
   "execution_count": null,
   "metadata": {},
   "outputs": [],
   "source": []
  },
  {
   "cell_type": "markdown",
   "metadata": {},
   "source": [
    "## Bài 10: Tính điểm học tập của bạn!\n",
    "---\n",
    "Khởi tạo một danh sách bao gồm các phần tử là điểm của bạn (hệ 10). Hãy thực hiện:\n",
    "1. Tạo một danh sách là các điểm chữ tương ứng với điểm hệ 10 ở trên.\n",
    "2. Tính điểm trung bình Hệ 10 và Hệ 4\n",
    "\n",
    "*Tham khảo minh họa trong slide bài giảng bảng chuyển đổi từ điểm số (Hệ 10) sang điểm số (hệ 4) và điểm chữ*  \n"
   ]
  },
  {
   "cell_type": "code",
   "execution_count": 12,
   "metadata": {},
   "outputs": [
    {
     "name": "stdout",
     "output_type": "stream",
     "text": [
      "----------Điểm Trung Bình----------\n",
      "Tổng số môn học:  9\n",
      "Điểm trung bình hệ 10:  7.044444444444444\n",
      "Điểm trung bình hệ 4:  2.7222222222222223\n"
     ]
    }
   ],
   "source": [
    "#{HỌC VIÊN VIẾT CODE Ở ĐÂY!}\n",
    "\n",
    "diem_He_10 = [8.4, 6.5, 7.3, 2.6, 9.0, 5.8, 6.0, 9.7, 8.1]\n",
    "diem_Chu = ['B+', 'C+', 'B', 'F', 'A+', 'C', 'C', 'A+', 'B+']\n",
    "\n",
    "list_DiemChu = ['F', 'D+', 'D', 'C', 'C+', 'B', 'B+', 'A', 'A+']\n",
    "list_DiemHe_4 = [0, 1.0, 1.5, 2.0, 2.5, 3.0, 3.5, 3.7, 4.0]\n",
    "\n",
    "print(\"----------Điểm Trung Bình----------\")\n",
    "\n",
    "soMonHoc = len(diem_Chu)\n",
    "\n",
    "print(\"Tổng số môn học: \", soMonHoc)\n",
    "\n",
    "sum1 = 0\n",
    "\n",
    "for i in range (0,soMonHoc):\n",
    "    sum1 = sum1 + diem_He_10[i]\n",
    "diemTrungBinh_10 = sum1/soMonHoc\n",
    "\n",
    "sum2 = 0\n",
    "\n",
    "for i in range(0,soMonHoc):\n",
    "    for j in range(0,len(list_DiemChu)):\n",
    "        if(diem_Chu[i] == list_DiemChu[j]):\n",
    "            sum2 = sum2 + list_DiemHe_4[j]\n",
    "diemTrungBinh_4 = sum2/soMonHoc\n",
    "\n",
    "print(\"Điểm trung bình hệ 10: \", diemTrungBinh_10)\n",
    "print(\"Điểm trung bình hệ 4: \", diemTrungBinh_4)\n",
    "\n",
    "\n"
   ]
  },
  {
   "cell_type": "code",
   "execution_count": null,
   "metadata": {},
   "outputs": [],
   "source": []
  },
  {
   "cell_type": "markdown",
   "metadata": {},
   "source": [
    "## Bài 11: Kiểm tra N có là số nguyên tố?\n",
    "---\n",
    "Nhập vào số tự nhiên N, cho biết N có phải là số nguyên tố hay không? (Số nguyên tố là số lớn hơn 1, chỉ chia hết cho 1 và chính nó)\n"
   ]
  },
  {
   "cell_type": "code",
   "execution_count": null,
   "metadata": {},
   "outputs": [],
   "source": [
    "#{HỌC VIÊN VIẾT CODE Ở ĐÂY!}\n",
    "\n",
    "# Kiểm tra với các giá trị sau\n",
    "\n",
    "#N0 = 2, 4        --> ???\n",
    "#N1 = 98711653011 --> ??\n",
    "#N2 = 87178291199 --> ??\n",
    "\n",
    "\n"
   ]
  },
  {
   "cell_type": "code",
   "execution_count": 62,
   "metadata": {},
   "outputs": [
    {
     "name": "stdout",
     "output_type": "stream",
     "text": [
      "Nhập vào một số nguyên dương N: 97\n",
      "Đây là số nguyên tố\n"
     ]
    }
   ],
   "source": [
    "\n",
    "\n",
    "n = int(input(\"Nhập vào một số nguyên dương N: \"))\n",
    "mark = 0\n",
    "for i in range(2, int(math.sqrt(n))+1):\n",
    "    if(n%i == 0):\n",
    "        mark = -1 \n",
    "        break\n",
    "if(mark == -1):\n",
    "    print(\"Đây không phải số nguyên tố\")\n",
    "else:\n",
    "    print(\"Đây là số nguyên tố\")\n",
    "        \n",
    "    \n"
   ]
  },
  {
   "cell_type": "code",
   "execution_count": null,
   "metadata": {},
   "outputs": [],
   "source": []
  },
  {
   "cell_type": "markdown",
   "metadata": {},
   "source": [
    "## Bài 12: dãy số nguyên tố\n",
    "---\n",
    "Nhập vào một số N, hiển thị các số nguyên tố từ 2 tới N:\n"
   ]
  },
  {
   "cell_type": "code",
   "execution_count": 69,
   "metadata": {},
   "outputs": [
    {
     "name": "stdout",
     "output_type": "stream",
     "text": [
      "Nhập vào một số nguyên dương N: 22\n",
      "2\n",
      "3\n",
      "5\n",
      "7\n",
      "11\n",
      "13\n",
      "17\n",
      "19\n"
     ]
    }
   ],
   "source": [
    "#{HỌC VIÊN VIẾT CODE Ở ĐÂY!}\n",
    "\n",
    "n = int(input(\"Nhập vào một số nguyên dương N: \"))\n",
    "\n",
    "for i in range(2,n):\n",
    "    mark = 0\n",
    "    for j in range(2, int(math.sqrt(i))+1):\n",
    "        if(i%j == 0):\n",
    "            mark = -1 \n",
    "            break\n",
    "    if(mark == 0):\n",
    "        print(i)\n",
    "        \n",
    "\n",
    "\n",
    "\n",
    "\n"
   ]
  },
  {
   "cell_type": "code",
   "execution_count": null,
   "metadata": {},
   "outputs": [],
   "source": []
  },
  {
   "cell_type": "code",
   "execution_count": null,
   "metadata": {},
   "outputs": [],
   "source": []
  },
  {
   "cell_type": "markdown",
   "metadata": {},
   "source": [
    "## Bài 13: Đổi số từ thập phân sang nhị phân\n",
    "---\n",
    "Nhập vào một số tự nhiên N (N>0), chuyển đổi số N sang hệ nhị phân.\n"
   ]
  },
  {
   "cell_type": "code",
   "execution_count": 76,
   "metadata": {},
   "outputs": [
    {
     "name": "stdout",
     "output_type": "stream",
     "text": [
      "Nhập số: 100\n",
      "1100100\n"
     ]
    }
   ],
   "source": [
    "#{HỌC VIÊN VIẾT CODE Ở ĐÂY!}\n",
    "\n",
    "n = int(input(\"Nhập số: \"))\n",
    "\n",
    "soNhiPhan = \"\"\n",
    "\n",
    "while(n>0):\n",
    "    soNhiPhan = str(n%2) + soNhiPhan\n",
    "    n = n//2\n",
    "print(soNhiPhan)\n",
    "    \n",
    "    \n",
    "\n"
   ]
  },
  {
   "cell_type": "code",
   "execution_count": null,
   "metadata": {},
   "outputs": [],
   "source": []
  },
  {
   "cell_type": "code",
   "execution_count": null,
   "metadata": {},
   "outputs": [],
   "source": []
  }
 ],
 "metadata": {
  "kernelspec": {
   "display_name": "Python 3 (ipykernel)",
   "language": "python",
   "name": "python3"
  },
  "language_info": {
   "codemirror_mode": {
    "name": "ipython",
    "version": 3
   },
   "file_extension": ".py",
   "mimetype": "text/x-python",
   "name": "python",
   "nbconvert_exporter": "python",
   "pygments_lexer": "ipython3",
   "version": "3.9.12"
  }
 },
 "nbformat": 4,
 "nbformat_minor": 2
}
