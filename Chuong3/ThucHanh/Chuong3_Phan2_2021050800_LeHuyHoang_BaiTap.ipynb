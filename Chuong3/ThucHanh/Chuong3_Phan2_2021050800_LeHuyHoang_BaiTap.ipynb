{
 "cells": [
  {
   "cell_type": "markdown",
   "metadata": {},
   "source": [
    "# THỰC HÀNH\n",
    "----"
   ]
  },
  {
   "cell_type": "markdown",
   "metadata": {},
   "source": [
    "## Bài 6: Xác định nguyên âm|phụ âm\n",
    "---\n",
    "Nhập vào một ký tự chữ cái bất kỳ(không phân biệt chữ hoa-chữ thường), cho biết nó là nguyên âm hay phụ âm trong tiếng anh. \n",
    "* 5 chữ cái nguyên âm: **U, E, O, A, I**\n",
    "* 21 Chữ cái phụ âm: **B, C, D, F, G, H, J K, L, M, N, P, Q, R, S, T, V, W, X, Y, Z**\n"
   ]
  },
  {
   "cell_type": "code",
   "execution_count": 38,
   "metadata": {},
   "outputs": [
    {
     "name": "stdout",
     "output_type": "stream",
     "text": [
      "nhap:b\n",
      "Đây là phụ âm.\n"
     ]
    }
   ],
   "source": [
    "#{HỌC VIÊN VIẾT CODE Ở ĐÂY}\n",
    "\n",
    "#char = input('Nhập vào ký tự chữ cái bất kỳ: ').upper()\n",
    "\n",
    "print(\"Đây là nguyên âm.\") if(input(\"Nhập ký tự: \").upper() in ['U','E','O','A','I']) else print(\"Đây là phụ âm.\")\n",
    "\n"
   ]
  },
  {
   "cell_type": "code",
   "execution_count": null,
   "metadata": {},
   "outputs": [],
   "source": []
  },
  {
   "cell_type": "markdown",
   "metadata": {},
   "source": [
    "## Bài 7: Tính chỉ số BMI\n",
    "---\n",
    "Nhập vào chiều cao (m) và cân nặng (kg) rồi tính chỉ số BMI của người đó theo công thức:\n",
    "\n",
    "* BMI = Weight(Kg) / Height(m) ^2 \n",
    "\n",
    "Dựa vào chỉ số BMI tính được đưa ra nhận xét về cơ thể của người đó theo các mức:\n",
    "* Underweight: BMI<18.5\n",
    "* NormalWeight: 18.5 <= BMI <= 24.9\n",
    "* Overweight: 25 <= BMI <=29.9\n",
    "* Obese: BMI>=30\n"
   ]
  },
  {
   "cell_type": "code",
   "execution_count": 43,
   "metadata": {},
   "outputs": [
    {
     "name": "stdout",
     "output_type": "stream",
     "text": [
      "Your weight: 80\n",
      "Your height: 1.5\n",
      "You are obese\n"
     ]
    }
   ],
   "source": [
    "#{HỌC VIÊN VIẾT CODE Ở ĐÂY}\n",
    "\n",
    "weight = float(input(\"Your weight: \"))\n",
    "height = float(input(\"Your height: \"))\n",
    "\n",
    "bmi = weight/(height**2)\n",
    "\n",
    "if(bmi < 18.5):\n",
    "    print(\"You are underweight\")\n",
    "elif(18.5 <= bmi <= 24.9):\n",
    "    print(\"You are normalweight\")\n",
    "elif(25 <= bmi <= 29.9):\n",
    "    print(\"You are overweight\")\n",
    "else:\n",
    "    print(\"You are obese\")\n",
    "\n",
    "\n"
   ]
  },
  {
   "cell_type": "code",
   "execution_count": null,
   "metadata": {},
   "outputs": [],
   "source": []
  },
  {
   "cell_type": "markdown",
   "metadata": {},
   "source": [
    "## Bài 8: Xác định mùa trong năm!\n",
    "---\n",
    "Nhập vào tháng sinh của bạn và cho biết bạn sinh vào mùa nào?\n",
    "\n",
    "**Yêu cầu:**\n",
    "* Nếu 1, 2, 3: Bạn sinh vào Mùa xuân\n",
    "* Nếu 4, 5, 6: Bạn sinh vào Mùa hạ\n",
    "* Nếu 7, 8, 9: Bạn sinh vào Mùa thu\n",
    "* Nếu 10, 11, 12: Bạn sinh vào Mùa đông\n",
    "* <1 hoặc >12: Tháng sinh nhập vào không đúng\n"
   ]
  },
  {
   "cell_type": "code",
   "execution_count": 6,
   "metadata": {},
   "outputs": [
    {
     "name": "stdout",
     "output_type": "stream",
     "text": [
      "Nhập vào tháng sinh của bạn: 13\n",
      "Tháng sinh nhập vào không đúng.\n"
     ]
    }
   ],
   "source": [
    "#{HỌC VIÊN VIẾT CODE Ở ĐÂY}\n",
    "\n",
    "n = int(input(\"Nhập vào tháng sinh của bạn: \"))\n",
    "\n",
    "if(0 < n < 4):\n",
    "    print(\"Bạn sinh vào mùa xuân.\")\n",
    "elif(3 < n < 7):\n",
    "    print(\"Bạn sinh vào mùa hạ.\")\n",
    "elif(6 < n < 10):\n",
    "    print(\"Bạn sinh vào mùa thu.\")\n",
    "elif(9 < n < 13):\n",
    "    print(\"Bạn sinh vào mùa đông.\")\n",
    "else:\n",
    "    print(\"Tháng sinh nhập vào không đúng.\")\n",
    "\n",
    "\n",
    "\n"
   ]
  },
  {
   "cell_type": "code",
   "execution_count": null,
   "metadata": {},
   "outputs": [],
   "source": []
  },
  {
   "cell_type": "markdown",
   "metadata": {},
   "source": [
    "# THỰC HÀNH\n",
    "---"
   ]
  },
  {
   "cell_type": "markdown",
   "metadata": {},
   "source": [
    "## Bài 9: Hiển thị bảng cửu chương!\n",
    "---\n",
    "Nhập vào bảng cửu chương muốn in (1 – 10), hiển thị bảng cửu chương tương ứng với số vừa nhập. (Lưu ý: Thực hiện kiểm tra giá trị nhập, chỉ thỏa mãn khi giá trị nhập vào trong khoảng [1,10] \n",
    "\n",
    "*Xem minh họa bài tập trong file bài giảng!*"
   ]
  },
  {
   "cell_type": "code",
   "execution_count": 64,
   "metadata": {},
   "outputs": [
    {
     "name": "stdout",
     "output_type": "stream",
     "text": [
      "Nhập bảng cửu chương muốn hiển thị: 6\n",
      "BẢNG CỬU CHƯƠNG  6\n",
      "6 x 1  =  6\n",
      "6 x 2  =  12\n",
      "6 x 3  =  18\n",
      "6 x 4  =  24\n",
      "6 x 5  =  30\n",
      "6 x 6  =  36\n",
      "6 x 7  =  42\n",
      "6 x 8  =  48\n",
      "6 x 9  =  54\n",
      "6 x 10  =  60\n"
     ]
    }
   ],
   "source": [
    "#{HỌC VIÊN VIẾT CODE Ở ĐÂY!}\n",
    "n = int(input(\"Nhập bảng cửu chương muốn hiển thị: \"))\n",
    "\n",
    "while True:\n",
    "    if(1<=n<=10):\n",
    "        break\n",
    "    n = int(input(\"Nhập sai vui lòng nhập số từ 1 đến 10: \"))\n",
    "    \n",
    "print(\"BẢNG CỬU CHƯƠNG \", n)\n",
    "for i in range(1,11):\n",
    "    print(n, \"x\", i, \" = \", n*i)\n",
    "\n",
    "\n",
    "\n"
   ]
  },
  {
   "cell_type": "code",
   "execution_count": null,
   "metadata": {},
   "outputs": [],
   "source": []
  },
  {
   "cell_type": "markdown",
   "metadata": {},
   "source": [
    "## Bài 10: Tính điểm học tập của bạn!\n",
    "---\n",
    "Khởi tạo một danh sách bao gồm các phần tử là điểm của bạn (hệ 10). Hãy thực hiện:\n",
    "1. Tạo một danh sách là các điểm chữ tương ứng với điểm hệ 10 ở trên.\n",
    "2. Tính điểm trung bình Hệ 10 và Hệ 4\n",
    "\n",
    "*Tham khảo minh họa trong slide bài giảng bảng chuyển đổi từ điểm số (Hệ 10) sang điểm số (hệ 4) và điểm chữ*  \n"
   ]
  },
  {
   "cell_type": "code",
   "execution_count": 12,
   "metadata": {},
   "outputs": [
    {
     "name": "stdout",
     "output_type": "stream",
     "text": [
      "----------Điểm Trung Bình----------\n",
      "Tổng số môn học:  9\n",
      "Điểm trung bình hệ 10:  7.044444444444444\n",
      "Điểm trung bình hệ 4:  2.7222222222222223\n"
     ]
    }
   ],
   "source": [
    "#{HỌC VIÊN VIẾT CODE Ở ĐÂY!}\n",
    "\n",
    "diem_He_10 = [8.4, 6.5, 7.3, 2.6, 9.0, 5.8, 6.0, 9.7, 8.1]\n",
    "diem_Chu = ['B+', 'C+', 'B', 'F', 'A+', 'C', 'C', 'A+', 'B+']\n",
    "\n",
    "list_DiemChu = ['F', 'D+', 'D', 'C', 'C+', 'B', 'B+', 'A', 'A+']\n",
    "list_DiemHe_4 = [0, 1.0, 1.5, 2.0, 2.5, 3.0, 3.5, 3.7, 4.0]\n",
    "\n",
    "print(\"----------Điểm Trung Bình----------\")\n",
    "\n",
    "soMonHoc = len(diem_Chu)\n",
    "\n",
    "print(\"Tổng số môn học: \", soMonHoc)\n",
    "\n",
    "sum1 = 0\n",
    "\n",
    "for i in range (0,soMonHoc):\n",
    "    sum1 = sum1 + diem_He_10[i]\n",
    "diemTrungBinh_10 = sum1/soMonHoc\n",
    "\n",
    "sum2 = 0\n",
    "\n",
    "for i in range(0,soMonHoc):\n",
    "    for j in range(0,len(list_DiemChu)):\n",
    "        if(diem_Chu[i] == list_DiemChu[j]):\n",
    "            sum2 = sum2 + list_DiemHe_4[j]\n",
    "diemTrungBinh_4 = sum2/soMonHoc\n",
    "\n",
    "print(\"Điểm trung bình hệ 10: \", diemTrungBinh_10)\n",
    "print(\"Điểm trung bình hệ 4: \", diemTrungBinh_4)\n",
    "\n",
    "\n"
   ]
  },
  {
   "cell_type": "code",
   "execution_count": null,
   "metadata": {},
   "outputs": [],
   "source": []
  },
  {
   "cell_type": "markdown",
   "metadata": {},
   "source": [
    "## Bài 11: Kiểm tra N có là số nguyên tố?\n",
    "---\n",
    "Nhập vào số tự nhiên N, cho biết N có phải là số nguyên tố hay không? (Số nguyên tố là số lớn hơn 1, chỉ chia hết cho 1 và chính nó)\n"
   ]
  },
  {
   "cell_type": "code",
   "execution_count": null,
   "metadata": {},
   "outputs": [],
   "source": [
    "#{HỌC VIÊN VIẾT CODE Ở ĐÂY!}\n",
    "\n",
    "# Kiểm tra với các giá trị sau\n",
    "\n",
    "#N0 = 2, 4        --> ???\n",
    "#N1 = 98711653011 --> ??\n",
    "#N2 = 87178291199 --> ??\n",
    "\n",
    "\n"
   ]
  },
  {
   "cell_type": "code",
   "execution_count": 62,
   "metadata": {},
   "outputs": [
    {
     "name": "stdout",
     "output_type": "stream",
     "text": [
      "Nhập vào một số nguyên dương N: 97\n",
      "Đây là số nguyên tố\n"
     ]
    }
   ],
   "source": [
    "\n",
    "\n",
    "n = int(input(\"Nhập vào một số nguyên dương N: \"))\n",
    "mark = 0\n",
    "for i in range(2, int(math.sqrt(n))+1):\n",
    "    if(n%i == 0):\n",
    "        mark = -1 \n",
    "        break\n",
    "if(mark == -1):\n",
    "    print(\"Đây không phải số nguyên tố\")\n",
    "else:\n",
    "    print(\"Đây là số nguyên tố\")\n",
    "        \n",
    "    \n"
   ]
  },
  {
   "cell_type": "code",
   "execution_count": null,
   "metadata": {},
   "outputs": [],
   "source": []
  },
  {
   "cell_type": "markdown",
   "metadata": {},
   "source": [
    "## Bài 12: dãy số nguyên tố\n",
    "---\n",
    "Nhập vào một số N, hiển thị các số nguyên tố từ 2 tới N:\n"
   ]
  },
  {
   "cell_type": "code",
   "execution_count": 69,
   "metadata": {},
   "outputs": [
    {
     "name": "stdout",
     "output_type": "stream",
     "text": [
      "Nhập vào một số nguyên dương N: 22\n",
      "2\n",
      "3\n",
      "5\n",
      "7\n",
      "11\n",
      "13\n",
      "17\n",
      "19\n"
     ]
    }
   ],
   "source": [
    "#{HỌC VIÊN VIẾT CODE Ở ĐÂY!}\n",
    "\n",
    "n = int(input(\"Nhập vào một số nguyên dương N: \"))\n",
    "\n",
    "for i in range(2,n):\n",
    "    mark = 0\n",
    "    for j in range(2, int(math.sqrt(i))+1):\n",
    "        if(i%j == 0):\n",
    "            mark = -1 \n",
    "            break\n",
    "    if(mark == 0):\n",
    "        print(i)\n",
    "        \n",
    "\n",
    "\n",
    "\n",
    "\n"
   ]
  },
  {
   "cell_type": "code",
   "execution_count": null,
   "metadata": {},
   "outputs": [],
   "source": []
  },
  {
   "cell_type": "code",
   "execution_count": null,
   "metadata": {},
   "outputs": [],
   "source": []
  },
  {
   "cell_type": "markdown",
   "metadata": {},
   "source": [
    "## Bài 13: Đổi số từ thập phân sang nhị phân\n",
    "---\n",
    "Nhập vào một số tự nhiên N (N>0), chuyển đổi số N sang hệ nhị phân.\n"
   ]
  },
  {
   "cell_type": "code",
   "execution_count": 76,
   "metadata": {},
   "outputs": [
    {
     "name": "stdout",
     "output_type": "stream",
     "text": [
      "Nhập số: 100\n",
      "1100100\n"
     ]
    }
   ],
   "source": [
    "#{HỌC VIÊN VIẾT CODE Ở ĐÂY!}\n",
    "\n",
    "n = int(input(\"Nhập số: \"))\n",
    "\n",
    "soNhiPhan = \"\"\n",
    "\n",
    "while(n>0):\n",
    "    soNhiPhan = str(n%2) + soNhiPhan\n",
    "    n = n//2\n",
    "print(soNhiPhan)\n",
    "    \n",
    "    \n",
    "\n"
   ]
  },
  {
   "cell_type": "code",
   "execution_count": null,
   "metadata": {},
   "outputs": [],
   "source": []
  },
  {
   "cell_type": "code",
   "execution_count": null,
   "metadata": {},
   "outputs": [],
   "source": []
  }
 ],
 "metadata": {
  "kernelspec": {
   "display_name": "Python 3 (ipykernel)",
   "language": "python",
   "name": "python3"
  },
  "language_info": {
   "codemirror_mode": {
    "name": "ipython",
    "version": 3
   },
   "file_extension": ".py",
   "mimetype": "text/x-python",
   "name": "python",
   "nbconvert_exporter": "python",
   "pygments_lexer": "ipython3",
   "version": "3.9.12"
  }
 },
 "nbformat": 4,
 "nbformat_minor": 2
}
