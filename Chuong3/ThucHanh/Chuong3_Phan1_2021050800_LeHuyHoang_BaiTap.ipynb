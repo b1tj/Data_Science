{
 "cells": [
  {
   "cell_type": "markdown",
   "metadata": {},
   "source": [
    "## THỰC HÀNH\n",
    "---"
   ]
  },
  {
   "cell_type": "markdown",
   "metadata": {},
   "source": [
    "## Bài 1: Chia kẹo cho học sinh lớp 1\n",
    "----\n",
    "Cô có n cái kẹo, có m học sinh trong lớp. Hãy giúp cô chia đều số kẹo cho tất cả học sinh.\n",
    "\n",
    "**Yêu cầu:**\n",
    "* Nhập vào số kẹo của cô – N\n",
    "* Nhập vào số học sinh trong lớp – M\n",
    "\n",
    "\n",
    "Cho biết:\n",
    "1. Mỗi học sinh được nhận bao nhiêu cái kẹo?\n",
    "2. Cô còn lại bao nhiêu cái kẹo?\n"
   ]
  },
  {
   "cell_type": "code",
   "execution_count": 6,
   "metadata": {},
   "outputs": [
    {
     "name": "stdout",
     "output_type": "stream",
     "text": [
      "Nhập vào số kẹo của cô: 100\n",
      "Nhập số học sinh trong lớp: 35\n",
      "Mỗi học sinh nhận được:  2\n",
      "Cô còn lại: 30\n"
     ]
    }
   ],
   "source": [
    "#{HỌC VIÊN VIẾT CODE Ở ĐÂY!}\n",
    "\n",
    "n = int(input(\"Nhập vào số kẹo của cô: \"))\n",
    "m = int(input(\"Nhập số học sinh trong lớp: \"))\n",
    "print(\"Mỗi học sinh nhận được: \", n//m)\n",
    "print(\"Cô còn lại:\", n%m)\n"
   ]
  },
  {
   "cell_type": "markdown",
   "metadata": {},
   "source": [
    "# Bài 2: Tính tuổi\n",
    "---\n",
    "Nhập vào tên và năm sinh của một người, tính tuổi của người đó và hiển thị ra màn hình thông báo \n",
    "\n",
    "Yêu cầu:\n",
    "\n",
    "* Nhập vào họ tên: mai phương thúy\n",
    "* Nhập vào năm sinh: 2000\n",
    "\n",
    "Hiển thị thông báo kết quả:\n",
    "\t **Bạn “MAI PHƯƠNG THÚY” năm nay 19 tuổi!**\n",
    "\n",
    "\n"
   ]
  },
  {
   "cell_type": "code",
   "execution_count": 2,
   "metadata": {},
   "outputs": [
    {
     "name": "stdout",
     "output_type": "stream",
     "text": [
      "Nhập vào họ tên:mai phương thúy\n",
      "Nhập vào năm sinh của bạn: 2000\n",
      "Bạn \" MAI PHƯƠNG THÚY \" năm nay  22  tuổi!\n"
     ]
    }
   ],
   "source": [
    "#{HỌC VIÊN VIẾT CODE Ở ĐÂY!}\n",
    "\n",
    "\n",
    "ten = input('Nhập vào họ tên:')\n",
    "nam_sinh = int(input('Nhập vào năm sinh của bạn: '))\n",
    "\n",
    "#Hiển thị kết quả\n",
    "import datetime\n",
    "year = datetime.datetime.now().year\n",
    "tuoi = year - nam_sinh\n",
    "\n",
    "\n",
    "print('Bạn \\\"', ten.upper(), '\\\" năm nay ', tuoi, ' tuổi!')\n"
   ]
  },
  {
   "cell_type": "markdown",
   "metadata": {},
   "source": [
    "# Bài 3: Cho biết số thỏ trong rừng!\n",
    "---\n",
    "Ban đầu trong rừng có một cặp thỏ, biết rằng cứ sau 1 tháng thì số lượng thỏ trong rừng tăng lên gấp đôi. Hỏi sau x tháng thì trong rừng có bao nhiêu con thỏ (Giả thiết các con thỏ không chết)\n",
    "\n",
    "Yêu cầu: \n",
    "* Nhập vào số tháng x: 3\n",
    "* Hiển thị thông báo kết quả:\n",
    "\t **Trong rừng có: 16 con thỏ**"
   ]
  },
  {
   "cell_type": "code",
   "execution_count": 19,
   "metadata": {},
   "outputs": [
    {
     "name": "stdout",
     "output_type": "stream",
     "text": [
      "Nhập vào số tháng x: 12\n",
      "Trong rừng có:  8192  con thỏ\n"
     ]
    }
   ],
   "source": [
    "#{HỌC VIÊN VIẾT CODE Ở ĐÂY!}\n",
    "x = int(input('Nhập vào số tháng x: '))\n",
    "so_tho = 2**(x+1)\n",
    "\n",
    "print('Trong rừng có: ', so_tho, ' con thỏ')\n",
    "\n",
    "\n",
    "\n"
   ]
  },
  {
   "cell_type": "markdown",
   "metadata": {},
   "source": [
    "# Bài 4: Chuỗi văn bản\n",
    "---\n",
    "\n",
    "“Nước Việt Nam là một, dân tộc Việt Nam là một. Sông có thể cạn núi có thể mòn, song chân lý ấy không bao giờ thay đổi. (HỒ CHÍ MINH, 1890 – 1969)”\n",
    "\n",
    "Yêu cầu: \n",
    "1. Cho biết số ký tự có trong đoạn văn trên.\n",
    "2. Cho biết trong đoạn có chứa từ nào sau đây không (Không phân biệt chữ hoa, chữ thường)?\n",
    "    * “hồ chí minh”\n",
    "    * “non sông”\n",
    "3. Tách đoạn văn thành các câu bởi dấu .\n",
    "4. Cho biết trong đoạn văn trên có ký tự nào khác ký tự chữ và số hay không?\n",
    "5. Thay thế các các từ ‘Việt Nam’ bằng ‘VIỆT NAM’ trong đoạn văn trên.\n"
   ]
  },
  {
   "cell_type": "code",
   "execution_count": 23,
   "metadata": {},
   "outputs": [
    {
     "name": "stdout",
     "output_type": "stream",
     "text": [
      "Nước Việt Nam là một, dân tộc Việt Nam là một. Sông có thể cạn núi có thể mòn, song chân lý ấy không bao giờ thay đổi. (HỒ CHÍ MINH, 1890 – 1969)\n"
     ]
    }
   ],
   "source": [
    "#{HỌC VIÊN VIẾT CODE Ở ĐÂY!}\n",
    "\n",
    "st = 'Nước Việt Nam là một, dân tộc Việt Nam là một. Sông có thể cạn núi có thể mòn, song chân lý ấy không bao giờ thay đổi. (HỒ CHÍ MINH, 1890 – 1969)'\n",
    "print(st)\n",
    "\n"
   ]
  },
  {
   "cell_type": "code",
   "execution_count": 25,
   "metadata": {},
   "outputs": [
    {
     "name": "stdout",
     "output_type": "stream",
     "text": [
      "Số ký tự có trong đoạn văn trên:  145\n"
     ]
    }
   ],
   "source": [
    "#1.\n",
    "print('Số ký tự có trong đoạn văn trên: ', len(st))"
   ]
  },
  {
   "cell_type": "code",
   "execution_count": 27,
   "metadata": {},
   "outputs": [
    {
     "name": "stdout",
     "output_type": "stream",
     "text": [
      "True\n"
     ]
    }
   ],
   "source": [
    "#2.\n",
    "st_1 = st.upper()\n",
    "x = 'hồ chí minh'.upper() in st_1\n",
    "print(x)"
   ]
  },
  {
   "cell_type": "code",
   "execution_count": 32,
   "metadata": {},
   "outputs": [
    {
     "name": "stdout",
     "output_type": "stream",
     "text": [
      "-1\n"
     ]
    }
   ],
   "source": [
    "#2.\n",
    "st_2 = st.lower()\n",
    "print(st_2.find('non sông'))"
   ]
  },
  {
   "cell_type": "code",
   "execution_count": 34,
   "metadata": {},
   "outputs": [
    {
     "name": "stdout",
     "output_type": "stream",
     "text": [
      "['Nước Việt Nam là một, dân tộc Việt Nam là một', ' Sông có thể cạn núi có thể mòn, song chân lý ấy không bao giờ thay đổi', ' (HỒ CHÍ MINH, 1890 – 1969)']\n"
     ]
    }
   ],
   "source": [
    "#3.\n",
    "list_st = st.split('.')\n",
    "print(list_st)"
   ]
  },
  {
   "cell_type": "code",
   "execution_count": 4,
   "metadata": {},
   "outputs": [
    {
     "name": "stdout",
     "output_type": "stream",
     "text": [
      "Đoạn văn trên chỉ chứa ký tự chữ và số:  False\n"
     ]
    }
   ],
   "source": [
    "#4.\n",
    "check = st.isalnum()\n",
    "print(\"Đoạn văn trên chỉ chứa ký tự chữ và số: \", check)"
   ]
  },
  {
   "cell_type": "code",
   "execution_count": 36,
   "metadata": {},
   "outputs": [
    {
     "name": "stdout",
     "output_type": "stream",
     "text": [
      "Nước VIỆT NAM là một, dân tộc VIỆT NAM là một. Sông có thể cạn núi có thể mòn, song chân lý ấy không bao giờ thay đổi. (HỒ CHÍ MINH, 1890 – 1969)\n"
     ]
    }
   ],
   "source": [
    "#5.\n",
    "st_new = st.replace('Việt Nam', 'VIỆT NAM')\n",
    "print(st_new)"
   ]
  },
  {
   "cell_type": "markdown",
   "metadata": {},
   "source": [
    "## Bài 5: Chuẩn hóa chuỗi:\n",
    "---\n",
    "Chuỗi st ban đầu: s = '   python FOR Machine LearNiNg      '\n",
    "\n",
    "**Yêu cầu:** \n",
    "1. Chuẩn hóa chuỗi về chuỗi s1: Loại bỏ hết khoảng trắng ở đầu và cuối chuỗi , thêm ký tự ‘!’ ở cuối câu. chuyển hết về chữ thường và viết hoa ký tự đầu tiên trong mỗi từ: **'Python For Machine Learning!’**\n",
    "\n",
    "2. Chuẩn hóa chuỗi về chuỗi s2: Loại bỏ hết khoảng trắng ở đầu và cuối chuỗi, chuyển toàn bộ sang chữ hoa và nối các từ bằng dấu ‘-’: **‘PYTHON-FOR-MACHINE-LEARNING'**"
   ]
  },
  {
   "cell_type": "code",
   "execution_count": 23,
   "metadata": {},
   "outputs": [],
   "source": [
    "#{HỌC VIÊN VIẾT CODE Ở ĐÂY!}\n",
    "s = ' python FOR Machine LearNiNg '\n",
    "\n",
    "\n",
    "\n"
   ]
  },
  {
   "cell_type": "code",
   "execution_count": 24,
   "metadata": {},
   "outputs": [
    {
     "data": {
      "text/plain": [
       "'Python For Machine Learning!'"
      ]
     },
     "execution_count": 24,
     "metadata": {},
     "output_type": "execute_result"
    }
   ],
   "source": [
    "#1\n",
    "s1 = s.strip()\n",
    "s1 = s1 + \"!\"\n",
    "s1 = s1.lower()\n",
    "s1 = s1.title()\n",
    "\n",
    "s1"
   ]
  },
  {
   "cell_type": "code",
   "execution_count": 28,
   "metadata": {},
   "outputs": [
    {
     "data": {
      "text/plain": [
       "'PYTHON-FOR-MACHINE-LEARNING'"
      ]
     },
     "execution_count": 28,
     "metadata": {},
     "output_type": "execute_result"
    }
   ],
   "source": [
    "#2\n",
    "s2 = s.strip()\n",
    "s2 = s2.upper()\n",
    "str_list = s2.split(' ')\n",
    "s2 = '-'.join(str_list)\n",
    "s2"
   ]
  },
  {
   "cell_type": "markdown",
   "metadata": {},
   "source": [
    "# THỰC HÀNH\n",
    "---"
   ]
  },
  {
   "cell_type": "markdown",
   "metadata": {},
   "source": [
    "## Bài 5: Thống kê điểm Học viên\n",
    "---\n",
    "\n",
    "Khởi tạo một danh sách gồm các điểm thi môn “Python for Analysis” của lớp VIN_01 (Điểm chữ: A, B, C, D, F)\n",
    "\n",
    "Point_VIN = ['A','B','B','D','A','A','F','B','A','C','F','D','B']\n",
    "\n",
    "**Yêu cầu:** \n",
    "1. Cho biết số sinh viên trong lớp\n",
    "2. Có bao nhiêu sinh viên phải học lại môn này (điểm F).\n",
    "3. Có bao nhiêu sinh viên có điểm từ B trở lên.\n",
    "4. Sinh viên đầu tiên và cuối cùng trong lớp đã nghỉ học, tạo một bảng điểm mới và loại bỏ điểm của các sinh viên này ra "
   ]
  },
  {
   "cell_type": "code",
   "execution_count": 65,
   "metadata": {},
   "outputs": [],
   "source": [
    "#{HỌC VIÊN VIẾT CODE Ở ĐÂY!}\n",
    "\n",
    "Point_VIN = ['A','B','B','D','A','A','F','B','A','C','F','D','B']\n",
    "\n",
    "\n",
    "\n"
   ]
  },
  {
   "cell_type": "code",
   "execution_count": 66,
   "metadata": {},
   "outputs": [
    {
     "name": "stdout",
     "output_type": "stream",
     "text": [
      "Số sinh viên trong lớp là:  13\n"
     ]
    }
   ],
   "source": [
    "#1.Cho biết số sinh viên trong lớp\n",
    "stu_number = len(Point_VIN)\n",
    "print(\"Số sinh viên trong lớp là: \", stu_number)"
   ]
  },
  {
   "cell_type": "code",
   "execution_count": 77,
   "metadata": {},
   "outputs": [
    {
     "name": "stdout",
     "output_type": "stream",
     "text": [
      "Số sinh viên phải học lại môn là:  2\n"
     ]
    }
   ],
   "source": [
    "#2.Có bao nhiêu sinh viên phải học lại môn này (điểm F)\n",
    "stu_fail = Point_VIN.count(\"F\")\n",
    "print(\"Số sinh viên phải học lại môn là: \", stu_fail)"
   ]
  },
  {
   "cell_type": "code",
   "execution_count": 78,
   "metadata": {},
   "outputs": [
    {
     "name": "stdout",
     "output_type": "stream",
     "text": [
      "Số sinh viên có điểm từ B trở lên là:  8\n"
     ]
    }
   ],
   "source": [
    "#3.Có bao nhiêu sinh viên có điểm từ B trở lên\n",
    "stu_hScore = Point_VIN.count(\"B\") + Point_VIN.count(\"A\")\n",
    "print(\"Số sinh viên có điểm từ B trở lên là: \", stu_hScore)\n"
   ]
  },
  {
   "cell_type": "code",
   "execution_count": 81,
   "metadata": {},
   "outputs": [
    {
     "name": "stdout",
     "output_type": "stream",
     "text": [
      "Danh sách mới:  ['B', 'B', 'D', 'A', 'A', 'F', 'B', 'A', 'C', 'F', 'D']\n"
     ]
    }
   ],
   "source": [
    "#4.\n",
    "new_Point = Point_VIN.copy()\n",
    "del(new_Point[0])\n",
    "new_Point.pop()\n",
    "print(\"Danh sách mới: \", new_Point)"
   ]
  }
 ],
 "metadata": {
  "kernelspec": {
   "display_name": "Python 3 (ipykernel)",
   "language": "python",
   "name": "python3"
  },
  "language_info": {
   "codemirror_mode": {
    "name": "ipython",
    "version": 3
   },
   "file_extension": ".py",
   "mimetype": "text/x-python",
   "name": "python",
   "nbconvert_exporter": "python",
   "pygments_lexer": "ipython3",
   "version": "3.9.12"
  }
 },
 "nbformat": 4,
 "nbformat_minor": 2
}
