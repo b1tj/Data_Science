{
 "cells": [
  {
   "cell_type": "markdown",
   "metadata": {},
   "source": [
    "<center>\n",
    "    <img src='Pic/logo.png' width='300px'>\n",
    "    <h1>MÔN HỌC: KHOA HỌC DỮ LIỆU (7080509)</h1>\n",
    "    <h2>Chương 3: Lập Trình Python Cơ bản (Phần 1)</h2>\n",
    "</center>\n",
    "\n",
    "---\n",
    "**NỘI DUNG BÀI HỌC:**\n",
    "1. Ngôn ngữ lập trình Python\n",
    "2. Cài đặt và thiết lập môi trường lập trình\n",
    "3. Xây dựng ứng dụng đầu tiên (Hello world!)\n",
    "4. Một số loại lỗi thường gặp (Syntex Errors - Runtime Errors - Logical Errors)\n",
    "5. Từ khóa và định danh\n",
    "6. Biến và khai báo biến trong Python\n",
    "7. Các kiểu dữ liệu cơ bản\n",
    "    * Kiểu số: int, float\n",
    "    * Kiểu chuỗi: str\n",
    "    * Kiểu danh sách: list\n",
    "    * Kiểu boolean: True - False\n",
    "    * Chuyển đổi kiểu dữ liệu\n",
    "---\n",
    "* Họ tên : Lê Huy Hoàng\n",
    "* Mã sinh viên : 2021050800\n",
    "* Lớp : DCCTPM65A"
   ]
  },
  {
   "cell_type": "markdown",
   "metadata": {},
   "source": [
    "## 5. Từ khóa và định danh\n",
    "---\n",
    "Mỗi ngôn ngữ lập trình có từ khóa (keyword) và định danh (identifier) khác nhau."
   ]
  },
  {
   "cell_type": "markdown",
   "metadata": {},
   "source": [
    "<img src='Pic/keywords.jpg' width='600px'>\n",
    "\n",
    "**Định danh** là tên được đặt cho các thực thể như class, function, biến,... trong Python. Nó giúp phân biệt thực thể này với thực thể khác.\n"
   ]
  },
  {
   "cell_type": "markdown",
   "metadata": {},
   "source": [
    "**Quy tắc viết định danh:**\n",
    "* Định danh có thể là sự kết hợp giữa các chữ cái viết thường (từ a đến z) hoặc viết hoa (A đến Z) hoặc các số (từ 0 đến 9) hoăc dấu gạch dưới (_). \n",
    "* Định danh không thể bắt đầu bằng một chữ số\n",
    "* Định danh phải khác các keyword.\n",
    "* Python không hỗ trợ các ký tự đặc biệt như !, @, #, $, %,... trong định danh.\n",
    "* Python là ngôn ngữ lập trình phân biệt chữ hoa, chữ thường\n"
   ]
  },
  {
   "cell_type": "markdown",
   "metadata": {},
   "source": [
    "**Một số quy ước thường dùng khi viết định danh:**\n",
    "* Tên lớp thường bắt đầu với một chữ cái hoa. Tất cả các định danh khác bắt đầu với chữ cái thường.\n",
    "* Định danh bắt đầu với một dấu dạch dưới _ là định danh protected (chỉ lớp con mới có thể truy cập được).\n",
    "* Định danh bắt đầu với 2 dấu gạch dưới __ là định danh private (chỉ lớp đó mới truy cập được).\n",
    "* Nếu định danh bắt đầu và kết thúc bằng 2 dấu gạch dưới (__init__ chẳng hạn) thì định danh đó là tên đặc biệt được ngôn ngữ định nghĩa.\n",
    "* Nên đặt tên định danh có nghĩa"
   ]
  },
  {
   "cell_type": "markdown",
   "metadata": {},
   "source": [
    "## 6. Biến và khai báo biến trong Python\n",
    "----\n",
    "* Trong lập trình, biến (variable) là tên của một vùng trong bộ nhớ RAM, được sử dụng để lưu trữ thông tin. \n",
    "* Biến giống như một chiếc hộp có thể giúp chúng ta lưu trữ dữ liệu. Ta có thể gán thông tin cho một biến, và có thể lấy thông tin đó ra để sử dụng. \n",
    "* Khi một biến được khai báo, một vùng trong bộ nhớ sẽ dành cho các biến.\n",
    "* Biến là một thứ cực kì quan trọng trong lập trình mà không thể thiếu trong bất cứ chương trình lớn, nhỏ nào.\n"
   ]
  },
  {
   "cell_type": "code",
   "execution_count": 4,
   "metadata": {},
   "outputs": [],
   "source": [
    "#Khai báo biến <tên biến > = giá trị\n",
    "\n",
    "hoten = 'Đặng Văn Nam'\n",
    "\n",
    "nam_sinh = 1985\n",
    "\n",
    "diem_a = 9.8\n",
    "\n",
    "gt01 = ['M', 'F']\n",
    "\n",
    "gt02 = 'XYZ'\n",
    "\n",
    "kt = True"
   ]
  },
  {
   "cell_type": "code",
   "execution_count": 5,
   "metadata": {},
   "outputs": [
    {
     "name": "stdout",
     "output_type": "stream",
     "text": [
      "Chào mừng bạn:  Đặng Văn Nam\n"
     ]
    }
   ],
   "source": [
    "print('Chào mừng bạn: ', hoten)"
   ]
  },
  {
   "cell_type": "code",
   "execution_count": null,
   "metadata": {},
   "outputs": [],
   "source": []
  },
  {
   "cell_type": "markdown",
   "metadata": {},
   "source": [
    "**Nhắc lại: Một số quy tắc bắt buộc khi đặt tên biến, nếu vi phạm sẽ bị báo lỗi:**\n",
    "* Tên biến chỉ được chứa: \n",
    "    * Các ký tự chữ cái (a - z, A - Z) \n",
    "    * Các ký tự số (0-9)\n",
    "    * Dấu gạch dưới ( _ )\n",
    "* Tên biến không được bắt đầu bằng ký tự số\n",
    "* Phân biệt chữ hoa chữ thường (a # A)\n",
    "* Tên biến không được chứa các ký tự đặc biệt như “@,&...” hay các keywords trong Python. \n",
    "* Không được sử dụng dấu cách khi đặt tên biến\n",
    "* Tên biến nên được đặt theo một tên có ý nghĩa, có tính gợi nhớ.\n",
    "* Trường hợp tên biến gồm nhiều tiếng ghép lại, nên sử dụng dấu gạch nối."
   ]
  },
  {
   "cell_type": "code",
   "execution_count": null,
   "metadata": {},
   "outputs": [],
   "source": [
    "#Một số tên biến không đúng:\n",
    "diem thi = 10\n",
    "\n",
    "03gt = 'Nữ'\n",
    "\n",
    "def = 'Nam'\n",
    "\n",
    "var@b = 2021"
   ]
  },
  {
   "cell_type": "code",
   "execution_count": 10,
   "metadata": {},
   "outputs": [],
   "source": [
    "#Trong Python không có câu lệnh khai báo biến tường minh\n",
    "#Biến được tạo ra khi lần đầu tiên được gán giá trị\n",
    "x = 5.0\n",
    "y ='John'"
   ]
  },
  {
   "cell_type": "code",
   "execution_count": 11,
   "metadata": {},
   "outputs": [
    {
     "data": {
      "text/plain": [
       "float"
      ]
     },
     "execution_count": 11,
     "metadata": {},
     "output_type": "execute_result"
    }
   ],
   "source": [
    "type(x)"
   ]
  },
  {
   "cell_type": "code",
   "execution_count": 8,
   "metadata": {},
   "outputs": [
    {
     "data": {
      "text/plain": [
       "str"
      ]
     },
     "execution_count": 8,
     "metadata": {},
     "output_type": "execute_result"
    }
   ],
   "source": [
    "type(y)"
   ]
  },
  {
   "cell_type": "code",
   "execution_count": null,
   "metadata": {},
   "outputs": [],
   "source": []
  },
  {
   "cell_type": "code",
   "execution_count": 12,
   "metadata": {},
   "outputs": [],
   "source": [
    "#Biến không cần được khai báo kiểu dữ liệu cụ thể và thậm chí có thể thay đổi kiểu dữ liệu\n",
    "x = 4\n",
    "x = 'Sally'"
   ]
  },
  {
   "cell_type": "code",
   "execution_count": 13,
   "metadata": {},
   "outputs": [
    {
     "name": "stdout",
     "output_type": "stream",
     "text": [
      "Sally\n"
     ]
    }
   ],
   "source": [
    "print(x)"
   ]
  },
  {
   "cell_type": "code",
   "execution_count": null,
   "metadata": {},
   "outputs": [],
   "source": []
  },
  {
   "cell_type": "code",
   "execution_count": null,
   "metadata": {},
   "outputs": [],
   "source": []
  },
  {
   "cell_type": "code",
   "execution_count": 14,
   "metadata": {},
   "outputs": [
    {
     "name": "stdout",
     "output_type": "stream",
     "text": [
      "Orange\n",
      "Banana\n",
      "Cherry\n"
     ]
    }
   ],
   "source": [
    "#Gán giá trị cho nhiều biến:\n",
    "#Python cho phép gán giá trị đồng thời cho nhiều biến:\n",
    "x,y,z = \"Orange\",\"Banana\",\"Cherry\"\n",
    "print(x)\n",
    "print(y)\n",
    "print(z)"
   ]
  },
  {
   "cell_type": "code",
   "execution_count": 15,
   "metadata": {},
   "outputs": [
    {
     "name": "stdout",
     "output_type": "stream",
     "text": [
      "Orange\n",
      "Orange\n",
      "Orange\n"
     ]
    }
   ],
   "source": [
    "#Python cho phép gán cùng một giá trị cho nhiều biến:\n",
    "x=y=z=\"Orange\"\n",
    "print(x)\n",
    "print(y)\n",
    "print(z)"
   ]
  },
  {
   "cell_type": "markdown",
   "metadata": {},
   "source": [
    "## 7. Một số kiểu dữ liệu cơ bản\n",
    "---\n",
    "<img src='pic/datatype.png' width = '400px'>\n",
    "\n",
    "**Lưu ý: Các biến sẽ được tự động nhận diện kiểu giá trị được gán**\n"
   ]
  },
  {
   "cell_type": "markdown",
   "metadata": {},
   "source": [
    "## 1.Kiểu số: Số nguyên, số thực\n",
    "---"
   ]
  },
  {
   "cell_type": "code",
   "execution_count": 16,
   "metadata": {},
   "outputs": [
    {
     "name": "stdout",
     "output_type": "stream",
     "text": [
      "<class 'int'>\n",
      "<class 'float'>\n"
     ]
    }
   ],
   "source": [
    "a = 11   #Kiểu số nguyên\n",
    "\n",
    "b = 11.0 #Kiểu số thực\n",
    "\n",
    "print(type(a))\n",
    "print(type(b))"
   ]
  },
  {
   "cell_type": "code",
   "execution_count": 17,
   "metadata": {},
   "outputs": [
    {
     "name": "stdout",
     "output_type": "stream",
     "text": [
      "1.0 - <class 'float'>\n"
     ]
    }
   ],
   "source": [
    "#Kiểu dữ liệu của phép chia\n",
    "a = 10\n",
    "b = 10\n",
    "c = a/b\n",
    "print(c, '-', type(c))"
   ]
  },
  {
   "cell_type": "code",
   "execution_count": 18,
   "metadata": {},
   "outputs": [],
   "source": [
    "#Một số phép toán cơ bản trên kiểu dữ liệu số:\n",
    "a = 10\n",
    "b = 8\n",
    "#---------------------------------------------------------------\n",
    "tong = a + b             #Tổng của hai số (+)\n",
    "hieu = a - b             #Hiệu của hai số (-)\n",
    "tich = a*b               #Tích của hai số (*) x \n",
    "thuong = a/b             #Thương của hai số (/) :\n",
    "thuong_nguyen = a//b     #Phép chia lấy phần nguyên (//)\n",
    "thuong_du = a%b          #Phép chia lấy phần dư (%)\n",
    "mu = a**b                #Tính giá trị a lũy thừa b (**) "
   ]
  },
  {
   "cell_type": "code",
   "execution_count": 19,
   "metadata": {},
   "outputs": [
    {
     "name": "stdout",
     "output_type": "stream",
     "text": [
      "1. Tổng =  18\n",
      "2. Hiệu =  2\n",
      "3. Tích =  80\n",
      "4. Thương =  1.25\n",
      "5. Thương nguyên =  1\n",
      "6. thương du =  2\n",
      "7. Lũy thừa =  100000000\n"
     ]
    }
   ],
   "source": [
    "#---------------------------------------------------------------\n",
    "print(\"1. Tổng = \", tong)\n",
    "print(\"2. Hiệu = \", hieu)\n",
    "print(\"3. Tích = \", tich)\n",
    "print(\"4. Thương = \", thuong)\n",
    "print(\"5. Thương nguyên = \", thuong_nguyen)\n",
    "print(\"6. thương du = \", thuong_du)\n",
    "print(\"7. Lũy thừa = \", mu)"
   ]
  },
  {
   "cell_type": "markdown",
   "metadata": {},
   "source": [
    "* Biến trong Python rất linh hoạt, có thể chứa giá trị thuộc nhiều kiểu dữ liệu khác nhau. \n",
    "\n",
    "* Cú pháp: **type(biến)** sẽ giúp ta biết được kiểu dữ liệu của biến"
   ]
  },
  {
   "cell_type": "code",
   "execution_count": 20,
   "metadata": {},
   "outputs": [
    {
     "name": "stdout",
     "output_type": "stream",
     "text": [
      "Kiểu dữ liệu biến x: <class 'int'>\n",
      "Kiểu dữ liệu biến y: <class 'float'>\n",
      "Kiểu dữ liệu biến z: <class 'str'>\n",
      "Kiểu dữ liệu biến b: <class 'bool'>\n",
      "Kiểu dữ liệu biến n: <class 'list'>\n",
      "Kiểu dữ liệu biến h: <class 'tuple'>\n",
      "Kiểu dữ liệu biến g: <class 'set'>\n",
      "Kiểu dữ liệu biến k: <class 'dict'>\n"
     ]
    }
   ],
   "source": [
    "#Kiểm tra kiểu dữ liệu của biến\n",
    "x = 1985\n",
    "y = 3.1415926535\n",
    "z ='AIAcademy VietNam'\n",
    "b = True\n",
    "n = [5, 6, 7, 8, 9]\n",
    "h = (5, 6, 7, 8, 9)\n",
    "g = {5, 6, 7, 8, 9}\n",
    "k = {0:5, 1:6, 2:7, 3:8, 4:9}\n",
    "#----------------------------------------\n",
    "print('Kiểu dữ liệu biến x:', type(x))\n",
    "print('Kiểu dữ liệu biến y:', type(y))\n",
    "print('Kiểu dữ liệu biến z:', type(z))\n",
    "print('Kiểu dữ liệu biến b:', type(b))\n",
    "print('Kiểu dữ liệu biến n:', type(n))\n",
    "print('Kiểu dữ liệu biến h:', type(h))\n",
    "print('Kiểu dữ liệu biến g:', type(g))\n",
    "print('Kiểu dữ liệu biến k:', type(k))"
   ]
  },
  {
   "cell_type": "code",
   "execution_count": 21,
   "metadata": {},
   "outputs": [
    {
     "name": "stdout",
     "output_type": "stream",
     "text": [
      "0.01\n",
      "400000.0\n",
      "2.5e+105\n"
     ]
    }
   ],
   "source": [
    "#Sử dụng e (E) khai báo biến số thực\n",
    "X = 1e-2\n",
    "Y = 4E5\n",
    "Z = 2.5e105\n",
    "print(X)\n",
    "print(Y)\n",
    "print(Z)"
   ]
  },
  {
   "cell_type": "code",
   "execution_count": 22,
   "metadata": {},
   "outputs": [
    {
     "name": "stdout",
     "output_type": "stream",
     "text": [
      "1.79e+308\n",
      "inf\n"
     ]
    }
   ],
   "source": [
    "#Giá trị maximum:1.79 * 10^308\n",
    "print(1.79e308)\n",
    "print(1.8e308)"
   ]
  },
  {
   "cell_type": "markdown",
   "metadata": {},
   "source": [
    "## 2.Kiểu dữ liệu chuỗi\n",
    "---\n",
    "Chuỗi có thể được để trong dấu nháy đơn ('...') hoặc kép (\"...\")"
   ]
  },
  {
   "cell_type": "code",
   "execution_count": null,
   "metadata": {},
   "outputs": [],
   "source": [
    "c1 = 'Python là ngôn ngữ lập trình số 1 hiện nay!'\n",
    "c2 = \"Python là ngôn ngữ lập trình số 1 hiện nay!\"\n",
    "\n",
    "print(c1)\n",
    "print(c2)"
   ]
  },
  {
   "cell_type": "code",
   "execution_count": null,
   "metadata": {},
   "outputs": [],
   "source": [
    "#Bắt đầu và kết thúc với cùng một dấu nháy\n",
    "c = 'Khai báo str không đúng\""
   ]
  },
  {
   "cell_type": "code",
   "execution_count": 23,
   "metadata": {},
   "outputs": [
    {
     "name": "stdout",
     "output_type": "stream",
     "text": [
      "Trong anh và em hôm nay\n",
      "Đều có một phần Đất Nước\n",
      "Khi hai đứa cầm tay\n",
      "Đất Nước trong chúng mình hài hoà nồng thắm\n",
      "Khi chúng ta cầm tay mọi người\n",
      "Đất nước vẹn tròn, to lớn.\n",
      "-------------------------------------------\n",
      "Trong anh và em hôm nay\n",
      "Đều có một phần Đất Nước\n",
      "Khi hai đứa cầm tay\n",
      "Đất Nước trong chúng mình hài hoà nồng thắm\n",
      "Khi chúng ta cầm tay mọi người\n",
      "Đất nước vẹn tròn, to lớn.\n"
     ]
    }
   ],
   "source": [
    "#Khai báo chuỗi trên nhiều dòng\n",
    "a1 = \"\"\"Trong anh và em hôm nay\n",
    "Đều có một phần Đất Nước\n",
    "Khi hai đứa cầm tay\n",
    "Đất Nước trong chúng mình hài hoà nồng thắm\n",
    "Khi chúng ta cầm tay mọi người\n",
    "Đất nước vẹn tròn, to lớn.\"\"\"\n",
    "\n",
    "a2 = '''Trong anh và em hôm nay\n",
    "Đều có một phần Đất Nước\n",
    "Khi hai đứa cầm tay\n",
    "Đất Nước trong chúng mình hài hoà nồng thắm\n",
    "Khi chúng ta cầm tay mọi người\n",
    "Đất nước vẹn tròn, to lớn.'''\n",
    "\n",
    "print(a1)\n",
    "print('-------------------------------------------')\n",
    "print(a2)"
   ]
  },
  {
   "cell_type": "code",
   "execution_count": null,
   "metadata": {},
   "outputs": [],
   "source": [
    "#phân biệt giữa kiểu dữ liệu chuỗi và số\n",
    "a = 123\n",
    "print(\"Số: \", a)\n",
    "\n",
    "A = '123'\n",
    "print(\"Chuỗi: \", A)"
   ]
  },
  {
   "cell_type": "code",
   "execution_count": null,
   "metadata": {},
   "outputs": [],
   "source": [
    "#Dữ liệu nhập qua lệnh input đều có kiểu str:\n",
    "ns = input('Nhập năm sinh của bạn:')\n",
    "print('Năm sinh:', ns)\n",
    "print(type(ns))"
   ]
  },
  {
   "cell_type": "markdown",
   "metadata": {},
   "source": [
    "**Một số ký tự đặc biệt trong chuỗi:**\n",
    "* \\\\ Backslash\n",
    "* \\’ Single quotes\n",
    "* \\” Double quotes\n",
    "* \\n Linefeed\n",
    "* \\t Horizontal tab"
   ]
  },
  {
   "cell_type": "code",
   "execution_count": 22,
   "metadata": {},
   "outputs": [
    {
     "name": "stdout",
     "output_type": "stream",
     "text": [
      "Tháp Mười đẹp nhất 'bông Sen', \n",
      " \t Việt Nam đẹp nhất có tên \"Bác Hồ\".\n"
     ]
    }
   ],
   "source": [
    "st = 'Tháp Mười đẹp nhất \\'bông Sen\\', \\n \\t Việt Nam đẹp nhất có tên \\\"Bác Hồ\\\".'\n",
    "print(st)"
   ]
  },
  {
   "cell_type": "markdown",
   "metadata": {},
   "source": [
    "### Truy cập các phần tử của chuỗi:\n",
    "---\n",
    "* Các chuỗi được lập chỉ mục với ký tự đầu tiên được đánh số 0. \n",
    "* Chỉ số cũng có thể là số âm, bắt đầu đếm từ bên phải\n",
    "\n",
    "<img src = 'pic/pic2.png'>"
   ]
  },
  {
   "cell_type": "code",
   "execution_count": 24,
   "metadata": {},
   "outputs": [
    {
     "name": "stdout",
     "output_type": "stream",
     "text": [
      "P\n",
      "c\n"
     ]
    }
   ],
   "source": [
    "a = 'Python for Analytics'\n",
    "\n",
    "#Lấy từng phần tử trong chuỗi: sử dụng index:\n",
    "print(a[0])\n",
    "\n",
    "print(a[-2])"
   ]
  },
  {
   "cell_type": "code",
   "execution_count": null,
   "metadata": {},
   "outputs": [],
   "source": [
    "print(a)"
   ]
  },
  {
   "cell_type": "code",
   "execution_count": null,
   "metadata": {},
   "outputs": [],
   "source": [
    "#Cắt lát (:) lấy chuỗi con\n",
    "#= cận dưới : < cận trên\n",
    "print(a[0:6])\n",
    "\n",
    "print(a[2:8])"
   ]
  },
  {
   "cell_type": "code",
   "execution_count": 25,
   "metadata": {},
   "outputs": [
    {
     "data": {
      "text/plain": [
       "'Python for '"
      ]
     },
     "execution_count": 25,
     "metadata": {},
     "output_type": "execute_result"
    }
   ],
   "source": [
    "#Lấy từ phần tử đầu tiên đến phần tử index = 10\n",
    "a[:11]"
   ]
  },
  {
   "cell_type": "code",
   "execution_count": 26,
   "metadata": {},
   "outputs": [
    {
     "data": {
      "text/plain": [
       "' Analytics'"
      ]
     },
     "execution_count": 26,
     "metadata": {},
     "output_type": "execute_result"
    }
   ],
   "source": [
    "#Lấy từ phần tử 10 đến hết\n",
    "a[10:]"
   ]
  },
  {
   "cell_type": "markdown",
   "metadata": {},
   "source": [
    "### **Nối chuỗi (+):**"
   ]
  },
  {
   "cell_type": "code",
   "execution_count": 30,
   "metadata": {},
   "outputs": [
    {
     "data": {
      "text/plain": [
       "'Thời đại  Hồ Chí Minh'"
      ]
     },
     "execution_count": 30,
     "metadata": {},
     "output_type": "execute_result"
    }
   ],
   "source": [
    "#Nối chuỗi (+): \n",
    "st = 'Thời đại ' + ' Hồ Chí Minh'\n",
    "st"
   ]
  },
  {
   "cell_type": "code",
   "execution_count": 2,
   "metadata": {},
   "outputs": [
    {
     "data": {
      "text/plain": [
       "'Chủ tịch Hồ Chí Minh, sinh năm 1890'"
      ]
     },
     "execution_count": 2,
     "metadata": {},
     "output_type": "execute_result"
    }
   ],
   "source": [
    "#Không thể nối str + number\n",
    "st = 'Chủ tịch Hồ Chí Minh, sinh năm ' + str(1890)\n",
    "st"
   ]
  },
  {
   "cell_type": "code",
   "execution_count": 1,
   "metadata": {},
   "outputs": [
    {
     "data": {
      "text/plain": [
       "'ViệtNam ViệtNam ViệtNam ViệtNam '"
      ]
     },
     "execution_count": 1,
     "metadata": {},
     "output_type": "execute_result"
    }
   ],
   "source": [
    "# Nhân chuỗi với 1 số nguyên\n",
    "st = 'ViệtNam '* 4\n",
    "st"
   ]
  },
  {
   "cell_type": "markdown",
   "metadata": {},
   "source": [
    "### Một số thao tác với chuỗi\n",
    "---"
   ]
  },
  {
   "cell_type": "code",
   "execution_count": 5,
   "metadata": {},
   "outputs": [
    {
     "name": "stdout",
     "output_type": "stream",
     "text": [
      "Số ký tự trong chuỗi st là: 20\n"
     ]
    }
   ],
   "source": [
    "# 1.Cho biết số ký tự của chuỗi: len(st)\n",
    "\n",
    "st = 'Python for Analytics'\n",
    "print('Số ký tự trong chuỗi st là:', len(st))"
   ]
  },
  {
   "cell_type": "code",
   "execution_count": 6,
   "metadata": {},
   "outputs": [
    {
     "name": "stdout",
     "output_type": "stream",
     "text": [
      "Chữ hoa:  PYTHON FOR ANALYTICS\n",
      "Chữ hoa:  python for analytics\n"
     ]
    }
   ],
   "source": [
    "# 2.Chuyển chuỗi st thành chữ hoa (upper) – chữ thường (lower): st.upper() – st.lower()\n",
    "print('Chữ hoa: ',  st.upper())\n",
    "print('Chữ hoa: ',  st.lower())"
   ]
  },
  {
   "cell_type": "code",
   "execution_count": 8,
   "metadata": {},
   "outputs": [
    {
     "data": {
      "text/plain": [
       "'Python for Analytics'"
      ]
     },
     "execution_count": 8,
     "metadata": {},
     "output_type": "execute_result"
    }
   ],
   "source": [
    "# 3. Loại bỏ khoảng trắng ở đầu và cuối chuỗi: st.strip()\n",
    "st1 = \"              Python for Analytics       \"\n",
    "st1.strip()"
   ]
  },
  {
   "cell_type": "code",
   "execution_count": 9,
   "metadata": {},
   "outputs": [
    {
     "data": {
      "text/plain": [
       "'Python for Analytics       '"
      ]
     },
     "execution_count": 9,
     "metadata": {},
     "output_type": "execute_result"
    }
   ],
   "source": [
    "# Loại bỏ khoảng trắng ở đầu chuỗi:st.lstrip()\n",
    "st1.lstrip()"
   ]
  },
  {
   "cell_type": "code",
   "execution_count": 10,
   "metadata": {},
   "outputs": [
    {
     "data": {
      "text/plain": [
       "'              Python for Analytics'"
      ]
     },
     "execution_count": 10,
     "metadata": {},
     "output_type": "execute_result"
    }
   ],
   "source": [
    "# Loại bỏ khoảng trắng ở cuối đầu chuỗi:st.lstrip()\n",
    "st1.rstrip()"
   ]
  },
  {
   "cell_type": "code",
   "execution_count": null,
   "metadata": {},
   "outputs": [],
   "source": []
  },
  {
   "cell_type": "code",
   "execution_count": 11,
   "metadata": {},
   "outputs": [
    {
     "name": "stdout",
     "output_type": "stream",
     "text": [
      "Python for Analytics\n",
      "Python for Machine Learning\n"
     ]
    }
   ],
   "source": [
    "# 4. Thay thế một chuỗi s thành s1 trong chuỗi st: st. replace(s,s1)\n",
    "print(st)\n",
    "st_new = st.replace('Analytics', 'Machine Learning')\n",
    "print(st_new)"
   ]
  },
  {
   "cell_type": "code",
   "execution_count": 12,
   "metadata": {},
   "outputs": [
    {
     "name": "stdout",
     "output_type": "stream",
     "text": [
      "Kết quả kiểm tra chuỗi 'Machine': True\n",
      "Kết quả kiểm tra chuỗi 'Analytics': False\n"
     ]
    }
   ],
   "source": [
    "# 5. Để kiểm tra một chuỗi con có trong chuỗi st hay không? hãy dùng từ khóa in\n",
    "st_new = 'Python for Machine Learning'\n",
    "x = 'Machine' in st_new    #Trả về True nếu có trong chuỗi\n",
    "y = 'Analytics' in st_new  #Trả về False nếu ko có trong chuỗi\n",
    "\n",
    "print('Kết quả kiểm tra chuỗi \\'Machine\\':',x )\n",
    "print('Kết quả kiểm tra chuỗi \\'Analytics\\':',y )"
   ]
  },
  {
   "cell_type": "code",
   "execution_count": 13,
   "metadata": {},
   "outputs": [
    {
     "name": "stdout",
     "output_type": "stream",
     "text": [
      "['Python', 'for', 'Machine', 'Learning']\n",
      "<class 'list'>\n"
     ]
    }
   ],
   "source": [
    "#6. Tách một chuỗi thành một danh sách (mảng 1 chiều): string.split(‘seperator’)\n",
    "st_new = 'Python for Machine Learning'\n",
    "\n",
    "#Mặc định tách chuỗi tại vị trí dấu cách\n",
    "list_st =  st_new.split()\n",
    "print(list_st)\n",
    "print(type(list_st))"
   ]
  },
  {
   "cell_type": "code",
   "execution_count": 14,
   "metadata": {},
   "outputs": [
    {
     "name": "stdout",
     "output_type": "stream",
     "text": [
      "['Đỗ Thị Hà', '2001', 'Thanh Hóa']\n"
     ]
    }
   ],
   "source": [
    "st_new1 = 'Đỗ Thị Hà,2001,Thanh Hóa'\n",
    "\n",
    "#Tùy chọn vị trí tách theo tham số đưa vào\n",
    "list_st1 = st_new1.split(',')\n",
    "\n",
    "print(list_st1)"
   ]
  },
  {
   "cell_type": "code",
   "execution_count": 15,
   "metadata": {},
   "outputs": [
    {
     "name": "stdout",
     "output_type": "stream",
     "text": [
      "7\n",
      "-1\n"
     ]
    }
   ],
   "source": [
    "#7. Tìm kiếm một con chuỗi trong chuỗi st\n",
    "st_new = 'Python for Machine Learning'\n",
    "print(st_new.find('for'))  #Nếu tìm thấy trả về chỉ số nơi thấy chuỗi\n",
    "print(st_new.find('HUMG')) #Nếu không tìm thấy trả về -1"
   ]
  },
  {
   "cell_type": "code",
   "execution_count": 19,
   "metadata": {},
   "outputs": [
    {
     "name": "stdout",
     "output_type": "stream",
     "text": [
      "Nam,Hoa,Thành,Thảo\n",
      "2015-1985-2011\n"
     ]
    }
   ],
   "source": [
    "#8. Join chuỗi\n",
    "st1 = ','.join(['Nam','Hoa','Thành','Thảo'])\n",
    "print(st1)\n",
    "st2 = '-'.join({'1985','2011','2015'})\n",
    "print(st2)"
   ]
  },
  {
   "cell_type": "code",
   "execution_count": 20,
   "metadata": {},
   "outputs": [
    {
     "name": "stdout",
     "output_type": "stream",
     "text": [
      "y\n",
      "L\n"
     ]
    }
   ],
   "source": [
    "#9. Max, Min: Ký tự có mã ASCii max, min\n",
    "st = 'PythonforMachineLearning'\n",
    "print(max(st))\n",
    "print(min(st))"
   ]
  },
  {
   "cell_type": "code",
   "execution_count": 21,
   "metadata": {},
   "outputs": [
    {
     "data": {
      "text/plain": [
       "76"
      ]
     },
     "execution_count": 21,
     "metadata": {},
     "output_type": "execute_result"
    }
   ],
   "source": [
    "ord('L')"
   ]
  },
  {
   "cell_type": "code",
   "execution_count": null,
   "metadata": {},
   "outputs": [],
   "source": [
    "#10. Phương thức kiểm tra với chuỗi\n",
    "#------------------------------\n",
    "#st.isalpha():Kiểm tra chuỗi ký tự st có phải chỉ chứa ký tự thuộc bảng chữ cái hay không (a-z, A-Z)?\n",
    "#st.isdigit():Kiểm tra chuỗi ký tự st có phải chỉ chứa ký tự chữ số hay không (0-9)?\n",
    "#st.isalnum():Kiểm tra chuỗi ký tự st có phải chỉ chứa ký tự chữ cái  (a-z, A-Z) và ký tự số (0-9) hay không?\n",
    "#st.isupper():Kiểm tra chuỗi ký tự st có phải chỉ chứa ký tự chữ được viết hoa hay không (A-Z)?\n",
    "#st.islower():Kiểm tra chuỗi ký tự st có phải chỉ chứa ký tự chữ được viết hoa hay không (a-z)?\n"
   ]
  },
  {
   "cell_type": "markdown",
   "metadata": {},
   "source": [
    "### Chuyển đổi kiểu dữ liệu:\n",
    "---\n",
    "* str(biến_a): Chuyển kiểu dữ liệu của biến_a về kiểu chuỗi\n",
    "* int(biến_b): Chuyển kiểu dữ liệu của biến_b về kiểu số nguyên\n",
    "* float(biến_c): Chuyển kiểu dữ liệu của biến_c về kiểu số thực"
   ]
  },
  {
   "cell_type": "code",
   "execution_count": 1,
   "metadata": {},
   "outputs": [
    {
     "name": "stdout",
     "output_type": "stream",
     "text": [
      "Kiểu dữ liệu biến so_nguyen: <class 'int'>  - giá trị:  2021\n",
      "Kiểu dữ liệu biến so_thuc: <class 'float'>  - giá trị:  2021.0\n",
      "Kiểu dữ liệu biến chuoi: <class 'str'>  - giá trị:  2021\n"
     ]
    }
   ],
   "source": [
    "a_chu = '2021'\n",
    "a_so = 2021\n",
    "\n",
    "#Chuyển từ chuỗi sang số\n",
    "so_nguyen = int(a_chu)\n",
    "so_thuc = float(a_chu)\n",
    "\n",
    "print('Kiểu dữ liệu biến so_nguyen:', type(so_nguyen), ' - giá trị: ', so_nguyen)\n",
    "print('Kiểu dữ liệu biến so_thuc:', type(so_thuc), ' - giá trị: ', so_thuc)\n",
    "\n",
    "#Chuyển đổi từ số sang chuỗi\n",
    "chuoi = str(a_so)\n",
    "print('Kiểu dữ liệu biến chuoi:', type(chuoi), ' - giá trị: ', chuoi)"
   ]
  },
  {
   "cell_type": "code",
   "execution_count": null,
   "metadata": {},
   "outputs": [],
   "source": []
  },
  {
   "cell_type": "markdown",
   "metadata": {},
   "source": [
    "## THỰC HÀNH\n",
    "---"
   ]
  },
  {
   "cell_type": "markdown",
   "metadata": {},
   "source": [
    "## Bài 1: Chia kẹo cho học sinh lớp 1\n",
    "----\n",
    "Cô có n cái kẹo, có m học sinh trong lớp. Hãy giúp cô chia đều số kẹo cho tất cả học sinh.\n",
    "\n",
    "**Yêu cầu:**\n",
    "* Nhập vào số kẹo của cô – N\n",
    "* Nhập vào số học sinh trong lớp – M\n",
    "\n",
    "\n",
    "Cho biết:\n",
    "1. Mỗi học sinh được nhận bao nhiêu cái kẹo?\n",
    "2. Cô còn lại bao nhiêu cái kẹo?\n"
   ]
  },
  {
   "cell_type": "code",
   "execution_count": 6,
   "metadata": {},
   "outputs": [
    {
     "name": "stdout",
     "output_type": "stream",
     "text": [
      "Nhập vào số kẹo của cô: 100\n",
      "Nhập số học sinh trong lớp: 35\n",
      "Mỗi học sinh nhận được:  2\n",
      "Cô còn lại: 30\n"
     ]
    }
   ],
   "source": [
    "#{HỌC VIÊN VIẾT CODE Ở ĐÂY!}\n",
    "\n",
    "n = int(input(\"Nhập vào số kẹo của cô: \"))\n",
    "m = int(input(\"Nhập số học sinh trong lớp: \"))\n",
    "print(\"Mỗi học sinh nhận được: \", n//m)\n",
    "print(\"Cô còn lại:\", n%m)\n"
   ]
  },
  {
   "cell_type": "code",
   "execution_count": null,
   "metadata": {},
   "outputs": [],
   "source": []
  },
  {
   "cell_type": "code",
   "execution_count": null,
   "metadata": {},
   "outputs": [],
   "source": []
  },
  {
   "cell_type": "markdown",
   "metadata": {},
   "source": [
    "# Bài 2: Tính tuổi\n",
    "---\n",
    "Nhập vào tên và năm sinh của một người, tính tuổi của người đó và hiển thị ra màn hình thông báo \n",
    "\n",
    "Yêu cầu:\n",
    "\n",
    "* Nhập vào họ tên: mai phương thúy\n",
    "* Nhập vào năm sinh: 2000\n",
    "\n",
    "Hiển thị thông báo kết quả:\n",
    "\t **Bạn “MAI PHƯƠNG THÚY” năm nay 19 tuổi!**\n",
    "\n",
    "\n"
   ]
  },
  {
   "cell_type": "code",
   "execution_count": 2,
   "metadata": {},
   "outputs": [
    {
     "name": "stdout",
     "output_type": "stream",
     "text": [
      "Nhập vào họ tên:mai phương thúy\n",
      "Nhập vào năm sinh của bạn: 2000\n",
      "Bạn \" MAI PHƯƠNG THÚY \" năm nay  22  tuổi!\n"
     ]
    }
   ],
   "source": [
    "#{HỌC VIÊN VIẾT CODE Ở ĐÂY!}\n",
    "\n",
    "\n",
    "ten = input('Nhập vào họ tên:')\n",
    "nam_sinh = int(input('Nhập vào năm sinh của bạn: '))\n",
    "\n",
    "#Hiển thị kết quả\n",
    "import datetime\n",
    "year = datetime.datetime.now().year\n",
    "tuoi = year - nam_sinh\n",
    "\n",
    "\n",
    "print('Bạn \\\"', ten.upper(), '\\\" năm nay ', tuoi, ' tuổi!')\n"
   ]
  },
  {
   "cell_type": "code",
   "execution_count": null,
   "metadata": {},
   "outputs": [],
   "source": []
  },
  {
   "cell_type": "markdown",
   "metadata": {},
   "source": [
    "# Bài 3: Cho biết số thỏ trong rừng!\n",
    "---\n",
    "Ban đầu trong rừng có một cặp thỏ, biết rằng cứ sau 1 tháng thì số lượng thỏ trong rừng tăng lên gấp đôi. Hỏi sau x tháng thì trong rừng có bao nhiêu con thỏ (Giả thiết các con thỏ không chết)\n",
    "\n",
    "Yêu cầu: \n",
    "* Nhập vào số tháng x: 3\n",
    "* Hiển thị thông báo kết quả:\n",
    "\t **Trong rừng có: 16 con thỏ**"
   ]
  },
  {
   "cell_type": "code",
   "execution_count": 19,
   "metadata": {},
   "outputs": [
    {
     "name": "stdout",
     "output_type": "stream",
     "text": [
      "Nhập vào số tháng x: 12\n",
      "Trong rừng có:  8192  con thỏ\n"
     ]
    }
   ],
   "source": [
    "#{HỌC VIÊN VIẾT CODE Ở ĐÂY!}\n",
    "x = int(input('Nhập vào số tháng x: '))\n",
    "so_tho = 2**(x+1)\n",
    "\n",
    "print('Trong rừng có: ', so_tho, ' con thỏ')\n",
    "\n",
    "\n",
    "\n"
   ]
  },
  {
   "cell_type": "code",
   "execution_count": null,
   "metadata": {},
   "outputs": [],
   "source": []
  },
  {
   "cell_type": "markdown",
   "metadata": {},
   "source": [
    "# Bài 4: Chuỗi văn bản\n",
    "---\n",
    "\n",
    "“Nước Việt Nam là một, dân tộc Việt Nam là một. Sông có thể cạn núi có thể mòn, song chân lý ấy không bao giờ thay đổi. (HỒ CHÍ MINH, 1890 – 1969)”\n",
    "\n",
    "Yêu cầu: \n",
    "1. Cho biết số ký tự có trong đoạn văn trên.\n",
    "2. Cho biết trong đoạn có chứa từ nào sau đây không (Không phân biệt chữ hoa, chữ thường)?\n",
    "    * “hồ chí minh”\n",
    "    * “non sông”\n",
    "3. Tách đoạn văn thành các câu bởi dấu .\n",
    "4. Cho biết trong đoạn văn trên có ký tự nào khác ký tự chữ và số hay không?\n",
    "5. Thay thế các các từ ‘Việt Nam’ bằng ‘VIỆT NAM’ trong đoạn văn trên.\n"
   ]
  },
  {
   "cell_type": "code",
   "execution_count": 23,
   "metadata": {},
   "outputs": [
    {
     "name": "stdout",
     "output_type": "stream",
     "text": [
      "Nước Việt Nam là một, dân tộc Việt Nam là một. Sông có thể cạn núi có thể mòn, song chân lý ấy không bao giờ thay đổi. (HỒ CHÍ MINH, 1890 – 1969)\n"
     ]
    }
   ],
   "source": [
    "#{HỌC VIÊN VIẾT CODE Ở ĐÂY!}\n",
    "\n",
    "st = 'Nước Việt Nam là một, dân tộc Việt Nam là một. Sông có thể cạn núi có thể mòn, song chân lý ấy không bao giờ thay đổi. (HỒ CHÍ MINH, 1890 – 1969)'\n",
    "print(st)\n",
    "\n"
   ]
  },
  {
   "cell_type": "code",
   "execution_count": 25,
   "metadata": {},
   "outputs": [
    {
     "name": "stdout",
     "output_type": "stream",
     "text": [
      "Số ký tự có trong đoạn văn trên:  145\n"
     ]
    }
   ],
   "source": [
    "#1.\n",
    "print('Số ký tự có trong đoạn văn trên: ', len(st))"
   ]
  },
  {
   "cell_type": "code",
   "execution_count": 27,
   "metadata": {},
   "outputs": [
    {
     "name": "stdout",
     "output_type": "stream",
     "text": [
      "True\n"
     ]
    }
   ],
   "source": [
    "#2.\n",
    "st_1 = st.upper()\n",
    "x = 'hồ chí minh'.upper() in st_1\n",
    "print(x)"
   ]
  },
  {
   "cell_type": "code",
   "execution_count": 32,
   "metadata": {},
   "outputs": [
    {
     "name": "stdout",
     "output_type": "stream",
     "text": [
      "-1\n"
     ]
    }
   ],
   "source": [
    "#2.\n",
    "st_2 = st.lower()\n",
    "print(st_2.find('non sông'))"
   ]
  },
  {
   "cell_type": "code",
   "execution_count": 34,
   "metadata": {},
   "outputs": [
    {
     "name": "stdout",
     "output_type": "stream",
     "text": [
      "['Nước Việt Nam là một, dân tộc Việt Nam là một', ' Sông có thể cạn núi có thể mòn, song chân lý ấy không bao giờ thay đổi', ' (HỒ CHÍ MINH, 1890 – 1969)']\n"
     ]
    }
   ],
   "source": [
    "#3.\n",
    "list_st = st.split('.')\n",
    "print(list_st)"
   ]
  },
  {
   "cell_type": "code",
   "execution_count": 4,
   "metadata": {},
   "outputs": [
    {
     "name": "stdout",
     "output_type": "stream",
     "text": [
      "Đoạn văn trên chỉ chứa ký tự chữ và số:  False\n"
     ]
    }
   ],
   "source": [
    "#4.\n",
    "check = st.isalnum()\n",
    "print(\"Đoạn văn trên chỉ chứa ký tự chữ và số: \", check)"
   ]
  },
  {
   "cell_type": "code",
   "execution_count": 36,
   "metadata": {},
   "outputs": [
    {
     "name": "stdout",
     "output_type": "stream",
     "text": [
      "Nước VIỆT NAM là một, dân tộc VIỆT NAM là một. Sông có thể cạn núi có thể mòn, song chân lý ấy không bao giờ thay đổi. (HỒ CHÍ MINH, 1890 – 1969)\n"
     ]
    }
   ],
   "source": [
    "#5.\n",
    "st_new = st.replace('Việt Nam', 'VIỆT NAM')\n",
    "print(st_new)"
   ]
  },
  {
   "cell_type": "markdown",
   "metadata": {},
   "source": [
    "## Bài 5: Chuẩn hóa chuỗi:\n",
    "---\n",
    "Chuỗi st ban đầu: s = '   python FOR Machine LearNiNg      '\n",
    "\n",
    "**Yêu cầu:** \n",
    "1. Chuẩn hóa chuỗi về chuỗi s1: Loại bỏ hết khoảng trắng ở đầu và cuối chuỗi , thêm ký tự ‘!’ ở cuối câu. chuyển hết về chữ thường và viết hoa ký tự đầu tiên trong mỗi từ: **'Python For Machine Learning!’**\n",
    "\n",
    "2. Chuẩn hóa chuỗi về chuỗi s2: Loại bỏ hết khoảng trắng ở đầu và cuối chuỗi, chuyển toàn bộ sang chữ hoa và nối các từ bằng dấu ‘-’: **‘PYTHON-FOR-MACHINE-LEARNING'**"
   ]
  },
  {
   "cell_type": "code",
   "execution_count": 23,
   "metadata": {},
   "outputs": [],
   "source": [
    "#{HỌC VIÊN VIẾT CODE Ở ĐÂY!}\n",
    "s = ' python FOR Machine LearNiNg '\n",
    "\n",
    "\n",
    "\n"
   ]
  },
  {
   "cell_type": "code",
   "execution_count": 24,
   "metadata": {},
   "outputs": [
    {
     "data": {
      "text/plain": [
       "'Python For Machine Learning!'"
      ]
     },
     "execution_count": 24,
     "metadata": {},
     "output_type": "execute_result"
    }
   ],
   "source": [
    "#1\n",
    "s1 = s.strip()\n",
    "s1 = s1 + \"!\"\n",
    "s1 = s1.lower()\n",
    "s1 = s1.title()\n",
    "\n",
    "s1"
   ]
  },
  {
   "cell_type": "code",
   "execution_count": 28,
   "metadata": {},
   "outputs": [
    {
     "data": {
      "text/plain": [
       "'PYTHON-FOR-MACHINE-LEARNING'"
      ]
     },
     "execution_count": 28,
     "metadata": {},
     "output_type": "execute_result"
    }
   ],
   "source": [
    "#2\n",
    "s2 = s.strip()\n",
    "s2 = s2.upper()\n",
    "str_list = s2.split(' ')\n",
    "s2 = '-'.join(str_list)\n",
    "s2"
   ]
  },
  {
   "cell_type": "code",
   "execution_count": null,
   "metadata": {},
   "outputs": [],
   "source": []
  },
  {
   "cell_type": "markdown",
   "metadata": {},
   "source": [
    "# 3. Kiểu dữ liệu danh sách (list)\n",
    "---\n",
    "Giả sử ta có nhu cầu lưu danh sách tên tất cả học sinh trong lớp học. Nếu lớp học ít:\n",
    "\n",
    "<img src = 'pic/list.png'>\n",
    "\n",
    "Nhưng nếu trong lớp có hàng chục, hàng trăm học sinh thì điều đó thật sự rất khó khăn, khó kiểm soát, quản lý.---> Kiểu dữ liệu danh sách (list) ra đời giúp chúng ta có thể khai báo, lưu trữ, truy xuất một dãy các đối tượng.\n",
    "\n",
    "\n",
    "**Khai báo list:**\n",
    "\n",
    "<tên_danh_sách> = [<Phần tử 1>,<Phần tử 2>,….,<Phần tử n>]\n"
   ]
  },
  {
   "cell_type": "code",
   "execution_count": 9,
   "metadata": {},
   "outputs": [
    {
     "name": "stdout",
     "output_type": "stream",
     "text": [
      "['Lê Thùy Dung', 'Trần Đức Hùng', 'Nguyễn Thị Lan Anh', 'Mai Phương Thúy']\n"
     ]
    }
   ],
   "source": [
    "#Khai báo list:\n",
    "#Khai báo danh sách hoc_sinh gồm chuỗi tên của các học sinh trong lớp\n",
    "hoc_sinh = ['Lê Thùy Dung', \n",
    "            'Trần Đức Hùng',\n",
    "            'Nguyễn Thị Lan Anh', \n",
    "            'Mai Phương Thúy']\n",
    "print(hoc_sinh)"
   ]
  },
  {
   "cell_type": "code",
   "execution_count": 10,
   "metadata": {},
   "outputs": [
    {
     "name": "stdout",
     "output_type": "stream",
     "text": [
      "<class 'list'>\n"
     ]
    }
   ],
   "source": [
    "print(type(hoc_sinh))"
   ]
  },
  {
   "cell_type": "code",
   "execution_count": null,
   "metadata": {},
   "outputs": [],
   "source": []
  },
  {
   "cell_type": "code",
   "execution_count": 11,
   "metadata": {},
   "outputs": [
    {
     "name": "stdout",
     "output_type": "stream",
     "text": [
      "[8, 9.5, 7, 5.5, 9, 9.75, 8.5, 7.25]\n"
     ]
    }
   ],
   "source": [
    "#Khai báo danh sách diem\n",
    "diem = [8, 9.5, 7, 5.5 , 9, 9.75, 8.5, 7.25]\n",
    "print(diem)"
   ]
  },
  {
   "cell_type": "code",
   "execution_count": null,
   "metadata": {},
   "outputs": [],
   "source": []
  },
  {
   "cell_type": "code",
   "execution_count": 12,
   "metadata": {},
   "outputs": [
    {
     "name": "stdout",
     "output_type": "stream",
     "text": [
      "['Đỗ Thị Hà', 2001, 'Thanh Hóa', 175, 50.5]\n"
     ]
    }
   ],
   "source": [
    "#Khai báo danh sách với nhiều kiểu dữ liệu khác nhau\n",
    "person_info = ['Đỗ Thị Hà', 2001, 'Thanh Hóa', 175, 50.5]\n",
    "print(person_info)"
   ]
  },
  {
   "cell_type": "code",
   "execution_count": 13,
   "metadata": {},
   "outputs": [
    {
     "data": {
      "text/plain": [
       "5"
      ]
     },
     "execution_count": 13,
     "metadata": {},
     "output_type": "execute_result"
    }
   ],
   "source": [
    "len(person_info)"
   ]
  },
  {
   "cell_type": "code",
   "execution_count": null,
   "metadata": {},
   "outputs": [],
   "source": []
  },
  {
   "cell_type": "code",
   "execution_count": 14,
   "metadata": {},
   "outputs": [
    {
     "data": {
      "text/plain": [
       "['2', '0', '2', '1']"
      ]
     },
     "execution_count": 14,
     "metadata": {},
     "output_type": "execute_result"
    }
   ],
   "source": [
    "#Sử dụng hàm list tạo danh sách:\n",
    "items = list('2021')\n",
    "items"
   ]
  },
  {
   "cell_type": "code",
   "execution_count": 15,
   "metadata": {},
   "outputs": [],
   "source": [
    "list_rong = ''"
   ]
  },
  {
   "cell_type": "code",
   "execution_count": 16,
   "metadata": {},
   "outputs": [
    {
     "data": {
      "text/plain": [
       "0"
      ]
     },
     "execution_count": 16,
     "metadata": {},
     "output_type": "execute_result"
    }
   ],
   "source": [
    "len(list_rong)"
   ]
  },
  {
   "cell_type": "markdown",
   "metadata": {},
   "source": [
    "### Để truy cập lấy giá trị tại một phần tử trong danh sách <tên_danh_sách>  [<chỉ số>]\n",
    "<img src='Pic/list_index.jpg'>\n",
    "\n",
    "* Chỉ số dương: Đánh từ bên trái qua bên phải, bắt đầu 0\n",
    "\n",
    "* Chỉ số âm: Đánh từ bên phải sang bên trái, bắt đầu -1"
   ]
  },
  {
   "cell_type": "code",
   "execution_count": 17,
   "metadata": {},
   "outputs": [
    {
     "data": {
      "text/plain": [
       "['Lê Thùy Dung', 'Trần Đức Hùng', 'Nguyễn Thị Lan Anh', 'Mai Phương Thúy']"
      ]
     },
     "execution_count": 17,
     "metadata": {},
     "output_type": "execute_result"
    }
   ],
   "source": [
    "hoc_sinh"
   ]
  },
  {
   "cell_type": "code",
   "execution_count": 18,
   "metadata": {},
   "outputs": [
    {
     "data": {
      "text/plain": [
       "['Đỗ Thị Hà', 2001, 'Thanh Hóa', 175, 50.5]"
      ]
     },
     "execution_count": 18,
     "metadata": {},
     "output_type": "execute_result"
    }
   ],
   "source": [
    "person_info"
   ]
  },
  {
   "cell_type": "code",
   "execution_count": 19,
   "metadata": {},
   "outputs": [
    {
     "data": {
      "text/plain": [
       "[8, 9.5, 7, 5.5, 9, 9.75, 8.5, 7.25]"
      ]
     },
     "execution_count": 19,
     "metadata": {},
     "output_type": "execute_result"
    }
   ],
   "source": [
    "diem"
   ]
  },
  {
   "cell_type": "code",
   "execution_count": 20,
   "metadata": {},
   "outputs": [
    {
     "name": "stdout",
     "output_type": "stream",
     "text": [
      "Học sinh thứ 3: Nguyễn Thị Lan Anh\n",
      "Họ tên: Đỗ Thị Hà  - Cân nặng:  50.5\n",
      "[7, 5.5, 9]\n"
     ]
    }
   ],
   "source": [
    "#Lấy một đối tượng trong danh sách:\n",
    "print('Học sinh thứ 3:',hoc_sinh[2])\n",
    "\n",
    "print('Họ tên:', person_info[0], ' - Cân nặng: ',person_info[-1] )\n",
    "\n",
    "#Lấy nhiều đối tượng trong danh sách:\n",
    "print(diem[2:5])"
   ]
  },
  {
   "cell_type": "markdown",
   "metadata": {},
   "source": [
    "### Để thay đổi giá trị tại một phần tử trong danh sách:\n",
    "\n",
    "<tên_danh_sách> [<chỉ số>] = <giá trị mới>"
   ]
  },
  {
   "cell_type": "code",
   "execution_count": 46,
   "metadata": {},
   "outputs": [
    {
     "name": "stdout",
     "output_type": "stream",
     "text": [
      "Danh sách ban đầu: ['Lê Thùy Dung', 'Trần Đức Hùng', 'Nguyễn Thị Lan Anh', 'Mai Phương Thúy']\n",
      "Danh sách mới: ['Lê Thùy Dung', 'Trần Đức Hùng', 'Thân Trọng Nam', 'Mai Phương Thúy']\n"
     ]
    }
   ],
   "source": [
    "print('Danh sách ban đầu:', hoc_sinh)\n",
    "hoc_sinh[2] = 'Thân Trọng Nam'\n",
    "\n",
    "print('Danh sách mới:', hoc_sinh)"
   ]
  },
  {
   "cell_type": "code",
   "execution_count": null,
   "metadata": {},
   "outputs": [],
   "source": []
  },
  {
   "cell_type": "code",
   "execution_count": 21,
   "metadata": {},
   "outputs": [
    {
     "name": "stdout",
     "output_type": "stream",
     "text": [
      "Ban đầu: [8, 9.5, 7, 5.5, 9, 9.75, 8.5, 7.25]\n"
     ]
    }
   ],
   "source": [
    "print('Ban đầu:', diem)"
   ]
  },
  {
   "cell_type": "code",
   "execution_count": 22,
   "metadata": {},
   "outputs": [
    {
     "name": "stdout",
     "output_type": "stream",
     "text": [
      "[8, 9.5, 7, 5.5, 9, 9.75, 8.5, 10]\n"
     ]
    }
   ],
   "source": [
    "#cập nhật điểm cuối cùng của danh sách bằng 10\n",
    "diem[-1] = 10\n",
    "print(diem)"
   ]
  },
  {
   "cell_type": "code",
   "execution_count": null,
   "metadata": {},
   "outputs": [],
   "source": []
  },
  {
   "cell_type": "markdown",
   "metadata": {},
   "source": [
    "### Nối hai danh sách\n"
   ]
  },
  {
   "cell_type": "code",
   "execution_count": 31,
   "metadata": {},
   "outputs": [
    {
     "name": "stdout",
     "output_type": "stream",
     "text": [
      "[8, 4, 8, 2, 3, 0, 8, 6, 5, 8]\n"
     ]
    }
   ],
   "source": [
    "list_a = [8, 4, 8, 2]\n",
    "list_b = [3, 0, 8, 6, 5, 8]\n",
    "\n",
    "#Nối hai danh sách sử dụng toán tử +\n",
    "\n",
    "list_ab = list_a + list_b\n",
    "print(list_ab)"
   ]
  },
  {
   "cell_type": "code",
   "execution_count": null,
   "metadata": {},
   "outputs": [],
   "source": []
  },
  {
   "cell_type": "code",
   "execution_count": null,
   "metadata": {},
   "outputs": [],
   "source": []
  },
  {
   "cell_type": "code",
   "execution_count": 32,
   "metadata": {},
   "outputs": [
    {
     "name": "stdout",
     "output_type": "stream",
     "text": [
      "[8, 4, 8, 2, 8, 4, 8, 2]\n"
     ]
    }
   ],
   "source": [
    "#Nhân danh sách với một số nguyên:\n",
    "print(list_a*2)"
   ]
  },
  {
   "cell_type": "code",
   "execution_count": null,
   "metadata": {},
   "outputs": [],
   "source": []
  },
  {
   "cell_type": "code",
   "execution_count": 33,
   "metadata": {},
   "outputs": [
    {
     "name": "stdout",
     "output_type": "stream",
     "text": [
      "[8, 4, 8, 2, 3, 0, 8, 6, 5, 8]  Có số phần tử là:  10\n"
     ]
    }
   ],
   "source": [
    "# Lấy độ dài của danh sách len(list): kết quả trả về một số nguyên là số phần tử của danh sách\n",
    "\n",
    "print(list_ab, ' Có số phần tử là: ', len(list_ab))"
   ]
  },
  {
   "cell_type": "code",
   "execution_count": 34,
   "metadata": {},
   "outputs": [
    {
     "data": {
      "text/plain": [
       "4"
      ]
     },
     "execution_count": 34,
     "metadata": {},
     "output_type": "execute_result"
    }
   ],
   "source": [
    "len(hoc_sinh)"
   ]
  },
  {
   "cell_type": "code",
   "execution_count": null,
   "metadata": {},
   "outputs": [],
   "source": []
  },
  {
   "cell_type": "code",
   "execution_count": 35,
   "metadata": {},
   "outputs": [
    {
     "name": "stdout",
     "output_type": "stream",
     "text": [
      "[8, 4, 8, 2, 3, 0, 8, 6, 5, 8]\n",
      "Phần tử 0 có thuộc list_ab? True\n",
      "Phần tử 9 có thuộc list_ab? False\n"
     ]
    }
   ],
   "source": [
    "# Kiểm tra một phần tử có thuộc danh sách hay không (in): kết quả trả về một danh sách mới.\n",
    "print(list_ab)\n",
    "\n",
    "#Kiểm tra phần tử 0:\n",
    "bol_0 = 0 in list_ab\n",
    "print('Phần tử 0 có thuộc list_ab?', bol_0)\n",
    "\n",
    "#Kiểm tra phần tử 9:\n",
    "bol_9 = 9 in list_ab\n",
    "print('Phần tử 9 có thuộc list_ab?', bol_9)"
   ]
  },
  {
   "cell_type": "code",
   "execution_count": null,
   "metadata": {},
   "outputs": [],
   "source": []
  },
  {
   "cell_type": "markdown",
   "metadata": {},
   "source": [
    "### Thêm một phần tử vào danh sách: có hai cách\n",
    "---\n",
    "1. Thêm phần tử vào cuối danh sách: \n",
    "\t\t<danh_sách>.append(<giá trị>)\n",
    "        \n",
    "2. Thêm phần tử vào vị trí bất kỳ trong danh sách: \n",
    "\t\t<danh_sách>.insert(<vị trí>,<giá trị>)\n",
    "\n",
    "3. Thêm nhiều phần tử vào danh sách:\n",
    "        <danh_sach>.extend(giá trị)"
   ]
  },
  {
   "cell_type": "code",
   "execution_count": 36,
   "metadata": {},
   "outputs": [],
   "source": [
    "list_ab = [8, 4, 8, 2, 3, 0, 8, 6, 5, 8]"
   ]
  },
  {
   "cell_type": "code",
   "execution_count": 37,
   "metadata": {},
   "outputs": [
    {
     "name": "stdout",
     "output_type": "stream",
     "text": [
      "Danh sách ban đầu: \n",
      " [8, 4, 8, 2, 3, 0, 8, 6, 5, 8]\n",
      "Danh sách thêm với append: [8, 4, 8, 2, 3, 0, 8, 6, 5, 8, 10]\n"
     ]
    }
   ],
   "source": [
    "print('Danh sách ban đầu: \\n', list_ab)\n",
    "\n",
    "#Thêm phần tử vào cuối danh sách:\n",
    "list_ab.append(10)\n",
    "print('Danh sách thêm với append:', list_ab)"
   ]
  },
  {
   "cell_type": "code",
   "execution_count": 38,
   "metadata": {},
   "outputs": [
    {
     "name": "stdout",
     "output_type": "stream",
     "text": [
      "Thêm phần tử với insert: [8, 100, 4, 8, 2, 3, 0, 8, 6, 5, 8, 10]\n"
     ]
    }
   ],
   "source": [
    "#thêm vào vị trí bất kỳ trong danh sách\n",
    "list_ab.insert(1, 100)\n",
    "print('Thêm phần tử với insert:', list_ab)"
   ]
  },
  {
   "cell_type": "code",
   "execution_count": 41,
   "metadata": {},
   "outputs": [
    {
     "name": "stdout",
     "output_type": "stream",
     "text": [
      "Thêm phần tử với extend: [8, 100, 4, 8, 2, 3, 0, 8, 6, 5, 8, 10, 7, 8, 0, 7, 8, 0]\n"
     ]
    }
   ],
   "source": [
    "list_ab.extend([7,8,0])\n",
    "print('Thêm phần tử với extend:',list_ab)"
   ]
  },
  {
   "cell_type": "markdown",
   "metadata": {},
   "source": [
    "### Xóa phần tử khỏi danh sách: \n",
    "---\n",
    "1. Xóa tất cả các phần tử trong danh sách:\n",
    "\t\t<danh_sách>.clear()\n",
    "        \n",
    "2. Xóa phần tử tại vị trí cuối cùng trong danh sách:\n",
    "\t\t<danh_sách>.pop()\n",
    "        \n",
    "3. Xóa phần tử tại vị trí xác định trong danh sách: \n",
    "\t\tdel <danh_sách>[<vị trí>]\n",
    "        \n",
    "4. Xóa phần tử có giá trị xuất hiện đầu tiên trong danh sách: \n",
    "\t\t<danh_sách>.remove(<giá trị>)\n"
   ]
  },
  {
   "cell_type": "code",
   "execution_count": 42,
   "metadata": {},
   "outputs": [
    {
     "data": {
      "text/plain": [
       "[]"
      ]
     },
     "execution_count": 42,
     "metadata": {},
     "output_type": "execute_result"
    }
   ],
   "source": [
    "list_a = [1,2,8,7,0,5]\n",
    "#Xóa tất cả các phần tử trong danh sách:\n",
    "list_a.clear()\n",
    "#Trở thành danh sách rỗng:\n",
    "list_a"
   ]
  },
  {
   "cell_type": "code",
   "execution_count": 43,
   "metadata": {},
   "outputs": [
    {
     "name": "stdout",
     "output_type": "stream",
     "text": [
      "[8, 100, 4, 8, 2, 3, 0, 8, 6, 5, 8, 10, 7, 8, 0, 7, 8, 0]\n"
     ]
    }
   ],
   "source": [
    "print(list_ab)"
   ]
  },
  {
   "cell_type": "code",
   "execution_count": 44,
   "metadata": {},
   "outputs": [
    {
     "name": "stdout",
     "output_type": "stream",
     "text": [
      "Danh sách đã xóa phần tử cuối cùng: [8, 100, 4, 8, 2, 3, 0, 8, 6, 5, 8, 10, 7, 8, 0, 7, 8]\n"
     ]
    }
   ],
   "source": [
    "#Xóa phần tử cuối cùng trong danh sách:\n",
    "list_ab.pop()\n",
    "print('Danh sách đã xóa phần tử cuối cùng:', list_ab)"
   ]
  },
  {
   "cell_type": "code",
   "execution_count": null,
   "metadata": {},
   "outputs": [],
   "source": []
  },
  {
   "cell_type": "code",
   "execution_count": 45,
   "metadata": {},
   "outputs": [
    {
     "name": "stdout",
     "output_type": "stream",
     "text": [
      "Danh sách đã xóa phần tử ở vị trí số 1: [8, 4, 8, 2, 3, 0, 8, 6, 5, 8, 10, 7, 8, 0, 7, 8]\n"
     ]
    }
   ],
   "source": [
    "#Xóa phần tử tại vị trí bất kỳ trong danh sách:\n",
    "del list_ab[1] #Xóa phần tử tại vị trí index = 1\n",
    "print('Danh sách đã xóa phần tử ở vị trí số 1:', list_ab)"
   ]
  },
  {
   "cell_type": "code",
   "execution_count": null,
   "metadata": {},
   "outputs": [],
   "source": []
  },
  {
   "cell_type": "code",
   "execution_count": 46,
   "metadata": {},
   "outputs": [
    {
     "name": "stdout",
     "output_type": "stream",
     "text": [
      "Danh sách đã xóa phần tử 8 đầu tiên: [4, 8, 2, 3, 0, 8, 6, 5, 8, 10, 7, 8, 0, 7, 8]\n"
     ]
    }
   ],
   "source": [
    "#Xóa phần tử 8 xuất hiện đầu tiên trong dánh sách\n",
    "list_ab.remove(8)\n",
    "print('Danh sách đã xóa phần tử 8 đầu tiên:', list_ab)"
   ]
  },
  {
   "cell_type": "markdown",
   "metadata": {},
   "source": [
    "### Đếm số lần xuất hiện của một phần tử trong danh sách: \n",
    "\t\t\t<danh_sách>.count(<giá trị>)\n"
   ]
  },
  {
   "cell_type": "code",
   "execution_count": 47,
   "metadata": {},
   "outputs": [
    {
     "name": "stdout",
     "output_type": "stream",
     "text": [
      "[4, 8, 2, 3, 0, 8, 6, 5, 8, 10, 7, 8, 0, 7, 8]\n",
      "Số 8 xuất hiện: 5\n",
      "Số 0 xuất hiện: 2\n",
      "Số 9 xuất hiện: 0\n"
     ]
    }
   ],
   "source": [
    "print (list_ab)\n",
    "\n",
    "print('Số 8 xuất hiện:', list_ab.count(8))\n",
    "\n",
    "print('Số 0 xuất hiện:', list_ab.count(0))\n",
    "\n",
    "print('Số 9 xuất hiện:', list_ab.count(9))"
   ]
  },
  {
   "cell_type": "code",
   "execution_count": null,
   "metadata": {},
   "outputs": [],
   "source": []
  },
  {
   "cell_type": "markdown",
   "metadata": {},
   "source": [
    "### Sắp xếp các phần tử trong danh sách: \n",
    "\t\t\t<danh_sách>.sort()\n",
    "            \n",
    "### Lật các phần tử trong danh sách: \n",
    "\t\t\t<danh_sách>.reverse()  \n",
    "            \n",
    "Lưu ý: Phương thức sort và reverse sẽ làm thay đổi danh sách gốc"
   ]
  },
  {
   "cell_type": "code",
   "execution_count": null,
   "metadata": {},
   "outputs": [],
   "source": []
  },
  {
   "cell_type": "code",
   "execution_count": 48,
   "metadata": {},
   "outputs": [
    {
     "name": "stdout",
     "output_type": "stream",
     "text": [
      "Danh sách ban đầu         : [8, 4, 8, 2, 3, 0, 8, 6, 5, 8]\n",
      "Danh sách sắp xếp tăng dần: [0, 2, 3, 4, 5, 6, 8, 8, 8, 8]\n"
     ]
    }
   ],
   "source": [
    "#Sắp xếp danh danh sách list_ab: Tăng dần\n",
    "list_ab = [8, 4, 8, 2, 3, 0, 8, 6, 5, 8]\n",
    "print('Danh sách ban đầu         :',list_ab)\n",
    "\n",
    "list_ab.sort() #Mặc định sắp xếp theo thứ tự tăng dần\n",
    "print('Danh sách sắp xếp tăng dần:',list_ab)"
   ]
  },
  {
   "cell_type": "code",
   "execution_count": 53,
   "metadata": {},
   "outputs": [
    {
     "name": "stdout",
     "output_type": "stream",
     "text": [
      "Danh sách ban đầu         : [8, 4, 8, 2, 3, 0, 8, 6, 5, 8]\n",
      "Danh sách sắp xếp giảm dần: [8, 8, 8, 8, 6, 5, 4, 3, 2, 0]\n"
     ]
    }
   ],
   "source": [
    "#Sắp xếp danh danh sách list_ab: Giảm dần\n",
    "list_ab = [8, 4, 8, 2, 3, 0, 8, 6, 5, 8]\n",
    "print('Danh sách ban đầu         :',list_ab)\n",
    "\n",
    "list_ab.sort(reverse=True)\n",
    "print('Danh sách sắp xếp giảm dần:',list_ab)"
   ]
  },
  {
   "cell_type": "code",
   "execution_count": null,
   "metadata": {},
   "outputs": [],
   "source": []
  },
  {
   "cell_type": "code",
   "execution_count": 54,
   "metadata": {},
   "outputs": [
    {
     "name": "stdout",
     "output_type": "stream",
     "text": [
      "Danh sách ban đầu          : [8, 4, 8, 2, 3, 0, 8, 6, 5, 8]\n",
      "Danh sách sau khi đảo ngược: [8, 5, 6, 8, 0, 3, 2, 8, 4, 8]\n"
     ]
    }
   ],
   "source": [
    "#Đảo ngược danh sách list_ab:\n",
    "list_ab = [8, 4, 8, 2, 3, 0, 8, 6, 5, 8]\n",
    "print('Danh sách ban đầu          :',list_ab)\n",
    "\n",
    "list_ab.reverse()\n",
    "print('Danh sách sau khi đảo ngược:',list_ab)"
   ]
  },
  {
   "cell_type": "markdown",
   "metadata": {},
   "source": [
    "### NOTE: phép gán và thay đổi giá trị với danh sách\n",
    "---"
   ]
  },
  {
   "cell_type": "code",
   "execution_count": 57,
   "metadata": {},
   "outputs": [
    {
     "name": "stdout",
     "output_type": "stream",
     "text": [
      "Danh sách a: [4, 5, 8, 9, 10]\n",
      "Danh sách b: [4, 5, 8, 9, 10]\n"
     ]
    }
   ],
   "source": [
    "#Lưu ý\n",
    "ds_a = [4, 5, 8, 9,10]\n",
    "\n",
    "ds_b = ds_a #gán giá trị của biến ds_a cho biến ds_b\n",
    "\n",
    "print('Danh sách a:', ds_a)\n",
    "print('Danh sách b:', ds_b)"
   ]
  },
  {
   "cell_type": "code",
   "execution_count": null,
   "metadata": {},
   "outputs": [],
   "source": []
  },
  {
   "cell_type": "code",
   "execution_count": null,
   "metadata": {},
   "outputs": [],
   "source": []
  },
  {
   "cell_type": "code",
   "execution_count": 58,
   "metadata": {},
   "outputs": [
    {
     "name": "stdout",
     "output_type": "stream",
     "text": [
      "Danh sách a: [100, 5, 8, 9, 10]\n",
      "Danh sách b: [100, 5, 8, 9, 10]\n"
     ]
    }
   ],
   "source": [
    "#Thay đổi giá trị của một biến\n",
    "ds_b[0] = 100\n",
    "\n",
    "print('Danh sách a:', ds_a)\n",
    "print('Danh sách b:', ds_b)"
   ]
  },
  {
   "cell_type": "code",
   "execution_count": null,
   "metadata": {},
   "outputs": [],
   "source": []
  },
  {
   "cell_type": "code",
   "execution_count": null,
   "metadata": {},
   "outputs": [],
   "source": []
  },
  {
   "cell_type": "code",
   "execution_count": 62,
   "metadata": {},
   "outputs": [
    {
     "name": "stdout",
     "output_type": "stream",
     "text": [
      "Danh sách a: [5, 2, 8, 9, 101]\n",
      "Danh sách b: [5, 2, 8, 9, 101]\n"
     ]
    }
   ],
   "source": [
    "ds_a[-1] = 101\n",
    "ds_b[0] = 5\n",
    "\n",
    "print('Danh sách a:', ds_a)\n",
    "print('Danh sách b:', ds_b)"
   ]
  },
  {
   "cell_type": "code",
   "execution_count": null,
   "metadata": {},
   "outputs": [],
   "source": []
  },
  {
   "cell_type": "code",
   "execution_count": null,
   "metadata": {},
   "outputs": [],
   "source": []
  },
  {
   "cell_type": "code",
   "execution_count": 63,
   "metadata": {},
   "outputs": [
    {
     "name": "stdout",
     "output_type": "stream",
     "text": [
      "Danh sách a: [4, 5, 8, 9]\n",
      "Danh sách b: [100, 5, 8, 9]\n"
     ]
    }
   ],
   "source": [
    "#Để tạo một danh sách độc lập với danh sách hiện có, các phần tử trong danh sách mới được sao chép giống hoàn toàn các phần tử trong danh sách hiện có:\n",
    "#\t\t<danh sách>.copy()\n",
    "\n",
    "ds_a = [4, 5, 8, 9]\n",
    "\n",
    "ds_b = ds_a.copy()\n",
    "\n",
    "ds_b[0]=100\n",
    "\n",
    "print('Danh sách a:', ds_a)\n",
    "print('Danh sách b:', ds_b)"
   ]
  },
  {
   "cell_type": "markdown",
   "metadata": {},
   "source": [
    "## 4. Kiểu dữ liệu Boolean\n",
    "---\n",
    "Kiểu dữ liệu Boolean chỉ có hai giá trị True (đúng) và False (sai):"
   ]
  },
  {
   "cell_type": "code",
   "execution_count": 64,
   "metadata": {},
   "outputs": [
    {
     "name": "stdout",
     "output_type": "stream",
     "text": [
      "Kiểu dữ liệu của biến x: <class 'bool'>  - Giá trị: True\n",
      "Kiểu dữ liệu của biến y: <class 'bool'>  - Giá trị: False\n",
      "Kiểu dữ liệu của biến z: <class 'bool'>  - Giá trị: False\n",
      "Kiểu dữ liệu của biến w: <class 'bool'>  - Giá trị: True\n"
     ]
    }
   ],
   "source": [
    "#Khai báo biến kiểu dữ liệu Boolean:\n",
    "x = True\n",
    "y = False\n",
    "\n",
    "#Khai báo biến kiểu boolean qua biểu thức:\n",
    "z = 5 > 8\n",
    "w = 12 == 12\n",
    "\n",
    "#--------------------------------------------\n",
    "print('Kiểu dữ liệu của biến x:', type(x), ' - Giá trị:', x)\n",
    "print('Kiểu dữ liệu của biến y:', type(y), ' - Giá trị:', y)\n",
    "print('Kiểu dữ liệu của biến z:', type(z), ' - Giá trị:', z)\n",
    "print('Kiểu dữ liệu của biến w:', type(w), ' - Giá trị:', w)"
   ]
  },
  {
   "cell_type": "markdown",
   "metadata": {},
   "source": [
    "# THỰC HÀNH\n",
    "---"
   ]
  },
  {
   "cell_type": "markdown",
   "metadata": {},
   "source": [
    "## Bài 5: Thống kê điểm Học viên\n",
    "---\n",
    "\n",
    "Khởi tạo một danh sách gồm các điểm thi môn “Python for Analysis” của lớp VIN_01 (Điểm chữ: A, B, C, D, F)\n",
    "\n",
    "Point_VIN = ['A','B','B','D','A','A','F','B','A','C','F','D','B']\n",
    "\n",
    "**Yêu cầu:** \n",
    "1. Cho biết số sinh viên trong lớp\n",
    "2. Có bao nhiêu sinh viên phải học lại môn này (điểm F).\n",
    "3. Có bao nhiêu sinh viên có điểm từ B trở lên.\n",
    "4. Sinh viên đầu tiên và cuối cùng trong lớp đã nghỉ học, tạo một bảng điểm mới và loại bỏ điểm của các sinh viên này ra "
   ]
  },
  {
   "cell_type": "code",
   "execution_count": 65,
   "metadata": {},
   "outputs": [],
   "source": [
    "#{HỌC VIÊN VIẾT CODE Ở ĐÂY!}\n",
    "\n",
    "Point_VIN = ['A','B','B','D','A','A','F','B','A','C','F','D','B']\n",
    "\n",
    "\n",
    "\n"
   ]
  },
  {
   "cell_type": "code",
   "execution_count": 66,
   "metadata": {},
   "outputs": [
    {
     "name": "stdout",
     "output_type": "stream",
     "text": [
      "Số sinh viên trong lớp là:  13\n"
     ]
    }
   ],
   "source": [
    "#1.Cho biết số sinh viên trong lớp\n",
    "stu_number = len(Point_VIN)\n",
    "print(\"Số sinh viên trong lớp là: \", stu_number)"
   ]
  },
  {
   "cell_type": "code",
   "execution_count": 77,
   "metadata": {},
   "outputs": [
    {
     "name": "stdout",
     "output_type": "stream",
     "text": [
      "Số sinh viên phải học lại môn là:  2\n"
     ]
    }
   ],
   "source": [
    "#2.Có bao nhiêu sinh viên phải học lại môn này (điểm F)\n",
    "stu_fail = Point_VIN.count(\"F\")\n",
    "print(\"Số sinh viên phải học lại môn là: \", stu_fail)"
   ]
  },
  {
   "cell_type": "code",
   "execution_count": 78,
   "metadata": {},
   "outputs": [
    {
     "name": "stdout",
     "output_type": "stream",
     "text": [
      "Số sinh viên có điểm từ B trở lên là:  8\n"
     ]
    }
   ],
   "source": [
    "#3.Có bao nhiêu sinh viên có điểm từ B trở lên\n",
    "stu_hScore = Point_VIN.count(\"B\") + Point_VIN.count(\"A\")\n",
    "print(\"Số sinh viên có điểm từ B trở lên là: \", stu_hScore)\n"
   ]
  },
  {
   "cell_type": "code",
   "execution_count": 81,
   "metadata": {},
   "outputs": [
    {
     "name": "stdout",
     "output_type": "stream",
     "text": [
      "Danh sách mới:  ['B', 'B', 'D', 'A', 'A', 'F', 'B', 'A', 'C', 'F', 'D']\n"
     ]
    }
   ],
   "source": [
    "#4.\n",
    "new_Point = Point_VIN.copy()\n",
    "del(new_Point[0])\n",
    "new_Point.pop()\n",
    "print(\"Danh sách mới: \", new_Point)"
   ]
  },
  {
   "cell_type": "code",
   "execution_count": null,
   "metadata": {},
   "outputs": [],
   "source": []
  },
  {
   "cell_type": "code",
   "execution_count": null,
   "metadata": {},
   "outputs": [],
   "source": []
  }
 ],
 "metadata": {
  "kernelspec": {
   "display_name": "Python 3 (ipykernel)",
   "language": "python",
   "name": "python3"
  },
  "language_info": {
   "codemirror_mode": {
    "name": "ipython",
    "version": 3
   },
   "file_extension": ".py",
   "mimetype": "text/x-python",
   "name": "python",
   "nbconvert_exporter": "python",
   "pygments_lexer": "ipython3",
   "version": "3.9.12"
  }
 },
 "nbformat": 4,
 "nbformat_minor": 2
}
