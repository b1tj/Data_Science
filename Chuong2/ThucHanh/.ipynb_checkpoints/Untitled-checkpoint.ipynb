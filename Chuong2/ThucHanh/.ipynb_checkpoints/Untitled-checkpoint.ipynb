{
 "cells": [
  {
   "cell_type": "markdown",
   "id": "ecd6b42b",
   "metadata": {},
   "source": [
    "<center>\n",
    "    <h1>MÔN HỌC: KHOA HỌC DỮ LIỆU (7080509)</h1>\n",
    "    <h2>Chương 2: Công cụ và ngôn ngữ lập trình cho KHDL</h2>\n",
    "</center>\n",
    "\n",
    "---\n",
    "**Nội dung bài học**\n",
    "1. Giới thiệu công cụ, ngôn ngữ lập trình Python\n",
    "2. Làm quen với Jupyter Notebook\n",
    "3. Viết ứng dụng đầu tiên: Hello World\n",
    "4. Một số loại lỗi thường gặp trong lập trình\n",
    "    * Lỗi cú pháp\n",
    "    * Lỗi thực thi\n",
    "    * Lỗi thuật toán\n",
    "5. Bài tập chương 2\n",
    "---\n",
    "*Copyright: Đặng Nam FIT.HUMG*\n"
   ]
  },
  {
   "cell_type": "markdown",
   "id": "6f038f8b",
   "metadata": {},
   "source": [
    "## Xây dựng ứng dụng Hello World\n",
    "---\n",
    "### 1. Viết những dòng đầu tiên\n",
    "---\n",
    "#### Lệnh print, input"
   ]
  },
  {
   "cell_type": "code",
   "execution_count": null,
   "id": "aefeb45b",
   "metadata": {
    "scrolled": true
   },
   "outputs": [],
   "source": [
    "print('Chào mừng bạn đến với môn học: Khoa học dữ liệu(7080509)')\n",
    "print('-------------****-------------------')"
   ]
  },
  {
   "cell_type": "code",
   "execution_count": null,
   "id": "020ed544",
   "metadata": {
    "scrolled": true
   },
   "outputs": [],
   "source": [
    "name = input('Nhập vào tên của bạn:')\n",
    "#Hiển thị kết quả\n",
    "print('Chào bạn ', name, '.Chúc bạn ngày mới vui vẻ')"
   ]
  },
  {
   "cell_type": "code",
   "execution_count": null,
   "id": "4e005b2b",
   "metadata": {},
   "outputs": [],
   "source": [
    "#Sử dụng ký tự #viết chú thích\n",
    "#Máy sẽ không biên dịch các câu viết sau dấu #\n",
    "print('Mọi thứ lớn lao đều bắt nguồn từ những thứ bé nhỏ!')"
   ]
  },
  {
   "cell_type": "code",
   "execution_count": null,
   "id": "f881b9a6",
   "metadata": {},
   "outputs": [],
   "source": [
    "'''\n",
    "Viết nhiều dòng chú thích vào đây!\n",
    "dòng 1\n",
    "dòng 2\n",
    "'''\n",
    "print(name)"
   ]
  },
  {
   "cell_type": "code",
   "execution_count": null,
   "id": "c26215e8",
   "metadata": {},
   "outputs": [],
   "source": []
  }
 ],
 "metadata": {
  "kernelspec": {
   "display_name": "Python 3 (ipykernel)",
   "language": "python",
   "name": "python3"
  },
  "language_info": {
   "codemirror_mode": {
    "name": "ipython",
    "version": 3
   },
   "file_extension": ".py",
   "mimetype": "text/x-python",
   "name": "python",
   "nbconvert_exporter": "python",
   "pygments_lexer": "ipython3",
   "version": "3.9.12"
  }
 },
 "nbformat": 4,
 "nbformat_minor": 5
}
