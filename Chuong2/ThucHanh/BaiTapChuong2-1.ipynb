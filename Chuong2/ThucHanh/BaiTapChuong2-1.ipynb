{
 "cells": [
  {
   "cell_type": "code",
   "execution_count": 1,
   "id": "bb78939b",
   "metadata": {},
   "outputs": [
    {
     "name": "stdout",
     "output_type": "stream",
     "text": [
      "1\n",
      "2\n",
      "3\n",
      "4\n",
      "5\n",
      "Giá trị của biến a =  5\n",
      "------------------------\n",
      "1\n",
      "3\n",
      "5\n",
      "Giá trị của biến A =  3\n"
     ]
    }
   ],
   "source": [
    "#Khởi tạo biến a = 0, A = 0\n",
    "a = 0\n",
    "A = 0\n",
    "for i in range(1,6):\n",
    "    print(i)\n",
    "    a = a + 1\n",
    "    \n",
    "    \n",
    "#Hiển thị kết quả biến a\n",
    "print('Giá trị của biến a = ', a)\n",
    "print('------------------------')\n",
    "\n",
    "for i in range(1,6,2):\n",
    "    print(i)\n",
    "    A = A + 1\n",
    "\n",
    "#Hiển thị kết quả biến A\n",
    "print('Giá trị của biến A = ', A)"
   ]
  },
  {
   "cell_type": "code",
   "execution_count": null,
   "id": "692cddd7",
   "metadata": {},
   "outputs": [],
   "source": []
  }
 ],
 "metadata": {
  "kernelspec": {
   "display_name": "Python 3 (ipykernel)",
   "language": "python",
   "name": "python3"
  },
  "language_info": {
   "codemirror_mode": {
    "name": "ipython",
    "version": 3
   },
   "file_extension": ".py",
   "mimetype": "text/x-python",
   "name": "python",
   "nbconvert_exporter": "python",
   "pygments_lexer": "ipython3",
   "version": "3.9.12"
  }
 },
 "nbformat": 4,
 "nbformat_minor": 5
}
