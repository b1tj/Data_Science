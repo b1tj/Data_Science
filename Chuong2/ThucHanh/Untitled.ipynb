{
 "cells": [
  {
   "cell_type": "markdown",
   "id": "ecd6b42b",
   "metadata": {},
   "source": [
    "<center>\n",
    "    <h1>MÔN HỌC: KHOA HỌC DỮ LIỆU (7080509)</h1>\n",
    "    <h2>Chương 2: Công cụ và ngôn ngữ lập trình cho KHDL</h2>\n",
    "</center>\n",
    "\n",
    "---\n",
    "**Nội dung bài học**\n",
    "1. Giới thiệu công cụ, ngôn ngữ lập trình Python\n",
    "2. Làm quen với Jupyter Notebook\n",
    "3. Viết ứng dụng đầu tiên: Hello World\n",
    "4. Một số loại lỗi thường gặp trong lập trình\n",
    "    * Lỗi cú pháp\n",
    "    * Lỗi thực thi\n",
    "    * Lỗi thuật toán\n",
    "5. Bài tập chương 2\n",
    "---\n",
    "*Copyright: Đặng Nam FIT.HUMG*\n",
    "Link tham khảo: https://google.com\n"
   ]
  },
  {
   "cell_type": "markdown",
   "id": "3bc364d0",
   "metadata": {},
   "source": [
    "## Xây dựng ứng dụng Hello World\n",
    "---\n",
    "### 1. Viết những dòng đầu tiên\n",
    "---\n",
    "#### Lệnh print, input"
   ]
  },
  {
   "cell_type": "code",
   "execution_count": null,
   "id": "aefeb45b",
   "metadata": {
    "scrolled": true
   },
   "outputs": [],
   "source": [
    "print('Chào mừng bạn đến với môn học: Khoa học dữ liệu(7080509)')\n",
    "print('-------------****-------------------')"
   ]
  },
  {
   "cell_type": "code",
   "execution_count": null,
   "id": "020ed544",
   "metadata": {
    "scrolled": true
   },
   "outputs": [],
   "source": [
    "name = input('Nhập vào tên của bạn:')\n",
    "#Hiển thị kết quả\n",
    "print('Chào bạn ', name, '.Chúc bạn ngày mới vui vẻ')"
   ]
  },
  {
   "cell_type": "code",
   "execution_count": null,
   "id": "4e005b2b",
   "metadata": {},
   "outputs": [],
   "source": [
    "#Sử dụng ký tự #viết chú thích\n",
    "#Máy sẽ không biên dịch các câu viết sau dấu #\n",
    "print('Mọi thứ lớn lao đều bắt nguồn từ những thứ bé nhỏ!')"
   ]
  },
  {
   "cell_type": "code",
   "execution_count": null,
   "id": "f881b9a6",
   "metadata": {},
   "outputs": [],
   "source": [
    "'''\n",
    "Viết nhiều dòng chú thích vào đây!\n",
    "dòng 1\n",
    "dòng 2\n",
    "'''\n",
    "print(name)"
   ]
  },
  {
   "cell_type": "code",
   "execution_count": null,
   "id": "e94b6757",
   "metadata": {},
   "outputs": [],
   "source": [
    "ns = input('Nhập vào năm sinh của bạn: ')\n",
    "\n",
    "print('Năm sinh của bạn:', ns)"
   ]
  },
  {
   "cell_type": "code",
   "execution_count": null,
   "id": "c36de1bf",
   "metadata": {},
   "outputs": [],
   "source": []
  },
  {
   "cell_type": "markdown",
   "id": "bae1d4f4",
   "metadata": {},
   "source": [
    "## Một số loại lỗi thường gặp trong lập trình\n",
    "\n",
    "### 1. Lỗi cú pháp"
   ]
  },
  {
   "cell_type": "code",
   "execution_count": null,
   "id": "36cd153d",
   "metadata": {},
   "outputs": [],
   "source": [
    "#Ví dụ 1:\n",
    "for i in range(10)\n",
    "    print('I love you')"
   ]
  },
  {
   "cell_type": "code",
   "execution_count": null,
   "id": "65b0cf1b",
   "metadata": {},
   "outputs": [],
   "source": [
    "#Ví dụ 2:\n",
    "For i in range(10):\n",
    "    print('I love you')"
   ]
  },
  {
   "cell_type": "code",
   "execution_count": null,
   "id": "8d5dcd3f",
   "metadata": {},
   "outputs": [],
   "source": [
    "#Ví dụ 3:\n",
    "for i in range(10):\n",
    "    print('I love you')\n",
    "    print('------')\n",
    "print('Have a nice day')"
   ]
  },
  {
   "cell_type": "markdown",
   "id": "d25d4307",
   "metadata": {},
   "source": [
    "### 2. Lỗi thực thi"
   ]
  },
  {
   "cell_type": "code",
   "execution_count": 4,
   "id": "b567cb21",
   "metadata": {},
   "outputs": [
    {
     "name": "stdout",
     "output_type": "stream",
     "text": [
      "I love you\n",
      "I love you\n",
      "I love you\n",
      "I love you\n",
      "I love you\n",
      "I love you\n",
      "I love you\n",
      "I love you\n",
      "I love you\n",
      "I love you\n"
     ]
    }
   ],
   "source": [
    "#Ví dụ:\n",
    "n = 1\n",
    "while (n<=10):\n",
    "    print('I love you')\n",
    "    n = n + 1"
   ]
  },
  {
   "cell_type": "markdown",
   "id": "b39c5d43",
   "metadata": {},
   "source": [
    "### 3. Lỗi thuật toán"
   ]
  },
  {
   "cell_type": "code",
   "execution_count": 8,
   "id": "1dc71570",
   "metadata": {},
   "outputs": [
    {
     "name": "stdout",
     "output_type": "stream",
     "text": [
      "Nhập vào thời gian xe chạy (h):3\n",
      "Xe chạy  3 (h) được quãng đường:  180 (Km)\n"
     ]
    }
   ],
   "source": [
    "#Ví dụ:\n",
    "#Nhập dữ liệu:\n",
    "tg = input('Nhập vào thời gian xe chạy (h):')\n",
    "\n",
    "#tính quãng đường xe đi được:\n",
    "qd = 60 * int(tg)\n",
    "\n",
    "#Hiển thị kết quả ra màn hình:\n",
    "print('Xe chạy ', tg, '(h) được quãng đường: ', qd, '(Km)')"
   ]
  },
  {
   "cell_type": "code",
   "execution_count": null,
   "id": "ce13ea49",
   "metadata": {},
   "outputs": [],
   "source": []
  }
 ],
 "metadata": {
  "kernelspec": {
   "display_name": "Python 3 (ipykernel)",
   "language": "python",
   "name": "python3"
  },
  "language_info": {
   "codemirror_mode": {
    "name": "ipython",
    "version": 3
   },
   "file_extension": ".py",
   "mimetype": "text/x-python",
   "name": "python",
   "nbconvert_exporter": "python",
   "pygments_lexer": "ipython3",
   "version": "3.9.12"
  }
 },
 "nbformat": 4,
 "nbformat_minor": 5
}
